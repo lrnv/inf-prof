{
  "cells": [
    {
      "cell_type": "markdown",
      "metadata": {
        "id": "HcZpTc4_tlyz"
      },
      "source": [
        "# MASTER AIPH - TU INF-PROF\n",
        "# Introduction to Python programming for health data\n",
        "\n",
        "\n",
        "**Practical 1 Learning objectives:**\n",
        "\n",
        "1. Manipulate different Python datatypes\n",
        "2. Use some conditional statements\n",
        "3. Programmation of basics functions\n",
        "4. Use some looping structure"
      ]
    },
    {
      "cell_type": "markdown",
      "metadata": {
        "id": "iGewSKKEuxo7"
      },
      "source": [
        "# 1. Python datatypes"
      ]
    },
    {
      "cell_type": "markdown",
      "metadata": {
        "id": "oTiAXKfzv7Gc"
      },
      "source": [
        "For this first part, we will mostly see how to create the most common type of object with Python, manipulate it and see some methods for these objects."
      ]
    },
    {
      "cell_type": "markdown",
      "metadata": {},
      "source": [
        "\n",
        "## 1.1. Strings\n"
      ]
    },
    {
      "cell_type": "markdown",
      "metadata": {},
      "source": [
        "\n",
        "For this practical session, we will see basic datatypes of Python and how to manipulate them. The first datatype that we will see is the Strings. This object is used to store caracters (that could be letters, numbers, punctuation). We usually use the prefix `str` for strings object.\n",
        "\n",
        "### Strings creation\n",
        "\n",
        "You can create a string by assigning to a variable any character between double quotes (\" \") or single quotes (' ').\n",
        "\n",
        "```\n",
        "my_string = 'abc'\n",
        "my_string = \"abc\"\n",
        "my_string = \"I'm Nicolas Ngo\"\n",
        "```\n",
        "\n",
        "You can also create a string with the function `str()` on any character.\n",
        "\n",
        "```\n",
        "my_string = str(123)\n",
        "```\n",
        "\n",
        "### Strings concatenation\n",
        "You can merge two strings to create a single one with the '+' symbol.\n",
        "\n",
        "```\n",
        "first_string = 'abc'\n",
        "second_string = 'def'\n",
        "third_string = first_string + second_string\n",
        "print(third_string)\n",
        "```\n",
        "\n",
        "### Strings slicing\n",
        "You can access each element of a string with a slicing. The following syntax `my_string[index_of_the_element]`.\n",
        "\n",
        "```\n",
        "my_string = 'abc'\n",
        "my_string[0]\n",
        "```\n",
        "\n",
        "### Strings methods\n",
        "\n",
        "Many methods are available for the strings class. You can check them by usoing the `dir()` function or search for them in the [Python documentation](https://docs.python.org/3/library/stdtypes.html#textseq).\n",
        "\n",
        "```\n",
        "dir(str)\n",
        "```"
      ]
    },
    {
      "cell_type": "markdown",
      "metadata": {
        "id": "GLHv5BrZzS4W"
      },
      "source": [
        "### Exercise 1: Try to guess what these statements will do"
      ]
    },
    {
      "cell_type": "code",
      "execution_count": null,
      "metadata": {
        "id": "OJk0-RgbzSUF"
      },
      "outputs": [
        {
          "name": "stdout",
          "output_type": "stream",
          "text": [
            "i\n",
            "Thi\n",
            "is a practical session\n",
            "This is a practical session\n",
            "n\n",
            "This is a practical se\n",
            "nssatraii\n",
            "Ti sapatclssin\n"
          ]
        }
      ],
      "source": [
        "my_string = \"This is a practical session\"\n",
        "\n",
        "print(my_string[2])\n",
        "print(my_string[0:3])\n",
        "print(my_string[5:])\n",
        "print(my_string[:])\n",
        "print(my_string[-1])\n",
        "print(my_string[0:-5])\n",
        "print(my_string[::-3])\n",
        "print(my_string[::2])"
      ]
    },
    {
      "cell_type": "markdown",
      "metadata": {
        "id": "IzcPnUQLzp-D"
      },
      "source": [
        "1. `my_string[2]`\n",
        "2. `my_string[0:3]`\n",
        "3. `my_string[5:]`\n",
        "4. `my_string[:]`\n",
        "5. `my_string[-1]`\n",
        "6. `my_string[0:-5]`\n",
        "7. `my_string[::-3]`\n",
        "8. `my_string[::2]`"
      ]
    },
    {
      "cell_type": "markdown",
      "metadata": {
        "id": "PcC1N61p-a8G"
      },
      "source": [
        "### Exercise 2: String manipulation\n",
        "\n",
        "\n"
      ]
    },
    {
      "cell_type": "markdown",
      "metadata": {
        "id": "pi5v5dPO_EEm"
      },
      "source": [
        "Consider the following text:\n",
        "\n",
        "*Statistics (from German: Statistik, orig. \"description of a state, a country\") is the discipline that concerns the collection, organization, analysis, interpretation, and presentation of data.*\n",
        "\n",
        "1. Assign the text to a string.\n",
        "2. Use the `count()` method to give the numbre of time the letter \"a\" appears in the text.\n",
        "3. Find the index of the word *data*.\n",
        "4. Replace the wor \"organization\" by \"organisation\" in the string."
      ]
    },
    {
      "cell_type": "markdown",
      "metadata": {
        "id": "sSxdtaN0uvJb"
      },
      "source": [
        "## 1.2 Lists"
      ]
    },
    {
      "cell_type": "markdown",
      "metadata": {},
      "source": [
        "A list is a collection of items in Python. It can be change after its creation (assign a new value to an element of the list).\n",
        "\n",
        "### List creation\n",
        "You can create a list by using brackets `[]` or by using the `list()` function.\n",
        "\n",
        "```\n",
        "my_list = [1, 2, 3]\n",
        "my_list = list('123')\n",
        "```\n",
        "In a sense, string can be seen as a list of caracters. So we can find similar methods on boths.\n",
        "\n",
        "### List concatenation\n",
        "\n",
        "You can concatenate lists with the '+' operator or by using the specific method `list.extend()`.\n",
        "\n",
        "```\n",
        "first_list = list(\"abc\")\n",
        "second_list = list('567')\n",
        "first_list.extend(second_list)\n",
        "print(first_list)\n",
        "\n",
        "> ['a', 'b', 'c', '5', '6', '7']\n",
        "```\n",
        "\n",
        "To add a single element at the end of the list you can use the `append()` method.\n",
        "\n",
        "```\n",
        "first_list.append('a')\n",
        "first_list\n",
        "\n",
        "> ['a', 'b', 'c', '5', '6', '7', 'a']\n",
        "```\n",
        "\n",
        "To add a single element at any specific position (or index) in the list you can use the `insert()` method.\n",
        "\n",
        "### Accessing and updating list element\n",
        "\n",
        "Following the same logic of the strings slicing you can access element of the list with the `[]` following the string name. But with the list you can also change the value at the specific index.\n",
        "\n",
        "```\n",
        "my_list = [1, 2, 3, 4]\n",
        "my_list[0] = 'A'\n",
        "print(my_list)\n",
        "\n",
        "> ['A', 2, 3, 4]\n",
        "```\n",
        "\n",
        "### Removing values\n",
        "You can use the `remove()` method to remove a specific element of the list.\n",
        "\n",
        "```\n",
        "my_list = [\"1\", 2, \"a\", 4]\n",
        "my_list.remove(2)\n",
        "print(my_list)\n",
        "\n",
        "> ['1', 'a', 4]\n",
        "```\n",
        "### List documentation\n",
        "You can see the Python documentation for list [here](https://docs.python.org/3/tutorial/datastructures.html).\n"
      ]
    },
    {
      "cell_type": "markdown",
      "metadata": {
        "id": "FaFHeugmdjMs"
      },
      "source": [
        "### Exercise 3: Sort list"
      ]
    },
    {
      "cell_type": "markdown",
      "metadata": {
        "id": "ZRtNjBKAdoS0"
      },
      "source": [
        "With the following list, execute the different tasks:\n",
        "1. Create the list.\n",
        "2. Sort all values by decreasing order and display the 3 smallest values.\n",
        "3. Display the maximum value in two different ways.\n",
        "3. Display the mean value of the list of values.\n",
        "\n",
        "```\n",
        "my_list = [2, 96, 78, 45, 23, 67, 82, 18, 32]\n",
        "```"
      ]
    },
    {
      "cell_type": "markdown",
      "metadata": {
        "id": "C_9484s8hMHv"
      },
      "source": [
        "### Exercise 4: Find an element"
      ]
    },
    {
      "cell_type": "markdown",
      "metadata": {
        "id": "84V_mGq4hQIH"
      },
      "source": [
        "You received a list of measurements. You have to find the index of the maximum value to identify which patient it was taken from.\n",
        "```\n",
        "my_list = ['4', '9', '75', '215', '141', '264', '256', '541', '148', '226', '365', '523']\n",
        "```"
      ]
    },
    {
      "cell_type": "markdown",
      "metadata": {
        "id": "aOQFyp2du-xq"
      },
      "source": [
        "## 1.3 Dictionary"
      ]
    },
    {
      "cell_type": "markdown",
      "metadata": {},
      "source": [
        "\n",
        "Dictionary is a Python collection type object. In the dictionaries the values are being indexed by specific unique values which are called *keys*. Each *keys* is associated with *values*. The *values* can be a `list` of element, a unique `int` or even another `dict`.\n",
        "\n",
        "### Creation of a dict\n",
        "\n",
        "There is many ways to create a dictionary. The first one is to use the curly brackets `{}` and inside the bracket we put the *keys* followed by its associated *values* (with this form `keys:values`). And each pair of `keys:values` is separated by commas (`,`).\n",
        "\n",
        "```\n",
        "my_dict = {'Name': ['Paul', 'Marie', 'Jean'],\n",
        "           'Age': [26, 35],\n",
        "           'City': ['Marseille', 'Paris', 'Lyon', 'Lamentin']}\n",
        "```\n",
        "\n",
        "Or you can use the constuctor `dict()`\n",
        "\n",
        "```\n",
        "my_dict = dict({'5': ['cinq', 'V', 'five']})\n",
        "```\n",
        "\n",
        "### Accessing a value\n",
        "\n",
        "In a dictionary you can access a value by using the specific key that is associated to this value (just like a named index in the list). Or you can use the `dict.get()` method of dict.\n",
        "\n",
        "```\n",
        "my_dict = {'Name': 'Nora', 'Age':25}\n",
        "my_dict['Name']\n",
        "\n",
        "> 'Nora'\n",
        "\n",
        "my_dict.get('Name')\n",
        "> 'Nora'\n",
        "```\n",
        "\n",
        "Be carefull, by default the dict() can be viewed as a list of keys. So when used in a for loop for instance, it will loop through the keys without exploring the values.\n",
        "\n",
        "```\n",
        "my_dict = {'Name': ['Paul', 'Marie', 'Jean'],\n",
        "           'Age': [26, 35],\n",
        "           'City': ['Marseille', 'Paris', 'Lyon', 'Lamentin']}\n",
        "\n",
        "for i in my_dict:\n",
        "  print(i)\n",
        "\n",
        "> Name\n",
        "> Age\n",
        "> City\n",
        "```\n",
        "\n",
        "### Adding a new key:value\n",
        "\n",
        "You can add a `key:value` pair to your dictionary\n",
        "```\n",
        "my_dict['Profession'] = 'Police officer'\n",
        "```\n",
        "By default, Python will first check if the Profession is not already in the dictionary, if not it will create a new key and add 'Police officer' as an associated value. Otherwise it will delete the previous values and replace it by the one given.\n",
        "\n",
        "### Modify key:value pair\n",
        "You can modify an already existing value associated to a key.\n",
        "```\n",
        "my_dict['Age'] = 25\n",
        "my_dict\n",
        "```\n",
        "\n",
        "### Delete a key:value pair\n",
        "You can delete a key:value pair with the keyword `del`.\n",
        "```\n",
        "del my_dict['City']\n",
        "my_dict\n",
        "\n",
        "> {'Name': ['Paul', 'Marie', 'Jean'], 'Age': [26, 35], 'Profession': 'Lawyer'}\n",
        "```\n",
        "\n",
        "### Some dict method\n",
        "To access all the keys of a dict `my_dict.keys()`. The method `get()` returns the value of a specific key. To have a more complete documentation you can check the link [here](https://docs.python.org/3/tutorial/datastructures.html#dictionaries)."
      ]
    },
    {
      "cell_type": "markdown",
      "metadata": {
        "id": "ei7vBvNNpZNO"
      },
      "source": [
        "### Exercise 5: Manipulate a dictionary\n"
      ]
    },
    {
      "cell_type": "markdown",
      "metadata": {
        "id": "0y_QC3X7qzJQ"
      },
      "source": [
        "We want to store into a dictionary the names of the patients that are assigned to a treatment and control group.\n",
        "\n",
        "__Control__: _Ismael_, _Marie_, _Pierre_, _Yusuf_, _Iyeka_\n",
        "\n",
        "__Treatment__: _Mike_, _Alain_, _Malik_, _Karim_\n",
        "\n",
        "1. Create a dictionary with two keys (one for each groups) and store the names of the patients as values of the corresponding keys.\n",
        "2. Which group has more patients ?\n",
        "3. A new patient has been assigned to the treatment group. Add her name to the corresponding list (Aya)\n",
        "4. We want to add a third treatment group, change the 'Treatment' key name to 'Treatment A' and add the new 'Treatment B' key with the following patients:\n",
        "_Aaren_, _Aymerick_, _William_ and _Dieuson_.\n",
        "5. Give the total number of patients"
      ]
    },
    {
      "cell_type": "markdown",
      "metadata": {
        "id": "dSx-k86jzAF_"
      },
      "source": [
        "# 2. Conditional statements and loops"
      ]
    },
    {
      "cell_type": "markdown",
      "metadata": {
        "id": "5RDiYl1VzLVn"
      },
      "source": [
        "### Exercise 6: Categorisation"
      ]
    },
    {
      "cell_type": "markdown",
      "metadata": {
        "id": "16nBfRi20CGI"
      },
      "source": [
        "You received alist of age values, you want to discretize them into 15 years categories. Write a program that will do so.\n",
        "\n",
        "_N.B._: The result should be a list of string in the same order as the age list but with the categories as values; Let's assume that the first category will start at 0 and goes to 15 (not included) and will be named `[0-15)`. The second category will be `[15-30)` until the last one `[75-90]`.\n",
        "\n",
        "```\n",
        "ages = [23, 82, 45, 25, 65, 90, 15, 32, 63, 13, 78, 10, 15, 54, 32, 46, 74, 85, 38, 37, 5, 68, 53, 18]  \n",
        "```"
      ]
    },
    {
      "cell_type": "markdown",
      "metadata": {
        "id": "eB2nu6zP47K0"
      },
      "source": [
        "### Exercise 7: Estimation of $\\pi$"
      ]
    },
    {
      "cell_type": "code",
      "execution_count": null,
      "metadata": {},
      "outputs": [],
      "source": []
    },
    {
      "cell_type": "markdown",
      "metadata": {
        "id": "lx1F-KYc7gAe"
      },
      "source": [
        "To approximate the value of $\\pi$ many methods are available. One of them was found by the indian mathematician Madhava de Sangamagrama around 1400. He used an infinite serie to compute an approximation of $\\pi$. The formula that he used is the following:\n",
        "\n",
        "$\n",
        "\\tilde{\\pi}_{Madhava} = \\sqrt{12}\\sum_{k = 0}^{\\infty}{\\frac{(-1)^k}{(3k+1)3^k}}\n",
        "$\n",
        "\n",
        "Use the above formula to compute an approximation of $\\pi$ with a while loop. The desired precision is at least 15 decimals of $\\pi$.\n",
        "\n",
        "*Hint*: You can use the following command to have a reference value of $\\pi$\n",
        "\n",
        "\n",
        "\n",
        "\n",
        "```\n",
        "import math\n",
        "math.pi\n",
        "```"
      ]
    },
    {
      "cell_type": "markdown",
      "metadata": {
        "id": "AJKk6Wvz58Sm"
      },
      "source": [
        "### Exercise 8: Frequency dict\n"
      ]
    },
    {
      "cell_type": "markdown",
      "metadata": {
        "id": "bk84LkIz7PpH"
      },
      "source": [
        "From the previous exercise, use a for loop to store in a dictionary how many times each category is present in the discretized version of ages.\n",
        "\n",
        "Sort the dictionary with regard to the frequency in decreasing order. Which category has the maximum number of observations ? Which category has the minimum number of observations ?"
      ]
    },
    {
      "cell_type": "markdown",
      "metadata": {
        "id": "yvsxe1sv7TF-"
      },
      "source": [
        "#### Correction"
      ]
    },
    {
      "cell_type": "code",
      "execution_count": 3,
      "metadata": {
        "cellView": "form",
        "id": "_QQyNWus5UNJ"
      },
      "outputs": [
        {
          "name": "stdout",
          "output_type": "stream",
          "text": [
            "{'[15-30)': 5, '[75;90]': 4, '[45-60)': 4, '[60;75)': 4, '[30-45)': 4, '[0-15)': 3}\n"
          ]
        }
      ],
      "source": [
        "# @title\n",
        "# First thing to do is to store it into a list\n",
        "ages = [23, 82, 45, 25, 65, 90, 15, 32, 63, 13, 78, 10, 15, 54, 32, 46, 74, 85, 38, 37, 5, 68, 53, 18]\n",
        "\n",
        "# Then we initialized an empty list that will store the categorized values of the ages\n",
        "ages_cat = list()\n",
        "\n",
        "# We iterate over the values of the list ages and go down through different 'if' statements\n",
        "for age in ages:\n",
        "  if age < 15:\n",
        "    ages_cat.append('[0-15)')\n",
        "  elif age >= 15 and age < 30:\n",
        "    ages_cat.append('[15-30)')\n",
        "  elif age >= 30 and age < 45:\n",
        "    ages_cat.append('[30-45)')\n",
        "  elif age >= 45 and age < 60:\n",
        "    ages_cat.append('[45-60)')\n",
        "  elif age >= 60 and age < 75:\n",
        "    ages_cat.append('[60;75)')\n",
        "  elif age >= 75 and age <= 90:\n",
        "    ages_cat.append('[75;90]')\n",
        "  else:\n",
        "    print('Age was in no category')\n",
        "\n",
        "# We create an empty dictionary to store the frequencies as values and the category as key.\n",
        "freq_dict = dict()\n",
        "for key in ages_cat:\n",
        "\n",
        "  # We check if key already exist in the dict\n",
        "  if key in freq_dict.keys():\n",
        "    freq_dict[key] = freq_dict[key] + 1\n",
        "  else:\n",
        "    freq_dict[key] = 1\n",
        "\n",
        "print(freq_dict)\n"
      ]
    },
    {
      "cell_type": "code",
      "execution_count": 4,
      "metadata": {
        "cellView": "form",
        "id": "M3xXt80j58iG"
      },
      "outputs": [
        {
          "data": {
            "text/plain": [
              "['[15-30)', '[75;90]', '[45-60)', '[60;75)', '[30-45)', '[0-15)']"
            ]
          },
          "execution_count": 4,
          "metadata": {},
          "output_type": "execute_result"
        }
      ],
      "source": [
        "# @title\n",
        "# Sort the keys by decreasing order\n",
        "sorted(freq_dict, key = lambda x:freq_dict.get(x), reverse = True)"
      ]
    },
    {
      "cell_type": "code",
      "execution_count": 5,
      "metadata": {
        "cellView": "form",
        "id": "JdC-phbK6JA-"
      },
      "outputs": [
        {
          "name": "stdout",
          "output_type": "stream",
          "text": [
            "The most frequent category is [15-30) with 5 observations\n"
          ]
        }
      ],
      "source": [
        "# @title\n",
        "# Which category has the maximum number of observations ?\n",
        "print('The most frequent category is %s with %d observations' % (max(freq_dict, key = freq_dict.get), freq_dict.get(max(freq_dict, key = freq_dict.get))))"
      ]
    },
    {
      "cell_type": "code",
      "execution_count": 6,
      "metadata": {
        "cellView": "form",
        "id": "-UFxYSYJ6hke"
      },
      "outputs": [
        {
          "name": "stdout",
          "output_type": "stream",
          "text": [
            "The less frequent category is [0-15) with 3 observations\n"
          ]
        }
      ],
      "source": [
        "# @title\n",
        "# Which category has the minimum number of observations ?\n",
        "print('The less frequent category is %s with %d observations' % (min(freq_dict, key = freq_dict.get), freq_dict.get(min(freq_dict, key = freq_dict.get))))"
      ]
    },
    {
      "cell_type": "markdown",
      "metadata": {
        "id": "vvrack7-8IJA"
      },
      "source": [
        "# 3. Functions"
      ]
    },
    {
      "cell_type": "markdown",
      "metadata": {
        "id": "1iJTnetM8ROI"
      },
      "source": [
        "### Exercise 9: Conversions"
      ]
    },
    {
      "cell_type": "markdown",
      "metadata": {
        "id": "y7hmyfUS8T5g"
      },
      "source": [
        "Write a Python function that convert temperature units from Celsius units (°C) to Fahrenheit (°F) or from Celsius units to Fahrenheit depending on the given argument. Meaning that a single function can do both conversions.\n",
        "\n",
        "*N.B.*: The formula to transform Celsius to Fahrenheit is the following:\n",
        "$F = (C*9/5)+32$ and to go from Fahrenheit to Celsius: $C = (F-32)*5/9$"
      ]
    },
    {
      "cell_type": "markdown",
      "metadata": {
        "id": "r9PeZo4L9jTo"
      },
      "source": [
        "### Exercise 10: Utility function"
      ]
    },
    {
      "cell_type": "markdown",
      "metadata": {
        "id": "NkOpqEif9qEM"
      },
      "source": [
        "Write a Python function that take a string into an argument and returns all the unique element of the list.\n",
        "\n",
        "```\n",
        "my_string = 'Nullam tempus scelerisque purus, sed mattis elit condimentum nec.'\n",
        "```"
      ]
    },
    {
      "cell_type": "markdown",
      "metadata": {
        "id": "af30cVD8_MK7"
      },
      "source": [
        "# 4. Comprehensions"
      ]
    },
    {
      "cell_type": "markdown",
      "metadata": {
        "id": "fmfoYDlA_aLj"
      },
      "source": [
        "There's a way to create a list or a dictionary with a for loops in a single line. It is by embedding the for loop inside brackets (`[]`to create a list and `{}` to create a dictionary)."
      ]
    },
    {
      "cell_type": "code",
      "execution_count": null,
      "metadata": {
        "colab": {
          "base_uri": "https://localhost:8080/"
        },
        "id": "HedegIX7_Zgg",
        "outputId": "9d48b354-b3c7-4d2c-bd28-c9cf3fd5fc1d"
      },
      "outputs": [
        {
          "data": {
            "text/plain": [
              "[0, 1, 2, 3, 4, 5, 6, 7, 8, 9, 10]"
            ]
          },
          "execution_count": 97,
          "metadata": {},
          "output_type": "execute_result"
        }
      ],
      "source": [
        "my_list = [i for i in range(0, 11)]\n",
        "my_list"
      ]
    },
    {
      "cell_type": "markdown",
      "metadata": {
        "id": "YWdaVtA3_vKb"
      },
      "source": [
        "You have more complexe comprehension. For instance, you can return the result of some operation into the list"
      ]
    },
    {
      "cell_type": "code",
      "execution_count": null,
      "metadata": {
        "colab": {
          "base_uri": "https://localhost:8080/"
        },
        "id": "TTgTcUaI_1NK",
        "outputId": "e22720c3-81d1-4bdd-c180-8b5de7b61780"
      },
      "outputs": [
        {
          "data": {
            "text/plain": [
              "[0, 1, 4, 9, 16, 25, 36, 49, 64, 81, 100]"
            ]
          },
          "execution_count": 98,
          "metadata": {},
          "output_type": "execute_result"
        }
      ],
      "source": [
        "my_list = [i**2 for i in range(0, 11)]\n",
        "my_list"
      ]
    },
    {
      "cell_type": "markdown",
      "metadata": {
        "id": "RgvfeSo2_5Bb"
      },
      "source": [
        "Or even have some conditions"
      ]
    },
    {
      "cell_type": "code",
      "execution_count": null,
      "metadata": {
        "colab": {
          "base_uri": "https://localhost:8080/"
        },
        "id": "s0lRYFHt_7tT",
        "outputId": "dd058d44-075c-435d-f85e-dd75a6251ed1"
      },
      "outputs": [
        {
          "data": {
            "text/plain": [
              "[6, 7, 8, 9, 10]"
            ]
          },
          "execution_count": 99,
          "metadata": {},
          "output_type": "execute_result"
        }
      ],
      "source": [
        "my_list = [i for i in range(0, 11) if i > 5]\n",
        "my_list"
      ]
    },
    {
      "cell_type": "markdown",
      "metadata": {
        "id": "CNO75afAAFv7"
      },
      "source": [
        "It also works with dictionary"
      ]
    },
    {
      "cell_type": "code",
      "execution_count": null,
      "metadata": {
        "colab": {
          "base_uri": "https://localhost:8080/"
        },
        "id": "qkSCKlClAHzK",
        "outputId": "18a8a13c-229d-4bc8-dc5d-f7b993850e7d"
      },
      "outputs": [
        {
          "name": "stdout",
          "output_type": "stream",
          "text": [
            "{'a': 2, 'b': 4, 'c': 6, 'd': 8, 'e': 10}\n"
          ]
        }
      ],
      "source": [
        "# First the items\n",
        "dict1 = {'a': 1, 'b': 2, 'c': 3, 'd': 4, 'e': 5}\n",
        "\n",
        "# Double each value in the dictionary\n",
        "double_dict1 = {k:v*2 for (k,v) in dict1.items()}\n",
        "print(double_dict1)"
      ]
    },
    {
      "cell_type": "markdown",
      "metadata": {
        "id": "ToNjA4guAnK8"
      },
      "source": [
        "### Exercise 11: List comprehension"
      ]
    },
    {
      "cell_type": "markdown",
      "metadata": {
        "id": "PYqE2VfSAtSL"
      },
      "source": [
        "Given the following string, write a single line of code that returns a list with the length of every work in the string.\n",
        "*Hint:* Use the `split()` method of string in this exercise.\n",
        "\n",
        "__Sentence:__ \"A dictionary in Python is a collection of items accessed by a specific key rather than by an index.\""
      ]
    },
    {
      "cell_type": "markdown",
      "metadata": {
        "id": "2pyV-AiBBcqz"
      },
      "source": [
        "### Exercise 12: Comprehension function\n"
      ]
    },
    {
      "cell_type": "markdown",
      "metadata": {
        "id": "oUAfzAqVBh0M"
      },
      "source": [
        "In the following dictionary, we stored the weigth and heigth of different patients. The key is the patient id and the value is a list of two elements [weigth, height] with heigth in cm.\n",
        "1. Use a list comprehension to return a list of BMI for these patients.\n",
        "2. Update this comprehension to return only the ID of the patients with a BMI below 30.\n",
        "\n",
        "```\n",
        "my_dict = {'0100':[50, 160], '0101': [75, 150], '0102':[62, 144], '0103':[95, 183], '0104': [110, 178], '0105': [112, 185]}\n",
        "```\n",
        "\n",
        "*Hint*: BMI formula's :$$\\frac{Weight}{Height^2}$$ with the weight in kg and the height in meters"
      ]
    },
    {
      "cell_type": "code",
      "execution_count": null,
      "metadata": {
        "colab": {
          "base_uri": "https://localhost:8080/"
        },
        "id": "EZqmmWRlBr28",
        "outputId": "bcfc54bb-e00c-4e94-9113-29554ebb4cd8"
      },
      "outputs": [
        {
          "data": {
            "text/plain": [
              "[19.531249999999996,\n",
              " 33.333333333333336,\n",
              " 29.899691358024693,\n",
              " 28.367523664486843,\n",
              " 34.71783865673526,\n",
              " 32.72461650840029]"
            ]
          },
          "execution_count": 104,
          "metadata": {},
          "output_type": "execute_result"
        }
      ],
      "source": [
        "# First the list of BMI\n",
        "my_dict = {'0100':[50, 160], '0101': [75, 150], '0102':[62, 144], '0103':[95, 183], '0104': [110, 178], '0105': [112, 185]}\n",
        "[v[0]/pow(v[1]/100,2) for (k, v) in my_dict.items()]"
      ]
    },
    {
      "cell_type": "code",
      "execution_count": null,
      "metadata": {
        "colab": {
          "base_uri": "https://localhost:8080/"
        },
        "id": "W23ueaJjBoLk",
        "outputId": "b38f66c5-a954-45ca-fb43-dc5a76631350"
      },
      "outputs": [
        {
          "data": {
            "text/plain": [
              "['0100', '0102', '0103']"
            ]
          },
          "execution_count": 105,
          "metadata": {},
          "output_type": "execute_result"
        }
      ],
      "source": [
        "# Second the ID of the patients with a BMI below 30\n",
        "[k for (k, v) in my_dict.items() if v[0]/pow(v[1]/100, 2) < 30]"
      ]
    }
  ],
  "metadata": {
    "colab": {
      "collapsed_sections": [
        "GLHv5BrZzS4W",
        "PcC1N61p-a8G",
        "sSxdtaN0uvJb",
        "FaFHeugmdjMs",
        "C_9484s8hMHv",
        "yvsxe1sv7TF-"
      ],
      "provenance": []
    },
    "kernelspec": {
      "display_name": "Python 3",
      "name": "python3"
    },
    "language_info": {
      "name": "python"
    }
  },
  "nbformat": 4,
  "nbformat_minor": 0
}
