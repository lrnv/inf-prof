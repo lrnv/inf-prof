{
  "cells": [
    {
      "cell_type": "markdown",
      "metadata": {
        "id": "ivm9JtmDQxwj"
      },
      "source": [
        "# MASTER AIPH - TU INF-PROF\n",
        "# Introduction to Python programming for health data\n",
        "\n",
        "**Session 1 Learning objectives:**\n",
        "\n",
        "1. Values, Statements, Variables and Operators\n",
        "2. Functions\n",
        "3. Control structures: Conditionals, Loops"
      ]
    },
    {
      "cell_type": "markdown",
      "metadata": {
        "id": "J_96nIXfWm68"
      },
      "source": [
        "# 1. Values, staments and Variables"
      ]
    },
    {
      "cell_type": "markdown",
      "metadata": {
        "id": "7nntBYfee2ZL"
      },
      "source": [
        "## 1.1 Value\n",
        "\n",
        "A value is one of the fundamental things (like a letter or a number )   that a program manipulates. \n",
        "\n",
        "Python has five standard Data Types:\n",
        "\n",
        "```\n",
        "Numbers\n",
        "String\n",
        "List\n",
        "Tuple\n",
        "Dictionary\n",
        "```\n",
        "\n",
        "https://developer.rhino3d.com/guides/rhinopython/python-datatypes/\n",
        "\n",
        "\n",
        "\n",
        "If you are not sure what type a value has, the interpreter can tell you.\n"
      ]
    },
    {
      "cell_type": "code",
      "execution_count": 4,
      "metadata": {
        "colab": {
          "base_uri": "https://localhost:8080/"
        },
        "id": "YWo-q38xQXx3",
        "outputId": "b9ae1db5-8a76-4b08-e5a1-bca88b306743"
      },
      "outputs": [
        {
          "data": {
            "text/plain": [
              "str"
            ]
          },
          "execution_count": 4,
          "metadata": {},
          "output_type": "execute_result"
        }
      ],
      "source": [
        "type('Hello, World!')\n",
        "\n",
        "type(17)\n",
        "\n",
        "type(3.2)\n",
        "\n",
        "type('3.2')\n"
      ]
    },
    {
      "cell_type": "markdown",
      "metadata": {
        "id": "zbBFe-5LJjsh"
      },
      "source": [
        "## 1.2 Statements in python\n",
        "A statement is an instruction that a Python interpreter can execute.\n",
        "\n",
        "Python statement ends with the token NEWLINE character. It means each line in a Python script is a statement."
      ]
    },
    {
      "cell_type": "code",
      "execution_count": null,
      "metadata": {
        "id": "wlBykE14KGOa"
      },
      "outputs": [],
      "source": [
        "# statement 1\n",
        "print('Hello')\n",
        "\n",
        "# statement 2\n",
        "x = 20\n",
        "\n",
        "# statement 3\n",
        "print(x)"
      ]
    },
    {
      "cell_type": "code",
      "execution_count": null,
      "metadata": {
        "id": "Cbm1AfD3KQF6"
      },
      "outputs": [],
      "source": [
        "# multiline statement\n",
        "addition = 10 + 20 + \\\n",
        "           30 + 40 + \\\n",
        "           50 + 60 + 70\n",
        "print(addition)"
      ]
    },
    {
      "cell_type": "markdown",
      "metadata": {
        "id": "UWQlSGWYTzD9"
      },
      "source": [
        "## 1.3 Variables in Python\n",
        "\n",
        "A variable is a name that refers to a value.\n",
        "\n",
        "The assignment statement creates new variables and gives them values\n"
      ]
    },
    {
      "cell_type": "code",
      "execution_count": null,
      "metadata": {
        "colab": {
          "base_uri": "https://localhost:8080/"
        },
        "id": "ELT38jjmTE8n",
        "outputId": "0db8f18b-7ee3-40bf-e558-1bfc52fd2c09"
      },
      "outputs": [
        {
          "name": "stdout",
          "output_type": "stream",
          "text": [
            "0\n",
            "abc\n",
            "def\n",
            "abc\n"
          ]
        }
      ],
      "source": [
        "# Declare a variable and initialize it\n",
        "f = 0\n",
        "print (f)\n",
        "\n",
        "# re-declaring the variable works\n",
        "f = \"abc\"\n",
        "print (f)\n",
        "\n",
        "# Global vs. local variables in functions\n",
        "def someFunction():\n",
        "  #global f\n",
        "  f = \"def\"\n",
        "  print (f)\n",
        "\n",
        "someFunction()\n",
        "print (f) \n"
      ]
    },
    {
      "cell_type": "code",
      "execution_count": null,
      "metadata": {
        "colab": {
          "base_uri": "https://localhost:8080/"
        },
        "id": "o1KFeY4xGmSh",
        "outputId": "5fd727a1-d4e8-4007-e9ea-66caf1343f30"
      },
      "outputs": [
        {
          "name": "stdout",
          "output_type": "stream",
          "text": [
            "string type 123\n"
          ]
        }
      ],
      "source": [
        "#print (\"string type \" + 123) # ERROR: variables of different types cannot be combined\n",
        "\n",
        "\n",
        "print (\"string type \" + str(123))"
      ]
    },
    {
      "cell_type": "markdown",
      "metadata": {
        "id": "qn5Vqovog7Br"
      },
      "source": [
        "## 1.4 Variable names and keywords\n",
        "\n",
        "Programmers generally choose names for their variables that are meaningful     they document what the variable is used for.\n",
        "\n",
        "* Variable names can be arbitrarily long.\n",
        "* They can contain both letters and numbers.\n",
        "* They have to begin with a letter. \n",
        "* By convention we don't use upper case letters (case matters, Bruce and bruce are different variables).\n",
        "* The underscore character (_) can appear in a name. It is often used in names with multiple words, such as my_name or price_of_tea_in_china.\n",
        "* If you give a variable an illegal name, you get a syntax error:\n",
        "\n",
        "\n",
        "\n"
      ]
    },
    {
      "cell_type": "code",
      "execution_count": null,
      "metadata": {
        "colab": {
          "base_uri": "https://localhost:8080/",
          "height": 130
        },
        "id": "M8fpcG6Yg2ZN",
        "outputId": "f147da69-e7d6-4c4e-cf11-0efde6502c6c"
      },
      "outputs": [
        {
          "ename": "SyntaxError",
          "evalue": "ignored",
          "output_type": "error",
          "traceback": [
            "\u001b[0;36m  File \u001b[0;32m\"<ipython-input-9-67eaf0ac2cd0>\"\u001b[0;36m, line \u001b[0;32m3\u001b[0m\n\u001b[0;31m    76trombones = 'big parade'\u001b[0m\n\u001b[0m              ^\u001b[0m\n\u001b[0;31mSyntaxError\u001b[0m\u001b[0;31m:\u001b[0m invalid syntax\n"
          ]
        }
      ],
      "source": [
        "# Example Illegal names... why are they illegal?\n",
        "\n",
        "76trombones = 'big parade'\n",
        "\n",
        "class = 'Computer Science 101'"
      ]
    },
    {
      "cell_type": "markdown",
      "metadata": {
        "id": "zWvt0M9DeMox"
      },
      "source": [
        "## 1.5 Objects \n",
        " Special variables with properties and methods associated. \n",
        " \n",
        " Python is an object-oriented programming language. Everything  in Python is treated as an object, including variable, list, tuple, dictionary, etc.\n",
        " \n",
        "  Every object belongs to its class. For example, an integer variable belongs to integer class. \n",
        "  \n",
        "  An object is a real-life entity. \n",
        "\n",
        "  An object is the collection of various data and functions that operate on those data. \n",
        "  \n",
        "  An object contains the following properties:\n",
        "\n",
        "* **State** - The attributes of an object represents its state. It also reflects the properties of an object.\n",
        "* **Behavior** - The methods of an object represents its behavior.\n",
        "* **Identity** - Each object must be uniquely identified and allow interacting with the other objects.\n",
        "\n",
        "The clases that we are going to use like PANDAS, ScikitLearn, "
      ]
    },
    {
      "cell_type": "markdown",
      "metadata": {
        "id": "3g20hftTitl3"
      },
      "source": [
        "## 1.6. Operators\n",
        "Operators are special symbols that represent computations like addition and multiplication. The values the operator uses are called operands."
      ]
    },
    {
      "cell_type": "markdown",
      "metadata": {
        "id": "3xOPDYuALurj"
      },
      "source": [
        "***Arithmetic Operators***"
      ]
    },
    {
      "cell_type": "code",
      "execution_count": null,
      "metadata": {
        "id": "DwN8ob0uisBe"
      },
      "outputs": [],
      "source": [
        "#create two variables\n",
        "a=100\n",
        "b=200\n",
        " \n",
        "# addition (+) operator\n",
        "print(a+b) \n",
        " \n",
        "# subtraction (-) operator\n",
        "print(a-b) \n",
        " \n",
        "# multiplication (*) operator\n",
        "print(a*b)\n",
        " \n",
        "# division (/) operator\n",
        "print(b/a)\n",
        " \n",
        "# modulus (%) operator\n",
        "print(a%b) # prints the remainder of a/b\n",
        " \n",
        "# exponent (**) operator\n",
        "print(a**b) #prints a^b\n"
      ]
    },
    {
      "cell_type": "markdown",
      "metadata": {
        "id": "7bw9EhxpMCTq"
      },
      "source": [
        "***Comparison Operators***"
      ]
    },
    {
      "cell_type": "code",
      "execution_count": null,
      "metadata": {
        "id": "UTzf50EOMGVr"
      },
      "outputs": [],
      "source": [
        "# create two variables\n",
        "a=100\n",
        "b=200\n",
        " \n",
        "# (==) operator, checks if two operands are equal or not\n",
        "print(a==b)\n",
        " \n",
        "# (!=) operator, checks if two operands are not equal\n",
        "print(a!=b)\n",
        " \n",
        "# (>) operator, checks left operand is greater than right operand or not\n",
        "print(a>b)\n",
        " \n",
        "# (<) operator, checks left operand is less than right operand or not\n",
        "print(a<b)\n",
        "#(>=) operator, checks left operand is greater than or equal to right operand or not\n",
        "print(a>=b)\n",
        " \n",
        "# (<=) operator, checks left operand is less than or equal to right operand or not\n",
        "print(a<=b)\n"
      ]
    },
    {
      "cell_type": "markdown",
      "metadata": {
        "id": "k6HLy046MNP6"
      },
      "source": [
        "# 2. Functions\n",
        "A function is a block of code which only runs when it is called.\n",
        "You can pass data, known as parameters, into a function.\n",
        "A function can return data as a result."
      ]
    },
    {
      "cell_type": "code",
      "execution_count": null,
      "metadata": {
        "colab": {
          "base_uri": "https://localhost:8080/"
        },
        "id": "VaIcBne-M0JM",
        "outputId": "4a4051f9-ccc0-4f3d-ac9d-f1b39d394d3e"
      },
      "outputs": [
        {
          "name": "stdout",
          "output_type": "stream",
          "text": [
            "Hello from a function\n"
          ]
        }
      ],
      "source": [
        "def my_function():\n",
        "  print(\"Hello from a function\")\n",
        "\n",
        "my_function()"
      ]
    },
    {
      "cell_type": "markdown",
      "metadata": {
        "id": "HmOw2SHQMl3L"
      },
      "source": [
        "**Exercise :** Write a function that prints \" Programming in Python is awesome\""
      ]
    },
    {
      "cell_type": "markdown",
      "metadata": {
        "id": "ItF2lxc_OrdJ"
      },
      "source": [
        "## 2.1 What does a function receives ? Arguments\n",
        "\n",
        "Information can be passed into functions as arguments.\n",
        "\n",
        "Arguments are specified after the function name, inside the parentheses. You can add as many arguments as you want, just separate them with a comma.\n",
        "\n",
        "By default, a function must be called with the correct number of arguments. That is, if  your function expects 2 arguments, you have to call the function with 2 arguments, not more, and not less.\n",
        "\n",
        "However there are ways to skip this constraint ..."
      ]
    },
    {
      "cell_type": "code",
      "execution_count": null,
      "metadata": {
        "colab": {
          "base_uri": "https://localhost:8080/"
        },
        "id": "zjLFGcRGOz8h",
        "outputId": "12e9c79b-d760-4133-fa1b-f0f6707e98eb"
      },
      "outputs": [
        {
          "name": "stdout",
          "output_type": "stream",
          "text": [
            "Emil Refsnes\n"
          ]
        }
      ],
      "source": [
        "def my_function(fname, lname):\n",
        "  print(fname + \" \" + lname)\n",
        "\n",
        "my_function(\"Emil\", \"Refsnes\")"
      ]
    },
    {
      "cell_type": "markdown",
      "metadata": {
        "id": "3lmH_JGmPNZF"
      },
      "source": [
        "**Exercise :** write a function that receives two values and print the sum of them."
      ]
    },
    {
      "cell_type": "markdown",
      "metadata": {
        "id": "gLBaggBYPocn"
      },
      "source": [
        "### Arbitrary arguments\n",
        "If you do not know how many arguments that be passed into your function, add a * before the parameter name in the function definition.\n",
        "\n",
        "This way the function will receive a tuple of arguments, and can access the items accordingly:"
      ]
    },
    {
      "cell_type": "code",
      "execution_count": null,
      "metadata": {
        "colab": {
          "base_uri": "https://localhost:8080/"
        },
        "id": "n7zH3YQHP87J",
        "outputId": "c704f46c-a747-425d-af26-a86a3b1fabe6"
      },
      "outputs": [
        {
          "name": "stdout",
          "output_type": "stream",
          "text": [
            "The youngest child is Linus\n"
          ]
        }
      ],
      "source": [
        "def my_function(*kids):\n",
        "  print(\"The youngest child is \" + kids[2])\n",
        "\n",
        "my_function(\"Emil\", \"Tobias\", \"Linus\")"
      ]
    },
    {
      "cell_type": "markdown",
      "metadata": {
        "id": "q6NHY6h-QEPV"
      },
      "source": [
        "**Exercise :** Write a function that receives and arbitrary list of numbers an prints the third one.\n",
        "\n",
        "**Note**: Good practice call this argument `*args`"
      ]
    },
    {
      "cell_type": "markdown",
      "metadata": {
        "id": "RsaeqzHOSlQ4"
      },
      "source": [
        "### Keyword Arguments\n",
        "You can also send arguments with the key = value syntax.\n",
        "\n",
        "This way the order of the arguments does not matter.\n",
        "\n"
      ]
    },
    {
      "cell_type": "code",
      "execution_count": null,
      "metadata": {
        "colab": {
          "base_uri": "https://localhost:8080/"
        },
        "id": "Gh8rWx55SneH",
        "outputId": "1acf1c83-b1b9-4a5d-cb0c-30d6939d4ef6"
      },
      "outputs": [
        {
          "name": "stdout",
          "output_type": "stream",
          "text": [
            "The youngest child is Linus\n"
          ]
        }
      ],
      "source": [
        "def my_function(child3, child2, child1):\n",
        "  print(\"The youngest child is \" + child3)\n",
        "\n",
        "my_function(child1 = \"Emil\", child2 = \"Tobias\", child3 = \"Linus\")"
      ]
    },
    {
      "cell_type": "markdown",
      "metadata": {
        "id": "-lClSpDMSsK_"
      },
      "source": [
        "### Arbitrary Keyword Arguments\n",
        "If you do not know how many keyword arguments that will be passed into your function, add two asterisk: ** before the parameter name in the function definition.\n",
        "\n",
        "This way the function will receive a dictionary of arguments, and can access the items accordingly:"
      ]
    },
    {
      "cell_type": "code",
      "execution_count": null,
      "metadata": {
        "colab": {
          "base_uri": "https://localhost:8080/"
        },
        "id": "kG5SfIBzSzyf",
        "outputId": "3de65991-462e-4099-f641-db1f53344ab1"
      },
      "outputs": [
        {
          "name": "stdout",
          "output_type": "stream",
          "text": [
            "His last name is Refsnes\n"
          ]
        }
      ],
      "source": [
        "def my_function(**kid):\n",
        "  print(\"His last name is \" + kid[\"lname\"])\n",
        "\n",
        "my_function(fname = \"Tobias\", lname = \"Refsnes\")"
      ]
    },
    {
      "cell_type": "markdown",
      "metadata": {},
      "source": [
        "**Note:** Good practice calls this argument `**kwargs`"
      ]
    },
    {
      "cell_type": "markdown",
      "metadata": {
        "id": "CCWVHYgNUUAt"
      },
      "source": [
        "## 2.2 What does a function returns ?\n",
        "**Return value**\n",
        "To let a function return a value, use the return statement"
      ]
    },
    {
      "cell_type": "code",
      "execution_count": null,
      "metadata": {
        "colab": {
          "base_uri": "https://localhost:8080/"
        },
        "id": "cv-0IAZVUZwn",
        "outputId": "6ca80bfe-9976-4565-9167-4159f13f3227"
      },
      "outputs": [
        {
          "name": "stdout",
          "output_type": "stream",
          "text": [
            "15\n",
            "25\n",
            "45\n"
          ]
        }
      ],
      "source": [
        "def my_function(x):\n",
        "  return 5 * x\n",
        "\n",
        "print(my_function(3))\n",
        "print(my_function(5))\n",
        "print(my_function(9))\n"
      ]
    },
    {
      "cell_type": "markdown",
      "metadata": {
        "id": "PWyonUk4UfkV"
      },
      "source": [
        "**Exercices**\n",
        "\n",
        "1. Create a function called `BMI` that receives the `height` the `size` and the `weight` of a person and that returns the body mass index.\n",
        "\n",
        "2. Create a function `BMI_advanced` that use key-word arguments in order to be able to pass the parameters in an arbitrary order.\n",
        "\n",
        "3. What is the difference between returning a value and printing it?\n",
        "\n",
        "4. Call the function `BMI_advanced` and store the returned value in a variable, then print this variable.\n",
        "\n",
        "5. Create a function that receives two values and returns AND prints the biggest one.\n"
      ]
    },
    {
      "cell_type": "markdown",
      "metadata": {
        "id": "c82EGn9hjhwV"
      },
      "source": [
        "# 3. Control Stuctures"
      ]
    },
    {
      "cell_type": "markdown",
      "metadata": {
        "id": "Go7-SGdTjpBl"
      },
      "source": [
        "## 3.1 Python Conditions and IF-ELSE statements\n",
        "As aforementioned, python supports the usual logical conditions from mathematics:\n",
        "\n",
        "* Equals: `a == b`\n",
        "* Not Equals: `a != b`\n",
        "* Less than: `a < b`\n",
        "* Less than or equal to: `a <= b`\n",
        "* Greater than: `a > b`\n",
        "* Greater than or equal to: `a >= b`"
      ]
    },
    {
      "cell_type": "code",
      "execution_count": 9,
      "metadata": {
        "id": "_8UQjtimjoGG"
      },
      "outputs": [
        {
          "name": "stdout",
          "output_type": "stream",
          "text": [
            "b is greater than a\n"
          ]
        }
      ],
      "source": [
        "a = 33\n",
        "b = 200\n",
        "if b > a:\n",
        "  print(\"b is greater than a\")\n",
        "else : \n",
        "    print(print(\"b is greater than a\"))"
      ]
    },
    {
      "cell_type": "markdown",
      "metadata": {
        "id": "2ilGAcDEmda-"
      },
      "source": [
        "**Note: Python relies on indentation (whitespace at the beginning of a line) to define scope in the code.** \n",
        "Other programming languages often use curly-brackets for this purpose. Note that good practice is to use 4 spaces.\n",
        "\n",
        "**Exercise:** Try to put the last print statement at the same level than the else. What happens ?? How many spaces are required ?\n",
        "\n",
        "**Exercise :** Modify the previous function `BMI_advanced` in order to print if the person has overweight according to the following BMI Categories:\n",
        "* Underweight = <18.5\n",
        "* Normal weight = 18.5–24.9\n",
        "* Overweight = 25–29.9\n",
        "* Obesity = BMI of 30 or greater\n",
        "\n",
        "**Exercise** : Develop a medical decision tree \n",
        "https://www.medg.fr/alcalose-respiratoire/, https://www.semanticscholar.org/paper/From-logical-inference-to-decision-trees-in-medical-Albu/17ebd4c1202a08d8abf58d6af269e901193d40c5/figure/1\n",
        "\n",
        "\n"
      ]
    },
    {
      "cell_type": "markdown",
      "metadata": {
        "id": "xV39GdQEnm3U"
      },
      "source": [
        "## 3.2 Loops\n",
        "\n",
        "**For Loops**\n",
        "\n",
        "A `for` loop is used for iterating over a sequence (that is either a list, a tuple, a dictionary, a set, or a string).\n",
        "\n",
        "With the `for` loop we can execute a set of statements, once for each item in a list, tuple, set etc.\n"
      ]
    },
    {
      "cell_type": "code",
      "execution_count": 10,
      "metadata": {
        "id": "0pBJ37bnofXZ"
      },
      "outputs": [
        {
          "name": "stdout",
          "output_type": "stream",
          "text": [
            "apple\n",
            "banana\n",
            "cherry\n"
          ]
        }
      ],
      "source": [
        "fruits = [\"apple\", \"banana\", \"cherry\"]\n",
        "for x in fruits:\n",
        "    print(x)"
      ]
    },
    {
      "cell_type": "markdown",
      "metadata": {
        "id": "YKTR6UfRqaeK"
      },
      "source": [
        "**Exercise :**\n",
        "* Create a function that receive two vectors and returns a vector with the sum of the two vectors.\n",
        "* Add a third parameter that is type of operation, (sum, multiplication, division). The function has to do the operation specified in this parameter."
      ]
    },
    {
      "cell_type": "markdown",
      "metadata": {
        "id": "7iPfI6wpwpmo"
      },
      "source": [
        "**While Loops**"
      ]
    },
    {
      "cell_type": "code",
      "execution_count": 17,
      "metadata": {
        "id": "u-66KTPBwn-5"
      },
      "outputs": [
        {
          "name": "stdout",
          "output_type": "stream",
          "text": [
            "1\n",
            "2\n",
            "3\n",
            "4\n",
            "5\n",
            "i is no longer less than 6\n"
          ]
        }
      ],
      "source": [
        "i = 1\n",
        "while i < 6:\n",
        "    print(i)\n",
        "    i += 1\n",
        "print(\"i is no longer less than 6\")"
      ]
    },
    {
      "cell_type": "markdown",
      "metadata": {
        "id": "Mht4eoFlqUhr"
      },
      "source": [
        "**Note:** The `range()` function returns a sequence of numbers, starting from 0 by default, and increments by 1 (by default), and ends at a specified number.\n",
        "\n"
      ]
    }
  ],
  "metadata": {
    "colab": {
      "authorship_tag": "ABX9TyP8r57O+DawixLi7dhQQsL7",
      "collapsed_sections": [
        "J_96nIXfWm68",
        "7nntBYfee2ZL",
        "zbBFe-5LJjsh",
        "UWQlSGWYTzD9",
        "qn5Vqovog7Br",
        "3g20hftTitl3"
      ],
      "include_colab_link": true,
      "name": "Introduction to python.ipynb",
      "provenance": [],
      "toc_visible": true
    },
    "kernelspec": {
      "display_name": "Python 3 (ipykernel)",
      "language": "python",
      "name": "python3"
    },
    "language_info": {
      "codemirror_mode": {
        "name": "ipython",
        "version": 3
      },
      "file_extension": ".py",
      "mimetype": "text/x-python",
      "name": "python",
      "nbconvert_exporter": "python",
      "pygments_lexer": "ipython3",
      "version": "3.10.6"
    }
  },
  "nbformat": 4,
  "nbformat_minor": 0
}
