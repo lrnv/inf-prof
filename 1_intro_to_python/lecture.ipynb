{
  "cells": [
    {
      "cell_type": "markdown",
      "metadata": {
        "id": "ivm9JtmDQxwj"
      },
      "source": [
        "# MASTER AIPH - TU INF-PROF\n",
        "# Introduction to Python programming for health data\n",
        "\n",
        "**Session 1 Learning objectives:**\n",
        "\n",
        "1. Values, Statements, Variables and Operators\n",
        "2. Functions\n",
        "3. Control structures: Conditionals, Loops\n",
        "\n",
        "Tip: you could go to google colab to run this notebook online instead of on your machine. \n",
        "\n",
        "This notebook is hosted at https://www.github.com/lrnv/inf-prof\n",
        "\n",
        "You could use it via https://colab.research.google.com/ if you dont have a local jupyter installation.\n",
        "\n"
      ]
    },
    {
      "cell_type": "markdown",
      "metadata": {
        "id": "J_96nIXfWm68"
      },
      "source": [
        "# 1. Values, staments and Variables"
      ]
    },
    {
      "cell_type": "code",
      "execution_count": null,
      "metadata": {},
      "outputs": [],
      "source": []
    },
    {
      "cell_type": "markdown",
      "metadata": {
        "id": "7nntBYfee2ZL"
      },
      "source": [
        "## 1.1 Value\n",
        "\n",
        "A value is one of the fundamental things (like a letter or a number )   that a program manipulates. \n",
        "\n",
        "Python has five standard Data Types:\n",
        "\n",
        "```\n",
        "Numbers\n",
        "String\n",
        "List\n",
        "Tuple\n",
        "Dictionary\n",
        "```\n",
        "\n",
        "https://developer.rhino3d.com/guides/rhinopython/python-datatypes/\n",
        "\n",
        "\n",
        "\n",
        "If you are not sure what type a value has, the interpreter can tell you.\n"
      ]
    },
    {
      "cell_type": "code",
      "execution_count": 22,
      "metadata": {
        "colab": {
          "base_uri": "https://localhost:8080/"
        },
        "id": "YWo-q38xQXx3",
        "outputId": "b9ae1db5-8a76-4b08-e5a1-bca88b306743"
      },
      "outputs": [
        {
          "data": {
            "text/plain": [
              "str"
            ]
          },
          "execution_count": 22,
          "metadata": {},
          "output_type": "execute_result"
        }
      ],
      "source": [
        "type('Hello world')\n"
      ]
    },
    {
      "cell_type": "markdown",
      "metadata": {
        "id": "zbBFe-5LJjsh"
      },
      "source": [
        "## 1.2 Statements in python\n",
        "A statement is an instruction that a Python interpreter can execute.\n",
        "\n",
        "Python statement ends with the token NEWLINE character. It means each line in a Python script is a statement."
      ]
    },
    {
      "cell_type": "code",
      "execution_count": 23,
      "metadata": {
        "id": "wlBykE14KGOa"
      },
      "outputs": [
        {
          "name": "stdout",
          "output_type": "stream",
          "text": [
            "Hello\n",
            "20\n"
          ]
        }
      ],
      "source": [
        "# statement 1\n",
        "print('Hello')\n",
        "\n",
        "# statement 2\n",
        "x = 20\n",
        "\n",
        "# statement 3\n",
        "print(x)"
      ]
    },
    {
      "cell_type": "code",
      "execution_count": 24,
      "metadata": {
        "id": "Cbm1AfD3KQF6"
      },
      "outputs": [
        {
          "name": "stdout",
          "output_type": "stream",
          "text": [
            "280\n"
          ]
        }
      ],
      "source": [
        "# multiline statement\n",
        "addition = 10 + 20 + \\\n",
        "           30 + 40 + \\\n",
        "           50 + 60 + 70\n",
        "print(addition)"
      ]
    },
    {
      "cell_type": "markdown",
      "metadata": {
        "id": "UWQlSGWYTzD9"
      },
      "source": [
        "## 1.3 Variables in Python\n",
        "\n",
        "A variable is a name that refers to a value.\n",
        "\n",
        "The assignment statement creates new variables and gives them values\n"
      ]
    },
    {
      "cell_type": "code",
      "execution_count": 27,
      "metadata": {
        "colab": {
          "base_uri": "https://localhost:8080/"
        },
        "id": "ELT38jjmTE8n",
        "outputId": "0db8f18b-7ee3-40bf-e558-1bfc52fd2c09"
      },
      "outputs": [
        {
          "name": "stdout",
          "output_type": "stream",
          "text": [
            "0\n",
            "abc\n",
            "def\n",
            "abc\n"
          ]
        }
      ],
      "source": [
        "# Declare a variable and initialize it\n",
        "f = 0\n",
        "print (f)\n",
        "\n",
        "# re-declaring the variable works\n",
        "f = \"abc\"\n",
        "print (f)\n",
        "\n",
        "# Global vs. local variables in functions\n",
        "def someFunction():\n",
        "  #global f\n",
        "  f = \"def\"\n",
        "  print (f)\n",
        "\n",
        "someFunction()\n",
        "print (f) \n"
      ]
    },
    {
      "cell_type": "code",
      "execution_count": 31,
      "metadata": {
        "colab": {
          "base_uri": "https://localhost:8080/"
        },
        "id": "o1KFeY4xGmSh",
        "outputId": "5fd727a1-d4e8-4007-e9ea-66caf1343f30"
      },
      "outputs": [
        {
          "name": "stdout",
          "output_type": "stream",
          "text": [
            "string type 123\n",
            "25\n"
          ]
        }
      ],
      "source": [
        "# print (\"string type \" + 123) # ERROR: variables of different types cannot be combined\n",
        "\n",
        "\n",
        "print (\"string type \" + str(123))\n",
        "print(12+13)"
      ]
    },
    {
      "cell_type": "markdown",
      "metadata": {
        "id": "qn5Vqovog7Br"
      },
      "source": [
        "## 1.4 Variable names and keywords\n",
        "\n",
        "Programmers generally choose names for their variables that are meaningful     they document what the variable is used for.\n",
        "\n",
        "* Variable names can be arbitrarily long.\n",
        "* They can contain both letters and numbers.\n",
        "* They have to begin with a letter. \n",
        "* By convention we don't use upper case letters (case matters, Bruce and bruce are different variables).\n",
        "* The underscore character (_) can appear in a name. It is often used in names with multiple words, such as my_name or price_of_tea_in_china.\n",
        "* If you give a variable an illegal name, you get a syntax error:\n",
        "\n",
        "\n",
        "\n"
      ]
    },
    {
      "cell_type": "code",
      "execution_count": 32,
      "metadata": {
        "colab": {
          "base_uri": "https://localhost:8080/",
          "height": 130
        },
        "id": "M8fpcG6Yg2ZN",
        "outputId": "f147da69-e7d6-4c4e-cf11-0efde6502c6c"
      },
      "outputs": [
        {
          "ename": "SyntaxError",
          "evalue": "invalid syntax (2538824885.py, line 5)",
          "output_type": "error",
          "traceback": [
            "\u001b[1;36m  Cell \u001b[1;32mIn[32], line 5\u001b[1;36m\u001b[0m\n\u001b[1;33m    class = 'Computer Science 101'\u001b[0m\n\u001b[1;37m          ^\u001b[0m\n\u001b[1;31mSyntaxError\u001b[0m\u001b[1;31m:\u001b[0m invalid syntax\n"
          ]
        }
      ],
      "source": [
        "# Example Illegal names... why are they illegal?\n",
        "\n",
        "# 76trombones = 'big parade'\n",
        "\n",
        "class = 'Computer Science 101'"
      ]
    },
    {
      "cell_type": "markdown",
      "metadata": {
        "id": "zWvt0M9DeMox"
      },
      "source": [
        "## 1.5 Objects \n",
        " Special variables with properties and methods associated. \n",
        " \n",
        " Python is an object-oriented programming language. Everything  in Python is treated as an object, including variable, list, tuple, dictionary, etc.\n",
        " \n",
        "  Every object belongs to its class. For example, an integer variable belongs to integer class. \n",
        "  \n",
        "  An object is a real-life entity. \n",
        "\n",
        "  An object is the collection of various data and functions that operate on those data. \n",
        "  \n",
        "  An object contains the following properties:\n",
        "\n",
        "* **State** - The attributes of an object represents its state. It also reflects the properties of an object.\n",
        "* **Behavior** - The methods of an object represents its behavior.\n",
        "* **Identity** - Each object must be uniquely identified and allow interacting with the other objects.\n",
        "\n",
        "The clases that we are going to use like PANDAS, ScikitLearn, "
      ]
    },
    {
      "cell_type": "code",
      "execution_count": 34,
      "metadata": {},
      "outputs": [
        {
          "data": {
            "text/plain": [
              "int"
            ]
          },
          "execution_count": 34,
          "metadata": {},
          "output_type": "execute_result"
        }
      ],
      "source": [
        "type(1)"
      ]
    },
    {
      "cell_type": "markdown",
      "metadata": {
        "id": "3g20hftTitl3"
      },
      "source": [
        "## 1.6. Operators\n",
        "Operators are special symbols that represent computations like addition and multiplication. The values the operator uses are called operands."
      ]
    },
    {
      "cell_type": "markdown",
      "metadata": {
        "id": "3xOPDYuALurj"
      },
      "source": [
        "***Arithmetic Operators***"
      ]
    },
    {
      "cell_type": "code",
      "execution_count": 35,
      "metadata": {
        "id": "DwN8ob0uisBe"
      },
      "outputs": [
        {
          "name": "stdout",
          "output_type": "stream",
          "text": [
            "300\n",
            "-100\n",
            "20000\n",
            "2.0\n",
            "100\n",
            "10000000000000000000000000000000000000000000000000000000000000000000000000000000000000000000000000000000000000000000000000000000000000000000000000000000000000000000000000000000000000000000000000000000000000000000000000000000000000000000000000000000000000000000000000000000000000000000000000000000000000000000000000000000000000000000000000000000000000000000000000000000000000000000000000000000000000000\n"
          ]
        }
      ],
      "source": [
        "#create two variables\n",
        "a=100\n",
        "b=200\n",
        " \n",
        "# addition (+) operator\n",
        "print(a+b) \n",
        " \n",
        "# subtraction (-) operator\n",
        "print(a-b) \n",
        " \n",
        "# multiplication (*) operator\n",
        "print(a*b)\n",
        " \n",
        "# division (/) operator\n",
        "print(b/a)\n",
        " \n",
        "# modulus (%) operator\n",
        "print(a%b) # prints the remainder of a/b\n",
        " \n",
        "# exponent (**) operator\n",
        "print(a**b) #prints a^b\n"
      ]
    },
    {
      "cell_type": "markdown",
      "metadata": {
        "id": "7bw9EhxpMCTq"
      },
      "source": [
        "***Comparison Operators***"
      ]
    },
    {
      "cell_type": "code",
      "execution_count": 36,
      "metadata": {
        "id": "UTzf50EOMGVr"
      },
      "outputs": [
        {
          "name": "stdout",
          "output_type": "stream",
          "text": [
            "False\n",
            "True\n",
            "False\n",
            "True\n",
            "False\n",
            "True\n"
          ]
        }
      ],
      "source": [
        "# create two variables\n",
        "a=100\n",
        "b=200\n",
        " \n",
        "# (==) operator, checks if two operands are equal or not\n",
        "print(a==b)\n",
        " \n",
        "# (!=) operator, checks if two operands are not equal\n",
        "print(a!=b)\n",
        " \n",
        "# (>) operator, checks left operand is greater than right operand or not\n",
        "print(a>b)\n",
        " \n",
        "# (<) operator, checks left operand is less than right operand or not\n",
        "print(a<b)\n",
        "#(>=) operator, checks left operand is greater than or equal to right operand or not\n",
        "print(a>=b)\n",
        " \n",
        "# (<=) operator, checks left operand is less than or equal to right operand or not\n",
        "print(a<=b)\n"
      ]
    },
    {
      "cell_type": "markdown",
      "metadata": {
        "id": "k6HLy046MNP6"
      },
      "source": [
        "# 2. Functions\n",
        "A function is a block of code which only runs when it is called.\n",
        "You can pass data, known as parameters, into a function.\n",
        "A function can return data as a result."
      ]
    },
    {
      "cell_type": "code",
      "execution_count": 37,
      "metadata": {
        "colab": {
          "base_uri": "https://localhost:8080/"
        },
        "id": "VaIcBne-M0JM",
        "outputId": "4a4051f9-ccc0-4f3d-ac9d-f1b39d394d3e"
      },
      "outputs": [
        {
          "name": "stdout",
          "output_type": "stream",
          "text": [
            "Hello from a function\n"
          ]
        }
      ],
      "source": [
        "def my_function():\n",
        "  print(\"Hello from a function\")\n",
        "\n",
        "my_function()"
      ]
    },
    {
      "cell_type": "markdown",
      "metadata": {
        "id": "HmOw2SHQMl3L"
      },
      "source": [
        "**Exercise :** Write a function that prints \" Programming in Python is awesome\""
      ]
    },
    {
      "cell_type": "code",
      "execution_count": 38,
      "metadata": {},
      "outputs": [
        {
          "name": "stdout",
          "output_type": "stream",
          "text": [
            "something\n"
          ]
        }
      ],
      "source": [
        "def name_of_the_function():\n",
        "    print(\"something\")\n",
        "\n",
        "name_of_the_function()"
      ]
    },
    {
      "cell_type": "markdown",
      "metadata": {
        "id": "ItF2lxc_OrdJ"
      },
      "source": [
        "## 2.1 What does a function receives ? Arguments\n",
        "\n",
        "Information can be passed into functions as arguments.\n",
        "\n",
        "Arguments are specified after the function name, inside the parentheses. You can add as many arguments as you want, just separate them with a comma.\n",
        "\n",
        "By default, a function must be called with the correct number of arguments. That is, if  your function expects 2 arguments, you have to call the function with 2 arguments, not more, and not less.\n",
        "\n",
        "However there are ways to skip this constraint ..."
      ]
    },
    {
      "cell_type": "code",
      "execution_count": 41,
      "metadata": {
        "colab": {
          "base_uri": "https://localhost:8080/"
        },
        "id": "zjLFGcRGOz8h",
        "outputId": "12e9c79b-d760-4133-fa1b-f0f6707e98eb"
      },
      "outputs": [
        {
          "name": "stdout",
          "output_type": "stream",
          "text": [
            "Emil Refsnes\n"
          ]
        },
        {
          "ename": "TypeError",
          "evalue": "my_function() missing 2 required positional arguments: 'fname' and 'lname'",
          "output_type": "error",
          "traceback": [
            "\u001b[1;31m---------------------------------------------------------------------------\u001b[0m",
            "\u001b[1;31mTypeError\u001b[0m                                 Traceback (most recent call last)",
            "Cell \u001b[1;32mIn[41], line 5\u001b[0m\n\u001b[0;32m      2\u001b[0m   \u001b[38;5;28mprint\u001b[39m(fname \u001b[38;5;241m+\u001b[39m \u001b[38;5;124m\"\u001b[39m\u001b[38;5;124m \u001b[39m\u001b[38;5;124m\"\u001b[39m \u001b[38;5;241m+\u001b[39m lname)\n\u001b[0;32m      4\u001b[0m my_function(\u001b[38;5;124m\"\u001b[39m\u001b[38;5;124mEmil\u001b[39m\u001b[38;5;124m\"\u001b[39m, \u001b[38;5;124m\"\u001b[39m\u001b[38;5;124mRefsnes\u001b[39m\u001b[38;5;124m\"\u001b[39m)\n\u001b[1;32m----> 5\u001b[0m \u001b[43mmy_function\u001b[49m\u001b[43m(\u001b[49m\u001b[43m)\u001b[49m\n",
            "\u001b[1;31mTypeError\u001b[0m: my_function() missing 2 required positional arguments: 'fname' and 'lname'"
          ]
        }
      ],
      "source": [
        "def my_function(fname, lname):\n",
        "  print(fname + \" \" + lname)\n",
        "\n",
        "my_function(\"Emil\", \"Refsnes\")\n",
        "my_function()"
      ]
    },
    {
      "cell_type": "markdown",
      "metadata": {
        "id": "3lmH_JGmPNZF"
      },
      "source": [
        "**Exercise :** write a function that receives two values and print the sum of them."
      ]
    },
    {
      "cell_type": "code",
      "execution_count": 43,
      "metadata": {},
      "outputs": [
        {
          "name": "stdout",
          "output_type": "stream",
          "text": [
            "12.928571428571429\n"
          ]
        }
      ],
      "source": [
        "def sum_of_two_values(value1, value2, value3):\n",
        "    print(value1 + value2 / value3)\n",
        "\n",
        "sum_of_two_values(12,13, 14)"
      ]
    },
    {
      "cell_type": "markdown",
      "metadata": {
        "id": "gLBaggBYPocn"
      },
      "source": [
        "### Arbitrary arguments\n",
        "If you do not know how many arguments that be passed into your function, add a * before the parameter name in the function definition.\n",
        "\n",
        "This way the function will receive a tuple of arguments, and can access the items accordingly:"
      ]
    },
    {
      "cell_type": "code",
      "execution_count": 48,
      "metadata": {
        "colab": {
          "base_uri": "https://localhost:8080/"
        },
        "id": "n7zH3YQHP87J",
        "outputId": "c704f46c-a747-425d-af26-a86a3b1fabe6"
      },
      "outputs": [
        {
          "name": "stdout",
          "output_type": "stream",
          "text": [
            "('Emil', 'Tobias', 'Linus')\n",
            "The second child is Tobias\n",
            "('A', 'B', 'C', 'D')\n",
            "The second child is B\n"
          ]
        }
      ],
      "source": [
        "def my_function(*kids):\n",
        "  print(kids)\n",
        "  print(\"The second child is \" + kids[1])\n",
        "\n",
        "my_function(\"Emil\", \"Tobias\", \"Linus\")\n",
        "my_function(\"A\", \"B\", \"C\", \"D\")"
      ]
    },
    {
      "cell_type": "code",
      "execution_count": null,
      "metadata": {},
      "outputs": [],
      "source": []
    },
    {
      "cell_type": "markdown",
      "metadata": {
        "id": "q6NHY6h-QEPV"
      },
      "source": [
        "**Exercise :** Write a function that receives and arbitrary list of numbers an prints the third one.\n",
        "\n",
        "**Note**: Good practice call this argument `*args`"
      ]
    },
    {
      "cell_type": "code",
      "execution_count": 53,
      "metadata": {},
      "outputs": [
        {
          "name": "stdout",
          "output_type": "stream",
          "text": [
            "(1, 2, 3, 4, 5)\n",
            "3\n"
          ]
        }
      ],
      "source": [
        "def show_third_number(*args):\n",
        "    print(args)\n",
        "    print(args[2])\n",
        "\n",
        "\n",
        "my_list_of_numbers = (1,2,3,4,5)\n",
        "\n",
        "show_third_number(*my_list_of_numbers)"
      ]
    },
    {
      "cell_type": "code",
      "execution_count": 52,
      "metadata": {},
      "outputs": [
        {
          "ename": "NameError",
          "evalue": "name 'function_test' is not defined",
          "output_type": "error",
          "traceback": [
            "\u001b[1;31m---------------------------------------------------------------------------\u001b[0m",
            "\u001b[1;31mNameError\u001b[0m                                 Traceback (most recent call last)",
            "Cell \u001b[1;32mIn[52], line 1\u001b[0m\n\u001b[1;32m----> 1\u001b[0m \u001b[43mfunction_test\u001b[49m(\u001b[38;5;241m1\u001b[39m,\u001b[38;5;241m2\u001b[39m,\u001b[38;5;241m3\u001b[39m,\u001b[38;5;241m4\u001b[39m,\u001b[38;5;241m5\u001b[39m)\n\u001b[0;32m      3\u001b[0m \u001b[38;5;28;01mdef\u001b[39;00m \u001b[38;5;21mfunction_test\u001b[39m(\u001b[38;5;241m*\u001b[39margs):\n\u001b[0;32m      4\u001b[0m     \u001b[38;5;28mprint\u001b[39m(args)\n",
            "\u001b[1;31mNameError\u001b[0m: name 'function_test' is not defined"
          ]
        }
      ],
      "source": [
        "function_test(1,2,3,4,5)\n",
        "\n",
        "def function_test(*args):\n",
        "    print(args)\n",
        "    print(args[2])\n",
        "\n"
      ]
    },
    {
      "cell_type": "markdown",
      "metadata": {
        "id": "RsaeqzHOSlQ4"
      },
      "source": [
        "### Keyword Arguments\n",
        "You can also send arguments with the key = value syntax.\n",
        "\n",
        "This way the order of the arguments does not matter.\n",
        "\n"
      ]
    },
    {
      "cell_type": "code",
      "execution_count": 57,
      "metadata": {
        "colab": {
          "base_uri": "https://localhost:8080/"
        },
        "id": "Gh8rWx55SneH",
        "outputId": "1acf1c83-b1b9-4a5d-cb0c-30d6939d4ef6"
      },
      "outputs": [
        {
          "name": "stdout",
          "output_type": "stream",
          "text": [
            "The youngest child is A\n",
            "The youngest child is Linus\n",
            "The youngest child is Linus\n"
          ]
        }
      ],
      "source": [
        "def my_function(child1, child2, child3):\n",
        "  print(\"The youngest child is \" + child3)\n",
        "\n",
        "my_function(\"B\", \"C\", \"A\")\n",
        "my_function(child1 = \"Emil\", child2 = \"Tobias\", child3 = \"Linus\")\n",
        "my_function(child3 = \"Linus\", child1 = \"Emil\", child2 = \"Tobias\")\n"
      ]
    },
    {
      "cell_type": "markdown",
      "metadata": {
        "id": "-lClSpDMSsK_"
      },
      "source": [
        "### Arbitrary Keyword Arguments\n",
        "If you do not know how many keyword arguments that will be passed into your function, add two asterisk: ** before the parameter name in the function definition.\n",
        "\n",
        "This way the function will receive a dictionary of arguments, and can access the items accordingly:"
      ]
    },
    {
      "cell_type": "code",
      "execution_count": 62,
      "metadata": {
        "colab": {
          "base_uri": "https://localhost:8080/"
        },
        "id": "kG5SfIBzSzyf",
        "outputId": "3de65991-462e-4099-f641-db1f53344ab1"
      },
      "outputs": [
        {
          "name": "stdout",
          "output_type": "stream",
          "text": [
            "{'lname': 'Refsnes', 'fname': 'Tobias', 'iother_stuff': 12}\n",
            "His last name is Refsnes12\n"
          ]
        }
      ],
      "source": [
        "def my_function(**kid):\n",
        "  print(kid)\n",
        "  print(\"His last name is \" + kid[\"lname\"] + str(kid[\"iother_stuff\"]))\n",
        "\n",
        "my_function(lname = \"Refsnes\", fname = \"Tobias\", iother_stuff= 12)"
      ]
    },
    {
      "cell_type": "markdown",
      "metadata": {},
      "source": [
        "**Note:** Good practice calls this argument `**kwargs`"
      ]
    },
    {
      "cell_type": "markdown",
      "metadata": {
        "id": "CCWVHYgNUUAt"
      },
      "source": [
        "## 2.2 What does a function returns ?\n",
        "**Return value**\n",
        "To let a function return a value, use the return statement"
      ]
    },
    {
      "cell_type": "code",
      "execution_count": 66,
      "metadata": {
        "colab": {
          "base_uri": "https://localhost:8080/"
        },
        "id": "cv-0IAZVUZwn",
        "outputId": "6ca80bfe-9976-4565-9167-4159f13f3227"
      },
      "outputs": [
        {
          "name": "stdout",
          "output_type": "stream",
          "text": [
            "15\n",
            "25\n",
            "45\n"
          ]
        }
      ],
      "source": [
        "def my_function(x):\n",
        "  return 5 * x\n",
        "\n",
        "print(my_function(3))\n",
        "print(my_function(5))\n",
        "print(my_function(9))\n"
      ]
    },
    {
      "cell_type": "markdown",
      "metadata": {
        "id": "PWyonUk4UfkV"
      },
      "source": [
        "**Exercices**\n",
        "\n",
        "1. Create a function called `BMI` that receives the `size` and the `weight` of a person and that returns the body mass index.\n",
        "\n",
        "2. Create a function `BMI_advanced` that use key-word arguments in order to be able to pass the parameters in an arbitrary order.\n",
        "\n",
        "3. What is the difference between returning a value and printing it?\n",
        "\n",
        "4. Call the function `BMI_advanced` and store the returned value in a variable, then print this variable.\n",
        "\n",
        "5. Create a function that receives two values and returns AND prints the biggest one.\n"
      ]
    },
    {
      "cell_type": "code",
      "execution_count": 80,
      "metadata": {},
      "outputs": [
        {
          "name": "stdout",
          "output_type": "stream",
          "text": [
            "0.0017928215425436552\n",
            "0.0017928215425436552\n",
            "0.0017928215425436552\n",
            "15\n"
          ]
        },
        {
          "data": {
            "text/plain": [
              "15"
            ]
          },
          "execution_count": 80,
          "metadata": {},
          "output_type": "execute_result"
        }
      ],
      "source": [
        "def my_bmi(weight, height):\n",
        "    rez = weight/height**2\n",
        "    print(rez)\n",
        "    return rez\n",
        "\n",
        "my_bmi(height=167, weight=50)\n",
        "val = my_bmi(50,167)\n",
        "print(val)\n",
        "\n",
        "def biggest(a,b):\n",
        "    c = max(a,b)\n",
        "    print(c)\n",
        "    return c\n",
        "\n",
        "biggest(12,15)"
      ]
    },
    {
      "cell_type": "markdown",
      "metadata": {
        "id": "c82EGn9hjhwV"
      },
      "source": [
        "# 3. Control Stuctures"
      ]
    },
    {
      "cell_type": "markdown",
      "metadata": {
        "id": "Go7-SGdTjpBl"
      },
      "source": [
        "## 3.1 Python Conditions and IF-ELSE statements\n",
        "As aforementioned, python supports the usual logical conditions from mathematics:\n",
        "\n",
        "* Equals: `a == b`\n",
        "* Not Equals: `a != b`\n",
        "* Less than: `a < b`\n",
        "* Less than or equal to: `a <= b`\n",
        "* Greater than: `a > b`\n",
        "* Greater than or equal to: `a >= b`"
      ]
    },
    {
      "cell_type": "code",
      "execution_count": 92,
      "metadata": {
        "id": "_8UQjtimjoGG"
      },
      "outputs": [
        {
          "name": "stdout",
          "output_type": "stream",
          "text": [
            "False\n",
            "b is greater than a\n"
          ]
        }
      ],
      "source": [
        "a = 33\n",
        "b = 200\n",
        "print(b < a)\n",
        "if b > a:\n",
        "    print(\"b is greater than a\")\n",
        "else:\n",
        "    print(print(\"b is greater than a\"))"
      ]
    },
    {
      "cell_type": "markdown",
      "metadata": {
        "id": "2ilGAcDEmda-"
      },
      "source": [
        "**Note: Python relies on indentation (whitespace at the beginning of a line) to define scope in the code.** \n",
        "Other programming languages often use curly-brackets for this purpose. Note that good practice is to use 4 spaces.\n",
        "\n",
        "**Exercise:** Try to put the last print statement at the same level than the else. What happens ?? How many spaces are required ?\n",
        "\n",
        "**Exercise :** Modify the previous function `BMI_advanced` in order to print if the person has overweight according to the following BMI Categories:\n",
        "* Underweight = <18.5\n",
        "* Normal weight = 18.5–24.9\n",
        "* Overweight = 25–29.9\n",
        "* Obesity = BMI of 30 or greater\n"
      ]
    },
    {
      "cell_type": "code",
      "execution_count": 103,
      "metadata": {},
      "outputs": [
        {
          "name": "stdout",
          "output_type": "stream",
          "text": [
            "Overweight\n"
          ]
        },
        {
          "data": {
            "text/plain": [
              "27.358845456721728"
            ]
          },
          "execution_count": 103,
          "metadata": {},
          "output_type": "execute_result"
        }
      ],
      "source": [
        "def bmi2(weight,height):\n",
        "    bmi = weight/height**2\n",
        "    comment = \"\"\n",
        "    if bmi < 18.5:\n",
        "        comment = \"Underweight\"\n",
        "    else:\n",
        "        if bmi < 25:\n",
        "            comment = \"Normal Weight\"\n",
        "        elif bmi < 30:\n",
        "            comment = \"Overweight\"\n",
        "        else:\n",
        "            comment = \"Obesity\"\n",
        "    print(comment)\n",
        "    return bmi\n",
        "\n",
        "bmi2(50,1.71)"
      ]
    },
    {
      "cell_type": "markdown",
      "metadata": {},
      "source": [
        "\n",
        "**Supplementary Exercise** : Develop a medical decision tree \n",
        "https://www.medg.fr/alcalose-respiratoire/, https://www.semanticscholar.org/paper/From-logical-inference-to-decision-trees-in-medical-Albu/17ebd4c1202a08d8abf58d6af269e901193d40c5/figure/1\n",
        "\n",
        "\n"
      ]
    },
    {
      "cell_type": "markdown",
      "metadata": {
        "id": "xV39GdQEnm3U"
      },
      "source": [
        "## 3.2 Loops\n",
        "\n",
        "**For Loops**\n",
        "\n",
        "A `for` loop is used for iterating over a sequence (that is either a list, a tuple, a dictionary, a set, or a string).\n",
        "\n",
        "With the `for` loop we can execute a set of statements, once for each item in a list, tuple, set etc.\n"
      ]
    },
    {
      "cell_type": "code",
      "execution_count": 3,
      "metadata": {
        "id": "0pBJ37bnofXZ"
      },
      "outputs": [
        {
          "name": "stdout",
          "output_type": "stream",
          "text": [
            "apple\n",
            "apple\n",
            "banana\n",
            "cherry\n"
          ]
        }
      ],
      "source": [
        "fruits = [\"apple\", \"banana\", \"cherry\"]\n",
        "for x in fruits:\n",
        "    if x == \"apple\":\n",
        "        print(x)\n",
        "    print(x)"
      ]
    },
    {
      "cell_type": "markdown",
      "metadata": {
        "id": "7iPfI6wpwpmo"
      },
      "source": [
        "**While Loops**"
      ]
    },
    {
      "cell_type": "code",
      "execution_count": 1,
      "metadata": {
        "id": "u-66KTPBwn-5"
      },
      "outputs": [
        {
          "name": "stdout",
          "output_type": "stream",
          "text": [
            "1\n",
            "2\n",
            "3\n",
            "4\n",
            "5\n",
            "i is no longer less than 6\n"
          ]
        }
      ],
      "source": [
        "i = 1\n",
        "while i < 6:\n",
        "    print(i)\n",
        "    i += 1\n",
        "print(\"i is no longer less than 6\")"
      ]
    },
    {
      "cell_type": "markdown",
      "metadata": {
        "id": "Mht4eoFlqUhr"
      },
      "source": [
        "**Note:** The `range()` function returns a sequence of numbers, starting from 0 by default, and increments by 1 (by default), and ends at a specified number.\n",
        "\n"
      ]
    },
    {
      "cell_type": "markdown",
      "metadata": {
        "id": "YKTR6UfRqaeK"
      },
      "source": [
        "**Exercise :**\n",
        "* Create a function that receive two vectors and returns a vector with the sum of the two vectors.\n",
        "* Add a third parameter that is type of operation, (sum, multiplication, division). The function has to do the operation specified in this parameter."
      ]
    },
    {
      "cell_type": "code",
      "execution_count": 4,
      "metadata": {},
      "outputs": [
        {
          "data": {
            "text/plain": [
              "[1, 23, 4, 2, 1, 3]"
            ]
          },
          "execution_count": 4,
          "metadata": {},
          "output_type": "execute_result"
        }
      ],
      "source": [
        "x = [1,23,4]\n",
        "y = [2,1,3]\n",
        "def add_vec(x,y):\n",
        "    \n",
        "    return ?\n",
        "\n",
        "\n",
        "add_vec(x,y) # 2, 24, 7\n",
        "\n",
        "# def operate_vec(x,y,op)\n",
        "\n",
        "#     return\n",
        "\n",
        "\n",
        "# operate_vec(x,y,+) # 2, 24, 7\n",
        "# operate_vec(x,y,*) # 2, 23, 12\n"
      ]
    },
    {
      "cell_type": "code",
      "execution_count": 4,
      "metadata": {},
      "outputs": [
        {
          "name": "stdout",
          "output_type": "stream",
          "text": [
            "(50, 1.72)\n",
            "16.901027582477017\n"
          ]
        }
      ],
      "source": [
        "def bmi(weight, height):\n",
        "    rez = weight / height**2\n",
        "    print(rez)\n",
        "    return rez\n",
        "\n",
        "def bmi2(*args):\n",
        "    print(args)\n",
        "    w = args[0]\n",
        "    h = args[1]\n",
        "    rez = w / h**2\n",
        "    print(rez)\n",
        "\n",
        "bmi2(50, 1.72)"
      ]
    }
  ],
  "metadata": {
    "colab": {
      "authorship_tag": "ABX9TyP8r57O+DawixLi7dhQQsL7",
      "collapsed_sections": [
        "J_96nIXfWm68",
        "7nntBYfee2ZL",
        "zbBFe-5LJjsh",
        "UWQlSGWYTzD9",
        "qn5Vqovog7Br",
        "3g20hftTitl3"
      ],
      "include_colab_link": true,
      "name": "Introduction to python.ipynb",
      "provenance": [],
      "toc_visible": true
    },
    "kernelspec": {
      "display_name": "Python 3 (ipykernel)",
      "language": "python",
      "name": "python3"
    },
    "language_info": {
      "codemirror_mode": {
        "name": "ipython",
        "version": 3
      },
      "file_extension": ".py",
      "mimetype": "text/x-python",
      "name": "python",
      "nbconvert_exporter": "python",
      "pygments_lexer": "ipython3",
      "version": "3.10.6"
    }
  },
  "nbformat": 4,
  "nbformat_minor": 0
}
