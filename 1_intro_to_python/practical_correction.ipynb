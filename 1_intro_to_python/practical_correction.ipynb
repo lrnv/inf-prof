{
  "cells": [
    {
      "cell_type": "markdown",
      "metadata": {
        "id": "HcZpTc4_tlyz"
      },
      "source": [
        "# __Teaching Unit INF-PROF: Programming fundamentals for health data__\n",
        "\n",
        "\n",
        "## __Practial Work 1 - Introduction to Python__\n",
        "\n",
        "### Learning objectives:\n",
        "\n",
        "1. Manipulate different Python datatypes\n",
        "2. Use some conditional statements\n",
        "3. Programmation of basics functions\n",
        "4. Use some looping structure"
      ]
    },
    {
      "cell_type": "markdown",
      "metadata": {
        "id": "iGewSKKEuxo7"
      },
      "source": [
        "## __I/ Python datatypes__"
      ]
    },
    {
      "cell_type": "markdown",
      "metadata": {
        "id": "oTiAXKfzv7Gc"
      },
      "source": [
        "For this first part, we will mostly see how to create the most common type of object with Python, manipulate it and see some methods for these objects."
      ]
    },
    {
      "cell_type": "markdown",
      "metadata": {
        "id": "hVUycU3ouqkz"
      },
      "source": [
        "###__Strings__"
      ]
    },
    {
      "cell_type": "markdown",
      "metadata": {
        "id": "6Nn-J6cYvBeK"
      },
      "source": [
        "For this practical session, we will see basic datatypes of Python and how to manipulate them. The first datatype that we will see is the Strings. This object is used to store caracters (that could be letters, numbers, punctuation). We usually use the prefix `str` for strings object.\n",
        "\n",
        "#### __Strings creation__\n",
        "\n",
        "You can create a string by assigning to a variable any character between double quotes (\" \") or single quotes (' ').\n",
        "\n",
        "```\n",
        "my_string = 'abc'\n",
        "my_string = \"abc\"\n",
        "my_string = \"I'm Nicolas Ngo\"\n",
        "```\n",
        "\n",
        "You can also create a string with the function `str()` on any character.\n",
        "\n",
        "```\n",
        "my_string = str(123)\n",
        "```\n",
        "\n",
        "##### __Strings concatenation__\n",
        "You can merge two strings to create a single one with the '+' symbol.\n",
        "\n",
        "```\n",
        "first_string = 'abc'\n",
        "second_string = 'def'\n",
        "third_string = first_string + second_string\n",
        "print(third_string)\n",
        "```\n",
        "\n",
        "####__Strings slicing__\n",
        "You can access each element of a string with a slicing. The following syntax `my_string[index_of_the_element]`.\n",
        "\n",
        "```\n",
        "my_string = 'abc'\n",
        "my_string[0]\n",
        "```\n",
        "\n",
        "#### __Strings methods__\n",
        "\n",
        "Many methods are available for the strings class. You can check them by usoing the `dir()` function or search for them in the [Python documentation](https://docs.python.org/3/library/stdtypes.html#textseq).\n",
        "\n",
        "```\n",
        "dir(str)\n",
        "```"
      ]
    },
    {
      "cell_type": "markdown",
      "metadata": {
        "id": "GLHv5BrZzS4W"
      },
      "source": [
        "#### __Exercise 1.1 - Try to guess what these statements will do__"
      ]
    },
    {
      "cell_type": "code",
      "execution_count": null,
      "metadata": {
        "id": "OJk0-RgbzSUF"
      },
      "outputs": [],
      "source": [
        "my_string = \"This is a practical session\""
      ]
    },
    {
      "cell_type": "markdown",
      "metadata": {
        "id": "IzcPnUQLzp-D"
      },
      "source": [
        "1. `my_string[2]`\n",
        "2. `my_string[0:3]`\n",
        "3. `my_string[5:]`\n",
        "4. `my_string[:]`\n",
        "5. `my_string[-1]`\n",
        "6. `my_string[0:-5]`\n",
        "7. `my_string[::-3]`\n",
        "8. `my_string[::2]`"
      ]
    },
    {
      "cell_type": "markdown",
      "metadata": {
        "id": "P-m0pXTe1IFj"
      },
      "source": [
        "##### __Correction 1.1__"
      ]
    },
    {
      "cell_type": "markdown",
      "metadata": {
        "id": "ma1Xf9rm07Bj"
      },
      "source": [
        "1. Indexation starts at 0 with Python. So `my_string[2]` will return the third element of the string `'i'`.\n",
        "2. Indexation with the ':' give a range of indexes. So `my_string[0:3]` will return the element of the string from the first to the third element `Thi`.\n",
        "3. With the syntax '5:' it means that we want a range that start at the 6th element to the end of the string. So it will return `'is a practical session'`.\n",
        "4. Following the logic of the previous question, this syntax means that we want all the element from the first to the last index available. So it will simply returns the string.\n",
        "5. You can also use negative indexing with Python. It will understand that we are counting from the end now (starting with 1). So it will return the last element of the string `'n'`.\n",
        "6. Following the logic of the last question, the syntax `0:-5` means that we want the element from index 0 to index 5 but starting by the end. So it will return `'This is a practical se'`.\n",
        "7. Slicing indexing also allows you to define a specific step for the range. For instance the syntax `::-3` means that we want to print from the first to the last index but with a step of 3 and starting by the end of the string. So it will return : `'nssatraii'` ('thIs Is A pRacTicAl SesSioN\").\n",
        "8. We can do the same with a positive steps so the range goes from the first to the last index with a step of 2. It will return `'Ti sapatclssin'`\n",
        "\n",
        "\n"
      ]
    },
    {
      "cell_type": "markdown",
      "metadata": {
        "id": "PcC1N61p-a8G"
      },
      "source": [
        "#### __Exercise 1.2 - String manipulation__\n",
        "\n",
        "\n"
      ]
    },
    {
      "cell_type": "markdown",
      "metadata": {
        "id": "pi5v5dPO_EEm"
      },
      "source": [
        "Consider the following text:\n",
        "\n",
        "*Statistics (from German: Statistik, orig. \"description of a state, a country\") is the discipline that concerns the collection, organization, analysis, interpretation, and presentation of data.*\n",
        "\n",
        "1. Assign the text to a string.\n",
        "2. Use the `count()` method to give the numbre of time the letter \"a\" appears in the text.\n",
        "3. Find the index of the word *data*.\n",
        "4. Remplacer le mot \"organization\" par \"organisation\" dans le string."
      ]
    },
    {
      "cell_type": "markdown",
      "metadata": {
        "id": "XnYpXqIlAFyy"
      },
      "source": [
        "##### __Correction 1.2__\n"
      ]
    },
    {
      "cell_type": "markdown",
      "metadata": {
        "id": "jXVJIbnkALbr"
      },
      "source": [
        "1. Assign the text to a string."
      ]
    },
    {
      "cell_type": "code",
      "execution_count": null,
      "metadata": {
        "colab": {
          "base_uri": "https://localhost:8080/"
        },
        "id": "KCbX5BF_AKTr",
        "outputId": "88be9da0-69c9-4598-d009-bb8debb7e708"
      },
      "outputs": [
        {
          "name": "stdout",
          "output_type": "stream",
          "text": [
            "Statistics (from German: Statistik, orig. \"description of a state, a country\") is the discipline that concerns the collection, organization, analysis, interpretation, and presentation of data.\n"
          ]
        }
      ],
      "source": [
        "my_string = 'Statistics (from German: Statistik, orig. \"description of a state, a country\") is the discipline that concerns the collection, organization, analysis, interpretation, and presentation of data.'\n",
        "print(my_string)"
      ]
    },
    {
      "cell_type": "markdown",
      "metadata": {
        "id": "7dCzaxT5AUx4"
      },
      "source": [
        "2. Use the `count()` method to give the number of time the letter \"a\" appears in the text."
      ]
    },
    {
      "cell_type": "code",
      "execution_count": null,
      "metadata": {
        "colab": {
          "base_uri": "https://localhost:8080/"
        },
        "id": "WIOAbZUxAa1G",
        "outputId": "7e3de188-5cd4-4544-b0a3-3066815a2732"
      },
      "outputs": [
        {
          "data": {
            "text/plain": [
              "16"
            ]
          },
          "execution_count": 43,
          "metadata": {},
          "output_type": "execute_result"
        }
      ],
      "source": [
        "my_string.count('a')"
      ]
    },
    {
      "cell_type": "markdown",
      "metadata": {
        "id": "613OxxOiAdKn"
      },
      "source": [
        "3. Find the index of the word \"data\"."
      ]
    },
    {
      "cell_type": "code",
      "execution_count": null,
      "metadata": {
        "colab": {
          "base_uri": "https://localhost:8080/"
        },
        "id": "bb7Gu4IuAgYg",
        "outputId": "14ee301b-7547-4769-a139-de2bb39eb616"
      },
      "outputs": [
        {
          "name": "stdout",
          "output_type": "stream",
          "text": [
            "data\n"
          ]
        }
      ],
      "source": [
        "my_string.find('data')\n",
        "print(my_string[187:191])"
      ]
    },
    {
      "cell_type": "markdown",
      "metadata": {
        "id": "nGo8lopqAuWj"
      },
      "source": [
        "4. Replace the word \"organization\" by \"organisation\" in the string"
      ]
    },
    {
      "cell_type": "code",
      "execution_count": null,
      "metadata": {
        "colab": {
          "base_uri": "https://localhost:8080/"
        },
        "id": "OV4-65MbBiyI",
        "outputId": "5f6741a3-2403-4147-fc05-6ed01f79ce5e"
      },
      "outputs": [
        {
          "name": "stdout",
          "output_type": "stream",
          "text": [
            "Help on method_descriptor:\n",
            "\n",
            "replace(self, old, new, count=-1, /)\n",
            "    Return a copy with all occurrences of substring old replaced by new.\n",
            "    \n",
            "      count\n",
            "        Maximum number of occurrences to replace.\n",
            "        -1 (the default value) means replace all occurrences.\n",
            "    \n",
            "    If the optional argument count is given, only the first count occurrences are\n",
            "    replaced.\n",
            "\n"
          ]
        }
      ],
      "source": [
        "help(str.replace)"
      ]
    },
    {
      "cell_type": "code",
      "execution_count": null,
      "metadata": {
        "colab": {
          "base_uri": "https://localhost:8080/"
        },
        "id": "Vbb1J_DmA789",
        "outputId": "655d23bf-d439-4012-a9c8-c3010477ff55"
      },
      "outputs": [
        {
          "name": "stdout",
          "output_type": "stream",
          "text": [
            "Statistics (from German: Statistik, orig. \"description of a state, a country\") is the discipline that concerns the collection, organization, analysis, interpretation, and presentation of data.\n",
            "Statistics (from German: Statistik, orig. \"description of a state, a country\") is the discipline that concerns the collection, organisation, analysis, interpretation, and presentation of data.\n"
          ]
        }
      ],
      "source": [
        "# With the replace method\n",
        "my_string.replace('organization', 'organisation')\n",
        "print(my_string)\n",
        "\n",
        "# You need to update the string by replacing it manually\n",
        "my_string = my_string.replace('organization', 'organisation')\n",
        "print(my_string)"
      ]
    },
    {
      "cell_type": "markdown",
      "metadata": {
        "id": "sSxdtaN0uvJb"
      },
      "source": [
        "### __Lists__"
      ]
    },
    {
      "cell_type": "markdown",
      "metadata": {
        "id": "CT0ATlA66YqY"
      },
      "source": [
        "A list is a collection of items in Python. It can be change after its creation (assign a new value to an element of the list).\n",
        "\n",
        "#### __List creation__\n",
        "You can create a list by using brackets `[]` or by using the `list()` function.\n",
        "\n",
        "```\n",
        "my_list = [1, 2, 3]\n",
        "my_list = list('123')\n",
        "```\n",
        "In a sense, string can be seen as a list of caracters. So we can find similar methods on boths.\n",
        "\n",
        "#### __List concatenation__\n",
        "\n",
        "You can concatenate lists with the '+' operator or by using the specific method `list.extend()`.\n",
        "\n",
        "```\n",
        "first_list = list(\"abc\")\n",
        "second_list = list('567')\n",
        "first_list.extend(second_list)\n",
        "print(first_list)\n",
        "\n",
        "> ['a', 'b', 'c', '5', '6', '7']\n",
        "```\n",
        "\n",
        "To add a single element at the end of the list you can use the `append()` method.\n",
        "\n",
        "```\n",
        "first_list.append('a')\n",
        "first_list\n",
        "\n",
        "> ['a', 'b', 'c', '5', '6', '7', 'a']\n",
        "```\n",
        "\n",
        "To add a single element at any specific position (or index) in the list you can use the `insert()` method.\n",
        "\n",
        "#### __Accessing and updating list element__\n",
        "\n",
        "Following the same logic of the strings slicing you can access element of the list with the `[]` following the string name. But with the list you can also change the value at the specific index.\n",
        "\n",
        "```\n",
        "my_list = [1, 2, 3, 4]\n",
        "my_list[0] = 'A'\n",
        "print(my_list)\n",
        "\n",
        "> ['A', 2, 3, 4]\n",
        "```\n",
        "\n",
        "#### __Removing values__\n",
        "You can use the `remove()` method to remove a specific element of the list.\n",
        "\n",
        "```\n",
        "my_list = [\"1\", 2, \"a\", 4]\n",
        "my_list.remove(2)\n",
        "print(my_list)\n",
        "\n",
        "> ['1', 'a', 4]\n",
        "```\n",
        "#### __List documentation__\n",
        "You can see the Python documentation for list [here](https://docs.python.org/3/tutorial/datastructures.html).\n"
      ]
    },
    {
      "cell_type": "markdown",
      "metadata": {
        "id": "FaFHeugmdjMs"
      },
      "source": [
        "#### __Exercise 1.3 - Sort list__"
      ]
    },
    {
      "cell_type": "markdown",
      "metadata": {
        "id": "ZRtNjBKAdoS0"
      },
      "source": [
        "With the following list, execute the different tasks:\n",
        "1. Create the list.\n",
        "2. Sort all values by decreasing order and display the 3 smallest values.\n",
        "3. Display the maximum value in two different ways.\n",
        "3. Display the mean value of the list of values.\n",
        "\n",
        "```\n",
        "my_list = [2, 96, 78, 45, 23, 67, 82, 18, 32]\n",
        "```"
      ]
    },
    {
      "cell_type": "markdown",
      "metadata": {
        "id": "WOKzEaC1eOfl"
      },
      "source": [
        "##### __Correction 1.3__"
      ]
    },
    {
      "cell_type": "markdown",
      "metadata": {
        "id": "Fno-KUUxeTt8"
      },
      "source": [
        "1. Create the list."
      ]
    },
    {
      "cell_type": "code",
      "execution_count": 17,
      "metadata": {
        "id": "Hy2u8wAgeY_m"
      },
      "outputs": [],
      "source": [
        "# First way by using the brackets\n",
        "my_list = [2, 96, 78, 45, 23, 67, 82, 18, 32]\n",
        "\n",
        "# Second way with the constructor\n",
        "my_list = list([2, 96, 78, 45, 23, 67, 82, 18, 32])"
      ]
    },
    {
      "cell_type": "markdown",
      "metadata": {
        "id": "nkyvoOtQenyt"
      },
      "source": [
        "2. Sort all values by decreasing order and display the 3 smallest values."
      ]
    },
    {
      "cell_type": "code",
      "execution_count": 18,
      "metadata": {
        "colab": {
          "base_uri": "https://localhost:8080/"
        },
        "id": "92Qoy9a-esq1",
        "outputId": "2f2fd0e5-0324-47e2-d8bd-ba7083294a0d"
      },
      "outputs": [
        {
          "data": {
            "text/plain": [
              "[23, 18, 2]"
            ]
          },
          "execution_count": 18,
          "metadata": {},
          "output_type": "execute_result"
        }
      ],
      "source": [
        "# We use the list.sort() method to sort all the values\n",
        "my_list.sort(reverse = True)\n",
        "my_list\n",
        "\n",
        "# We can display the 3 smallest values by displaying the last 3 elements of the list\n",
        "my_list[-3:]"
      ]
    },
    {
      "cell_type": "markdown",
      "metadata": {
        "id": "GDGR726jfIe2"
      },
      "source": [
        "3. Display the maximum value in two different ways\n"
      ]
    },
    {
      "cell_type": "code",
      "execution_count": 19,
      "metadata": {
        "colab": {
          "base_uri": "https://localhost:8080/"
        },
        "id": "kwBBrdrOfMGH",
        "outputId": "65b116e4-06ea-44f7-efaf-c71bc5f03704"
      },
      "outputs": [
        {
          "data": {
            "text/plain": [
              "96"
            ]
          },
          "execution_count": 19,
          "metadata": {},
          "output_type": "execute_result"
        }
      ],
      "source": [
        "# We can display the first element of the sorted list\n",
        "my_list[0]\n",
        "\n",
        "# Or we can use the max() function that returns the maximum value of a list\n",
        "max(my_list)"
      ]
    },
    {
      "cell_type": "markdown",
      "metadata": {
        "id": "go30SkAVfqYX"
      },
      "source": [
        "4. Display the mean value of the list"
      ]
    },
    {
      "cell_type": "code",
      "execution_count": 29,
      "metadata": {
        "colab": {
          "base_uri": "https://localhost:8080/"
        },
        "id": "kht2w9Y5fuYG",
        "outputId": "b202dec1-c1f7-4421-e091-019f80deab77"
      },
      "outputs": [
        {
          "name": "stdout",
          "output_type": "stream",
          "text": [
            "The mean value is 49.222222\n",
            "The mean value is 49.22222222222222\n"
          ]
        }
      ],
      "source": [
        "# We can use the average formula:\n",
        "print(\"The mean value is %f\" % (sum(my_list)/len(my_list)))\n",
        "\n",
        "# Or we can create our own mean function (see later)\n",
        "\n",
        "# Or we can import from statistics the mean function\n",
        "from statistics import mean\n",
        "print(\"The mean value is\", mean(my_list))"
      ]
    },
    {
      "cell_type": "code",
      "execution_count": 24,
      "metadata": {
        "colab": {
          "base_uri": "https://localhost:8080/"
        },
        "id": "UErWNYJdg0f4",
        "outputId": "a05c8fe4-4f74-4aea-9497-01450edd06e3"
      },
      "outputs": [
        {
          "data": {
            "text/plain": [
              "49.22222222222222"
            ]
          },
          "execution_count": 24,
          "metadata": {},
          "output_type": "execute_result"
        }
      ],
      "source": [
        "sum(my_list)/len(my_list)"
      ]
    },
    {
      "cell_type": "markdown",
      "metadata": {
        "id": "C_9484s8hMHv"
      },
      "source": [
        "#### __Exercise 1.4 - Find an element__"
      ]
    },
    {
      "cell_type": "markdown",
      "metadata": {
        "id": "84V_mGq4hQIH"
      },
      "source": [
        "You received a list of measurements. You have to find the index of the maximum value to identify which patient it was taken from.\n",
        "```\n",
        "my_list = ['4', '9', '75', '215', '141', '264', '256', '541', '148', '226', '365', '523']\n",
        "```"
      ]
    },
    {
      "cell_type": "markdown",
      "metadata": {
        "id": "0B4JrWq0h0fX"
      },
      "source": [
        "##### __Correction exercise 1.4__\n"
      ]
    },
    {
      "cell_type": "markdown",
      "metadata": {
        "id": "9crVRrNyh5_P"
      },
      "source": [
        "Let's see what kind of object is stock in this list."
      ]
    },
    {
      "cell_type": "code",
      "execution_count": 34,
      "metadata": {
        "colab": {
          "base_uri": "https://localhost:8080/"
        },
        "id": "rT6dwDbQh-uq",
        "outputId": "b07ac0aa-6b20-4d79-ec7e-6b93dfbde7ea"
      },
      "outputs": [
        {
          "data": {
            "text/plain": [
              "str"
            ]
          },
          "execution_count": 34,
          "metadata": {},
          "output_type": "execute_result"
        }
      ],
      "source": [
        "my_list = ['4', '9', '75', '215', '141', '264', '256', '541', '148', '226', '365', '523']\n",
        "type(my_list[0])"
      ]
    },
    {
      "cell_type": "markdown",
      "metadata": {
        "id": "Lzsii3FaiXNp"
      },
      "source": [
        "This is a string, we need to convert it into numeric values. Otherwise the max function will return something unexpected"
      ]
    },
    {
      "cell_type": "code",
      "execution_count": 35,
      "metadata": {
        "colab": {
          "base_uri": "https://localhost:8080/",
          "height": 36
        },
        "id": "5Jg25S_kibAx",
        "outputId": "1c657f91-af7c-4e00-bf43-e9ced2fcdf72"
      },
      "outputs": [
        {
          "data": {
            "application/vnd.google.colaboratory.intrinsic+json": {
              "type": "string"
            },
            "text/plain": [
              "'9'"
            ]
          },
          "execution_count": 35,
          "metadata": {},
          "output_type": "execute_result"
        }
      ],
      "source": [
        "max(my_list)"
      ]
    },
    {
      "cell_type": "code",
      "execution_count": 36,
      "metadata": {
        "colab": {
          "base_uri": "https://localhost:8080/",
          "height": 181
        },
        "id": "mMwf-jvSiwsh",
        "outputId": "5a7067ae-e5ce-4af9-db31-28c397e6a9c6"
      },
      "outputs": [
        {
          "ename": "TypeError",
          "evalue": "ignored",
          "output_type": "error",
          "traceback": [
            "\u001b[0;31m---------------------------------------------------------------------------\u001b[0m",
            "\u001b[0;31mTypeError\u001b[0m                                 Traceback (most recent call last)",
            "\u001b[0;32m<ipython-input-36-a0aa608c900c>\u001b[0m in \u001b[0;36m<cell line: 1>\u001b[0;34m()\u001b[0m\n\u001b[0;32m----> 1\u001b[0;31m \u001b[0mint\u001b[0m\u001b[0;34m(\u001b[0m\u001b[0mmy_list\u001b[0m\u001b[0;34m)\u001b[0m\u001b[0;34m\u001b[0m\u001b[0;34m\u001b[0m\u001b[0m\n\u001b[0m",
            "\u001b[0;31mTypeError\u001b[0m: int() argument must be a string, a bytes-like object or a real number, not 'list'"
          ]
        }
      ],
      "source": [
        "int(my_list)"
      ]
    },
    {
      "cell_type": "markdown",
      "metadata": {
        "id": "GYpl2OZhjaBx"
      },
      "source": [
        "We can use the numpy library to convert the list of string into an array of int"
      ]
    },
    {
      "cell_type": "code",
      "execution_count": 37,
      "metadata": {
        "colab": {
          "base_uri": "https://localhost:8080/"
        },
        "id": "xrR8n0s5i0N5",
        "outputId": "87d0c6ca-cf4c-4c34-c0f6-ba54e3b876d1"
      },
      "outputs": [
        {
          "data": {
            "text/plain": [
              "numpy.ndarray"
            ]
          },
          "execution_count": 37,
          "metadata": {},
          "output_type": "execute_result"
        }
      ],
      "source": [
        "import numpy as np\n",
        "my_list = np.array(my_list, dtype = int)\n",
        "type(my_list)"
      ]
    },
    {
      "cell_type": "markdown",
      "metadata": {
        "id": "fflJoHxRjhmi"
      },
      "source": [
        "And then we convert it back to a list"
      ]
    },
    {
      "cell_type": "code",
      "execution_count": 39,
      "metadata": {
        "colab": {
          "base_uri": "https://localhost:8080/"
        },
        "id": "MHlJB98wjZci",
        "outputId": "741c6ae2-7ef9-475c-ad0b-a26a9a22a9c3"
      },
      "outputs": [
        {
          "name": "stdout",
          "output_type": "stream",
          "text": [
            "[4, 9, 75, 215, 141, 264, 256, 541, 148, 226, 365, 523]\n"
          ]
        }
      ],
      "source": [
        "my_list = list(my_list)\n",
        "type(my_list)\n",
        "print(my_list)"
      ]
    },
    {
      "cell_type": "markdown",
      "metadata": {
        "id": "vBD_qOHBjqSh"
      },
      "source": [
        "Now we can search for the maximum value"
      ]
    },
    {
      "cell_type": "code",
      "execution_count": 40,
      "metadata": {
        "colab": {
          "base_uri": "https://localhost:8080/"
        },
        "id": "QiFHgkpejpvk",
        "outputId": "1c1b1930-04c1-49e6-815a-82f5a2927060"
      },
      "outputs": [
        {
          "data": {
            "text/plain": [
              "541"
            ]
          },
          "execution_count": 40,
          "metadata": {},
          "output_type": "execute_result"
        }
      ],
      "source": [
        "max(my_list)"
      ]
    },
    {
      "cell_type": "markdown",
      "metadata": {
        "id": "qs_Sbp2Mjv0h"
      },
      "source": [
        "But we need to return the index of the max, not its value. We use the `list.index()` method to return the index of a specific value."
      ]
    },
    {
      "cell_type": "code",
      "execution_count": 46,
      "metadata": {
        "colab": {
          "base_uri": "https://localhost:8080/"
        },
        "id": "l43uTsNsjzbp",
        "outputId": "512362a7-1916-42ff-bf5b-6e0751502eaf"
      },
      "outputs": [
        {
          "name": "stdout",
          "output_type": "stream",
          "text": [
            "The index of the maximum value is 7\n"
          ]
        }
      ],
      "source": [
        "index_max = my_list.index(max(my_list))\n",
        "print(f'The index of the maximum value is {index_max}')"
      ]
    },
    {
      "cell_type": "markdown",
      "metadata": {
        "id": "aOQFyp2du-xq"
      },
      "source": [
        "### __Dictionary__"
      ]
    },
    {
      "cell_type": "markdown",
      "metadata": {
        "id": "S6cUOkOGkcCT"
      },
      "source": [
        "Dictionary is a Python collection type object. In the dictionaries the values are being indexed by specific unique values which are called *keys*. Each *keys* is associated with *values*. The *values* can be a `list` of element, a unique `int` or even another `dict`.\n",
        "\n",
        "#### __Creation of a dict__\n",
        "\n",
        "There is many ways to create a dictionary. The first one is to use the curly brackets `{}` and inside the bracket we put the *keys* followed by its associated *values* (with this form `keys:values`). And each pair of `keys:values` is separated by commas (`,`).\n",
        "\n",
        "```\n",
        "my_dict = {'Name': ['Paul', 'Marie', 'Jean'],\n",
        "           'Age': [26, 35],\n",
        "           'City': ['Marseille', 'Paris', 'Lyon', 'Lamentin']}\n",
        "```\n",
        "\n",
        "Or you can use the constuctor `dict()`\n",
        "\n",
        "```\n",
        "my_dict = dict({'5': ['cinq', 'V', 'five']})\n",
        "```\n",
        "\n",
        "#### __Accessing a vlue__\n",
        "\n",
        "In a dictionary you can access a value by using the specific key that is associated to this value (just like a named index in the list). Or you can use the `dict.get()` method of dict.\n",
        "\n",
        "```\n",
        "my_dict = {'Name': 'Nora', 'Age':25}\n",
        "my_dict['Name']\n",
        "\n",
        "> 'Nora'\n",
        "\n",
        "my_dict.get('Name')\n",
        "> 'Nora'\n",
        "```\n",
        "\n",
        "Be carefull, by default the dict() can be viewed as a list of keys. So when used in a for loop for instance, it will loop through the keys without exploring the values.\n",
        "\n",
        "```\n",
        "my_dict = {'Name': ['Paul', 'Marie', 'Jean'],\n",
        "           'Age': [26, 35],\n",
        "           'City': ['Marseille', 'Paris', 'Lyon', 'Lamentin']}\n",
        "\n",
        "for i in my_dict:\n",
        "  print(i)\n",
        "\n",
        "> Name\n",
        "> Age\n",
        "> City\n",
        "```\n",
        "\n",
        "##### __Adding a new key:value__\n",
        "\n",
        "You can add a `key:value` pair to your dictionary\n",
        "```\n",
        "my_dict['Profession'] = 'Police officer'\n",
        "```\n",
        "By default, Python will first check if the Profession is not already in the dictionary, if not it will create a new key and add 'Police officer' as an associated value. Otherwise it will delete the previous values and replace it by the one given.\n",
        "\n",
        "#### __Modify key:value pair__\n",
        "You can modify an already existing value associated to a key.\n",
        "```\n",
        "my_dict['Age'] = 25\n",
        "my_dict\n",
        "```\n",
        "\n",
        "#### __Delete a key:value pair__\n",
        "You can delete a key:value pair with the keyword `del`.\n",
        "```\n",
        "del my_dict['City']\n",
        "my_dict\n",
        "\n",
        "> {'Name': ['Paul', 'Marie', 'Jean'], 'Age': [26, 35], 'Profession': 'Lawyer'}\n",
        "```\n",
        "\n",
        "#### __Some method__\n",
        "To access all the keys of a dict `my_dict.keys()`. The method `get()` returns the value of a specific key. To have a more complete documentation you can check the link [here](https://docs.python.org/3/tutorial/datastructures.html#dictionaries)."
      ]
    },
    {
      "cell_type": "markdown",
      "metadata": {
        "id": "ei7vBvNNpZNO"
      },
      "source": [
        "#### __Exercise 1.5 - Manipulate a dictionary__\n"
      ]
    },
    {
      "cell_type": "markdown",
      "metadata": {
        "id": "0y_QC3X7qzJQ"
      },
      "source": [
        "We want to store into a dictionary the names of the patients that are assigned to a treatment and control group.\n",
        "\n",
        "__Control__: _Ismael_, _Marie_, _Pierre_, _Yusuf_, _Iyeka_\n",
        "\n",
        "__Treatment__: _Mike_, _Alain_, _Malik_, _Karim_\n",
        "\n",
        "1. Create a dictionary with two keys (one for each groups) and store the names of the patients as values of the corresponding keys.\n",
        "2. Which group has more patients ?\n",
        "3. A new patient has been assigned to the treatment group. Add her name to the corresponding list (Aya)\n",
        "4. We want to add a third treatment group, change the 'Treatment' key name to 'Treatment A' and add the new 'Treatment B' key with the following patients:\n",
        "_Aaren_, _Aymerick_, _William_ and _Dieuson_.\n",
        "5. Give the total number of patients"
      ]
    },
    {
      "cell_type": "markdown",
      "metadata": {
        "id": "4UwqAN6krGOf"
      },
      "source": [
        "##### __Correction 1.5__"
      ]
    },
    {
      "cell_type": "markdown",
      "metadata": {
        "id": "5x3P7CnWrJ3A"
      },
      "source": [
        "1. Create a dictionary with two keys and store the names of the patients as values of the corresponding keys."
      ]
    },
    {
      "cell_type": "code",
      "execution_count": 61,
      "metadata": {
        "colab": {
          "base_uri": "https://localhost:8080/"
        },
        "id": "BT-56hMzrP9p",
        "outputId": "3c498ed9-cb4e-49e5-8900-f86e7e4129c6"
      },
      "outputs": [
        {
          "data": {
            "text/plain": [
              "{'Control': ['Ismael', 'Marie', 'Pierre', 'Yusuf', 'Iyeka'],\n",
              " 'Treatment': ['Mike', 'Alain', 'Malik', 'Karim']}"
            ]
          },
          "execution_count": 61,
          "metadata": {},
          "output_type": "execute_result"
        }
      ],
      "source": [
        "my_dict = dict({\n",
        "    'Control': ['Ismael', 'Marie', 'Pierre', 'Yusuf', 'Iyeka'],\n",
        "    'Treatment':['Mike', 'Alain',  'Malik', 'Karim']\n",
        "})\n",
        "\n",
        "my_dict"
      ]
    },
    {
      "cell_type": "markdown",
      "metadata": {
        "id": "A1ExDyIXrndN"
      },
      "source": [
        "2. Which group has more patients ?"
      ]
    },
    {
      "cell_type": "code",
      "execution_count": 65,
      "metadata": {
        "colab": {
          "base_uri": "https://localhost:8080/"
        },
        "id": "s__fTc1Irqvl",
        "outputId": "2aeda1e7-cfd7-460e-8e31-279613213bd2"
      },
      "outputs": [
        {
          "name": "stdout",
          "output_type": "stream",
          "text": [
            "With the max function: Treatment\n",
            "Using max function with the appropirate key argument: Control\n"
          ]
        }
      ],
      "source": [
        "# We can try to use the max function but it will only return the maximum of the keys hence 'Treatment' because it is the longest string\n",
        "print('With the max function:', max(my_dict))\n",
        "\n",
        "# We need to use a lambda function\n",
        "res = max(my_dict, key = lambda x: len(my_dict.get(x)))\n",
        "print('Using max function with the appropirate key argument: %s' % res)"
      ]
    },
    {
      "cell_type": "markdown",
      "metadata": {
        "id": "yvDxOXA0sqzT"
      },
      "source": [
        "3. A new patient has been assigned to the treatment group. Add her name to the corresponding list (Aya)"
      ]
    },
    {
      "cell_type": "code",
      "execution_count": 67,
      "metadata": {
        "colab": {
          "base_uri": "https://localhost:8080/"
        },
        "id": "2ncMe2mKsxff",
        "outputId": "7ee4312e-01ea-4061-f839-38731e2a7da1"
      },
      "outputs": [
        {
          "name": "stdout",
          "output_type": "stream",
          "text": [
            "Type of the output: <class 'list'>\n",
            "Output ['Mike', 'Alain', 'Malik', 'Karim']\n"
          ]
        }
      ],
      "source": [
        "# The get method reutrns a list, in this case we can use list method to add this new value to the dictionary\n",
        "print('Type of the output: %s' % type(my_dict.get('Treatment')))\n",
        "print('Output %s' % my_dict.get('Treatment'))"
      ]
    },
    {
      "cell_type": "code",
      "execution_count": 68,
      "metadata": {
        "colab": {
          "base_uri": "https://localhost:8080/"
        },
        "id": "TjYrGdHlt76b",
        "outputId": "9c782c35-3d4e-4965-945d-b387c85bb421"
      },
      "outputs": [
        {
          "data": {
            "text/plain": [
              "{'Control': ['Ismael', 'Marie', 'Pierre', 'Yusuf', 'Iyeka'],\n",
              " 'Treatment': ['Mike', 'Alain', 'Malik', 'Karim', 'Aya']}"
            ]
          },
          "execution_count": 68,
          "metadata": {},
          "output_type": "execute_result"
        }
      ],
      "source": [
        "# Adding the patient\n",
        "my_dict.get('Treatment').append('Aya')\n",
        "my_dict"
      ]
    },
    {
      "cell_type": "code",
      "execution_count": 69,
      "metadata": {
        "colab": {
          "base_uri": "https://localhost:8080/"
        },
        "id": "v-kDbeo-uM78",
        "outputId": "c9931f90-598e-423c-e32c-3c3576976757"
      },
      "outputs": [
        {
          "name": "stdout",
          "output_type": "stream",
          "text": [
            "{'Control': ['Ismael', 'Marie', 'Pierre', 'Yusuf', 'Iyeka'], 'Treatment': ['Mike', 'Alain', 'Malik', 'Karim']}\n",
            "{'Control': ['Ismael', 'Marie', 'Pierre', 'Yusuf', 'Iyeka'], 'Treatment': ['Mike', 'Alain', 'Malik', 'Karim', 'Aya']}\n"
          ]
        }
      ],
      "source": [
        "# With update method\n",
        "my_dict = dict({\n",
        "    'Control': ['Ismael', 'Marie', 'Pierre', 'Yusuf', 'Iyeka'],\n",
        "    'Treatment':['Mike', 'Alain',  'Malik', 'Karim']\n",
        "})\n",
        "\n",
        "print(my_dict)\n",
        "value_treatment = my_dict.get('Treatment')\n",
        "value_treatment.append('Aya')\n",
        "\n",
        "my_dict.update({'Treatment':value_treatment})\n",
        "print(my_dict)"
      ]
    },
    {
      "cell_type": "markdown",
      "metadata": {
        "id": "U7N4RAP6ugdk"
      },
      "source": [
        "4. We want to add a third treatment group, change the 'Treatment' key name to 'Treatment A' and add the new 'Treatment B' key with the following patients:\n",
        "_Aaren_, _Aymerick_, _William_ and _Dieuson_."
      ]
    },
    {
      "cell_type": "code",
      "execution_count": 70,
      "metadata": {
        "colab": {
          "base_uri": "https://localhost:8080/"
        },
        "id": "Onb4G439ujbk",
        "outputId": "c70451f7-95ab-4eee-b056-9bfae793c421"
      },
      "outputs": [
        {
          "data": {
            "text/plain": [
              "{'Control': ['Ismael', 'Marie', 'Pierre', 'Yusuf', 'Iyeka'],\n",
              " 'Treatment A': ['Mike', 'Alain', 'Malik', 'Karim', 'Aya']}"
            ]
          },
          "execution_count": 70,
          "metadata": {},
          "output_type": "execute_result"
        }
      ],
      "source": [
        "# The pop method returns the values of the key in argument and delete both key and values.\n",
        "my_dict['Treatment A'] = my_dict.pop('Treatment')\n",
        "my_dict"
      ]
    },
    {
      "cell_type": "code",
      "execution_count": 71,
      "metadata": {
        "colab": {
          "base_uri": "https://localhost:8080/"
        },
        "id": "cqkGGGHju-bN",
        "outputId": "8ef686eb-eba8-42ca-ad4f-4ffd4f19cd69"
      },
      "outputs": [
        {
          "data": {
            "text/plain": [
              "{'Control': ['Ismael', 'Marie', 'Pierre', 'Yusuf', 'Iyeka'],\n",
              " 'Treatment A': ['Mike', 'Alain', 'Malik', 'Karim', 'Aya'],\n",
              " 'Treatment B': ['Aaren', 'Aymerick', 'William', 'Dieuson']}"
            ]
          },
          "execution_count": 71,
          "metadata": {},
          "output_type": "execute_result"
        }
      ],
      "source": [
        "# We add a new group\n",
        "my_dict.update({'Treatment B':['Aaren', 'Aymerick', 'William','Dieuson']})\n",
        "my_dict"
      ]
    },
    {
      "cell_type": "markdown",
      "metadata": {
        "id": "hhMjg0xYveUv"
      },
      "source": [
        "5. Give the total number of patients"
      ]
    },
    {
      "cell_type": "code",
      "execution_count": 72,
      "metadata": {
        "colab": {
          "base_uri": "https://localhost:8080/"
        },
        "id": "EwN5OCYZvg1d",
        "outputId": "8611c703-d1ec-48c8-e08a-9feea3acd47d"
      },
      "outputs": [
        {
          "name": "stdout",
          "output_type": "stream",
          "text": [
            "Number of keys: 3\n",
            "my_dict.values() dict_values([['Ismael', 'Marie', 'Pierre', 'Yusuf', 'Iyeka'], ['Mike', 'Alain', 'Malik', 'Karim', 'Aya'], ['Aaren', 'Aymerick', 'William', 'Dieuson']])\n"
          ]
        }
      ],
      "source": [
        "# The len method will give the number of keys\n",
        "print('Number of keys: %d' % len(my_dict))\n",
        "\n",
        "# Values of the dictionary\n",
        "print('my_dict.values() %s' % my_dict.values())"
      ]
    },
    {
      "cell_type": "code",
      "execution_count": 73,
      "metadata": {
        "colab": {
          "base_uri": "https://localhost:8080/"
        },
        "id": "c2C1d-wVyTuo",
        "outputId": "f985822f-816c-44df-b430-0cc4cfe16bd4"
      },
      "outputs": [
        {
          "data": {
            "text/plain": [
              "14"
            ]
          },
          "execution_count": 73,
          "metadata": {},
          "output_type": "execute_result"
        }
      ],
      "source": [
        "# By adding the length of the values associated to each key\n",
        "len(my_dict.get('Control')) + len(my_dict.get('Treatment A')) + len(my_dict.get('Treatment B'))"
      ]
    },
    {
      "cell_type": "code",
      "execution_count": 75,
      "metadata": {
        "colab": {
          "base_uri": "https://localhost:8080/"
        },
        "id": "YEIjK4_4yjSo",
        "outputId": "d3f12cf9-4e71-4a56-f7db-69d262c97f03"
      },
      "outputs": [
        {
          "name": "stdout",
          "output_type": "stream",
          "text": [
            "There is 14 patients in total.\n"
          ]
        }
      ],
      "source": [
        "# Or using for loops\n",
        "number_of_patients = 0\n",
        "for key in my_dict:\n",
        "  number_of_patients = number_of_patients + len(my_dict[key])\n",
        "\n",
        "print(f'There is {number_of_patients} patients in total.')"
      ]
    },
    {
      "cell_type": "markdown",
      "metadata": {
        "id": "dSx-k86jzAF_"
      },
      "source": [
        "## __II/ Conditional statements and loops__"
      ]
    },
    {
      "cell_type": "markdown",
      "metadata": {
        "id": "5RDiYl1VzLVn"
      },
      "source": [
        "#### __Exercice 2.1 - Categorisation__"
      ]
    },
    {
      "cell_type": "markdown",
      "metadata": {
        "id": "16nBfRi20CGI"
      },
      "source": [
        "You received alist of age values, you want to discretize them into 15 years categories. Write a program that will do so.\n",
        "\n",
        "_N.B._: The result should be a list of string in the same order as the age list but with the categories as values; Let's assume that the first category will start at 0 and goes to 15 (not included) and will be named `[0-15)`. The second category will be `[15-30)` until the last one `[75-90]`.\n",
        "\n",
        "```\n",
        "ages = [23, 82, 45, 25, 65, 90, 15, 32, 63, 13, 78, 10, 15, 54, 32, 46, 74, 85, 38, 37, 5, 68, 53, 18]  \n",
        "```"
      ]
    },
    {
      "cell_type": "markdown",
      "metadata": {
        "id": "bB5GUpkvzLO3"
      },
      "source": [
        "##### __Correction 2.1__"
      ]
    },
    {
      "cell_type": "code",
      "execution_count": 87,
      "metadata": {
        "colab": {
          "base_uri": "https://localhost:8080/"
        },
        "id": "qn3mdJ220-zy",
        "outputId": "61f5ec65-72e4-466f-8802-a870fef34fa5"
      },
      "outputs": [
        {
          "name": "stdout",
          "output_type": "stream",
          "text": [
            "Countinuous ages [23, 82, 45, 25, 65, 90, 15, 32, 63, 13, 78, 10, 15, 54, 32, 46, 74, 85, 38, 37, 5, 68, 53, 18]\n",
            "Discretized ages ['[15-30)', '[75;90]', '[45-60)', '[15-30)', '[60;75)', '[75;90]', '[15-30)', '[30-45)', '[60;75)', '[0-15)', '[75;90]', '[0-15)', '[15-30)', '[45-60)', '[30-45)', '[45-60)', '[60;75)', '[75;90]', '[30-45)', '[30-45)', '[0-15)', '[60;75)', '[45-60)', '[15-30)']\n"
          ]
        }
      ],
      "source": [
        "# First thing to do is to store it into a list\n",
        "ages = [23, 82, 45, 25, 65, 90, 15, 32, 63, 13, 78, 10, 15, 54, 32, 46, 74, 85, 38, 37, 5, 68, 53, 18]\n",
        "\n",
        "# Then we initialized an empty list that will store the categorized values of the ages\n",
        "ages_cat = list()\n",
        "\n",
        "# We iterate over the values of the list ages and go down through different 'if' statements\n",
        "for age in ages:\n",
        "  if age < 15:\n",
        "    ages_cat.append('[0-15)')\n",
        "  elif age >= 15 and age < 30:\n",
        "    ages_cat.append('[15-30)')\n",
        "  elif age >= 30 and age < 45:\n",
        "    ages_cat.append('[30-45)')\n",
        "  elif age >= 45 and age < 60:\n",
        "    ages_cat.append('[45-60)')\n",
        "  elif age >= 60 and age < 75:\n",
        "    ages_cat.append('[60;75)')\n",
        "  elif age >= 75 and age <= 90:\n",
        "    ages_cat.append('[75;90]')\n",
        "  else:\n",
        "    print('Age was in no category')\n",
        "\n",
        "print('Countinuous ages %s' % ages)\n",
        "print('Discretized ages %s' % ages_cat)"
      ]
    },
    {
      "cell_type": "markdown",
      "metadata": {
        "id": "eB2nu6zP47K0"
      },
      "source": [
        "#### __Exercice 2.2 - Estimation of $\\pi$__"
      ]
    },
    {
      "cell_type": "markdown",
      "metadata": {
        "id": "e-VxyoR84-zn"
      },
      "source": []
    },
    {
      "cell_type": "markdown",
      "metadata": {
        "id": "lx1F-KYc7gAe"
      },
      "source": [
        "To approximate the value of $\\pi$ many methods are available. One of them was found by the indian mathematician Madhava de Sangamagrama around 1400. He used an infinite serie to compute an approximation of $\\pi$. The formula that he used is the following:\n",
        "\n",
        "$\n",
        "\\tilde{\\pi}_{Madhava} = \\sqrt{12}\\sum_{k = 0}^{\\infty}{\\frac{(-1)^k}{(3k+1)3^k}}\n",
        "$\n",
        "\n",
        "Use the above formula to compute an approximation of $\\pi$ with a while loop. The desired precision is at least 15 decimals of $\\pi$.\n",
        "\n",
        "*Hint*: You can use the following command to have a reference value of $\\pi$\n",
        "\n",
        "\n",
        "\n",
        "\n",
        "```\n",
        "import math\n",
        "math.pi\n",
        "```"
      ]
    },
    {
      "cell_type": "markdown",
      "metadata": {
        "id": "mpBJ0BiQ5R6V"
      },
      "source": [
        "##### __Correction 2.2__"
      ]
    },
    {
      "cell_type": "code",
      "execution_count": 92,
      "metadata": {
        "colab": {
          "base_uri": "https://localhost:8080/"
        },
        "id": "7ngy9rv6cGjo",
        "outputId": "ca6a1f1b-44da-4321-f845-69ba35dd3e38"
      },
      "outputs": [
        {
          "name": "stdout",
          "output_type": "stream",
          "text": [
            "Approximation: 3.141592653589794\n",
            "Real value: 3.141592653589793\n",
            "Difference: 8.881784197001252e-16\n",
            "Iteration = 29\n"
          ]
        }
      ],
      "source": [
        "# With a for loop nested\n",
        "\n",
        "import math\n",
        "\n",
        "pi_madhava = 0\n",
        "\n",
        "k = 1\n",
        "\n",
        "while(abs(math.pi - pi_madhava) > 1e-15):\n",
        "  res = 0\n",
        "  for i in range(0, k):\n",
        "    res += ((-1)**i)/((2*i+1)*(3**i))\n",
        "  pi_madhava = ((12)**(1/2))*res\n",
        "  k += 1\n",
        "\n",
        "print('Approximation:', pi_madhava)\n",
        "print('Real value:', math.pi)\n",
        "print('Difference:', abs(math.pi - pi_madhava))\n",
        "print('Iteration =', k-1)"
      ]
    },
    {
      "cell_type": "code",
      "execution_count": 93,
      "metadata": {
        "colab": {
          "base_uri": "https://localhost:8080/"
        },
        "id": "JX5Nasyg8COY",
        "outputId": "ed7a0321-2bba-4b89-c4b3-b48789a9b0db"
      },
      "outputs": [
        {
          "name": "stdout",
          "output_type": "stream",
          "text": [
            "Approximation: 3.141592653589794\n",
            "Real value: 3.141592653589793\n",
            "Difference: 8.881784197001252e-16\n",
            "Iteration = 29\n"
          ]
        }
      ],
      "source": [
        "pi_madhava = 0\n",
        "k = 0\n",
        "\n",
        "while(abs(math.pi - pi_madhava) > 1e-15):\n",
        "  if k == 0:\n",
        "    frac = 1\n",
        "  else:\n",
        "    frac += ((-1)**k)/((2*k+1)*(3**k))\n",
        "  pi_madhava = (12**(1/2))*frac\n",
        "  k += 1\n",
        "\n",
        "print('Approximation:', pi_madhava)\n",
        "print('Real value:', math.pi)\n",
        "print('Difference:', abs(math.pi - pi_madhava))\n",
        "print('Iteration =', k)"
      ]
    },
    {
      "cell_type": "markdown",
      "metadata": {
        "id": "AJKk6Wvz58Sm"
      },
      "source": [
        "#### __Exercice Bonus - Frequency dict__\n"
      ]
    },
    {
      "cell_type": "markdown",
      "metadata": {
        "id": "bk84LkIz7PpH"
      },
      "source": [
        "From the previous exercise, use a for loop to store in a dictionary how many times each category is present in the discretized version of ages.\n",
        "\n",
        "Sort the dictionary with regard to the frequency in decreasing order. Which category has the maximum number of observations ? Which category has the minimum number of observations ?"
      ]
    },
    {
      "cell_type": "markdown",
      "metadata": {
        "id": "yvsxe1sv7TF-"
      },
      "source": [
        "#### __Correction Bonus__\n"
      ]
    },
    {
      "cell_type": "code",
      "execution_count": null,
      "metadata": {
        "colab": {
          "base_uri": "https://localhost:8080/"
        },
        "id": "_QQyNWus5UNJ",
        "outputId": "366e7f6d-b47e-4c62-a20a-7df14e5f9d23"
      },
      "outputs": [
        {
          "name": "stdout",
          "output_type": "stream",
          "text": [
            "{'[15-30)': 5, '[75;90]': 4, '[45-60)': 4, '[60;75)': 4, '[30-45)': 4, '[0-15)': 3}\n"
          ]
        }
      ],
      "source": [
        "# First thing to do is to store it into a list\n",
        "ages = [23, 82, 45, 25, 65, 90, 15, 32, 63, 13, 78, 10, 15, 54, 32, 46, 74, 85, 38, 37, 5, 68, 53, 18]\n",
        "\n",
        "# Then we initialized an empty list that will store the categorized values of the ages\n",
        "ages_cat = list()\n",
        "\n",
        "# We iterate over the values of the list ages and go down through different 'if' statements\n",
        "for age in ages:\n",
        "  if age < 15:\n",
        "    ages_cat.append('[0-15)')\n",
        "  elif age >= 15 and age < 30:\n",
        "    ages_cat.append('[15-30)')\n",
        "  elif age >= 30 and age < 45:\n",
        "    ages_cat.append('[30-45)')\n",
        "  elif age >= 45 and age < 60:\n",
        "    ages_cat.append('[45-60)')\n",
        "  elif age >= 60 and age < 75:\n",
        "    ages_cat.append('[60;75)')\n",
        "  elif age >= 75 and age <= 90:\n",
        "    ages_cat.append('[75;90]')\n",
        "  else:\n",
        "    print('Age was in no category')\n",
        "\n",
        "# We create an empty dictionary to store the frequencies as values and the category as key.\n",
        "freq_dict = dict()\n",
        "for key in ages_cat:\n",
        "\n",
        "  # We check if key already exist in the dict\n",
        "  if key in freq_dict.keys():\n",
        "    freq_dict[key] = freq_dict[key] + 1\n",
        "  else:\n",
        "    freq_dict[key] = 1\n",
        "\n",
        "print(freq_dict)\n"
      ]
    },
    {
      "cell_type": "code",
      "execution_count": null,
      "metadata": {
        "colab": {
          "base_uri": "https://localhost:8080/"
        },
        "id": "M3xXt80j58iG",
        "outputId": "639baeca-e826-4e5f-8479-ea534541c55a"
      },
      "outputs": [
        {
          "data": {
            "text/plain": [
              "['[15-30)', '[75;90]', '[45-60)', '[60;75)', '[30-45)', '[0-15)']"
            ]
          },
          "execution_count": 89,
          "metadata": {},
          "output_type": "execute_result"
        }
      ],
      "source": [
        "# Sort the keys by decreasing order\n",
        "sorted(freq_dict, key = lambda x:freq_dict.get(x), reverse = True)"
      ]
    },
    {
      "cell_type": "code",
      "execution_count": null,
      "metadata": {
        "colab": {
          "base_uri": "https://localhost:8080/"
        },
        "id": "JdC-phbK6JA-",
        "outputId": "fee968ab-60f0-4d1b-8926-20c8ff916553"
      },
      "outputs": [
        {
          "name": "stdout",
          "output_type": "stream",
          "text": [
            "The most frequent category is [15-30) with 5 observations\n"
          ]
        }
      ],
      "source": [
        "# Which category has the maximum number of observations ?\n",
        "print('The most frequent category is %s with %d observations' % (max(freq_dict, key = freq_dict.get), freq_dict.get(max(freq_dict, key = freq_dict.get))))"
      ]
    },
    {
      "cell_type": "code",
      "execution_count": null,
      "metadata": {
        "colab": {
          "base_uri": "https://localhost:8080/"
        },
        "id": "-UFxYSYJ6hke",
        "outputId": "7bb389e6-c4be-42f2-b00f-b7acc4bd0b3a"
      },
      "outputs": [
        {
          "name": "stdout",
          "output_type": "stream",
          "text": [
            "The less frequent category is [0-15) with 3 observations\n"
          ]
        }
      ],
      "source": [
        "# Which category has the minimum number of observations ?\n",
        "print('The less frequent category is %s with %d observations' % (min(freq_dict, key = freq_dict.get), freq_dict.get(min(freq_dict, key = freq_dict.get))))"
      ]
    },
    {
      "cell_type": "markdown",
      "metadata": {
        "id": "vvrack7-8IJA"
      },
      "source": [
        "## __III/ Functions__"
      ]
    },
    {
      "cell_type": "markdown",
      "metadata": {
        "id": "1iJTnetM8ROI"
      },
      "source": [
        "#### __Exercise 3.1 - Conversions__"
      ]
    },
    {
      "cell_type": "markdown",
      "metadata": {
        "id": "y7hmyfUS8T5g"
      },
      "source": [
        "Write a Python function that convert temperature units from Celsius units (°C) to Fahrenheit (°F) or from Celsius units to Fahrenheit depending on the given argument. Meaning that a single function can do both conversions.\n",
        "\n",
        "*N.B.*: The formula to transform Celsius to Fahrenheit is the following:\n",
        "$F = (C*9/5)+32$ and to go from Fahrenheit to Celsius: $C = (F-32)*5/9$"
      ]
    },
    {
      "cell_type": "markdown",
      "metadata": {
        "id": "5TVHqDpT9OQz"
      },
      "source": [
        "##### __Correction 3.1__"
      ]
    },
    {
      "cell_type": "code",
      "execution_count": 96,
      "metadata": {
        "colab": {
          "base_uri": "https://localhost:8080/"
        },
        "id": "a5mm8Jnk9SlG",
        "outputId": "81cb4aee-9451-40d4-d452-6d45d952cc2c"
      },
      "outputs": [
        {
          "data": {
            "text/plain": [
              "48.88888888888889"
            ]
          },
          "execution_count": 96,
          "metadata": {},
          "output_type": "execute_result"
        }
      ],
      "source": [
        "def convert(temperature, desired_unit = 'C'):\n",
        "  if desired_unit == 'C':\n",
        "    res = (5/9)*(temperature - 32.0)\n",
        "  elif desired_unit == 'F':\n",
        "    res = (9/5)*temperature + 32.0\n",
        "  else:\n",
        "    print('The desired unit is not implemented')\n",
        "    return\n",
        "  return res\n",
        "\n",
        "convert(120, 'C')"
      ]
    },
    {
      "cell_type": "markdown",
      "metadata": {
        "id": "r9PeZo4L9jTo"
      },
      "source": [
        "#### __Exercice 3.2 - Utility function__"
      ]
    },
    {
      "cell_type": "markdown",
      "metadata": {
        "id": "NkOpqEif9qEM"
      },
      "source": [
        "Write a Python function that take a string into an argument and returns all the unique element of the list.\n",
        "\n",
        "```\n",
        "my_string = 'Nullam tempus scelerisque purus, sed mattis elit condimentum nec.'\n",
        "```"
      ]
    },
    {
      "cell_type": "markdown",
      "metadata": {
        "id": "68dl5rc193BZ"
      },
      "source": [
        "##### __Correction Exercise 3.2__"
      ]
    },
    {
      "cell_type": "code",
      "execution_count": null,
      "metadata": {
        "id": "BafabpLQ9iqw"
      },
      "outputs": [],
      "source": [
        "# For this exercise we have a few solutions\n",
        "\n",
        "# First\n",
        "# Create a dictionary from the string with each element of the string being a key to the dictionary.\n",
        "# Each time we encounter a duplicate it will not create a new key and then returns the list of keys.\n",
        "\n",
        "def unique_dictionary(string_argument):\n",
        "  my_dict = dict()\n",
        "  for k in string_argument:\n",
        "    my_dict[k] = 1\n",
        "  return list(my_dict.keys())\n",
        "\n",
        "\n",
        "\n",
        "unique_dictionary(my_string)"
      ]
    },
    {
      "cell_type": "code",
      "execution_count": null,
      "metadata": {
        "id": "tubCNGKp9_ES"
      },
      "outputs": [],
      "source": [
        "# Second\n",
        "# Use the set datatype in Python. It is a immutable list that do not accept duplicates\n",
        "\n",
        "def unique_set(string_argument):\n",
        "  return list(set(string_argument))\n",
        "\n",
        "unique_set(my_string)"
      ]
    },
    {
      "cell_type": "code",
      "execution_count": null,
      "metadata": {
        "id": "x-vBg9ta-CVj"
      },
      "outputs": [],
      "source": [
        "# Third\n",
        "# With for loops and if else statements\n",
        "\n",
        "def unique_ifelse(string_argument):\n",
        "  list_of_unique_element = list()\n",
        "  for k in string_argument:\n",
        "    if k not in list_of_unique_element:\n",
        "      list_of_unique_element.append(k)\n",
        "    else:\n",
        "      pass\n",
        "  return list_of_unique_element\n",
        "\n",
        "unique_ifelse(my_string)"
      ]
    },
    {
      "cell_type": "markdown",
      "metadata": {
        "id": "af30cVD8_MK7"
      },
      "source": [
        "## __IV/ Bonus - Comprehension__"
      ]
    },
    {
      "cell_type": "markdown",
      "metadata": {
        "id": "fmfoYDlA_aLj"
      },
      "source": [
        "There's a way to create a list or a dictionary with a for loops in a single line. It is by embedding the for loop inside brackets (`[]`to create a list and `{}` to create a dictionary)."
      ]
    },
    {
      "cell_type": "code",
      "execution_count": 97,
      "metadata": {
        "colab": {
          "base_uri": "https://localhost:8080/"
        },
        "id": "HedegIX7_Zgg",
        "outputId": "9d48b354-b3c7-4d2c-bd28-c9cf3fd5fc1d"
      },
      "outputs": [
        {
          "data": {
            "text/plain": [
              "[0, 1, 2, 3, 4, 5, 6, 7, 8, 9, 10]"
            ]
          },
          "execution_count": 97,
          "metadata": {},
          "output_type": "execute_result"
        }
      ],
      "source": [
        "my_list = [i for i in range(0, 11)]\n",
        "my_list"
      ]
    },
    {
      "cell_type": "markdown",
      "metadata": {
        "id": "YWdaVtA3_vKb"
      },
      "source": [
        "You have more complexe comprehension. For instance, you can return the result of some operation into the list"
      ]
    },
    {
      "cell_type": "code",
      "execution_count": 98,
      "metadata": {
        "colab": {
          "base_uri": "https://localhost:8080/"
        },
        "id": "TTgTcUaI_1NK",
        "outputId": "e22720c3-81d1-4bdd-c180-8b5de7b61780"
      },
      "outputs": [
        {
          "data": {
            "text/plain": [
              "[0, 1, 4, 9, 16, 25, 36, 49, 64, 81, 100]"
            ]
          },
          "execution_count": 98,
          "metadata": {},
          "output_type": "execute_result"
        }
      ],
      "source": [
        "my_list = [i**2 for i in range(0, 11)]\n",
        "my_list"
      ]
    },
    {
      "cell_type": "markdown",
      "metadata": {
        "id": "RgvfeSo2_5Bb"
      },
      "source": [
        "Or even have some conditions"
      ]
    },
    {
      "cell_type": "code",
      "execution_count": 99,
      "metadata": {
        "colab": {
          "base_uri": "https://localhost:8080/"
        },
        "id": "s0lRYFHt_7tT",
        "outputId": "dd058d44-075c-435d-f85e-dd75a6251ed1"
      },
      "outputs": [
        {
          "data": {
            "text/plain": [
              "[6, 7, 8, 9, 10]"
            ]
          },
          "execution_count": 99,
          "metadata": {},
          "output_type": "execute_result"
        }
      ],
      "source": [
        "my_list = [i for i in range(0, 11) if i > 5]\n",
        "my_list"
      ]
    },
    {
      "cell_type": "markdown",
      "metadata": {
        "id": "CNO75afAAFv7"
      },
      "source": [
        "It also works with dictionary"
      ]
    },
    {
      "cell_type": "code",
      "execution_count": 101,
      "metadata": {
        "colab": {
          "base_uri": "https://localhost:8080/"
        },
        "id": "qkSCKlClAHzK",
        "outputId": "18a8a13c-229d-4bc8-dc5d-f7b993850e7d"
      },
      "outputs": [
        {
          "name": "stdout",
          "output_type": "stream",
          "text": [
            "{'a': 2, 'b': 4, 'c': 6, 'd': 8, 'e': 10}\n"
          ]
        }
      ],
      "source": [
        "# First the items\n",
        "dict1 = {'a': 1, 'b': 2, 'c': 3, 'd': 4, 'e': 5}\n",
        "\n",
        "# Double each value in the dictionary\n",
        "double_dict1 = {k:v*2 for (k,v) in dict1.items()}\n",
        "print(double_dict1)"
      ]
    },
    {
      "cell_type": "markdown",
      "metadata": {
        "id": "ToNjA4guAnK8"
      },
      "source": [
        "#### __Exercise 4.1 - List comprehension__"
      ]
    },
    {
      "cell_type": "markdown",
      "metadata": {
        "id": "PYqE2VfSAtSL"
      },
      "source": [
        "Given the following string, write a single line of code that returns a list with the length of every work in the string.\n",
        "*Hint:* Use the `split()` method of string in this exercise.\n",
        "\n",
        "__Sentence:__ \"A dictionary in Python is a collection of items accessed by a specific key rather than by an index.\""
      ]
    },
    {
      "cell_type": "markdown",
      "metadata": {
        "id": "FStGGhK_BHok"
      },
      "source": [
        "##### __Correction 4.1__"
      ]
    },
    {
      "cell_type": "code",
      "execution_count": 103,
      "metadata": {
        "colab": {
          "base_uri": "https://localhost:8080/"
        },
        "id": "MkGdfxJZBKyn",
        "outputId": "35ac200a-5ce9-4f1b-d869-6e2421de24e9"
      },
      "outputs": [
        {
          "name": "stdout",
          "output_type": "stream",
          "text": [
            "[1, 10, 2, 6, 2, 1, 10, 2, 5, 8, 2, 1, 8, 3, 6, 4, 2, 2, 6]\n"
          ]
        }
      ],
      "source": [
        "my_string = \"A dictionary in Python is a collection of items accessed by a specific key rather than by an index.\"\n",
        "\n",
        "my_list = [len(word) for word in my_string.split()]\n",
        "print(my_list)"
      ]
    },
    {
      "cell_type": "markdown",
      "metadata": {
        "id": "2pyV-AiBBcqz"
      },
      "source": [
        "#### __Exercise 4.2 - Comprehension function__\n"
      ]
    },
    {
      "cell_type": "markdown",
      "metadata": {
        "id": "oUAfzAqVBh0M"
      },
      "source": [
        "In the following dictionary, we stored the weigth and heigth of different patients. The key is the patient id and the value is a list of two elements [weigth, height] with heigth in cm.\n",
        "1. Use a list comprehension to return a list of BMI for these patients.\n",
        "2. Update this comprehension to return only the ID of the patients with a BMI below 30.\n",
        "\n",
        "```\n",
        "my_dict = {'0100':[50, 160], '0101': [75, 150], '0102':[62, 144], '0103':[95, 183], '0104': [110, 178], '0105': [112, 185]}\n",
        "```\n",
        "\n",
        "*Hint*: BMI formula's :$$\\frac{Weight}{Height^2}$$ with the weight in kg and the height in meters"
      ]
    },
    {
      "cell_type": "markdown",
      "metadata": {
        "id": "j64wZDBxBo30"
      },
      "source": [
        "##### __Correction 4.2__"
      ]
    },
    {
      "cell_type": "code",
      "execution_count": 104,
      "metadata": {
        "colab": {
          "base_uri": "https://localhost:8080/"
        },
        "id": "EZqmmWRlBr28",
        "outputId": "bcfc54bb-e00c-4e94-9113-29554ebb4cd8"
      },
      "outputs": [
        {
          "data": {
            "text/plain": [
              "[19.531249999999996,\n",
              " 33.333333333333336,\n",
              " 29.899691358024693,\n",
              " 28.367523664486843,\n",
              " 34.71783865673526,\n",
              " 32.72461650840029]"
            ]
          },
          "execution_count": 104,
          "metadata": {},
          "output_type": "execute_result"
        }
      ],
      "source": [
        "# First the list of BMI\n",
        "my_dict = {'0100':[50, 160], '0101': [75, 150], '0102':[62, 144], '0103':[95, 183], '0104': [110, 178], '0105': [112, 185]}\n",
        "[v[0]/pow(v[1]/100,2) for (k, v) in my_dict.items()]"
      ]
    },
    {
      "cell_type": "code",
      "execution_count": 105,
      "metadata": {
        "colab": {
          "base_uri": "https://localhost:8080/"
        },
        "id": "W23ueaJjBoLk",
        "outputId": "b38f66c5-a954-45ca-fb43-dc5a76631350"
      },
      "outputs": [
        {
          "data": {
            "text/plain": [
              "['0100', '0102', '0103']"
            ]
          },
          "execution_count": 105,
          "metadata": {},
          "output_type": "execute_result"
        }
      ],
      "source": [
        "# Second the ID of the patients with a BMI below 30\n",
        "[k for (k, v) in my_dict.items() if v[0]/pow(v[1]/100, 2) < 30]"
      ]
    }
  ],
  "metadata": {
    "colab": {
      "collapsed_sections": [
        "P-m0pXTe1IFj",
        "XnYpXqIlAFyy",
        "WOKzEaC1eOfl",
        "4UwqAN6krGOf",
        "bB5GUpkvzLO3",
        "mpBJ0BiQ5R6V",
        "68dl5rc193BZ",
        "af30cVD8_MK7"
      ],
      "provenance": []
    },
    "kernelspec": {
      "display_name": "Python 3",
      "name": "python3"
    },
    "language_info": {
      "name": "python"
    }
  },
  "nbformat": 4,
  "nbformat_minor": 0
}
