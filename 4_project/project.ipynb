{
  "cells": [
    {
      "cell_type": "markdown",
      "metadata": {
        "id": "q-PHDh7VW-Rs"
      },
      "source": [
        "# Project 1: Programming fundamentals for health data__\n",
        "\n",
        "Oskar LAVERNY - oskar.laverny@univ-amu.fr\n",
        "\n",
        "# 1. Introduction of the project\n",
        "For this project, you will have to work on a provided dataset and give a description of the informations given in this dataset. You will have to manipulate the dataset and use different kind of Python data types that were presented to you during this class. You will also have to use some Python functions or some function that you implemented yourself.\n",
        "\n",
        "The dataset is at the address: https://github.com/lrnv/inf-prof/blob/main/4_project/Chicago_Cimes_2008_to_2011.csv\n",
        "\n",
        "For this project __you have to__ use the pandas library but you are free to use other libraries in addition to pandas. If so please indicate clearly which one you are using.\n",
        "\n",
        "In more concrete terms, the project is divided in two parts. In the first part you will have to complete certains given tasks. In the second part, we ask you to describe and present some relevant information about the dataset. You will have to use Python to implement what you want to share in terms of graphics and tables.\n",
        "\n",
        "\n",
        "## 1.1 Context\n",
        "You will have to study the Crimes in Chicago dataset. This dataset reflects reported incidents of crime that occurred in the City of Chicago from 2008 to 2011. Data is extracted from the Chicago Police Department's CLEAR (Citizen Law Enforcement Analysis and Reporting) system. In order to protect the privacy of crime victims, addresses are shown at block level only and specific locations are not identified. Disclaimer: These crimes may be based upon preliminary information supplied to the Police Department by reporting parties that have not been verified. The preliminary crime classifications may be changed at a later date based upon additional investigation and there is always the possibility of mechanical or human error.\n",
        "\n",
        "## 1.2 Content\n",
        "\n",
        "\n",
        "*   __ID__ - Unique identifier for the record.\n",
        "*   __Case Number__ - The Chicago Police Department RD Number (Records Division Number), which is unique to the incident.\n",
        "*   __Date__ - Date when the incident occurred. This is sometimes a best estimate.\n",
        "*   __Block__ - The partially redacted address where the incident occurred, placing it on the same block as the actual address.\n",
        "*   __IUCR__ - The Illinois Uniform Crime Reporting code. This is directly linked to the Primary Type and Description. See the list of IUCR codes at https://data.cityofchicago.org/d/c7ck-438e.\n",
        "*   __Primary type__ - The primary description of the IUCR code.\n",
        "*   __Description__ - The secondary description of the IUCR code, a subcategory of the primary description.\n",
        "*   __Location Description__ - Description of the location where the incident occurred.\n",
        "*    __Arrest__ - Indicates whether an arrest was made.\n",
        "*    __Domestic__ - Indicates whether the incident was domestic-related as defined by the Illinois Domestic Violence Act.\n",
        "*   __Beat__ - Indicates the beat where the incident occurred. A beat is the smallest police geographic area - each beat has a dedicated police beat car. Three to five beats make up a police sector, and three sectors make up a police district. The Chicago Police Department has 22 police districts. See the beats at https://data.cityofchicago.org/d/aerh-rz74.\n",
        "*   __District__ - Indicates the police district where the incident occurred. See the districts at https://data.cityofchicago.org/d/fthy-xz3r.\n",
        "*   __Ward__ - The ward (City Council district) where the incident occurred. See the wards at https://data.cityofchicago.org/d/sp34-6z76.\n",
        "*   __Community Area__ - Indicates the community area where the incident occurred. Chicago has 77 community areas. See the community areas at https://data.cityofchicago.org/d/cauq-8yn6.\n",
        "*   __FBI Code__ - Indicates the crime classification as outlined in the FBI's National Incident-Based Reporting System (NIBRS). See the Chicago Police Department listing of these classifications at http://gis.chicagopolice.org/clearmap_crime_sums/crime_types.html.\n",
        "*   __X Coordinate__ - The x coordinate of the location where the incident occurred in State Plane Illinois East NAD 1983 projection. This location is shifted from the actual location for partial redaction but falls on the same block.\n",
        "*   __Y Coordinate__ - The y coordinate of the location where the incident occurred in State Plane Illinois East NAD 1983 projection. This location is shifted from the actual location for partial redaction but falls on the same block.\n",
        "*   __Year__ - Year the incident occured.\n",
        "*   __Updated On__ - Date and time the record was last updated.\n",
        "*   __Latitude__ - The latitude of the location where the incident occurred. This location is shifted from the actual location for partial redaction but falls on the same block.\n",
        "*   __Longitude__ - The longitude where the incident occurred. This location is shifted from the actual location for partial redaction but falls on the same block.\n",
        "*   __Location__ - The location where the incident occurred in a format that allows for creation of maps and other geographic operations on this data portal. This location is shifted from the actual location for partial redaction but falls on the same block.\n"
      ]
    },
    {
      "cell_type": "markdown",
      "metadata": {
        "id": "_OIHu4cOqj-s"
      },
      "source": [
        "# 2. First part"
      ]
    },
    {
      "cell_type": "markdown",
      "metadata": {
        "id": "9LPZgLI2sUNt"
      },
      "source": [
        " __Task 1__ - Import the dataset and display the first and last 5 lines. Give the type object for each column. Display the number of rows and columns"
      ]
    },
    {
      "cell_type": "markdown",
      "metadata": {
        "id": "NhICr6RpCB2k"
      },
      "source": [
        "__Task 2__ - Display if there is any missing value in the dataset. If so display the total number of missing values per column and the proportion of missing value for each column."
      ]
    },
    {
      "cell_type": "markdown",
      "metadata": {
        "id": "TqnOyyf0E9CP"
      },
      "source": [
        "__Task 3__ - Some of the rows are duplicated, use the ID column to identify some duplicated rows. How many rows are duplicated in total ? Drop all the duplicated rows and use the ID as an index of the dataset."
      ]
    },
    {
      "cell_type": "markdown",
      "metadata": {
        "id": "wafLqgrntXld"
      },
      "source": [
        "__Task 4__ - One of the row was poorly reported in the file and has many mistakes. The ID of the row is a string instead of digits. Find a way to identify this row and delete it from the dataset."
      ]
    },
    {
      "cell_type": "markdown",
      "metadata": {
        "id": "SA2w_vGlFfrO"
      },
      "source": [
        "__Task 5__ - Use the `Date` column to create 2 new columns that you will add to the dataset. The first column will be the calendar date of the incident with the following format dd-mm-yyyy (example 3rd of October 2023 will become 03-10-2023). The second column will be the time the incident happened with the following format hh:mm:ss with the hour of the day displayed with the 24h format. (example 5:54:35 will become 17:54:35). Then answer the following questions:\n",
        "\n",
        "\n",
        "1.   Which hour of the day had the most number of homicides ?\n",
        "2.   Which day of the week had the lowest number of theft ?\n",
        "3.   What was the most common crime reported on christmas day (25th December) ?\n",
        "\n"
      ]
    },
    {
      "cell_type": "markdown",
      "metadata": {
        "id": "LmAClO-aPIgO"
      },
      "source": [
        "__Task 6__ - The description of the location can sometimes be too specific. For instance,  with airports, each part of the airport is considered as a distinct location. Use Python commands to detect all the locations (in column Location.Description) that involved Airport and replace all the values by 'AIRPORT' in the DataFrame."
      ]
    },
    {
      "cell_type": "markdown",
      "metadata": {
        "id": "C4J7ygPj6f0T"
      },
      "source": [
        "__Task 7__ - We want to compare criminality of all the districts for the year 2008. For that question you will compute the criminality rate of each district. It is computed by dividing the total number of incidents by the total population of the district for the year 2008. You can multiply the results by 100 then to get a number of incidents per 100 habitants. Compute this rate and then present your result by giving a barplot of all the criminality rates computed and use the district name as a label of each bar.\n",
        "\n",
        "_N.B. To help you with this task, this is the population of Chicago Districts reported in the annual report of the Chicago Police Department https://home.chicagopolice.org/wp-content/uploads/2014/12/2008-Annual-Report.pdf_\n",
        "\n"
      ]
    },
    {
      "cell_type": "markdown",
      "metadata": {
        "id": "4ybucvQW7Mnr"
      },
      "source": [
        "```\n",
        "| District Number || District Name || Population in 2008|\n",
        "|----------||:-----------:||:-----------|\n",
        "|District 1||Central||25 613|\n",
        "|District 2||Wentworth||50 957|\n",
        "|District 3||Grand Crossing||93 384|\n",
        "|District 4||South Chicago||141 422|\n",
        "|District 5||Calumet||92 729|\n",
        "|District 6||Gresham||105 360|\n",
        "|District 7||Englewood||91 600|\n",
        "|District 8||Chicago Lawn||244 470|\n",
        "|District 9||Deering||165 457|\n",
        "|District 10||Ogden||137 120|\n",
        "|District 11||Harrison||82 392|\n",
        "|District 12||Monroe||69 677|\n",
        "|District 13||Wood||60 517|\n",
        "|District 14||Shakespeare||132 459|\n",
        "|District 15||Austin||72 736|\n",
        "|District 16||Jefferson Park||199 898|\n",
        "|District 17||Albany Park||156 859|\n",
        "|District 18||Near North||110 995|\n",
        "|District 19||Belmont||107 516|\n",
        "|District 20||Lincoln||102 512|\n",
        "|District 21||Pairie||78 111|\n",
        "|District 22||Morgan Park||111 545|\n",
        "|District 23||Town Hall||98 391|\n",
        "|District 24||Rogers Park||151 435|\n",
        "|District 25||Grand Central||212 535|\n",
        "|__Total__  || __Population__ || __2 895 700__\n",
        "```\n",
        "\n",
        "\n",
        "```\n",
        "district = pd.DataFrame({'District_Number':[i for i in range(1, 26)],\n",
        "                 'District_Name': ['Central', 'Wentworth', 'Grand Crossing', 'South Chicago', 'Calumet', 'Gresham',\n",
        "                                   'Englewood', 'Chicago Lawn', 'Deering', 'Ogden', 'Harrison', 'Monroe',\n",
        "                                   'Wood', 'Shakespeare', 'Austin', 'Jefferson Park', 'Albany Park', 'Near North',\n",
        "                                   'Belmont', 'Lincoln', 'Prairie', 'Morgan Park', 'Town Hall', 'Rogers Park', 'Grand Central'],\n",
        "                 'Population': [25613, 50957, 93384, 141422, 92729, 105360, 91600, 244470, 165457, 137120, 82392, 69677, 60517, 132459, 72736, 199898, 156859, 110995, 107516, 102512, 78111, 111545, 98391, 151435, 212535]})\n",
        "district.set_index('District_Name', inplace = True)\n",
        "```"
      ]
    },
    {
      "cell_type": "markdown",
      "metadata": {
        "id": "16_1H_WcdqaK"
      },
      "source": [
        "__Task 8__ - Give for each type of crime reported the proportion of arrests. You can answer this question with a graphic or a table."
      ]
    },
    {
      "cell_type": "markdown",
      "metadata": {
        "id": "9mezejgaXwkF"
      },
      "source": [
        "# 3. Second part"
      ]
    },
    {
      "cell_type": "markdown",
      "metadata": {
        "id": "V4XZyMODX0R0"
      },
      "source": [
        "For the second part of the project, you will have to chose one specific type of crime reported in the dataframe. Give the type of crime that you have selected and use the DataFrame object to generate descriptive information about this specific type of crime, it is up to you to describe what you want to generate and to show the code that you implemented. For instance you can:\n",
        "\n",
        "\n",
        "*   Plot a monthly report of the number of time this crime was committed.\n",
        "*   Give a spatial repartition of where the crime was committed on a specific year.\n",
        "*   Plot on a map each location the crime was reported with a specific color/shape for the arrests.\n",
        "*   Use the `Description` column to add more information about the type of crime you selected.\n",
        "*   Use the `Location.Description` to give insight on where the crime was committed.\n",
        "\n",
        "Choose at least 3 information to display (not necesseraly from the above list)."
      ]
    }
  ],
  "metadata": {
    "colab": {
      "provenance": []
    },
    "kernelspec": {
      "display_name": "Python 3",
      "name": "python3"
    },
    "language_info": {
      "name": "python"
    }
  },
  "nbformat": 4,
  "nbformat_minor": 0
}
