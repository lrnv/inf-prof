{
  "cells": [
    {
      "cell_type": "markdown",
      "metadata": {
        "id": "f1iYXtbljdRv"
      },
      "source": [
        "# MASTER AIPH - TU INF-PROF\n",
        "# Introduction to Python programming for health data\n",
        "\n",
        "Oskar Laverny oskar.laverny@univ-amu.fr\n",
        "\n",
        "**Practical 2 Learning objectives:**\n",
        "\n",
        "1.   Creation of dataFrame\n",
        "2.   Manipulation of a dataFrame\n",
        "3.   Transformation of the values\n",
        "\n"
      ]
    },
    {
      "cell_type": "markdown",
      "metadata": {
        "id": "Gg_7YFUgkLEp"
      },
      "source": [
        "# 1. DataFrame"
      ]
    },
    {
      "cell_type": "markdown",
      "metadata": {
        "id": "n3W0sozSk3Zm"
      },
      "source": [
        "To create a DataFrame, you have to first import the `pandas` library. Then use the constructor `DataFrame()`. In Python, if you want to use some function from an imported library, you have to use the appropriate prefix. By default, the prefix will be the name of the library."
      ]
    },
    {
      "cell_type": "code",
      "execution_count": null,
      "metadata": {
        "colab": {
          "base_uri": "https://localhost:8080/"
        },
        "id": "F3_gSm2PjX9F",
        "outputId": "8a497953-787b-46b5-d417-0fb391653260"
      },
      "outputs": [
        {
          "name": "stdout",
          "output_type": "stream",
          "text": [
            "      col1  col2\n",
            "row1     2     3\n",
            "row2     5     8\n",
            "row3     9    10\n"
          ]
        }
      ],
      "source": [
        "import pandas\n",
        "\n",
        "df = pandas.DataFrame(data = [[2, 3], [5, 8], [9, 10]], index = [\"row1\", \"row2\", \"row3\"], columns = ['col1', 'col2'])\n",
        "print(df)"
      ]
    },
    {
      "cell_type": "markdown",
      "metadata": {
        "id": "hG4woXERloue"
      },
      "source": [
        "But you can also use alias, when importing the library you specify an alias that will be use instead of the library's name."
      ]
    },
    {
      "cell_type": "code",
      "execution_count": null,
      "metadata": {
        "colab": {
          "base_uri": "https://localhost:8080/"
        },
        "id": "odqG07nMlvMu",
        "outputId": "e0ec290d-4a8e-4029-98f4-939b8409dd98"
      },
      "outputs": [
        {
          "name": "stdout",
          "output_type": "stream",
          "text": [
            "      col1  col2\n",
            "row1     2     3\n",
            "row2     5     8\n",
            "row3     9    10\n"
          ]
        }
      ],
      "source": [
        "import pandas as pd\n",
        "\n",
        "df = pd.DataFrame(data = [[2, 3], [5, 8], [9, 10]], index = ['row1', 'row2', 'row3'], columns = ['col1', 'col2'])\n",
        "print(df)"
      ]
    },
    {
      "cell_type": "markdown",
      "metadata": {
        "id": "W-qbqAiimG-o"
      },
      "source": [
        "If you don't want to use any prefix, you can also import library with the `*` character. This way you won't have to use any prefix, __BUT__ if you import two libraries with two functions which has the same name you could have some surprises so be carefull."
      ]
    },
    {
      "cell_type": "code",
      "execution_count": null,
      "metadata": {
        "colab": {
          "base_uri": "https://localhost:8080/"
        },
        "id": "sjVgkLgvmn7I",
        "outputId": "eb0d2064-b332-476d-d28d-c3b96efcf930"
      },
      "outputs": [
        {
          "name": "stdout",
          "output_type": "stream",
          "text": [
            "      col1  col2\n",
            "row1     2     3\n",
            "row2     5     8\n",
            "row3     9    10\n"
          ]
        }
      ],
      "source": [
        "from pandas import *\n",
        "\n",
        "df = DataFrame(data = [[2, 3], [5, 8], [9, 10]], index = ['row1', 'row2', 'row3'], columns = ['col1', 'col2'])\n",
        "print(df)"
      ]
    },
    {
      "cell_type": "markdown",
      "metadata": {
        "id": "CeZtCbWAnMKK"
      },
      "source": [
        "You can find the Python documentation for DataFrame [here](https://pandas.pydata.org/docs/reference/api/pandas.DataFrame.html)."
      ]
    },
    {
      "cell_type": "markdown",
      "metadata": {
        "id": "V2rZxF0ynRcS"
      },
      "source": [
        "## Exercise 1: Creation of a DataFrame from a dictionary"
      ]
    },
    {
      "cell_type": "markdown",
      "metadata": {
        "id": "jh_731ijxbGR"
      },
      "source": [
        "#### __Build a DataFrame from the following dictionary__"
      ]
    },
    {
      "cell_type": "markdown",
      "metadata": {
        "id": "EY7bhItLxySK"
      },
      "source": [
        "\n",
        "\n",
        "1.   Build a DataFrame with the dictionary.\n",
        "2.   Display the 5 first rows of the DataFrame with 2 different ways.\n",
        "3.   Use the column `Names` as indexes of the DataFrame.\n",
        "4.    Display the row associated with Pierre.\n",
        "5.    Add the following observation to the DataFrame: `{Names: 'Nicolas', Measures: 12.3, Center: '1'}`\n",
        "6.    Give the overall mean measurement.\n",
        "7.    Give the mean measurement of each center.\n",
        "8.    Add the following observations from a third center to the DataFrame: `{'Names': ['Marius', 'Robert', 'Karim'], 'Measures': [15.3, 3.1, 1.5]}`.\n",
        "\n",
        "```\n",
        "dict1 = {\n",
        "  'Names': ['Jean', 'Marie', 'Joseph', 'Marthe', 'Jacob', 'Marc', 'Paul', 'Pierre', 'Ismael', 'David', 'Mathieu'],\n",
        "  'Measures': [12.5, 18.0, 10.0, 13.2, 3.2, 5.7, 12.0, 6.0, 7.0, 14.5, 17.6],\n",
        "  'Center': ['1', '2', '2', '1', '2', '2', '1', '2', '1', '2', '2']\n",
        "}\n",
        "```\n",
        "\n"
      ]
    },
    {
      "cell_type": "markdown",
      "metadata": {
        "id": "4496QkZP1ABE"
      },
      "source": [
        "## Exercise 2: DataFrame Manipulation"
      ]
    },
    {
      "cell_type": "markdown",
      "metadata": {
        "id": "ZJYBF0_X1Hec"
      },
      "source": [
        "##### __DataFrame.loc | Select column & Row by name__\n",
        "Access specific row/column with the name (label) of the row/column.\n",
        "\n",
        "##### __DataFrame.iloc | Select column indexes & row indexes positions__\n",
        "Access specific row/column with an index"
      ]
    },
    {
      "cell_type": "markdown",
      "metadata": {
        "id": "hJ0v2rbL7ntu"
      },
      "source": [
        "From the following DataFrame\n",
        "\n",
        "\n",
        "1.   Display the first and last 3 rows\n",
        "2.   Display the column age\n",
        "3.   Display the number of rows\n",
        "4.   Display the proportion of male and female patients\n",
        "5.   Display the `id` of the youngest and oldest patient along with the corresponding ages.\n",
        "6.   Display all the patients that are over 40 years old.\n",
        "7.   Compute the BMI of each patients and add a new column with this value in your DataFrame.\n",
        "8.   Create a new column with the categorized version of BMI\n",
        "9.   Display the number of patients in each BMI category.\n",
        "10.  Give the mean age of each category.\n",
        "\n"
      ]
    },
    {
      "cell_type": "markdown",
      "metadata": {
        "id": "aawzFzmu-R8e"
      },
      "source": [
        "## Exercise 3: Date format"
      ]
    },
    {
      "cell_type": "markdown",
      "metadata": {
        "id": "58YBBT6Q-XbW"
      },
      "source": [
        "For this exercise, we will be using the [HortonGeneralHospital.csv](https://archive.ics.uci.edu/ml/machine-learning-databases/00549/HortonGeneralHospital.csv), a dataset provided on the *UCI Machine Learning Repository*.\n",
        "\n",
        "In this dataset, we have monthly numbers of transfers from Emergency Room into Critical Care classified in three exclusive categories at Horton General Hospital (Banbury, UK) from November 1999 to May 2011. The three categories are Cardio-respiratory arrest, Respiratory arrest and Hypoglycaemic arrest. You'll also find in this dataset the monthly total number of patients entering Emergency Room.\n",
        "\n",
        "**Description of variables:**\n",
        "* __Cardio:__ Number of transfers from Emergency Room to Cardio-respiratory arrest.\n",
        "* __Resp:__ Number of transfers from Emergency Room to Respiratory arrest.\n",
        "* __Hypo:__ Number of transfer from Emergency room to Hypoglycaemic arrest.\n",
        "* __Adm:__ Total number of patients entering Emergency Room.\n",
        "* __year:__ Year of measurement.\n",
        "* __month:__ Month of measurement.\n",
        "\n",
        "**From this dataset we will do some date format manipulations.**\n",
        "\n",
        "You can have the dataset with the following link https://archive.ics.uci.edu/ml/machine-learning-databases/00549/HortonGeneralHospital.csv\n",
        "\n",
        "\n",
        "1.   Import the dataset using the url. (*Hint:* check the `read_csv` pandas function).\n",
        "2.   Use the dates as an index.\n",
        "3.   Give the date with the most admission to Emergency Room.\n",
        "4.   How many Hypoglycamemic arrest were recorded for 2004.\n",
        "5.   Use a `time` function to compute the number of days between December 2003 and February 2004.\n",
        "6.   Do a yearly summary of each column. Use the `groupby` function on the index and the `agg` method to apply a list of function on each column.\n",
        "7.   Create a new column with a rolling mean (with a 3 month windows) of the admission to Emergency Room and plot the results.\n",
        "\n",
        "\n"
      ]
    }
  ],
  "metadata": {
    "colab": {
      "provenance": []
    },
    "kernelspec": {
      "display_name": "Python 3",
      "name": "python3"
    },
    "language_info": {
      "name": "python"
    }
  },
  "nbformat": 4,
  "nbformat_minor": 0
}
