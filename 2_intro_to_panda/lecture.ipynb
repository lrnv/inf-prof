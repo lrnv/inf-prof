{
  "cells": [
    {
      "cell_type": "markdown",
      "metadata": {
        "id": "9IPuGCyHpbIC"
      },
      "source": [
        "# MASTER AIPH - TU INF-PROF\n",
        "# Introduction to Python programming for health data\n",
        "\n",
        "Oskar Laverny oskar.laverny@univ-amu.fr\n",
        "\n",
        "**Session 2 Learning objectives:**\n",
        "\n",
        "1. Learning the different data types in pandas: Data frame and series\n",
        "2. Importing and exporting data into a data frame\n",
        "2. Subseting data frames\n",
        "5. Doing transformations with dataframes\n"
      ]
    },
    {
      "cell_type": "markdown",
      "metadata": {
        "id": "b_dUznsOqFUf"
      },
      "source": [
        "# 1. Pandas, Data types and DataFrames\n",
        "Pandas is a Python library used for working with data sets.\n",
        "\n",
        "It has functions for analyzing, cleaning, exploring, and manipulating data.\n",
        "\n",
        "Pandas on-line documentation :\n",
        " https://pandas.pydata.org/docs/reference/index.html \n",
        "\n"
      ]
    },
    {
      "cell_type": "code",
      "execution_count": null,
      "metadata": {
        "colab": {
          "base_uri": "https://localhost:8080/"
        },
        "id": "viGjCmGDpXkk",
        "outputId": "11c0aa7a-f242-4d5d-8bb7-55d6cf481474"
      },
      "outputs": [
        {
          "name": "stdout",
          "output_type": "stream",
          "text": [
            "1.1.5\n"
          ]
        }
      ],
      "source": [
        "#Importing Pandas and verifying the version\n",
        "import pandas as pd # as allows to create an alias\n",
        "import numpy as np\n",
        "\n",
        "print(pd.__version__) #allow to verify the pandas function"
      ]
    },
    {
      "cell_type": "markdown",
      "metadata": {
        "id": "qOZCsGwurVlY"
      },
      "source": [
        "## 1.1 Data types on Pandas :\n",
        "\n",
        "\n",
        "1.   **Series :** It is a one-dimensional array holding data of any type.\n",
        "2.  **Dataframes :** Multidimensional data tables holding data of any type. We can think that the series are like the columns of a dataframe whereas the whole table is the dataframe.\n",
        "\n"
      ]
    },
    {
      "cell_type": "code",
      "execution_count": null,
      "metadata": {
        "colab": {
          "base_uri": "https://localhost:8080/"
        },
        "id": "wMnLBl-Mq4po",
        "outputId": "c37b918e-ee9f-427d-ee5d-dc350b56f597"
      },
      "outputs": [
        {
          "name": "stdout",
          "output_type": "stream",
          "text": [
            "x    1\n",
            "y    7\n",
            "z    2\n",
            "dtype: int64\n"
          ]
        }
      ],
      "source": [
        "# Example series with labels\n",
        "\n",
        "\n",
        "a = [1, 7, 2]\n",
        "\n",
        "myvar = pd.Series(a, index = [\"x\", \"y\", \"z\"])\n",
        "\n",
        "print(myvar)"
      ]
    },
    {
      "cell_type": "markdown",
      "metadata": {
        "id": "8A5CCm24tloq"
      },
      "source": [
        "## 1.2. DataFrames \n",
        "DataFrames are multidimensional matrices that can store data of different types."
      ]
    },
    {
      "cell_type": "code",
      "execution_count": null,
      "metadata": {
        "colab": {
          "base_uri": "https://localhost:8080/"
        },
        "id": "Aub2IvJ6sUK5",
        "outputId": "09aafa89-2771-4e11-a5da-64bbf4e11fd3"
      },
      "outputs": [
        {
          "name": "stdout",
          "output_type": "stream",
          "text": [
            "      calories  duration category\n",
            "day1       420        50        a\n",
            "day2       380        40        b\n",
            "day3       390        45        c\n"
          ]
        }
      ],
      "source": [
        "\n",
        "data = {\n",
        "  \"calories\": [420, 380, 390],\n",
        "  \"duration\": [50, 40, 45],\n",
        "  \"category\" : ['a','b','c']\n",
        "}\n",
        "\n",
        "df = pd.DataFrame(data, index = [\"day1\", \"day2\", \"day3\"])\n",
        "\n",
        "print(df) "
      ]
    },
    {
      "cell_type": "code",
      "execution_count": null,
      "metadata": {
        "id": "oRxxWMTXsXNw"
      },
      "outputs": [],
      "source": [
        "students = [ ('jack', 34, 'Sydeny') ,\n",
        "             ('Riti', 30, 'Delhi' ) ,\n",
        "             ('Aadi', 16, 'New York') ]\n",
        "# Create a DataFrame object\n",
        "dfObj = pd.DataFrame(students, columns = ['Name' , 'Age', 'City'], index=['a', 'b', 'c'])"
      ]
    },
    {
      "cell_type": "markdown",
      "metadata": {
        "id": "V7cA8OvRtwaC"
      },
      "source": [
        "**Exercise:** Create a dataframe that stores in one row the person ID, height, weight, sex  and  birthdate. Add at least three examples"
      ]
    },
    {
      "cell_type": "markdown",
      "metadata": {
        "id": "lkt-Ah3dZufh"
      },
      "source": [
        "\n",
        "[DataFrame attributes](https://pandas.pydata.org/docs/reference/frame.html)\n"
      ]
    },
    {
      "cell_type": "markdown",
      "metadata": {
        "id": "KrT5GZ_-a3W9"
      },
      "source": [
        "**Exercise:** For the dataframe previously created, go to dataframe attributes and show the following information : \n",
        "1. Number of elements\n",
        "2. Name of the columns\n",
        "3. Name of the rows\n",
        "4. Number of rows and columns\n",
        "5. Show the first rows of the dataframe\n",
        "\n",
        "\n",
        "\n",
        "Hint1 : https://www.geeksforgeeks.org/dataframe-attributes-in-python-pandas/\n",
        "\n",
        "Hint2 : print(dir(obj)) https://stackoverflow.com/questions/192109/is-there-a-built-in-function-to-print-all-the-current-properties-and-values-of-a"
      ]
    },
    {
      "cell_type": "markdown",
      "metadata": {
        "id": "oAGyEvHgpTxP"
      },
      "source": [
        "## 1.3. Acces the elements of a dataframe :\n",
        "\n",
        "Access by columns:\n"
      ]
    },
    {
      "cell_type": "code",
      "execution_count": null,
      "metadata": {
        "colab": {
          "base_uri": "https://localhost:8080/"
        },
        "id": "jyxtJHVgZuJf",
        "outputId": "cb2c9240-3842-49bd-cdb7-05f6d25c80aa"
      },
      "outputs": [
        {
          "data": {
            "text/plain": [
              "day1    420\n",
              "day2    380\n",
              "day3    390\n",
              "Name: calories, dtype: int64"
            ]
          },
          "execution_count": 8,
          "metadata": {},
          "output_type": "execute_result"
        }
      ],
      "source": [
        "df['calories']\n",
        "\n"
      ]
    },
    {
      "cell_type": "markdown",
      "metadata": {
        "id": "i5nK9TT-qhvH"
      },
      "source": [
        "### DataFrame.loc | Select Column & Rows by Name\n",
        "\n",
        "\n",
        "DataFrame provides indexing label loc for selecting columns and rows by names \n",
        "\n",
        "dataFrame.loc[ROWS RANGE , COLUMNS RANGE]"
      ]
    },
    {
      "cell_type": "code",
      "execution_count": null,
      "metadata": {
        "colab": {
          "base_uri": "https://localhost:8080/"
        },
        "id": "UjLKEw8TqsxA",
        "outputId": "b05815f7-99f8-4f8b-a356-b3e2aa81e2d0"
      },
      "outputs": [
        {
          "data": {
            "text/plain": [
              "calories    420\n",
              "duration     50\n",
              "category      a\n",
              "Name: day1, dtype: object"
            ]
          },
          "execution_count": 9,
          "metadata": {},
          "output_type": "execute_result"
        }
      ],
      "source": [
        "df.loc['day1',:]"
      ]
    },
    {
      "cell_type": "code",
      "execution_count": null,
      "metadata": {
        "colab": {
          "base_uri": "https://localhost:8080/"
        },
        "id": "hPb3SOgNq_aZ",
        "outputId": "ff5f4da5-9c13-447d-c91b-e09bbd406eef"
      },
      "outputs": [
        {
          "data": {
            "text/plain": [
              "day1    420\n",
              "day2    380\n",
              "day3    390\n",
              "Name: calories, dtype: int64"
            ]
          },
          "execution_count": 10,
          "metadata": {},
          "output_type": "execute_result"
        }
      ],
      "source": [
        "df.loc[:,'calories']"
      ]
    },
    {
      "cell_type": "markdown",
      "metadata": {
        "id": "vXemjwNPrXMy"
      },
      "source": [
        "### DataFrame.iloc | Select Column Indexes & Rows Index Positions\n",
        "DataFrame provides indexing label iloc for accessing the column and rows by index positions i.e.\n",
        "*dataFrame.iloc[ROWS INDEX RANGE , COLUMNS INDEX RANGE]*\n",
        "\n",
        "It selects the columns and rows from DataFrame by index position specified in range. If ‘:’ is given in rows or column Index Range then all entries will be included for corresponding row or column."
      ]
    },
    {
      "cell_type": "code",
      "execution_count": null,
      "metadata": {
        "colab": {
          "base_uri": "https://localhost:8080/",
          "height": 142
        },
        "id": "1oR4Aryzrk37",
        "outputId": "26d54d1f-6496-4710-f575-318e37b83f06"
      },
      "outputs": [
        {
          "data": {
            "text/html": [
              "<div>\n",
              "<style scoped>\n",
              "    .dataframe tbody tr th:only-of-type {\n",
              "        vertical-align: middle;\n",
              "    }\n",
              "\n",
              "    .dataframe tbody tr th {\n",
              "        vertical-align: top;\n",
              "    }\n",
              "\n",
              "    .dataframe thead th {\n",
              "        text-align: right;\n",
              "    }\n",
              "</style>\n",
              "<table border=\"1\" class=\"dataframe\">\n",
              "  <thead>\n",
              "    <tr style=\"text-align: right;\">\n",
              "      <th></th>\n",
              "      <th>calories</th>\n",
              "      <th>category</th>\n",
              "    </tr>\n",
              "  </thead>\n",
              "  <tbody>\n",
              "    <tr>\n",
              "      <th>day1</th>\n",
              "      <td>420</td>\n",
              "      <td>a</td>\n",
              "    </tr>\n",
              "    <tr>\n",
              "      <th>day2</th>\n",
              "      <td>380</td>\n",
              "      <td>b</td>\n",
              "    </tr>\n",
              "    <tr>\n",
              "      <th>day3</th>\n",
              "      <td>390</td>\n",
              "      <td>c</td>\n",
              "    </tr>\n",
              "  </tbody>\n",
              "</table>\n",
              "</div>"
            ],
            "text/plain": [
              "      calories category\n",
              "day1       420        a\n",
              "day2       380        b\n",
              "day3       390        c"
            ]
          },
          "execution_count": 16,
          "metadata": {},
          "output_type": "execute_result"
        }
      ],
      "source": [
        "df.iloc[:,[0,2]]"
      ]
    },
    {
      "cell_type": "markdown",
      "metadata": {
        "id": "WIw5WQc6gsme"
      },
      "source": [
        "## 1.4. Variable conversion : "
      ]
    },
    {
      "cell_type": "code",
      "execution_count": null,
      "metadata": {
        "colab": {
          "base_uri": "https://localhost:8080/",
          "height": 269
        },
        "id": "3lm5pLmBgrrW",
        "outputId": "f5a4dad5-7dc0-4820-8f90-1dc15061b8c9"
      },
      "outputs": [
        {
          "data": {
            "text/html": [
              "<div>\n",
              "<style scoped>\n",
              "    .dataframe tbody tr th:only-of-type {\n",
              "        vertical-align: middle;\n",
              "    }\n",
              "\n",
              "    .dataframe tbody tr th {\n",
              "        vertical-align: top;\n",
              "    }\n",
              "\n",
              "    .dataframe thead th {\n",
              "        text-align: right;\n",
              "    }\n",
              "</style>\n",
              "<table border=\"1\" class=\"dataframe\">\n",
              "  <thead>\n",
              "    <tr style=\"text-align: right;\">\n",
              "      <th></th>\n",
              "      <th>Country</th>\n",
              "      <th>Age</th>\n",
              "    </tr>\n",
              "  </thead>\n",
              "  <tbody>\n",
              "    <tr>\n",
              "      <th>0</th>\n",
              "      <td>France</td>\n",
              "      <td>50</td>\n",
              "    </tr>\n",
              "    <tr>\n",
              "      <th>1</th>\n",
              "      <td>Spain</td>\n",
              "      <td>60</td>\n",
              "    </tr>\n",
              "    <tr>\n",
              "      <th>2</th>\n",
              "      <td>Germany</td>\n",
              "      <td>40</td>\n",
              "    </tr>\n",
              "    <tr>\n",
              "      <th>3</th>\n",
              "      <td>Spain</td>\n",
              "      <td>20</td>\n",
              "    </tr>\n",
              "    <tr>\n",
              "      <th>4</th>\n",
              "      <td>Germany</td>\n",
              "      <td>40</td>\n",
              "    </tr>\n",
              "    <tr>\n",
              "      <th>5</th>\n",
              "      <td>France</td>\n",
              "      <td>30</td>\n",
              "    </tr>\n",
              "    <tr>\n",
              "      <th>6</th>\n",
              "      <td>Italy</td>\n",
              "      <td>20</td>\n",
              "    </tr>\n",
              "  </tbody>\n",
              "</table>\n",
              "</div>"
            ],
            "text/plain": [
              "   Country  Age\n",
              "0   France   50\n",
              "1    Spain   60\n",
              "2  Germany   40\n",
              "3    Spain   20\n",
              "4  Germany   40\n",
              "5   France   30\n",
              "6    Italy   20"
            ]
          },
          "execution_count": 103,
          "metadata": {
            "tags": []
          },
          "output_type": "execute_result"
        }
      ],
      "source": [
        "df_petit = pd.DataFrame({ 'Country': ['France','Spain','Germany', 'Spain','Germany', 'France', 'Italy'], 'Age': [50,60,40,20,40,30, 20] })\n",
        "df_petit\n",
        "\n"
      ]
    },
    {
      "cell_type": "markdown",
      "metadata": {
        "id": "xNAiczsdtNCp"
      },
      "source": [
        "#### Label encoding : \n",
        "Label Encoding refers to converting the labels into a numeric form so as to convert them into the machine-readable form. Machine learning algorithms can then decide in a better way how those labels must be operated. It is an important pre-processing step for the structured dataset in supervised learning."
      ]
    },
    {
      "cell_type": "code",
      "execution_count": null,
      "metadata": {
        "colab": {
          "base_uri": "https://localhost:8080/",
          "height": 269
        },
        "id": "KB0PLbHSsA0T",
        "outputId": "be5e1f32-f635-44a4-9288-20fd44c22bf5"
      },
      "outputs": [
        {
          "data": {
            "text/html": [
              "<div>\n",
              "<style scoped>\n",
              "    .dataframe tbody tr th:only-of-type {\n",
              "        vertical-align: middle;\n",
              "    }\n",
              "\n",
              "    .dataframe tbody tr th {\n",
              "        vertical-align: top;\n",
              "    }\n",
              "\n",
              "    .dataframe thead th {\n",
              "        text-align: right;\n",
              "    }\n",
              "</style>\n",
              "<table border=\"1\" class=\"dataframe\">\n",
              "  <thead>\n",
              "    <tr style=\"text-align: right;\">\n",
              "      <th></th>\n",
              "      <th>Country</th>\n",
              "      <th>Age</th>\n",
              "      <th>Country_cat</th>\n",
              "    </tr>\n",
              "  </thead>\n",
              "  <tbody>\n",
              "    <tr>\n",
              "      <th>0</th>\n",
              "      <td>France</td>\n",
              "      <td>50</td>\n",
              "      <td>0</td>\n",
              "    </tr>\n",
              "    <tr>\n",
              "      <th>1</th>\n",
              "      <td>Spain</td>\n",
              "      <td>60</td>\n",
              "      <td>3</td>\n",
              "    </tr>\n",
              "    <tr>\n",
              "      <th>2</th>\n",
              "      <td>Germany</td>\n",
              "      <td>40</td>\n",
              "      <td>1</td>\n",
              "    </tr>\n",
              "    <tr>\n",
              "      <th>3</th>\n",
              "      <td>Spain</td>\n",
              "      <td>20</td>\n",
              "      <td>3</td>\n",
              "    </tr>\n",
              "    <tr>\n",
              "      <th>4</th>\n",
              "      <td>Germany</td>\n",
              "      <td>40</td>\n",
              "      <td>1</td>\n",
              "    </tr>\n",
              "    <tr>\n",
              "      <th>5</th>\n",
              "      <td>France</td>\n",
              "      <td>30</td>\n",
              "      <td>0</td>\n",
              "    </tr>\n",
              "    <tr>\n",
              "      <th>6</th>\n",
              "      <td>Italy</td>\n",
              "      <td>20</td>\n",
              "      <td>2</td>\n",
              "    </tr>\n",
              "  </tbody>\n",
              "</table>\n",
              "</div>"
            ],
            "text/plain": [
              "   Country  Age  Country_cat\n",
              "0   France   50            0\n",
              "1    Spain   60            3\n",
              "2  Germany   40            1\n",
              "3    Spain   20            3\n",
              "4  Germany   40            1\n",
              "5   France   30            0\n",
              "6    Italy   20            2"
            ]
          },
          "execution_count": 104,
          "metadata": {
            "tags": []
          },
          "output_type": "execute_result"
        }
      ],
      "source": [
        "df_petit['Country_cat'] = df_petit['Country'].astype('category').cat.codes\n",
        "df_petit"
      ]
    },
    {
      "cell_type": "markdown",
      "metadata": {
        "id": "Ufhtt2PbtZ-h"
      },
      "source": [
        "#### One hot encoding"
      ]
    },
    {
      "cell_type": "code",
      "execution_count": null,
      "metadata": {
        "colab": {
          "base_uri": "https://localhost:8080/"
        },
        "id": "eyRt0SgoYCh4",
        "outputId": "8d7ae7e4-937f-44f1-b78c-414c681d8951"
      },
      "outputs": [
        {
          "name": "stdout",
          "output_type": "stream",
          "text": [
            "Help on function get_dummies in module pandas.core.reshape.reshape:\n",
            "\n",
            "get_dummies(data, prefix=None, prefix_sep='_', dummy_na=False, columns=None, sparse=False, drop_first=False, dtype=None) -> 'DataFrame'\n",
            "    Convert categorical variable into dummy/indicator variables.\n",
            "    \n",
            "    Parameters\n",
            "    ----------\n",
            "    data : array-like, Series, or DataFrame\n",
            "        Data of which to get dummy indicators.\n",
            "    prefix : str, list of str, or dict of str, default None\n",
            "        String to append DataFrame column names.\n",
            "        Pass a list with length equal to the number of columns\n",
            "        when calling get_dummies on a DataFrame. Alternatively, `prefix`\n",
            "        can be a dictionary mapping column names to prefixes.\n",
            "    prefix_sep : str, default '_'\n",
            "        If appending prefix, separator/delimiter to use. Or pass a\n",
            "        list or dictionary as with `prefix`.\n",
            "    dummy_na : bool, default False\n",
            "        Add a column to indicate NaNs, if False NaNs are ignored.\n",
            "    columns : list-like, default None\n",
            "        Column names in the DataFrame to be encoded.\n",
            "        If `columns` is None then all the columns with\n",
            "        `object` or `category` dtype will be converted.\n",
            "    sparse : bool, default False\n",
            "        Whether the dummy-encoded columns should be backed by\n",
            "        a :class:`SparseArray` (True) or a regular NumPy array (False).\n",
            "    drop_first : bool, default False\n",
            "        Whether to get k-1 dummies out of k categorical levels by removing the\n",
            "        first level.\n",
            "    dtype : dtype, default np.uint8\n",
            "        Data type for new columns. Only a single dtype is allowed.\n",
            "    \n",
            "        .. versionadded:: 0.23.0\n",
            "    \n",
            "    Returns\n",
            "    -------\n",
            "    DataFrame\n",
            "        Dummy-coded data.\n",
            "    \n",
            "    See Also\n",
            "    --------\n",
            "    Series.str.get_dummies : Convert Series to dummy codes.\n",
            "    \n",
            "    Examples\n",
            "    --------\n",
            "    >>> s = pd.Series(list('abca'))\n",
            "    \n",
            "    >>> pd.get_dummies(s)\n",
            "       a  b  c\n",
            "    0  1  0  0\n",
            "    1  0  1  0\n",
            "    2  0  0  1\n",
            "    3  1  0  0\n",
            "    \n",
            "    >>> s1 = ['a', 'b', np.nan]\n",
            "    \n",
            "    >>> pd.get_dummies(s1)\n",
            "       a  b\n",
            "    0  1  0\n",
            "    1  0  1\n",
            "    2  0  0\n",
            "    \n",
            "    >>> pd.get_dummies(s1, dummy_na=True)\n",
            "       a  b  NaN\n",
            "    0  1  0    0\n",
            "    1  0  1    0\n",
            "    2  0  0    1\n",
            "    \n",
            "    >>> df = pd.DataFrame({'A': ['a', 'b', 'a'], 'B': ['b', 'a', 'c'],\n",
            "    ...                    'C': [1, 2, 3]})\n",
            "    \n",
            "    >>> pd.get_dummies(df, prefix=['col1', 'col2'])\n",
            "       C  col1_a  col1_b  col2_a  col2_b  col2_c\n",
            "    0  1       1       0       0       1       0\n",
            "    1  2       0       1       1       0       0\n",
            "    2  3       1       0       0       0       1\n",
            "    \n",
            "    >>> pd.get_dummies(pd.Series(list('abcaa')))\n",
            "       a  b  c\n",
            "    0  1  0  0\n",
            "    1  0  1  0\n",
            "    2  0  0  1\n",
            "    3  1  0  0\n",
            "    4  1  0  0\n",
            "    \n",
            "    >>> pd.get_dummies(pd.Series(list('abcaa')), drop_first=True)\n",
            "       b  c\n",
            "    0  0  0\n",
            "    1  1  0\n",
            "    2  0  1\n",
            "    3  0  0\n",
            "    4  0  0\n",
            "    \n",
            "    >>> pd.get_dummies(pd.Series(list('abc')), dtype=float)\n",
            "         a    b    c\n",
            "    0  1.0  0.0  0.0\n",
            "    1  0.0  1.0  0.0\n",
            "    2  0.0  0.0  1.0\n",
            "\n"
          ]
        }
      ],
      "source": [
        "help(pd.get_dummies)"
      ]
    },
    {
      "cell_type": "code",
      "execution_count": null,
      "metadata": {
        "colab": {
          "base_uri": "https://localhost:8080/",
          "height": 206
        },
        "id": "bm8IC3kbpkxZ",
        "outputId": "cb6d3da0-2927-463e-9a4a-7712dad799f4"
      },
      "outputs": [
        {
          "data": {
            "text/html": [
              "<div>\n",
              "<style scoped>\n",
              "    .dataframe tbody tr th:only-of-type {\n",
              "        vertical-align: middle;\n",
              "    }\n",
              "\n",
              "    .dataframe tbody tr th {\n",
              "        vertical-align: top;\n",
              "    }\n",
              "\n",
              "    .dataframe thead th {\n",
              "        text-align: right;\n",
              "    }\n",
              "</style>\n",
              "<table border=\"1\" class=\"dataframe\">\n",
              "  <thead>\n",
              "    <tr style=\"text-align: right;\">\n",
              "      <th></th>\n",
              "      <th>Age</th>\n",
              "      <th>Country_cat</th>\n",
              "      <th>Country_Germany</th>\n",
              "      <th>Country_Italy</th>\n",
              "      <th>Country_Spain</th>\n",
              "    </tr>\n",
              "  </thead>\n",
              "  <tbody>\n",
              "    <tr>\n",
              "      <th>0</th>\n",
              "      <td>50</td>\n",
              "      <td>0</td>\n",
              "      <td>0</td>\n",
              "      <td>0</td>\n",
              "      <td>0</td>\n",
              "    </tr>\n",
              "    <tr>\n",
              "      <th>1</th>\n",
              "      <td>60</td>\n",
              "      <td>3</td>\n",
              "      <td>0</td>\n",
              "      <td>0</td>\n",
              "      <td>1</td>\n",
              "    </tr>\n",
              "    <tr>\n",
              "      <th>2</th>\n",
              "      <td>40</td>\n",
              "      <td>1</td>\n",
              "      <td>1</td>\n",
              "      <td>0</td>\n",
              "      <td>0</td>\n",
              "    </tr>\n",
              "    <tr>\n",
              "      <th>3</th>\n",
              "      <td>20</td>\n",
              "      <td>3</td>\n",
              "      <td>0</td>\n",
              "      <td>0</td>\n",
              "      <td>1</td>\n",
              "    </tr>\n",
              "    <tr>\n",
              "      <th>4</th>\n",
              "      <td>40</td>\n",
              "      <td>1</td>\n",
              "      <td>1</td>\n",
              "      <td>0</td>\n",
              "      <td>0</td>\n",
              "    </tr>\n",
              "  </tbody>\n",
              "</table>\n",
              "</div>"
            ],
            "text/plain": [
              "   Age  Country_cat  Country_Germany  Country_Italy  Country_Spain\n",
              "0   50            0                0              0              0\n",
              "1   60            3                0              0              1\n",
              "2   40            1                1              0              0\n",
              "3   20            3                0              0              1\n",
              "4   40            1                1              0              0"
            ]
          },
          "execution_count": 105,
          "metadata": {
            "tags": []
          },
          "output_type": "execute_result"
        }
      ],
      "source": [
        "\n",
        "df_petit = pd.get_dummies(df_petit,prefix=['Country'], columns = ['Country'], drop_first=True)\n",
        "df_petit.head()"
      ]
    },
    {
      "cell_type": "markdown",
      "metadata": {
        "id": "44PB9EN9GI2c"
      },
      "source": [
        "**Exercise :** Create a dataframe with 3 columns with the characteristics : ID, sex (M or F), frailty degree (FB, M, F).  Convert the categorical variables using label encoding and one-hot-encoding."
      ]
    },
    {
      "cell_type": "markdown",
      "metadata": {
        "id": "kXyzi3M_5jLK"
      },
      "source": [
        "## 1.5. Dealing with dates \n",
        "https://pandas.pydata.org/docs/reference/api/pandas.to_datetime.html\n"
      ]
    },
    {
      "cell_type": "code",
      "execution_count": null,
      "metadata": {
        "id": "4NObObAa_nc4"
      },
      "outputs": [],
      "source": [
        "#Library to deeal with dates\n",
        "import datetime"
      ]
    },
    {
      "cell_type": "code",
      "execution_count": null,
      "metadata": {
        "colab": {
          "base_uri": "https://localhost:8080/"
        },
        "id": "CGZSmjraD3XK",
        "outputId": "d5cfeece-40c0-4947-f046-8afad2bd8ea3"
      },
      "outputs": [
        {
          "data": {
            "text/plain": [
              "DatetimeIndex(['2018-01-01', '2018-01-01', '2018-01-01'], dtype='datetime64[ns]', freq=None)"
            ]
          },
          "execution_count": 22,
          "metadata": {},
          "output_type": "execute_result"
        }
      ],
      "source": [
        "dti = pd.to_datetime(\n",
        "    [\"1/1/2018\", np.datetime64(\"2018-01-01\"), datetime.datetime(2018, 1, 1)]\n",
        ")\n",
        "dti"
      ]
    },
    {
      "cell_type": "code",
      "execution_count": null,
      "metadata": {
        "colab": {
          "base_uri": "https://localhost:8080/",
          "height": 142
        },
        "id": "pl61c0lfD8pR",
        "outputId": "3a8ca3ad-0833-46bf-9daa-eae4fe2dfc0a"
      },
      "outputs": [
        {
          "data": {
            "text/html": [
              "<div>\n",
              "<style scoped>\n",
              "    .dataframe tbody tr th:only-of-type {\n",
              "        vertical-align: middle;\n",
              "    }\n",
              "\n",
              "    .dataframe tbody tr th {\n",
              "        vertical-align: top;\n",
              "    }\n",
              "\n",
              "    .dataframe thead th {\n",
              "        text-align: right;\n",
              "    }\n",
              "</style>\n",
              "<table border=\"1\" class=\"dataframe\">\n",
              "  <thead>\n",
              "    <tr style=\"text-align: right;\">\n",
              "      <th></th>\n",
              "      <th>date</th>\n",
              "      <th>value</th>\n",
              "    </tr>\n",
              "  </thead>\n",
              "  <tbody>\n",
              "    <tr>\n",
              "      <th>0</th>\n",
              "      <td>2000-03-10</td>\n",
              "      <td>2</td>\n",
              "    </tr>\n",
              "    <tr>\n",
              "      <th>1</th>\n",
              "      <td>2000-03-11</td>\n",
              "      <td>3</td>\n",
              "    </tr>\n",
              "    <tr>\n",
              "      <th>2</th>\n",
              "      <td>2000-03-12</td>\n",
              "      <td>4</td>\n",
              "    </tr>\n",
              "  </tbody>\n",
              "</table>\n",
              "</div>"
            ],
            "text/plain": [
              "        date  value\n",
              "0 2000-03-10      2\n",
              "1 2000-03-11      3\n",
              "2 2000-03-12      4"
            ]
          },
          "execution_count": 23,
          "metadata": {},
          "output_type": "execute_result"
        }
      ],
      "source": [
        "df = pd.DataFrame({'date': ['3/10/2000', '3/11/2000', '3/12/2000'],\n",
        "                   'value': [2, 3, 4]})\n",
        "df['date'] = pd.to_datetime(df['date'])\n",
        "df"
      ]
    },
    {
      "cell_type": "markdown",
      "metadata": {
        "id": "ELOecizvEIX3"
      },
      "source": [
        "### Cutomize the date format"
      ]
    },
    {
      "cell_type": "code",
      "execution_count": null,
      "metadata": {
        "colab": {
          "base_uri": "https://localhost:8080/",
          "height": 142
        },
        "id": "9xdbXV6LD9bz",
        "outputId": "7ba5ca62-025a-4ee5-c8e0-81410467cddc"
      },
      "outputs": [
        {
          "data": {
            "text/html": [
              "<div>\n",
              "<style scoped>\n",
              "    .dataframe tbody tr th:only-of-type {\n",
              "        vertical-align: middle;\n",
              "    }\n",
              "\n",
              "    .dataframe tbody tr th {\n",
              "        vertical-align: top;\n",
              "    }\n",
              "\n",
              "    .dataframe thead th {\n",
              "        text-align: right;\n",
              "    }\n",
              "</style>\n",
              "<table border=\"1\" class=\"dataframe\">\n",
              "  <thead>\n",
              "    <tr style=\"text-align: right;\">\n",
              "      <th></th>\n",
              "      <th>date</th>\n",
              "      <th>value</th>\n",
              "    </tr>\n",
              "  </thead>\n",
              "  <tbody>\n",
              "    <tr>\n",
              "      <th>0</th>\n",
              "      <td>2016-10-06 20:30:00</td>\n",
              "      <td>2</td>\n",
              "    </tr>\n",
              "    <tr>\n",
              "      <th>1</th>\n",
              "      <td>2016-01-07 19:45:30</td>\n",
              "      <td>3</td>\n",
              "    </tr>\n",
              "    <tr>\n",
              "      <th>2</th>\n",
              "      <td>2013-12-10 04:05:01</td>\n",
              "      <td>4</td>\n",
              "    </tr>\n",
              "  </tbody>\n",
              "</table>\n",
              "</div>"
            ],
            "text/plain": [
              "                 date  value\n",
              "0 2016-10-06 20:30:00      2\n",
              "1 2016-01-07 19:45:30      3\n",
              "2 2013-12-10 04:05:01      4"
            ]
          },
          "execution_count": 26,
          "metadata": {},
          "output_type": "execute_result"
        }
      ],
      "source": [
        "df = pd.DataFrame({'date': ['2016-6-10 20:30:0', \n",
        "                            '2016-7-1 19:45:30', \n",
        "                            '2013-10-12 4:5:1'],\n",
        "                   'value': [2, 3, 4]})\n",
        "df['date'] = pd.to_datetime(df['date'], format=\"%Y-%d-%m %H:%M:%S\")\n",
        "df"
      ]
    },
    {
      "cell_type": "markdown",
      "metadata": {
        "id": "IlB5IQf-EXbe"
      },
      "source": [
        "**Exercise :** Check the Pandas documentation and create a dataframe with a columns with dates and try different datetypes.\n"
      ]
    },
    {
      "cell_type": "markdown",
      "metadata": {
        "id": "37pakBFQuz75"
      },
      "source": [
        "### Access date elements dt. accessor :\n",
        "The dt. accessor is an object that allows to access the different data and time elements in a datatime object.\n",
        "https://pandas.pydata.org/docs/reference/api/pandas.Series.dt.html"
      ]
    },
    {
      "cell_type": "code",
      "execution_count": null,
      "metadata": {
        "colab": {
          "base_uri": "https://localhost:8080/",
          "height": 142
        },
        "id": "g-vzqp_pu73w",
        "outputId": "94f42bed-7e61-4ee5-dc9f-1a5445991d66"
      },
      "outputs": [
        {
          "data": {
            "text/html": [
              "<div>\n",
              "<style scoped>\n",
              "    .dataframe tbody tr th:only-of-type {\n",
              "        vertical-align: middle;\n",
              "    }\n",
              "\n",
              "    .dataframe tbody tr th {\n",
              "        vertical-align: top;\n",
              "    }\n",
              "\n",
              "    .dataframe thead th {\n",
              "        text-align: right;\n",
              "    }\n",
              "</style>\n",
              "<table border=\"1\" class=\"dataframe\">\n",
              "  <thead>\n",
              "    <tr style=\"text-align: right;\">\n",
              "      <th></th>\n",
              "      <th>date</th>\n",
              "      <th>value</th>\n",
              "      <th>date_only</th>\n",
              "      <th>hour_only</th>\n",
              "      <th>time_only</th>\n",
              "    </tr>\n",
              "  </thead>\n",
              "  <tbody>\n",
              "    <tr>\n",
              "      <th>0</th>\n",
              "      <td>2016-10-06 20:30:00</td>\n",
              "      <td>2</td>\n",
              "      <td>2016-10-06</td>\n",
              "      <td>20</td>\n",
              "      <td>20:30:00</td>\n",
              "    </tr>\n",
              "    <tr>\n",
              "      <th>1</th>\n",
              "      <td>2016-01-07 19:45:30</td>\n",
              "      <td>3</td>\n",
              "      <td>2016-01-07</td>\n",
              "      <td>19</td>\n",
              "      <td>19:45:30</td>\n",
              "    </tr>\n",
              "    <tr>\n",
              "      <th>2</th>\n",
              "      <td>2013-12-10 04:05:01</td>\n",
              "      <td>4</td>\n",
              "      <td>2013-12-10</td>\n",
              "      <td>4</td>\n",
              "      <td>04:05:01</td>\n",
              "    </tr>\n",
              "  </tbody>\n",
              "</table>\n",
              "</div>"
            ],
            "text/plain": [
              "                 date  value   date_only  hour_only time_only\n",
              "0 2016-10-06 20:30:00      2  2016-10-06         20  20:30:00\n",
              "1 2016-01-07 19:45:30      3  2016-01-07         19  19:45:30\n",
              "2 2013-12-10 04:05:01      4  2013-12-10          4  04:05:01"
            ]
          },
          "execution_count": 30,
          "metadata": {},
          "output_type": "execute_result"
        }
      ],
      "source": [
        "df['date_only'] = df['date'].dt.date\n",
        "\n",
        "df['time_only'] = df['date'].dt.time\n",
        "\n",
        "df['hour_only'] = df['date'].dt.hour\n",
        "\n",
        "df"
      ]
    },
    {
      "cell_type": "markdown",
      "metadata": {
        "id": "k_VcObZp5P6a"
      },
      "source": [
        "# 2. Importing datasets\n",
        "\n",
        "https://pandas.pydata.org/pandas-docs/stable/reference/api/pandas.read_csv.html\n",
        "\n"
      ]
    },
    {
      "cell_type": "code",
      "execution_count": null,
      "metadata": {
        "colab": {
          "base_uri": "https://localhost:8080/",
          "height": 204
        },
        "id": "p2Oe9uwYzLGD",
        "outputId": "fc684fb4-5b22-4532-acc5-1d159f967efe"
      },
      "outputs": [
        {
          "data": {
            "text/html": [
              "<div>\n",
              "<style scoped>\n",
              "    .dataframe tbody tr th:only-of-type {\n",
              "        vertical-align: middle;\n",
              "    }\n",
              "\n",
              "    .dataframe tbody tr th {\n",
              "        vertical-align: top;\n",
              "    }\n",
              "\n",
              "    .dataframe thead th {\n",
              "        text-align: right;\n",
              "    }\n",
              "</style>\n",
              "<table border=\"1\" class=\"dataframe\">\n",
              "  <thead>\n",
              "    <tr style=\"text-align: right;\">\n",
              "      <th></th>\n",
              "      <th>Pregnancies</th>\n",
              "      <th>Glucose</th>\n",
              "      <th>BloodPressure</th>\n",
              "      <th>SkinThickness</th>\n",
              "      <th>Insulin</th>\n",
              "      <th>BMI</th>\n",
              "      <th>DiabetesPedigreeFunction</th>\n",
              "      <th>Age</th>\n",
              "      <th>Outcome</th>\n",
              "    </tr>\n",
              "  </thead>\n",
              "  <tbody>\n",
              "    <tr>\n",
              "      <th>0</th>\n",
              "      <td>6</td>\n",
              "      <td>148</td>\n",
              "      <td>72</td>\n",
              "      <td>35</td>\n",
              "      <td>0</td>\n",
              "      <td>33.6</td>\n",
              "      <td>0.627</td>\n",
              "      <td>50</td>\n",
              "      <td>1</td>\n",
              "    </tr>\n",
              "    <tr>\n",
              "      <th>1</th>\n",
              "      <td>1</td>\n",
              "      <td>85</td>\n",
              "      <td>66</td>\n",
              "      <td>29</td>\n",
              "      <td>0</td>\n",
              "      <td>26.6</td>\n",
              "      <td>0.351</td>\n",
              "      <td>31</td>\n",
              "      <td>0</td>\n",
              "    </tr>\n",
              "    <tr>\n",
              "      <th>2</th>\n",
              "      <td>8</td>\n",
              "      <td>183</td>\n",
              "      <td>64</td>\n",
              "      <td>0</td>\n",
              "      <td>0</td>\n",
              "      <td>23.3</td>\n",
              "      <td>0.672</td>\n",
              "      <td>32</td>\n",
              "      <td>1</td>\n",
              "    </tr>\n",
              "    <tr>\n",
              "      <th>3</th>\n",
              "      <td>1</td>\n",
              "      <td>89</td>\n",
              "      <td>66</td>\n",
              "      <td>23</td>\n",
              "      <td>94</td>\n",
              "      <td>28.1</td>\n",
              "      <td>0.167</td>\n",
              "      <td>21</td>\n",
              "      <td>0</td>\n",
              "    </tr>\n",
              "    <tr>\n",
              "      <th>4</th>\n",
              "      <td>0</td>\n",
              "      <td>137</td>\n",
              "      <td>40</td>\n",
              "      <td>35</td>\n",
              "      <td>168</td>\n",
              "      <td>43.1</td>\n",
              "      <td>2.288</td>\n",
              "      <td>33</td>\n",
              "      <td>1</td>\n",
              "    </tr>\n",
              "  </tbody>\n",
              "</table>\n",
              "</div>"
            ],
            "text/plain": [
              "   Pregnancies  Glucose  BloodPressure  ...  DiabetesPedigreeFunction  Age  Outcome\n",
              "0            6      148             72  ...                     0.627   50        1\n",
              "1            1       85             66  ...                     0.351   31        0\n",
              "2            8      183             64  ...                     0.672   32        1\n",
              "3            1       89             66  ...                     0.167   21        0\n",
              "4            0      137             40  ...                     2.288   33        1\n",
              "\n",
              "[5 rows x 9 columns]"
            ]
          },
          "execution_count": 31,
          "metadata": {},
          "output_type": "execute_result"
        }
      ],
      "source": [
        "df = pd.read_csv(\"https://raw.githubusercontent.com/rakelup/EPICLIN2021/master/diabetes.csv\", sep=\",\",error_bad_lines=False)\n",
        "df.head()"
      ]
    },
    {
      "cell_type": "markdown",
      "metadata": {
        "id": "a7J59DUMk59C"
      },
      "source": [
        "## 2.1 Data overview"
      ]
    },
    {
      "cell_type": "code",
      "execution_count": null,
      "metadata": {
        "colab": {
          "base_uri": "https://localhost:8080/"
        },
        "id": "DBCVea2uN6C-",
        "outputId": "8bcfb50c-d23f-40ce-f53c-fcfbcdddee74",
        "scrolled": true
      },
      "outputs": [
        {
          "name": "stdout",
          "output_type": "stream",
          "text": [
            "Rows     :  768\n",
            "Coloumns  :  9\n",
            "\n",
            "Features : \n",
            " ['Pregnancies', 'Glucose', 'BloodPressure', 'SkinThickness', 'Insulin', 'BMI', 'DiabetesPedigreeFunction', 'Age', 'Outcome']\n",
            "\n",
            "Number of Missing values:   0\n",
            "\n",
            "Number of unique values :  \n",
            " Pregnancies                  17\n",
            "Glucose                     136\n",
            "BloodPressure                47\n",
            "SkinThickness                51\n",
            "Insulin                     186\n",
            "BMI                         248\n",
            "DiabetesPedigreeFunction    517\n",
            "Age                          52\n",
            "Outcome                       2\n",
            "dtype: int64\n"
          ]
        }
      ],
      "source": [
        "# Data overview\n",
        "print ('Rows     : ', df.shape[0])\n",
        "print ('Coloumns  : ', df.shape[1])\n",
        "print ('\\nFeatures : \\n', df.columns.tolist())\n",
        "print ('\\nNumber of Missing values:  ', df.isnull().sum().values.sum())\n",
        "print ('\\nNumber of unique values :  \\n', df.nunique())"
      ]
    },
    {
      "cell_type": "code",
      "execution_count": null,
      "metadata": {
        "colab": {
          "base_uri": "https://localhost:8080/",
          "height": 300
        },
        "id": "6nM28K1aN6DA",
        "outputId": "b6c862e5-14aa-4f94-c50a-ad01c2857b12"
      },
      "outputs": [
        {
          "data": {
            "text/html": [
              "<div>\n",
              "<style scoped>\n",
              "    .dataframe tbody tr th:only-of-type {\n",
              "        vertical-align: middle;\n",
              "    }\n",
              "\n",
              "    .dataframe tbody tr th {\n",
              "        vertical-align: top;\n",
              "    }\n",
              "\n",
              "    .dataframe thead th {\n",
              "        text-align: right;\n",
              "    }\n",
              "</style>\n",
              "<table border=\"1\" class=\"dataframe\">\n",
              "  <thead>\n",
              "    <tr style=\"text-align: right;\">\n",
              "      <th></th>\n",
              "      <th>Pregnancies</th>\n",
              "      <th>Glucose</th>\n",
              "      <th>BloodPressure</th>\n",
              "      <th>SkinThickness</th>\n",
              "      <th>Insulin</th>\n",
              "      <th>BMI</th>\n",
              "      <th>DiabetesPedigreeFunction</th>\n",
              "      <th>Age</th>\n",
              "      <th>Outcome</th>\n",
              "    </tr>\n",
              "  </thead>\n",
              "  <tbody>\n",
              "    <tr>\n",
              "      <th>count</th>\n",
              "      <td>768.000000</td>\n",
              "      <td>768.000000</td>\n",
              "      <td>768.000000</td>\n",
              "      <td>768.000000</td>\n",
              "      <td>768.000000</td>\n",
              "      <td>768.000000</td>\n",
              "      <td>768.000000</td>\n",
              "      <td>768.000000</td>\n",
              "      <td>768.000000</td>\n",
              "    </tr>\n",
              "    <tr>\n",
              "      <th>mean</th>\n",
              "      <td>3.845052</td>\n",
              "      <td>120.894531</td>\n",
              "      <td>69.105469</td>\n",
              "      <td>20.536458</td>\n",
              "      <td>79.799479</td>\n",
              "      <td>31.992578</td>\n",
              "      <td>0.471876</td>\n",
              "      <td>33.240885</td>\n",
              "      <td>0.348958</td>\n",
              "    </tr>\n",
              "    <tr>\n",
              "      <th>std</th>\n",
              "      <td>3.369578</td>\n",
              "      <td>31.972618</td>\n",
              "      <td>19.355807</td>\n",
              "      <td>15.952218</td>\n",
              "      <td>115.244002</td>\n",
              "      <td>7.884160</td>\n",
              "      <td>0.331329</td>\n",
              "      <td>11.760232</td>\n",
              "      <td>0.476951</td>\n",
              "    </tr>\n",
              "    <tr>\n",
              "      <th>min</th>\n",
              "      <td>0.000000</td>\n",
              "      <td>0.000000</td>\n",
              "      <td>0.000000</td>\n",
              "      <td>0.000000</td>\n",
              "      <td>0.000000</td>\n",
              "      <td>0.000000</td>\n",
              "      <td>0.078000</td>\n",
              "      <td>21.000000</td>\n",
              "      <td>0.000000</td>\n",
              "    </tr>\n",
              "    <tr>\n",
              "      <th>25%</th>\n",
              "      <td>1.000000</td>\n",
              "      <td>99.000000</td>\n",
              "      <td>62.000000</td>\n",
              "      <td>0.000000</td>\n",
              "      <td>0.000000</td>\n",
              "      <td>27.300000</td>\n",
              "      <td>0.243750</td>\n",
              "      <td>24.000000</td>\n",
              "      <td>0.000000</td>\n",
              "    </tr>\n",
              "    <tr>\n",
              "      <th>50%</th>\n",
              "      <td>3.000000</td>\n",
              "      <td>117.000000</td>\n",
              "      <td>72.000000</td>\n",
              "      <td>23.000000</td>\n",
              "      <td>30.500000</td>\n",
              "      <td>32.000000</td>\n",
              "      <td>0.372500</td>\n",
              "      <td>29.000000</td>\n",
              "      <td>0.000000</td>\n",
              "    </tr>\n",
              "    <tr>\n",
              "      <th>75%</th>\n",
              "      <td>6.000000</td>\n",
              "      <td>140.250000</td>\n",
              "      <td>80.000000</td>\n",
              "      <td>32.000000</td>\n",
              "      <td>127.250000</td>\n",
              "      <td>36.600000</td>\n",
              "      <td>0.626250</td>\n",
              "      <td>41.000000</td>\n",
              "      <td>1.000000</td>\n",
              "    </tr>\n",
              "    <tr>\n",
              "      <th>max</th>\n",
              "      <td>17.000000</td>\n",
              "      <td>199.000000</td>\n",
              "      <td>122.000000</td>\n",
              "      <td>99.000000</td>\n",
              "      <td>846.000000</td>\n",
              "      <td>67.100000</td>\n",
              "      <td>2.420000</td>\n",
              "      <td>81.000000</td>\n",
              "      <td>1.000000</td>\n",
              "    </tr>\n",
              "  </tbody>\n",
              "</table>\n",
              "</div>"
            ],
            "text/plain": [
              "       Pregnancies     Glucose  ...         Age     Outcome\n",
              "count   768.000000  768.000000  ...  768.000000  768.000000\n",
              "mean      3.845052  120.894531  ...   33.240885    0.348958\n",
              "std       3.369578   31.972618  ...   11.760232    0.476951\n",
              "min       0.000000    0.000000  ...   21.000000    0.000000\n",
              "25%       1.000000   99.000000  ...   24.000000    0.000000\n",
              "50%       3.000000  117.000000  ...   29.000000    0.000000\n",
              "75%       6.000000  140.250000  ...   41.000000    1.000000\n",
              "max      17.000000  199.000000  ...   81.000000    1.000000\n",
              "\n",
              "[8 rows x 9 columns]"
            ]
          },
          "execution_count": 98,
          "metadata": {
            "tags": []
          },
          "output_type": "execute_result"
        }
      ],
      "source": [
        "df.describe()"
      ]
    },
    {
      "cell_type": "code",
      "execution_count": null,
      "metadata": {
        "colab": {
          "base_uri": "https://localhost:8080/"
        },
        "id": "sC5kLiJT_Z6O",
        "outputId": "b392fd69-1ca5-4679-9f99-b5b721261b83"
      },
      "outputs": [
        {
          "data": {
            "text/plain": [
              "Index(['Pregnancies', 'Glucose', 'BloodPressure', 'SkinThickness', 'Insulin',\n",
              "       'BMI', 'DiabetesPedigreeFunction', 'Age', 'Outcome'],\n",
              "      dtype='object')"
            ]
          },
          "execution_count": 99,
          "metadata": {
            "tags": []
          },
          "output_type": "execute_result"
        }
      ],
      "source": [
        "df.columns"
      ]
    },
    {
      "cell_type": "markdown",
      "metadata": {
        "id": "LI1S5CY6I5Rn"
      },
      "source": [
        "# 3.  Cleaning data in a dataframe: \n",
        "1. Dealing with missing values\n",
        "2. Data in wrong format\n",
        "3. Wrong data\n",
        "4. Duplicates\n"
      ]
    },
    {
      "cell_type": "markdown",
      "metadata": {
        "id": "rsnaBoKB5y0u"
      },
      "source": [
        "## 3.1. Dealing with missing values : \n",
        "\n",
        "Handling missing values is an essential part of data cleaning and preparation process since almost all data in real life comes with some missing values.\n"
      ]
    },
    {
      "cell_type": "markdown",
      "metadata": {
        "id": "z67Cq_fc0EAb"
      },
      "source": [
        "### Check for missing values"
      ]
    },
    {
      "cell_type": "code",
      "execution_count": null,
      "metadata": {
        "colab": {
          "base_uri": "https://localhost:8080/"
        },
        "id": "JVh-FwSrN6C-",
        "outputId": "7263ec76-6678-485e-e12a-15d7ee230993",
        "scrolled": true
      },
      "outputs": [
        {
          "name": "stdout",
          "output_type": "stream",
          "text": [
            "<class 'pandas.core.frame.DataFrame'>\n",
            "RangeIndex: 768 entries, 0 to 767\n",
            "Data columns (total 9 columns):\n",
            " #   Column                    Non-Null Count  Dtype  \n",
            "---  ------                    --------------  -----  \n",
            " 0   Pregnancies               768 non-null    int64  \n",
            " 1   Glucose                   768 non-null    int64  \n",
            " 2   BloodPressure             768 non-null    int64  \n",
            " 3   SkinThickness             768 non-null    int64  \n",
            " 4   Insulin                   768 non-null    int64  \n",
            " 5   BMI                       768 non-null    float64\n",
            " 6   DiabetesPedigreeFunction  768 non-null    float64\n",
            " 7   Age                       768 non-null    int64  \n",
            " 8   Outcome                   768 non-null    int64  \n",
            "dtypes: float64(2), int64(7)\n",
            "memory usage: 54.1 KB\n"
          ]
        },
        {
          "data": {
            "text/plain": [
              "Pregnancies                 0\n",
              "Glucose                     0\n",
              "BloodPressure               0\n",
              "SkinThickness               0\n",
              "Insulin                     0\n",
              "BMI                         0\n",
              "DiabetesPedigreeFunction    0\n",
              "Age                         0\n",
              "Outcome                     0\n",
              "dtype: int64"
            ]
          },
          "execution_count": 97,
          "metadata": {
            "tags": []
          },
          "output_type": "execute_result"
        }
      ],
      "source": [
        "df.info()\n",
        "df.isnull().sum()"
      ]
    },
    {
      "cell_type": "markdown",
      "metadata": {
        "id": "vAUCA55j1fwO"
      },
      "source": [
        " Let's create a daframe with missing values. "
      ]
    },
    {
      "cell_type": "code",
      "execution_count": null,
      "metadata": {
        "colab": {
          "base_uri": "https://localhost:8080/"
        },
        "id": "aKrOZYrCuGkz",
        "outputId": "88ee2e29-7947-41fa-d8a7-e8034f8517c0"
      },
      "outputs": [
        {
          "name": "stdout",
          "output_type": "stream",
          "text": [
            "\n",
            "Valeurs manquantes:   Pregnancies                  0\n",
            "Glucose                     17\n",
            "BloodPressure               52\n",
            "SkinThickness                0\n",
            "Insulin                      0\n",
            "BMI                          0\n",
            "DiabetesPedigreeFunction     0\n",
            "Age                          0\n",
            "Outcome                      0\n",
            "dtype: int64\n",
            "\n",
            "Valeurs manquantes total:   69\n"
          ]
        }
      ],
      "source": [
        "df2 = df\n",
        "df2.Glucose.replace(99, np.nan, inplace=True)\n",
        "df2.BloodPressure.replace(74, np.nan, inplace=True)\n",
        "\n",
        "print ('\\nNumber of Missing values:  ', df2.isnull().sum())\n",
        "print ('\\nTotal number of missing values :  ', df2.isnull().sum().values.sum())\n",
        "\n",
        "\n"
      ]
    },
    {
      "cell_type": "markdown",
      "metadata": {
        "id": "LFpgB19e2HfQ"
      },
      "source": [
        "### First strategy : Removing the whole row that contains a missing value"
      ]
    },
    {
      "cell_type": "code",
      "execution_count": null,
      "metadata": {
        "colab": {
          "base_uri": "https://localhost:8080/"
        },
        "id": "60QCHENmw9KO",
        "outputId": "bd91aa8d-e4c0-4596-9b13-aaae07f150ca"
      },
      "outputs": [
        {
          "name": "stdout",
          "output_type": "stream",
          "text": [
            "\n",
            "Valeurs manquantes:   Pregnancies                 0\n",
            "Glucose                     0\n",
            "BloodPressure               0\n",
            "SkinThickness               0\n",
            "Insulin                     0\n",
            "BMI                         0\n",
            "DiabetesPedigreeFunction    0\n",
            "Age                         0\n",
            "Outcome                     0\n",
            "dtype: int64\n",
            "\n",
            "Valeurs manquantes total:   0\n"
          ]
        }
      ],
      "source": [
        "# Removing the whole row\n",
        "df3 = df2.dropna()\n",
        "\n",
        "print ('\\nValeurs manquantes:  ', df3.isnull().sum())\n",
        "print ('\\nValeurs manquantes total:  ', df3.isnull().sum().values.sum())"
      ]
    },
    {
      "cell_type": "code",
      "execution_count": null,
      "metadata": {
        "id": "tNOruGXB5wP_"
      },
      "outputs": [],
      "source": [
        "\n",
        "\n",
        "##Replace the missing values\n",
        "\n",
        "df2.Glucose.replace(np.nan, df['Glucose'].median(), inplace=True)\n",
        "df2.BloodPressure.replace(np.nan, df['BloodPressure'].median(), inplace=True)\n"
      ]
    },
    {
      "cell_type": "markdown",
      "metadata": {
        "id": "RY-pDsB8JLqH"
      },
      "source": [
        "## 3.2 Sorting the data\n",
        "\n",
        "https://pandas.pydata.org/docs/reference/api/pandas.DataFrame.sort_values.html"
      ]
    },
    {
      "cell_type": "code",
      "execution_count": null,
      "metadata": {
        "colab": {
          "base_uri": "https://localhost:8080/",
          "height": 206
        },
        "id": "9YFroYMl_oBa",
        "outputId": "03ee62af-f130-498d-d112-14db3aa5b60b"
      },
      "outputs": [
        {
          "data": {
            "text/html": [
              "<div>\n",
              "<style scoped>\n",
              "    .dataframe tbody tr th:only-of-type {\n",
              "        vertical-align: middle;\n",
              "    }\n",
              "\n",
              "    .dataframe tbody tr th {\n",
              "        vertical-align: top;\n",
              "    }\n",
              "\n",
              "    .dataframe thead th {\n",
              "        text-align: right;\n",
              "    }\n",
              "</style>\n",
              "<table border=\"1\" class=\"dataframe\">\n",
              "  <thead>\n",
              "    <tr style=\"text-align: right;\">\n",
              "      <th></th>\n",
              "      <th>Pregnancies</th>\n",
              "      <th>Glucose</th>\n",
              "      <th>BloodPressure</th>\n",
              "      <th>SkinThickness</th>\n",
              "      <th>Insulin</th>\n",
              "      <th>BMI</th>\n",
              "      <th>DiabetesPedigreeFunction</th>\n",
              "      <th>Age</th>\n",
              "      <th>Outcome</th>\n",
              "    </tr>\n",
              "  </thead>\n",
              "  <tbody>\n",
              "    <tr>\n",
              "      <th>467</th>\n",
              "      <td>0</td>\n",
              "      <td>97</td>\n",
              "      <td>64</td>\n",
              "      <td>36</td>\n",
              "      <td>100</td>\n",
              "      <td>36.8</td>\n",
              "      <td>0.600</td>\n",
              "      <td>25</td>\n",
              "      <td>0</td>\n",
              "    </tr>\n",
              "    <tr>\n",
              "      <th>109</th>\n",
              "      <td>0</td>\n",
              "      <td>95</td>\n",
              "      <td>85</td>\n",
              "      <td>25</td>\n",
              "      <td>36</td>\n",
              "      <td>37.4</td>\n",
              "      <td>0.247</td>\n",
              "      <td>24</td>\n",
              "      <td>1</td>\n",
              "    </tr>\n",
              "    <tr>\n",
              "      <th>452</th>\n",
              "      <td>0</td>\n",
              "      <td>91</td>\n",
              "      <td>68</td>\n",
              "      <td>32</td>\n",
              "      <td>210</td>\n",
              "      <td>39.9</td>\n",
              "      <td>0.381</td>\n",
              "      <td>25</td>\n",
              "      <td>0</td>\n",
              "    </tr>\n",
              "    <tr>\n",
              "      <th>449</th>\n",
              "      <td>0</td>\n",
              "      <td>120</td>\n",
              "      <td>74</td>\n",
              "      <td>18</td>\n",
              "      <td>63</td>\n",
              "      <td>30.5</td>\n",
              "      <td>0.285</td>\n",
              "      <td>26</td>\n",
              "      <td>0</td>\n",
              "    </tr>\n",
              "    <tr>\n",
              "      <th>448</th>\n",
              "      <td>0</td>\n",
              "      <td>104</td>\n",
              "      <td>64</td>\n",
              "      <td>37</td>\n",
              "      <td>64</td>\n",
              "      <td>33.6</td>\n",
              "      <td>0.510</td>\n",
              "      <td>22</td>\n",
              "      <td>1</td>\n",
              "    </tr>\n",
              "  </tbody>\n",
              "</table>\n",
              "</div>"
            ],
            "text/plain": [
              "     Pregnancies  Glucose  ...  Age  Outcome\n",
              "467            0       97  ...   25        0\n",
              "109            0       95  ...   24        1\n",
              "452            0       91  ...   25        0\n",
              "449            0      120  ...   26        0\n",
              "448            0      104  ...   22        1\n",
              "\n",
              "[5 rows x 9 columns]"
            ]
          },
          "execution_count": 100,
          "metadata": {
            "tags": []
          },
          "output_type": "execute_result"
        }
      ],
      "source": [
        "#Trier les données\n",
        "b = df.sort_values('Pregnancies')\n",
        "b.head()"
      ]
    },
    {
      "cell_type": "markdown",
      "metadata": {
        "id": "PugRUm-BmBg3"
      },
      "source": [
        "**Exercise :** Sort the data in descending order according to the insulin level and store the data in a new Data frame. How to store the data in the same dataframe?"
      ]
    },
    {
      "cell_type": "markdown",
      "metadata": {
        "id": "Vp36mnviyRxP"
      },
      "source": [
        "## 3.3. Subseting the data"
      ]
    },
    {
      "cell_type": "code",
      "execution_count": null,
      "metadata": {
        "colab": {
          "base_uri": "https://localhost:8080/"
        },
        "id": "ZMJQuSGH-fQn",
        "outputId": "5909c13a-4d3c-4863-8647-73ad9bd73c8a"
      },
      "outputs": [
        {
          "data": {
            "text/plain": [
              "Pregnancies                 393\n",
              "Glucose                     393\n",
              "BloodPressure               393\n",
              "SkinThickness               393\n",
              "Insulin                     393\n",
              "BMI                         393\n",
              "DiabetesPedigreeFunction    393\n",
              "Age                         393\n",
              "Outcome                     393\n",
              "dtype: int64"
            ]
          },
          "execution_count": 101,
          "metadata": {
            "tags": []
          },
          "output_type": "execute_result"
        }
      ],
      "source": [
        "df[df['BloodPressure'] >70].count() # Filtrage par valeur"
      ]
    },
    {
      "cell_type": "code",
      "execution_count": null,
      "metadata": {
        "colab": {
          "base_uri": "https://localhost:8080/",
          "height": 298
        },
        "id": "BKYfo4dznv7v",
        "outputId": "00c1e622-8255-491a-b4c8-a3b3e6f8dc61"
      },
      "outputs": [
        {
          "name": "stderr",
          "output_type": "stream",
          "text": [
            "/usr/local/lib/python3.7/dist-packages/pandas/core/frame.py:4174: SettingWithCopyWarning: \n",
            "A value is trying to be set on a copy of a slice from a DataFrame\n",
            "\n",
            "See the caveats in the documentation: https://pandas.pydata.org/pandas-docs/stable/user_guide/indexing.html#returning-a-view-versus-a-copy\n",
            "  errors=errors,\n"
          ]
        },
        {
          "data": {
            "text/html": [
              "<div>\n",
              "<style scoped>\n",
              "    .dataframe tbody tr th:only-of-type {\n",
              "        vertical-align: middle;\n",
              "    }\n",
              "\n",
              "    .dataframe tbody tr th {\n",
              "        vertical-align: top;\n",
              "    }\n",
              "\n",
              "    .dataframe thead th {\n",
              "        text-align: right;\n",
              "    }\n",
              "</style>\n",
              "<table border=\"1\" class=\"dataframe\">\n",
              "  <thead>\n",
              "    <tr style=\"text-align: right;\">\n",
              "      <th></th>\n",
              "      <th>Glucose</th>\n",
              "    </tr>\n",
              "  </thead>\n",
              "  <tbody>\n",
              "    <tr>\n",
              "      <th>0</th>\n",
              "      <td>148</td>\n",
              "    </tr>\n",
              "    <tr>\n",
              "      <th>1</th>\n",
              "      <td>85</td>\n",
              "    </tr>\n",
              "    <tr>\n",
              "      <th>2</th>\n",
              "      <td>183</td>\n",
              "    </tr>\n",
              "    <tr>\n",
              "      <th>3</th>\n",
              "      <td>89</td>\n",
              "    </tr>\n",
              "    <tr>\n",
              "      <th>4</th>\n",
              "      <td>137</td>\n",
              "    </tr>\n",
              "  </tbody>\n",
              "</table>\n",
              "</div>"
            ],
            "text/plain": [
              "   Glucose\n",
              "0      148\n",
              "1       85\n",
              "2      183\n",
              "3       89\n",
              "4      137"
            ]
          },
          "execution_count": 102,
          "metadata": {
            "tags": []
          },
          "output_type": "execute_result"
        }
      ],
      "source": [
        "df_court = df[['Insulin','Glucose']]\n",
        "\n",
        "df_court.drop('Insulin', inplace= True, axis = 1)\n",
        "\n",
        "df_court.head()"
      ]
    },
    {
      "cell_type": "markdown",
      "metadata": {
        "id": "iDdcikRezQoQ"
      },
      "source": [
        "# 4. Statistics applied to dataframes\n",
        "\n",
        "`DataFrame.aggregate(func=None, axis=0, *args, **kwargs)`\n",
        "\n",
        "Aggregate using one or more operations over the specified axis.\n",
        "\n",
        "https://pandas.pydata.org/docs/reference/api/pandas.DataFrame.aggregate.html"
      ]
    }
  ],
  "metadata": {
    "colab": {
      "authorship_tag": "ABX9TyPgUGTADyreMlFpfy1TFXHB",
      "collapsed_sections": [],
      "include_colab_link": true,
      "name": "Introduction to Pandas.ipynb",
      "provenance": []
    },
    "kernelspec": {
      "display_name": "Python 3",
      "name": "python3"
    },
    "language_info": {
      "name": "python"
    }
  },
  "nbformat": 4,
  "nbformat_minor": 0
}
