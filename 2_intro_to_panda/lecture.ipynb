{
  "cells": [
    {
      "cell_type": "markdown",
      "metadata": {
        "id": "9IPuGCyHpbIC"
      },
      "source": [
        "# MASTER AIPH - TU INF-PROF\n",
        "# Introduction to Python programming for health data\n",
        "\n",
        "\n",
        "**Session 2 Learning objectives:**\n",
        "\n",
        "1. Learning the different data types in pandas: Data frame and series\n",
        "2. Importing and exporting data into a data frame\n",
        "2. Subseting data frames\n",
        "5. Doing transformations with dataframes\n"
      ]
    },
    {
      "cell_type": "markdown",
      "metadata": {
        "id": "b_dUznsOqFUf"
      },
      "source": [
        "# 1. Pandas, Data types and DataFrames\n",
        "Pandas is a Python library used for working with data sets.\n",
        "\n",
        "It has functions for analyzing, cleaning, exploring, and manipulating data.\n",
        "\n",
        "Pandas on-line documentation :\n",
        " https://pandas.pydata.org/docs/reference/index.html \n",
        "\n"
      ]
    },
    {
      "cell_type": "code",
      "execution_count": 11,
      "metadata": {
        "colab": {
          "base_uri": "https://localhost:8080/"
        },
        "id": "viGjCmGDpXkk",
        "outputId": "11c0aa7a-f242-4d5d-8bb7-55d6cf481474"
      },
      "outputs": [
        {
          "name": "stdout",
          "output_type": "stream",
          "text": [
            "2.2.3\n"
          ]
        }
      ],
      "source": [
        "#Importing Pandas and verifying the version\n",
        "import pandas as pd # as allows to create an alias. Use `!pip install pandas` in another cell if you dont have it yet.\n",
        "import numpy as np\n",
        "\n",
        "print(pd.__version__) #allow to verify the pandas function"
      ]
    },
    {
      "cell_type": "markdown",
      "metadata": {
        "id": "qOZCsGwurVlY"
      },
      "source": [
        "## 1.1 Data types on Pandas :\n",
        "\n",
        "\n",
        "1.   **Series :** It is a one-dimensional array holding data of any type.\n",
        "2.  **Dataframes :** Multidimensional data tables holding data of any type. We can think that the series are like the columns of a dataframe whereas the whole table is the dataframe.\n",
        "\n"
      ]
    },
    {
      "cell_type": "code",
      "execution_count": 15,
      "metadata": {
        "colab": {
          "base_uri": "https://localhost:8080/"
        },
        "id": "wMnLBl-Mq4po",
        "outputId": "c37b918e-ee9f-427d-ee5d-dc350b56f597"
      },
      "outputs": [
        {
          "name": "stdout",
          "output_type": "stream",
          "text": [
            "x    1.0\n",
            "y    7.0\n",
            "z    2.0\n",
            "dtype: float64\n"
          ]
        }
      ],
      "source": [
        "# Example series with labels\n",
        "\n",
        "a = [1, 7, 2.0]\n",
        "\n",
        "myvar = pd.Series(a, index = [\"x\", \"y\", \"z\"])\n",
        "\n",
        "print(myvar)"
      ]
    },
    {
      "cell_type": "markdown",
      "metadata": {
        "id": "8A5CCm24tloq"
      },
      "source": [
        "## 1.2. DataFrames \n",
        "DataFrames are multidimensional matrices that can store data of different types."
      ]
    },
    {
      "cell_type": "code",
      "execution_count": 16,
      "metadata": {
        "colab": {
          "base_uri": "https://localhost:8080/"
        },
        "id": "Aub2IvJ6sUK5",
        "outputId": "09aafa89-2771-4e11-a5da-64bbf4e11fd3"
      },
      "outputs": [
        {
          "name": "stdout",
          "output_type": "stream",
          "text": [
            "      calories  duration category\n",
            "day1       420        50        a\n",
            "day2       380        40        b\n",
            "day3       390        45        c\n"
          ]
        }
      ],
      "source": [
        "\n",
        "data = {\n",
        "  \"calories\": [420, 380, 390],\n",
        "  \"duration\": [50, 40, 45],\n",
        "  \"category\" : ['a','b','c']\n",
        "}\n",
        "\n",
        "df = pd.DataFrame(data, index = [\"day1\", \"day2\", \"day3\"])\n",
        "\n",
        "print(df) "
      ]
    },
    {
      "cell_type": "code",
      "execution_count": 17,
      "metadata": {
        "id": "oRxxWMTXsXNw"
      },
      "outputs": [
        {
          "data": {
            "text/html": [
              "<div>\n",
              "<style scoped>\n",
              "    .dataframe tbody tr th:only-of-type {\n",
              "        vertical-align: middle;\n",
              "    }\n",
              "\n",
              "    .dataframe tbody tr th {\n",
              "        vertical-align: top;\n",
              "    }\n",
              "\n",
              "    .dataframe thead th {\n",
              "        text-align: right;\n",
              "    }\n",
              "</style>\n",
              "<table border=\"1\" class=\"dataframe\">\n",
              "  <thead>\n",
              "    <tr style=\"text-align: right;\">\n",
              "      <th></th>\n",
              "      <th>Name</th>\n",
              "      <th>Age</th>\n",
              "      <th>City</th>\n",
              "    </tr>\n",
              "  </thead>\n",
              "  <tbody>\n",
              "    <tr>\n",
              "      <th>a</th>\n",
              "      <td>jack</td>\n",
              "      <td>34</td>\n",
              "      <td>Sydeny</td>\n",
              "    </tr>\n",
              "    <tr>\n",
              "      <th>b</th>\n",
              "      <td>Riti</td>\n",
              "      <td>30</td>\n",
              "      <td>Delhi</td>\n",
              "    </tr>\n",
              "    <tr>\n",
              "      <th>c</th>\n",
              "      <td>Aadi</td>\n",
              "      <td>16</td>\n",
              "      <td>New York</td>\n",
              "    </tr>\n",
              "  </tbody>\n",
              "</table>\n",
              "</div>"
            ],
            "text/plain": [
              "   Name  Age      City\n",
              "a  jack   34    Sydeny\n",
              "b  Riti   30     Delhi\n",
              "c  Aadi   16  New York"
            ]
          },
          "execution_count": 17,
          "metadata": {},
          "output_type": "execute_result"
        }
      ],
      "source": [
        "students = [ ('jack', 34, 'Sydeny') ,\n",
        "             ('Riti', 30, 'Delhi' ) ,\n",
        "             ('Aadi', 16, 'New York') ]\n",
        "# Create a DataFrame object\n",
        "dfObj = pd.DataFrame(students, columns = ['Name' , 'Age', 'City'], index=['a', 'b', 'c'])\n",
        "dfObj"
      ]
    },
    {
      "cell_type": "markdown",
      "metadata": {
        "id": "V7cA8OvRtwaC"
      },
      "source": [
        "**Exercise:** Create a dataframe that stores in one row the person ID, height, weight, sex  and  birthdate. Add at least three examples"
      ]
    },
    {
      "cell_type": "code",
      "execution_count": 18,
      "metadata": {},
      "outputs": [
        {
          "name": "stdout",
          "output_type": "stream",
          "text": [
            "   ID  Height  Weight   Sex   Birthdate\n",
            "0   1     5.5     155  Male  01/01/2000\n",
            "1   3     6.7     180     F  01/01/2000\n",
            "2   5     3.5     200     M  01/01/2000\n"
          ]
        }
      ],
      "source": [
        "data = {'ID': [1,3,5],\n",
        "       'Height': [5.5,6.7,3.5],\n",
        "       'Weight': [155,180, 200],\n",
        "       'Sex': ['Male','F','M'],\n",
        "       'Birthdate': ['01/01/2000', '01/01/2000', '01/01/2000']\n",
        "      }\n",
        "df = pd.DataFrame(data)\n",
        "print(df)"
      ]
    },
    {
      "cell_type": "markdown",
      "metadata": {
        "id": "lkt-Ah3dZufh"
      },
      "source": [
        "\n",
        "[DataFrame attributes](https://pandas.pydata.org/docs/reference/frame.html)\n"
      ]
    },
    {
      "cell_type": "markdown",
      "metadata": {
        "id": "KrT5GZ_-a3W9"
      },
      "source": [
        "**Exercise:** For the dataframe previously created, go to dataframe attributes and show the following information : \n",
        "1. Number of elements\n",
        "2. Name of the columns\n",
        "3. Name of the rows\n",
        "4. Number of rows and columns\n",
        "5. Show the first rows of the dataframe\n",
        "\n",
        "\n",
        "\n",
        "Hint1 : https://www.geeksforgeeks.org/dataframe-attributes-in-python-pandas/\n",
        "\n",
        "Hint2 : print(dir(obj)) https://stackoverflow.com/questions/192109/is-there-a-built-in-function-to-print-all-the-current-properties-and-values-of-a"
      ]
    },
    {
      "cell_type": "code",
      "execution_count": 28,
      "metadata": {},
      "outputs": [
        {
          "name": "stdout",
          "output_type": "stream",
          "text": [
            "<class 'pandas.core.frame.DataFrame'>\n",
            "RangeIndex: 3 entries, 0 to 2\n",
            "Data columns (total 5 columns):\n",
            " #   Column     Non-Null Count  Dtype  \n",
            "---  ------     --------------  -----  \n",
            " 0   ID         3 non-null      int64  \n",
            " 1   Height     3 non-null      float64\n",
            " 2   Weight     3 non-null      int64  \n",
            " 3   Sex        3 non-null      object \n",
            " 4   Birthdate  3 non-null      object \n",
            "dtypes: float64(1), int64(2), object(2)\n",
            "memory usage: 248.0+ bytes\n"
          ]
        },
        {
          "data": {
            "text/html": [
              "<div>\n",
              "<style scoped>\n",
              "    .dataframe tbody tr th:only-of-type {\n",
              "        vertical-align: middle;\n",
              "    }\n",
              "\n",
              "    .dataframe tbody tr th {\n",
              "        vertical-align: top;\n",
              "    }\n",
              "\n",
              "    .dataframe thead th {\n",
              "        text-align: right;\n",
              "    }\n",
              "</style>\n",
              "<table border=\"1\" class=\"dataframe\">\n",
              "  <thead>\n",
              "    <tr style=\"text-align: right;\">\n",
              "      <th></th>\n",
              "      <th>ID</th>\n",
              "      <th>Height</th>\n",
              "      <th>Weight</th>\n",
              "    </tr>\n",
              "  </thead>\n",
              "  <tbody>\n",
              "    <tr>\n",
              "      <th>count</th>\n",
              "      <td>3.0</td>\n",
              "      <td>3.000000</td>\n",
              "      <td>3.000000</td>\n",
              "    </tr>\n",
              "    <tr>\n",
              "      <th>mean</th>\n",
              "      <td>3.0</td>\n",
              "      <td>5.233333</td>\n",
              "      <td>178.333333</td>\n",
              "    </tr>\n",
              "    <tr>\n",
              "      <th>std</th>\n",
              "      <td>2.0</td>\n",
              "      <td>1.616581</td>\n",
              "      <td>22.546249</td>\n",
              "    </tr>\n",
              "    <tr>\n",
              "      <th>min</th>\n",
              "      <td>1.0</td>\n",
              "      <td>3.500000</td>\n",
              "      <td>155.000000</td>\n",
              "    </tr>\n",
              "    <tr>\n",
              "      <th>25%</th>\n",
              "      <td>2.0</td>\n",
              "      <td>4.500000</td>\n",
              "      <td>167.500000</td>\n",
              "    </tr>\n",
              "    <tr>\n",
              "      <th>50%</th>\n",
              "      <td>3.0</td>\n",
              "      <td>5.500000</td>\n",
              "      <td>180.000000</td>\n",
              "    </tr>\n",
              "    <tr>\n",
              "      <th>75%</th>\n",
              "      <td>4.0</td>\n",
              "      <td>6.100000</td>\n",
              "      <td>190.000000</td>\n",
              "    </tr>\n",
              "    <tr>\n",
              "      <th>max</th>\n",
              "      <td>5.0</td>\n",
              "      <td>6.700000</td>\n",
              "      <td>200.000000</td>\n",
              "    </tr>\n",
              "  </tbody>\n",
              "</table>\n",
              "</div>"
            ],
            "text/plain": [
              "        ID    Height      Weight\n",
              "count  3.0  3.000000    3.000000\n",
              "mean   3.0  5.233333  178.333333\n",
              "std    2.0  1.616581   22.546249\n",
              "min    1.0  3.500000  155.000000\n",
              "25%    2.0  4.500000  167.500000\n",
              "50%    3.0  5.500000  180.000000\n",
              "75%    4.0  6.100000  190.000000\n",
              "max    5.0  6.700000  200.000000"
            ]
          },
          "execution_count": 28,
          "metadata": {},
          "output_type": "execute_result"
        }
      ],
      "source": [
        "# Number of elements\n",
        "df.size\n",
        "\n",
        "# column names\n",
        "df.columns\n",
        "\n",
        "# row names\n",
        "df.index\n",
        "\n",
        "# nb of rows and nb of columns \n",
        "df.shape\n",
        "\n",
        "# extract first rows\n",
        "df.head(1)\n",
        "\n",
        "df.info()\n",
        "df.describe()"
      ]
    },
    {
      "cell_type": "markdown",
      "metadata": {
        "id": "oAGyEvHgpTxP"
      },
      "source": [
        "## 1.3. Acces the elements of a dataframe :\n",
        "\n",
        "Access by columns:\n"
      ]
    },
    {
      "cell_type": "code",
      "execution_count": 33,
      "metadata": {
        "colab": {
          "base_uri": "https://localhost:8080/"
        },
        "id": "jyxtJHVgZuJf",
        "outputId": "cb2c9240-3842-49bd-cdb7-05f6d25c80aa"
      },
      "outputs": [
        {
          "data": {
            "text/plain": [
              "0    5.5\n",
              "1    6.7\n",
              "2    3.5\n",
              "Name: Height, dtype: float64"
            ]
          },
          "execution_count": 33,
          "metadata": {},
          "output_type": "execute_result"
        }
      ],
      "source": [
        "df['Height']\n",
        "df.Height\n",
        "\n"
      ]
    },
    {
      "cell_type": "markdown",
      "metadata": {
        "id": "i5nK9TT-qhvH"
      },
      "source": [
        "### DataFrame.loc | Select Column & Rows by Name\n",
        "\n",
        "\n",
        "DataFrame provides indexing label loc for selecting columns and rows by names \n",
        "\n",
        "dataFrame.loc[ROWS RANGE , COLUMNS RANGE]"
      ]
    },
    {
      "cell_type": "code",
      "execution_count": 34,
      "metadata": {
        "colab": {
          "base_uri": "https://localhost:8080/"
        },
        "id": "UjLKEw8TqsxA",
        "outputId": "b05815f7-99f8-4f8b-a356-b3e2aa81e2d0"
      },
      "outputs": [
        {
          "data": {
            "text/plain": [
              "ID                    3\n",
              "Height              6.7\n",
              "Weight              180\n",
              "Sex                   F\n",
              "Birthdate    01/01/2000\n",
              "Name: 1, dtype: object"
            ]
          },
          "execution_count": 34,
          "metadata": {},
          "output_type": "execute_result"
        }
      ],
      "source": [
        "df.loc[1,:]"
      ]
    },
    {
      "cell_type": "code",
      "execution_count": 38,
      "metadata": {
        "colab": {
          "base_uri": "https://localhost:8080/"
        },
        "id": "hPb3SOgNq_aZ",
        "outputId": "ff5f4da5-9c13-447d-c91b-e09bbd406eef"
      },
      "outputs": [
        {
          "data": {
            "text/plain": [
              "ID                    1\n",
              "Height              5.5\n",
              "Weight              155\n",
              "Sex                Male\n",
              "Birthdate    01/01/2000\n",
              "Name: 0, dtype: object"
            ]
          },
          "execution_count": 38,
          "metadata": {},
          "output_type": "execute_result"
        }
      ],
      "source": [
        "df.loc[0,:]"
      ]
    },
    {
      "cell_type": "markdown",
      "metadata": {
        "id": "vXemjwNPrXMy"
      },
      "source": [
        "### DataFrame.iloc | Select Column Indexes & Rows Index Positions\n",
        "DataFrame provides indexing label iloc for accessing the column and rows by index positions i.e.\n",
        "*dataFrame.iloc[ROWS INDEX RANGE , COLUMNS INDEX RANGE]*\n",
        "\n",
        "It selects the columns and rows from DataFrame by index position specified in range. If ‘:’ is given in rows or column Index Range then all entries will be included for corresponding row or column."
      ]
    },
    {
      "cell_type": "code",
      "execution_count": 40,
      "metadata": {
        "colab": {
          "base_uri": "https://localhost:8080/",
          "height": 142
        },
        "id": "1oR4Aryzrk37",
        "outputId": "26d54d1f-6496-4710-f575-318e37b83f06"
      },
      "outputs": [
        {
          "data": {
            "text/html": [
              "<div>\n",
              "<style scoped>\n",
              "    .dataframe tbody tr th:only-of-type {\n",
              "        vertical-align: middle;\n",
              "    }\n",
              "\n",
              "    .dataframe tbody tr th {\n",
              "        vertical-align: top;\n",
              "    }\n",
              "\n",
              "    .dataframe thead th {\n",
              "        text-align: right;\n",
              "    }\n",
              "</style>\n",
              "<table border=\"1\" class=\"dataframe\">\n",
              "  <thead>\n",
              "    <tr style=\"text-align: right;\">\n",
              "      <th></th>\n",
              "      <th>ID</th>\n",
              "      <th>Height</th>\n",
              "      <th>Weight</th>\n",
              "      <th>Sex</th>\n",
              "      <th>Birthdate</th>\n",
              "    </tr>\n",
              "  </thead>\n",
              "  <tbody>\n",
              "    <tr>\n",
              "      <th>0</th>\n",
              "      <td>1</td>\n",
              "      <td>5.5</td>\n",
              "      <td>155</td>\n",
              "      <td>Male</td>\n",
              "      <td>01/01/2000</td>\n",
              "    </tr>\n",
              "    <tr>\n",
              "      <th>1</th>\n",
              "      <td>3</td>\n",
              "      <td>6.7</td>\n",
              "      <td>180</td>\n",
              "      <td>F</td>\n",
              "      <td>01/01/2000</td>\n",
              "    </tr>\n",
              "    <tr>\n",
              "      <th>2</th>\n",
              "      <td>5</td>\n",
              "      <td>3.5</td>\n",
              "      <td>200</td>\n",
              "      <td>M</td>\n",
              "      <td>01/01/2000</td>\n",
              "    </tr>\n",
              "  </tbody>\n",
              "</table>\n",
              "</div>"
            ],
            "text/plain": [
              "   ID  Height  Weight   Sex   Birthdate\n",
              "0   1     5.5     155  Male  01/01/2000\n",
              "1   3     6.7     180     F  01/01/2000\n",
              "2   5     3.5     200     M  01/01/2000"
            ]
          },
          "execution_count": 40,
          "metadata": {},
          "output_type": "execute_result"
        }
      ],
      "source": [
        "df.iloc[:,:]"
      ]
    },
    {
      "cell_type": "markdown",
      "metadata": {
        "id": "WIw5WQc6gsme"
      },
      "source": [
        "## 1.4. Variable conversion : "
      ]
    },
    {
      "cell_type": "code",
      "execution_count": 80,
      "metadata": {
        "colab": {
          "base_uri": "https://localhost:8080/",
          "height": 269
        },
        "id": "3lm5pLmBgrrW",
        "outputId": "f5a4dad5-7dc0-4820-8f90-1dc15061b8c9"
      },
      "outputs": [
        {
          "name": "stderr",
          "output_type": "stream",
          "text": [
            "C:\\Users\\lrnv\\AppData\\Local\\Temp\\ipykernel_3424\\2858300676.py:4: FutureWarning: A value is trying to be set on a copy of a DataFrame or Series through chained assignment using an inplace method.\n",
            "The behavior will change in pandas 3.0. This inplace method will never work because the intermediate object on which we are setting values always behaves as a copy.\n",
            "\n",
            "For example, when doing 'df[col].method(value, inplace=True)', try using 'df.method({col: value}, inplace=True)' or df[col] = df[col].method(value) instead, to perform the operation inplace on the original object.\n",
            "\n",
            "\n",
            "  df_petit.Country.replace(\"France\", np.nan, inplace=True)\n",
            "C:\\Users\\lrnv\\AppData\\Local\\Temp\\ipykernel_3424\\2858300676.py:6: FutureWarning: A value is trying to be set on a copy of a DataFrame or Series through chained assignment using an inplace method.\n",
            "The behavior will change in pandas 3.0. This inplace method will never work because the intermediate object on which we are setting values always behaves as a copy.\n",
            "\n",
            "For example, when doing 'df[col].method(value, inplace=True)', try using 'df.method({col: value}, inplace=True)' or df[col] = df[col].method(value) instead, to perform the operation inplace on the original object.\n",
            "\n",
            "\n",
            "  df_petit.Country.replace(np.nan, \"Was France\", inplace=True)\n"
          ]
        },
        {
          "data": {
            "text/html": [
              "<div>\n",
              "<style scoped>\n",
              "    .dataframe tbody tr th:only-of-type {\n",
              "        vertical-align: middle;\n",
              "    }\n",
              "\n",
              "    .dataframe tbody tr th {\n",
              "        vertical-align: top;\n",
              "    }\n",
              "\n",
              "    .dataframe thead th {\n",
              "        text-align: right;\n",
              "    }\n",
              "</style>\n",
              "<table border=\"1\" class=\"dataframe\">\n",
              "  <thead>\n",
              "    <tr style=\"text-align: right;\">\n",
              "      <th></th>\n",
              "      <th>Country</th>\n",
              "      <th>Age</th>\n",
              "    </tr>\n",
              "  </thead>\n",
              "  <tbody>\n",
              "    <tr>\n",
              "      <th>0</th>\n",
              "      <td>Was France</td>\n",
              "      <td>50</td>\n",
              "    </tr>\n",
              "    <tr>\n",
              "      <th>1</th>\n",
              "      <td>Spain</td>\n",
              "      <td>60</td>\n",
              "    </tr>\n",
              "    <tr>\n",
              "      <th>2</th>\n",
              "      <td>Germany</td>\n",
              "      <td>40</td>\n",
              "    </tr>\n",
              "    <tr>\n",
              "      <th>3</th>\n",
              "      <td>Spain</td>\n",
              "      <td>20</td>\n",
              "    </tr>\n",
              "    <tr>\n",
              "      <th>4</th>\n",
              "      <td>Germany</td>\n",
              "      <td>40</td>\n",
              "    </tr>\n",
              "    <tr>\n",
              "      <th>5</th>\n",
              "      <td>Was France</td>\n",
              "      <td>30</td>\n",
              "    </tr>\n",
              "    <tr>\n",
              "      <th>6</th>\n",
              "      <td>Italy</td>\n",
              "      <td>20</td>\n",
              "    </tr>\n",
              "  </tbody>\n",
              "</table>\n",
              "</div>"
            ],
            "text/plain": [
              "      Country  Age\n",
              "0  Was France   50\n",
              "1       Spain   60\n",
              "2     Germany   40\n",
              "3       Spain   20\n",
              "4     Germany   40\n",
              "5  Was France   30\n",
              "6       Italy   20"
            ]
          },
          "execution_count": 80,
          "metadata": {},
          "output_type": "execute_result"
        }
      ],
      "source": [
        "df_petit = pd.DataFrame({ 'Country': ['France','Spain','Germany', 'Spain','Germany', 'France', 'Italy'], 'Age': [50,60,40,20,40,30, 20] })\n",
        "df_petit\n",
        "\n",
        "df_petit.Country.replace(\"France\", np.nan, inplace=True)\n",
        "\n",
        "df_petit.Country.replace(np.nan, \"Was France\", inplace=True)\n",
        "df_petit\n",
        "\n"
      ]
    },
    {
      "cell_type": "markdown",
      "metadata": {
        "id": "xNAiczsdtNCp"
      },
      "source": [
        "#### Label encoding : \n",
        "Label Encoding refers to converting the labels into a numeric form so as to convert them into the machine-readable form. Machine learning algorithms can then decide in a better way how those labels must be operated. It is an important pre-processing step for the structured dataset in supervised learning."
      ]
    },
    {
      "cell_type": "code",
      "execution_count": 55,
      "metadata": {},
      "outputs": [],
      "source": [
        "df_petit['Country_cat'] = df_petit['Country'].astype('category').cat.codes"
      ]
    },
    {
      "cell_type": "code",
      "execution_count": null,
      "metadata": {
        "colab": {
          "base_uri": "https://localhost:8080/",
          "height": 269
        },
        "id": "KB0PLbHSsA0T",
        "outputId": "be5e1f32-f635-44a4-9288-20fd44c22bf5"
      },
      "outputs": [
        {
          "data": {
            "text/html": [
              "<div>\n",
              "<style scoped>\n",
              "    .dataframe tbody tr th:only-of-type {\n",
              "        vertical-align: middle;\n",
              "    }\n",
              "\n",
              "    .dataframe tbody tr th {\n",
              "        vertical-align: top;\n",
              "    }\n",
              "\n",
              "    .dataframe thead th {\n",
              "        text-align: right;\n",
              "    }\n",
              "</style>\n",
              "<table border=\"1\" class=\"dataframe\">\n",
              "  <thead>\n",
              "    <tr style=\"text-align: right;\">\n",
              "      <th></th>\n",
              "      <th>Country</th>\n",
              "      <th>Age</th>\n",
              "      <th>Country_cat</th>\n",
              "    </tr>\n",
              "  </thead>\n",
              "  <tbody>\n",
              "    <tr>\n",
              "      <th>0</th>\n",
              "      <td>France</td>\n",
              "      <td>50</td>\n",
              "      <td>0</td>\n",
              "    </tr>\n",
              "    <tr>\n",
              "      <th>1</th>\n",
              "      <td>Spain</td>\n",
              "      <td>60</td>\n",
              "      <td>3</td>\n",
              "    </tr>\n",
              "    <tr>\n",
              "      <th>2</th>\n",
              "      <td>Germany</td>\n",
              "      <td>40</td>\n",
              "      <td>1</td>\n",
              "    </tr>\n",
              "    <tr>\n",
              "      <th>3</th>\n",
              "      <td>Spain</td>\n",
              "      <td>20</td>\n",
              "      <td>3</td>\n",
              "    </tr>\n",
              "    <tr>\n",
              "      <th>4</th>\n",
              "      <td>Germany</td>\n",
              "      <td>40</td>\n",
              "      <td>1</td>\n",
              "    </tr>\n",
              "    <tr>\n",
              "      <th>5</th>\n",
              "      <td>France</td>\n",
              "      <td>30</td>\n",
              "      <td>0</td>\n",
              "    </tr>\n",
              "    <tr>\n",
              "      <th>6</th>\n",
              "      <td>Italy</td>\n",
              "      <td>20</td>\n",
              "      <td>2</td>\n",
              "    </tr>\n",
              "  </tbody>\n",
              "</table>\n",
              "</div>"
            ],
            "text/plain": [
              "   Country  Age  Country_cat\n",
              "0   France   50            0\n",
              "1    Spain   60            3\n",
              "2  Germany   40            1\n",
              "3    Spain   20            3\n",
              "4  Germany   40            1\n",
              "5   France   30            0\n",
              "6    Italy   20            2"
            ]
          },
          "execution_count": 104,
          "metadata": {
            "tags": []
          },
          "output_type": "execute_result"
        }
      ],
      "source": [
        "df_petit['Country_cat'] = df_petit['Country'].astype('category').cat.codes\n",
        "df_petit"
      ]
    },
    {
      "cell_type": "markdown",
      "metadata": {
        "id": "Ufhtt2PbtZ-h"
      },
      "source": [
        "#### One hot encoding"
      ]
    },
    {
      "cell_type": "code",
      "execution_count": 47,
      "metadata": {
        "colab": {
          "base_uri": "https://localhost:8080/"
        },
        "id": "eyRt0SgoYCh4",
        "outputId": "8d7ae7e4-937f-44f1-b78c-414c681d8951"
      },
      "outputs": [
        {
          "name": "stdout",
          "output_type": "stream",
          "text": [
            "Help on function get_dummies in module pandas.core.reshape.encoding:\n",
            "\n",
            "get_dummies(data, prefix=None, prefix_sep: 'str | Iterable[str] | dict[str, str]' = '_', dummy_na: 'bool' = False, columns=None, sparse: 'bool' = False, drop_first: 'bool' = False, dtype: 'NpDtype | None' = None) -> 'DataFrame'\n",
            "    Convert categorical variable into dummy/indicator variables.\n",
            "    \n",
            "    Each variable is converted in as many 0/1 variables as there are different\n",
            "    values. Columns in the output are each named after a value; if the input is\n",
            "    a DataFrame, the name of the original variable is prepended to the value.\n",
            "    \n",
            "    Parameters\n",
            "    ----------\n",
            "    data : array-like, Series, or DataFrame\n",
            "        Data of which to get dummy indicators.\n",
            "    prefix : str, list of str, or dict of str, default None\n",
            "        String to append DataFrame column names.\n",
            "        Pass a list with length equal to the number of columns\n",
            "        when calling get_dummies on a DataFrame. Alternatively, `prefix`\n",
            "        can be a dictionary mapping column names to prefixes.\n",
            "    prefix_sep : str, default '_'\n",
            "        If appending prefix, separator/delimiter to use. Or pass a\n",
            "        list or dictionary as with `prefix`.\n",
            "    dummy_na : bool, default False\n",
            "        Add a column to indicate NaNs, if False NaNs are ignored.\n",
            "    columns : list-like, default None\n",
            "        Column names in the DataFrame to be encoded.\n",
            "        If `columns` is None then all the columns with\n",
            "        `object`, `string`, or `category` dtype will be converted.\n",
            "    sparse : bool, default False\n",
            "        Whether the dummy-encoded columns should be backed by\n",
            "        a :class:`SparseArray` (True) or a regular NumPy array (False).\n",
            "    drop_first : bool, default False\n",
            "        Whether to get k-1 dummies out of k categorical levels by removing the\n",
            "        first level.\n",
            "    dtype : dtype, default bool\n",
            "        Data type for new columns. Only a single dtype is allowed.\n",
            "    \n",
            "    Returns\n",
            "    -------\n",
            "    DataFrame\n",
            "        Dummy-coded data. If `data` contains other columns than the\n",
            "        dummy-coded one(s), these will be prepended, unaltered, to the result.\n",
            "    \n",
            "    See Also\n",
            "    --------\n",
            "    Series.str.get_dummies : Convert Series of strings to dummy codes.\n",
            "    :func:`~pandas.from_dummies` : Convert dummy codes to categorical ``DataFrame``.\n",
            "    \n",
            "    Notes\n",
            "    -----\n",
            "    Reference :ref:`the user guide <reshaping.dummies>` for more examples.\n",
            "    \n",
            "    Examples\n",
            "    --------\n",
            "    >>> s = pd.Series(list('abca'))\n",
            "    \n",
            "    >>> pd.get_dummies(s)\n",
            "           a      b      c\n",
            "    0   True  False  False\n",
            "    1  False   True  False\n",
            "    2  False  False   True\n",
            "    3   True  False  False\n",
            "    \n",
            "    >>> s1 = ['a', 'b', np.nan]\n",
            "    \n",
            "    >>> pd.get_dummies(s1)\n",
            "           a      b\n",
            "    0   True  False\n",
            "    1  False   True\n",
            "    2  False  False\n",
            "    \n",
            "    >>> pd.get_dummies(s1, dummy_na=True)\n",
            "           a      b    NaN\n",
            "    0   True  False  False\n",
            "    1  False   True  False\n",
            "    2  False  False   True\n",
            "    \n",
            "    >>> df = pd.DataFrame({'A': ['a', 'b', 'a'], 'B': ['b', 'a', 'c'],\n",
            "    ...                    'C': [1, 2, 3]})\n",
            "    \n",
            "    >>> pd.get_dummies(df, prefix=['col1', 'col2'])\n",
            "       C  col1_a  col1_b  col2_a  col2_b  col2_c\n",
            "    0  1    True   False   False    True   False\n",
            "    1  2   False    True    True   False   False\n",
            "    2  3    True   False   False   False    True\n",
            "    \n",
            "    >>> pd.get_dummies(pd.Series(list('abcaa')))\n",
            "           a      b      c\n",
            "    0   True  False  False\n",
            "    1  False   True  False\n",
            "    2  False  False   True\n",
            "    3   True  False  False\n",
            "    4   True  False  False\n",
            "    \n",
            "    >>> pd.get_dummies(pd.Series(list('abcaa')), drop_first=True)\n",
            "           b      c\n",
            "    0  False  False\n",
            "    1   True  False\n",
            "    2  False   True\n",
            "    3  False  False\n",
            "    4  False  False\n",
            "    \n",
            "    >>> pd.get_dummies(pd.Series(list('abc')), dtype=float)\n",
            "         a    b    c\n",
            "    0  1.0  0.0  0.0\n",
            "    1  0.0  1.0  0.0\n",
            "    2  0.0  0.0  1.0\n",
            "\n"
          ]
        }
      ],
      "source": [
        "help(pd.get_dummies)"
      ]
    },
    {
      "cell_type": "code",
      "execution_count": 56,
      "metadata": {
        "colab": {
          "base_uri": "https://localhost:8080/",
          "height": 206
        },
        "id": "bm8IC3kbpkxZ",
        "outputId": "cb6d3da0-2927-463e-9a4a-7712dad799f4"
      },
      "outputs": [
        {
          "data": {
            "text/html": [
              "<div>\n",
              "<style scoped>\n",
              "    .dataframe tbody tr th:only-of-type {\n",
              "        vertical-align: middle;\n",
              "    }\n",
              "\n",
              "    .dataframe tbody tr th {\n",
              "        vertical-align: top;\n",
              "    }\n",
              "\n",
              "    .dataframe thead th {\n",
              "        text-align: right;\n",
              "    }\n",
              "</style>\n",
              "<table border=\"1\" class=\"dataframe\">\n",
              "  <thead>\n",
              "    <tr style=\"text-align: right;\">\n",
              "      <th></th>\n",
              "      <th>Age</th>\n",
              "      <th>Country_cat</th>\n",
              "      <th>Country_France</th>\n",
              "      <th>Country_Germany</th>\n",
              "      <th>Country_Italy</th>\n",
              "      <th>Country_Spain</th>\n",
              "    </tr>\n",
              "  </thead>\n",
              "  <tbody>\n",
              "    <tr>\n",
              "      <th>0</th>\n",
              "      <td>50</td>\n",
              "      <td>0</td>\n",
              "      <td>True</td>\n",
              "      <td>False</td>\n",
              "      <td>False</td>\n",
              "      <td>False</td>\n",
              "    </tr>\n",
              "    <tr>\n",
              "      <th>1</th>\n",
              "      <td>60</td>\n",
              "      <td>3</td>\n",
              "      <td>False</td>\n",
              "      <td>False</td>\n",
              "      <td>False</td>\n",
              "      <td>True</td>\n",
              "    </tr>\n",
              "    <tr>\n",
              "      <th>2</th>\n",
              "      <td>40</td>\n",
              "      <td>1</td>\n",
              "      <td>False</td>\n",
              "      <td>True</td>\n",
              "      <td>False</td>\n",
              "      <td>False</td>\n",
              "    </tr>\n",
              "    <tr>\n",
              "      <th>3</th>\n",
              "      <td>20</td>\n",
              "      <td>3</td>\n",
              "      <td>False</td>\n",
              "      <td>False</td>\n",
              "      <td>False</td>\n",
              "      <td>True</td>\n",
              "    </tr>\n",
              "    <tr>\n",
              "      <th>4</th>\n",
              "      <td>40</td>\n",
              "      <td>1</td>\n",
              "      <td>False</td>\n",
              "      <td>True</td>\n",
              "      <td>False</td>\n",
              "      <td>False</td>\n",
              "    </tr>\n",
              "  </tbody>\n",
              "</table>\n",
              "</div>"
            ],
            "text/plain": [
              "   Age  Country_cat  Country_France  Country_Germany  Country_Italy  \\\n",
              "0   50            0            True            False          False   \n",
              "1   60            3           False            False          False   \n",
              "2   40            1           False             True          False   \n",
              "3   20            3           False            False          False   \n",
              "4   40            1           False             True          False   \n",
              "\n",
              "   Country_Spain  \n",
              "0          False  \n",
              "1           True  \n",
              "2          False  \n",
              "3           True  \n",
              "4          False  "
            ]
          },
          "execution_count": 56,
          "metadata": {},
          "output_type": "execute_result"
        }
      ],
      "source": [
        "\n",
        "df_petit = pd.get_dummies(df_petit,prefix=['Country'], columns = ['Country'])\n",
        "df_petit.head()"
      ]
    },
    {
      "cell_type": "markdown",
      "metadata": {
        "id": "44PB9EN9GI2c"
      },
      "source": [
        "**Exercise :** Create a dataframe with 3 columns with the characteristics : ID, sex (M or F), frailty degree (FB, M, F).  Convert the categorical variables using label encoding and one-hot-encoding."
      ]
    },
    {
      "cell_type": "code",
      "execution_count": 59,
      "metadata": {},
      "outputs": [
        {
          "data": {
            "text/html": [
              "<div>\n",
              "<style scoped>\n",
              "    .dataframe tbody tr th:only-of-type {\n",
              "        vertical-align: middle;\n",
              "    }\n",
              "\n",
              "    .dataframe tbody tr th {\n",
              "        vertical-align: top;\n",
              "    }\n",
              "\n",
              "    .dataframe thead th {\n",
              "        text-align: right;\n",
              "    }\n",
              "</style>\n",
              "<table border=\"1\" class=\"dataframe\">\n",
              "  <thead>\n",
              "    <tr style=\"text-align: right;\">\n",
              "      <th></th>\n",
              "      <th>ID</th>\n",
              "      <th>Sex</th>\n",
              "      <th>Sex_codes</th>\n",
              "      <th>failty_degree_FB</th>\n",
              "      <th>failty_degree_M</th>\n",
              "    </tr>\n",
              "  </thead>\n",
              "  <tbody>\n",
              "    <tr>\n",
              "      <th>0</th>\n",
              "      <td>1</td>\n",
              "      <td>M</td>\n",
              "      <td>1</td>\n",
              "      <td>False</td>\n",
              "      <td>False</td>\n",
              "    </tr>\n",
              "    <tr>\n",
              "      <th>1</th>\n",
              "      <td>2</td>\n",
              "      <td>F</td>\n",
              "      <td>0</td>\n",
              "      <td>False</td>\n",
              "      <td>True</td>\n",
              "    </tr>\n",
              "    <tr>\n",
              "      <th>2</th>\n",
              "      <td>3</td>\n",
              "      <td>M</td>\n",
              "      <td>1</td>\n",
              "      <td>True</td>\n",
              "      <td>False</td>\n",
              "    </tr>\n",
              "    <tr>\n",
              "      <th>3</th>\n",
              "      <td>4</td>\n",
              "      <td>M</td>\n",
              "      <td>1</td>\n",
              "      <td>False</td>\n",
              "      <td>False</td>\n",
              "    </tr>\n",
              "    <tr>\n",
              "      <th>4</th>\n",
              "      <td>5</td>\n",
              "      <td>F</td>\n",
              "      <td>0</td>\n",
              "      <td>False</td>\n",
              "      <td>True</td>\n",
              "    </tr>\n",
              "    <tr>\n",
              "      <th>5</th>\n",
              "      <td>6</td>\n",
              "      <td>M</td>\n",
              "      <td>1</td>\n",
              "      <td>True</td>\n",
              "      <td>False</td>\n",
              "    </tr>\n",
              "  </tbody>\n",
              "</table>\n",
              "</div>"
            ],
            "text/plain": [
              "   ID Sex  Sex_codes  failty_degree_FB  failty_degree_M\n",
              "0   1   M          1             False            False\n",
              "1   2   F          0             False             True\n",
              "2   3   M          1              True            False\n",
              "3   4   M          1             False            False\n",
              "4   5   F          0             False             True\n",
              "5   6   M          1              True            False"
            ]
          },
          "execution_count": 59,
          "metadata": {},
          "output_type": "execute_result"
        }
      ],
      "source": [
        "df = pd.DataFrame({\n",
        "    \"ID\": [1,2,3,4,5,6],\n",
        "    \"Sex\": ['M', 'F', 'M','M', 'F', 'M'],\n",
        "    \"FD\": ['F','M','FB','F','M','FB']\n",
        "})\n",
        "df['Sex_codes'] = df['Sex'].astype('category').cat.codes\n",
        "pd.get_dummies(df,prefix=['failty_degree'],columns=['FD'],drop_first=True)"
      ]
    },
    {
      "cell_type": "markdown",
      "metadata": {
        "id": "kXyzi3M_5jLK"
      },
      "source": [
        "## 1.5. Dealing with dates \n",
        "https://pandas.pydata.org/docs/reference/api/pandas.to_datetime.html\n"
      ]
    },
    {
      "cell_type": "code",
      "execution_count": 60,
      "metadata": {
        "id": "4NObObAa_nc4"
      },
      "outputs": [],
      "source": [
        "#Library to deeal with dates\n",
        "import datetime"
      ]
    },
    {
      "cell_type": "code",
      "execution_count": 61,
      "metadata": {
        "colab": {
          "base_uri": "https://localhost:8080/"
        },
        "id": "CGZSmjraD3XK",
        "outputId": "d5cfeece-40c0-4947-f046-8afad2bd8ea3"
      },
      "outputs": [
        {
          "data": {
            "text/plain": [
              "DatetimeIndex(['2018-01-01', '2018-01-01', '2018-01-01'], dtype='datetime64[ns]', freq=None)"
            ]
          },
          "execution_count": 61,
          "metadata": {},
          "output_type": "execute_result"
        }
      ],
      "source": [
        "dti = pd.to_datetime(\n",
        "    [\"1/1/2018\", np.datetime64(\"2018-01-01\"), datetime.datetime(2018, 1, 1)]\n",
        ")\n",
        "dti"
      ]
    },
    {
      "cell_type": "code",
      "execution_count": 62,
      "metadata": {
        "colab": {
          "base_uri": "https://localhost:8080/",
          "height": 142
        },
        "id": "pl61c0lfD8pR",
        "outputId": "3a8ca3ad-0833-46bf-9daa-eae4fe2dfc0a"
      },
      "outputs": [
        {
          "data": {
            "text/html": [
              "<div>\n",
              "<style scoped>\n",
              "    .dataframe tbody tr th:only-of-type {\n",
              "        vertical-align: middle;\n",
              "    }\n",
              "\n",
              "    .dataframe tbody tr th {\n",
              "        vertical-align: top;\n",
              "    }\n",
              "\n",
              "    .dataframe thead th {\n",
              "        text-align: right;\n",
              "    }\n",
              "</style>\n",
              "<table border=\"1\" class=\"dataframe\">\n",
              "  <thead>\n",
              "    <tr style=\"text-align: right;\">\n",
              "      <th></th>\n",
              "      <th>date</th>\n",
              "      <th>value</th>\n",
              "    </tr>\n",
              "  </thead>\n",
              "  <tbody>\n",
              "    <tr>\n",
              "      <th>0</th>\n",
              "      <td>2000-03-10</td>\n",
              "      <td>2</td>\n",
              "    </tr>\n",
              "    <tr>\n",
              "      <th>1</th>\n",
              "      <td>2000-03-11</td>\n",
              "      <td>3</td>\n",
              "    </tr>\n",
              "    <tr>\n",
              "      <th>2</th>\n",
              "      <td>2000-03-12</td>\n",
              "      <td>4</td>\n",
              "    </tr>\n",
              "  </tbody>\n",
              "</table>\n",
              "</div>"
            ],
            "text/plain": [
              "        date  value\n",
              "0 2000-03-10      2\n",
              "1 2000-03-11      3\n",
              "2 2000-03-12      4"
            ]
          },
          "execution_count": 62,
          "metadata": {},
          "output_type": "execute_result"
        }
      ],
      "source": [
        "df = pd.DataFrame({'date': ['3/10/2000', '3/11/2000', '3/12/2000'],\n",
        "                   'value': [2, 3, 4]})\n",
        "df['date'] = pd.to_datetime(df['date'])\n",
        "df"
      ]
    },
    {
      "cell_type": "markdown",
      "metadata": {
        "id": "ELOecizvEIX3"
      },
      "source": [
        "### Cutomize the date format"
      ]
    },
    {
      "cell_type": "code",
      "execution_count": 65,
      "metadata": {
        "colab": {
          "base_uri": "https://localhost:8080/",
          "height": 142
        },
        "id": "9xdbXV6LD9bz",
        "outputId": "7ba5ca62-025a-4ee5-c8e0-81410467cddc"
      },
      "outputs": [
        {
          "data": {
            "text/html": [
              "<div>\n",
              "<style scoped>\n",
              "    .dataframe tbody tr th:only-of-type {\n",
              "        vertical-align: middle;\n",
              "    }\n",
              "\n",
              "    .dataframe tbody tr th {\n",
              "        vertical-align: top;\n",
              "    }\n",
              "\n",
              "    .dataframe thead th {\n",
              "        text-align: right;\n",
              "    }\n",
              "</style>\n",
              "<table border=\"1\" class=\"dataframe\">\n",
              "  <thead>\n",
              "    <tr style=\"text-align: right;\">\n",
              "      <th></th>\n",
              "      <th>date</th>\n",
              "      <th>value</th>\n",
              "    </tr>\n",
              "  </thead>\n",
              "  <tbody>\n",
              "    <tr>\n",
              "      <th>0</th>\n",
              "      <td>2016-10-06 20:30:00</td>\n",
              "      <td>2</td>\n",
              "    </tr>\n",
              "    <tr>\n",
              "      <th>1</th>\n",
              "      <td>2016-01-07 19:45:00</td>\n",
              "      <td>3</td>\n",
              "    </tr>\n",
              "    <tr>\n",
              "      <th>2</th>\n",
              "      <td>2013-12-10 04:05:00</td>\n",
              "      <td>4</td>\n",
              "    </tr>\n",
              "  </tbody>\n",
              "</table>\n",
              "</div>"
            ],
            "text/plain": [
              "                 date  value\n",
              "0 2016-10-06 20:30:00      2\n",
              "1 2016-01-07 19:45:00      3\n",
              "2 2013-12-10 04:05:00      4"
            ]
          },
          "execution_count": 65,
          "metadata": {},
          "output_type": "execute_result"
        }
      ],
      "source": [
        "df = pd.DataFrame({'date': ['2016-6-10 20:30', \n",
        "                            '2016-7-1 19:45', \n",
        "                            '2013-10-12 4:5'],\n",
        "                   'value': [2, 3, 4]})\n",
        "df['date'] = pd.to_datetime(df['date'], format=\"%Y-%d-%m %H:%M\")\n",
        "df"
      ]
    },
    {
      "cell_type": "markdown",
      "metadata": {
        "id": "IlB5IQf-EXbe"
      },
      "source": [
        "**Exercise :** Check the Pandas documentation and create a dataframe with a columns with dates and try different datetypes.\n"
      ]
    },
    {
      "cell_type": "markdown",
      "metadata": {
        "id": "37pakBFQuz75"
      },
      "source": [
        "### Access date elements dt. accessor :\n",
        "The dt. accessor is an object that allows to access the different data and time elements in a datatime object.\n",
        "https://pandas.pydata.org/docs/reference/api/pandas.Series.dt.html"
      ]
    },
    {
      "cell_type": "code",
      "execution_count": 66,
      "metadata": {
        "colab": {
          "base_uri": "https://localhost:8080/",
          "height": 142
        },
        "id": "g-vzqp_pu73w",
        "outputId": "94f42bed-7e61-4ee5-dc9f-1a5445991d66"
      },
      "outputs": [
        {
          "data": {
            "text/html": [
              "<div>\n",
              "<style scoped>\n",
              "    .dataframe tbody tr th:only-of-type {\n",
              "        vertical-align: middle;\n",
              "    }\n",
              "\n",
              "    .dataframe tbody tr th {\n",
              "        vertical-align: top;\n",
              "    }\n",
              "\n",
              "    .dataframe thead th {\n",
              "        text-align: right;\n",
              "    }\n",
              "</style>\n",
              "<table border=\"1\" class=\"dataframe\">\n",
              "  <thead>\n",
              "    <tr style=\"text-align: right;\">\n",
              "      <th></th>\n",
              "      <th>date</th>\n",
              "      <th>value</th>\n",
              "      <th>date_only</th>\n",
              "      <th>time_only</th>\n",
              "      <th>hour_only</th>\n",
              "    </tr>\n",
              "  </thead>\n",
              "  <tbody>\n",
              "    <tr>\n",
              "      <th>0</th>\n",
              "      <td>2016-10-06 20:30:00</td>\n",
              "      <td>2</td>\n",
              "      <td>2016-10-06</td>\n",
              "      <td>20:30:00</td>\n",
              "      <td>20</td>\n",
              "    </tr>\n",
              "    <tr>\n",
              "      <th>1</th>\n",
              "      <td>2016-01-07 19:45:00</td>\n",
              "      <td>3</td>\n",
              "      <td>2016-01-07</td>\n",
              "      <td>19:45:00</td>\n",
              "      <td>19</td>\n",
              "    </tr>\n",
              "    <tr>\n",
              "      <th>2</th>\n",
              "      <td>2013-12-10 04:05:00</td>\n",
              "      <td>4</td>\n",
              "      <td>2013-12-10</td>\n",
              "      <td>04:05:00</td>\n",
              "      <td>4</td>\n",
              "    </tr>\n",
              "  </tbody>\n",
              "</table>\n",
              "</div>"
            ],
            "text/plain": [
              "                 date  value   date_only time_only  hour_only\n",
              "0 2016-10-06 20:30:00      2  2016-10-06  20:30:00         20\n",
              "1 2016-01-07 19:45:00      3  2016-01-07  19:45:00         19\n",
              "2 2013-12-10 04:05:00      4  2013-12-10  04:05:00          4"
            ]
          },
          "execution_count": 66,
          "metadata": {},
          "output_type": "execute_result"
        }
      ],
      "source": [
        "df['date_only'] = df['date'].dt.date\n",
        "\n",
        "df['time_only'] = df['date'].dt.time\n",
        "\n",
        "df['hour_only'] = df['date'].dt.hour\n",
        "\n",
        "df"
      ]
    },
    {
      "cell_type": "markdown",
      "metadata": {
        "id": "k_VcObZp5P6a"
      },
      "source": [
        "# 2. Importing datasets\n",
        "\n",
        "https://pandas.pydata.org/pandas-docs/stable/reference/api/pandas.read_csv.html\n",
        "\n"
      ]
    },
    {
      "cell_type": "code",
      "execution_count": 70,
      "metadata": {
        "colab": {
          "base_uri": "https://localhost:8080/",
          "height": 204
        },
        "id": "p2Oe9uwYzLGD",
        "outputId": "fc684fb4-5b22-4532-acc5-1d159f967efe"
      },
      "outputs": [
        {
          "data": {
            "text/html": [
              "<div>\n",
              "<style scoped>\n",
              "    .dataframe tbody tr th:only-of-type {\n",
              "        vertical-align: middle;\n",
              "    }\n",
              "\n",
              "    .dataframe tbody tr th {\n",
              "        vertical-align: top;\n",
              "    }\n",
              "\n",
              "    .dataframe thead th {\n",
              "        text-align: right;\n",
              "    }\n",
              "</style>\n",
              "<table border=\"1\" class=\"dataframe\">\n",
              "  <thead>\n",
              "    <tr style=\"text-align: right;\">\n",
              "      <th></th>\n",
              "      <th>Pregnancies</th>\n",
              "      <th>Glucose</th>\n",
              "      <th>BloodPressure</th>\n",
              "      <th>SkinThickness</th>\n",
              "      <th>Insulin</th>\n",
              "      <th>BMI</th>\n",
              "      <th>DiabetesPedigreeFunction</th>\n",
              "      <th>Age</th>\n",
              "      <th>Outcome</th>\n",
              "    </tr>\n",
              "  </thead>\n",
              "  <tbody>\n",
              "    <tr>\n",
              "      <th>0</th>\n",
              "      <td>6</td>\n",
              "      <td>148</td>\n",
              "      <td>72</td>\n",
              "      <td>35</td>\n",
              "      <td>0</td>\n",
              "      <td>33.6</td>\n",
              "      <td>0.627</td>\n",
              "      <td>50</td>\n",
              "      <td>1</td>\n",
              "    </tr>\n",
              "    <tr>\n",
              "      <th>1</th>\n",
              "      <td>1</td>\n",
              "      <td>85</td>\n",
              "      <td>66</td>\n",
              "      <td>29</td>\n",
              "      <td>0</td>\n",
              "      <td>26.6</td>\n",
              "      <td>0.351</td>\n",
              "      <td>31</td>\n",
              "      <td>0</td>\n",
              "    </tr>\n",
              "    <tr>\n",
              "      <th>2</th>\n",
              "      <td>8</td>\n",
              "      <td>183</td>\n",
              "      <td>64</td>\n",
              "      <td>0</td>\n",
              "      <td>0</td>\n",
              "      <td>23.3</td>\n",
              "      <td>0.672</td>\n",
              "      <td>32</td>\n",
              "      <td>1</td>\n",
              "    </tr>\n",
              "    <tr>\n",
              "      <th>3</th>\n",
              "      <td>1</td>\n",
              "      <td>89</td>\n",
              "      <td>66</td>\n",
              "      <td>23</td>\n",
              "      <td>94</td>\n",
              "      <td>28.1</td>\n",
              "      <td>0.167</td>\n",
              "      <td>21</td>\n",
              "      <td>0</td>\n",
              "    </tr>\n",
              "    <tr>\n",
              "      <th>4</th>\n",
              "      <td>0</td>\n",
              "      <td>137</td>\n",
              "      <td>40</td>\n",
              "      <td>35</td>\n",
              "      <td>168</td>\n",
              "      <td>43.1</td>\n",
              "      <td>2.288</td>\n",
              "      <td>33</td>\n",
              "      <td>1</td>\n",
              "    </tr>\n",
              "  </tbody>\n",
              "</table>\n",
              "</div>"
            ],
            "text/plain": [
              "   Pregnancies  Glucose  BloodPressure  SkinThickness  Insulin   BMI  \\\n",
              "0            6      148             72             35        0  33.6   \n",
              "1            1       85             66             29        0  26.6   \n",
              "2            8      183             64              0        0  23.3   \n",
              "3            1       89             66             23       94  28.1   \n",
              "4            0      137             40             35      168  43.1   \n",
              "\n",
              "   DiabetesPedigreeFunction  Age  Outcome  \n",
              "0                     0.627   50        1  \n",
              "1                     0.351   31        0  \n",
              "2                     0.672   32        1  \n",
              "3                     0.167   21        0  \n",
              "4                     2.288   33        1  "
            ]
          },
          "execution_count": 70,
          "metadata": {},
          "output_type": "execute_result"
        }
      ],
      "source": [
        "df = pd.read_csv(\"https://raw.githubusercontent.com/rakelup/EPICLIN2021/master/diabetes.csv\", sep=\",\")\n",
        "df.head()"
      ]
    },
    {
      "cell_type": "markdown",
      "metadata": {
        "id": "a7J59DUMk59C"
      },
      "source": [
        "## 2.1 Data overview"
      ]
    },
    {
      "cell_type": "code",
      "execution_count": 71,
      "metadata": {
        "colab": {
          "base_uri": "https://localhost:8080/"
        },
        "id": "DBCVea2uN6C-",
        "outputId": "8bcfb50c-d23f-40ce-f53c-fcfbcdddee74",
        "scrolled": true
      },
      "outputs": [
        {
          "name": "stdout",
          "output_type": "stream",
          "text": [
            "Rows     :  768\n",
            "Coloumns  :  9\n",
            "\n",
            "Features : \n",
            " ['Pregnancies', 'Glucose', 'BloodPressure', 'SkinThickness', 'Insulin', 'BMI', 'DiabetesPedigreeFunction', 'Age', 'Outcome']\n",
            "\n",
            "Number of Missing values:   0\n",
            "\n",
            "Number of unique values :  \n",
            " Pregnancies                  17\n",
            "Glucose                     136\n",
            "BloodPressure                47\n",
            "SkinThickness                51\n",
            "Insulin                     186\n",
            "BMI                         248\n",
            "DiabetesPedigreeFunction    517\n",
            "Age                          52\n",
            "Outcome                       2\n",
            "dtype: int64\n"
          ]
        }
      ],
      "source": [
        "# Data overview\n",
        "print ('Rows     : ', df.shape[0])\n",
        "print ('Coloumns  : ', df.shape[1])\n",
        "print ('\\nFeatures : \\n', df.columns.tolist())\n",
        "print ('\\nNumber of Missing values:  ', df.isnull().sum().values.sum())\n",
        "print ('\\nNumber of unique values :  \\n', df.nunique())"
      ]
    },
    {
      "cell_type": "code",
      "execution_count": null,
      "metadata": {
        "colab": {
          "base_uri": "https://localhost:8080/",
          "height": 300
        },
        "id": "6nM28K1aN6DA",
        "outputId": "b6c862e5-14aa-4f94-c50a-ad01c2857b12"
      },
      "outputs": [
        {
          "data": {
            "text/html": [
              "<div>\n",
              "<style scoped>\n",
              "    .dataframe tbody tr th:only-of-type {\n",
              "        vertical-align: middle;\n",
              "    }\n",
              "\n",
              "    .dataframe tbody tr th {\n",
              "        vertical-align: top;\n",
              "    }\n",
              "\n",
              "    .dataframe thead th {\n",
              "        text-align: right;\n",
              "    }\n",
              "</style>\n",
              "<table border=\"1\" class=\"dataframe\">\n",
              "  <thead>\n",
              "    <tr style=\"text-align: right;\">\n",
              "      <th></th>\n",
              "      <th>Pregnancies</th>\n",
              "      <th>Glucose</th>\n",
              "      <th>BloodPressure</th>\n",
              "      <th>SkinThickness</th>\n",
              "      <th>Insulin</th>\n",
              "      <th>BMI</th>\n",
              "      <th>DiabetesPedigreeFunction</th>\n",
              "      <th>Age</th>\n",
              "      <th>Outcome</th>\n",
              "    </tr>\n",
              "  </thead>\n",
              "  <tbody>\n",
              "    <tr>\n",
              "      <th>count</th>\n",
              "      <td>768.000000</td>\n",
              "      <td>768.000000</td>\n",
              "      <td>768.000000</td>\n",
              "      <td>768.000000</td>\n",
              "      <td>768.000000</td>\n",
              "      <td>768.000000</td>\n",
              "      <td>768.000000</td>\n",
              "      <td>768.000000</td>\n",
              "      <td>768.000000</td>\n",
              "    </tr>\n",
              "    <tr>\n",
              "      <th>mean</th>\n",
              "      <td>3.845052</td>\n",
              "      <td>120.894531</td>\n",
              "      <td>69.105469</td>\n",
              "      <td>20.536458</td>\n",
              "      <td>79.799479</td>\n",
              "      <td>31.992578</td>\n",
              "      <td>0.471876</td>\n",
              "      <td>33.240885</td>\n",
              "      <td>0.348958</td>\n",
              "    </tr>\n",
              "    <tr>\n",
              "      <th>std</th>\n",
              "      <td>3.369578</td>\n",
              "      <td>31.972618</td>\n",
              "      <td>19.355807</td>\n",
              "      <td>15.952218</td>\n",
              "      <td>115.244002</td>\n",
              "      <td>7.884160</td>\n",
              "      <td>0.331329</td>\n",
              "      <td>11.760232</td>\n",
              "      <td>0.476951</td>\n",
              "    </tr>\n",
              "    <tr>\n",
              "      <th>min</th>\n",
              "      <td>0.000000</td>\n",
              "      <td>0.000000</td>\n",
              "      <td>0.000000</td>\n",
              "      <td>0.000000</td>\n",
              "      <td>0.000000</td>\n",
              "      <td>0.000000</td>\n",
              "      <td>0.078000</td>\n",
              "      <td>21.000000</td>\n",
              "      <td>0.000000</td>\n",
              "    </tr>\n",
              "    <tr>\n",
              "      <th>25%</th>\n",
              "      <td>1.000000</td>\n",
              "      <td>99.000000</td>\n",
              "      <td>62.000000</td>\n",
              "      <td>0.000000</td>\n",
              "      <td>0.000000</td>\n",
              "      <td>27.300000</td>\n",
              "      <td>0.243750</td>\n",
              "      <td>24.000000</td>\n",
              "      <td>0.000000</td>\n",
              "    </tr>\n",
              "    <tr>\n",
              "      <th>50%</th>\n",
              "      <td>3.000000</td>\n",
              "      <td>117.000000</td>\n",
              "      <td>72.000000</td>\n",
              "      <td>23.000000</td>\n",
              "      <td>30.500000</td>\n",
              "      <td>32.000000</td>\n",
              "      <td>0.372500</td>\n",
              "      <td>29.000000</td>\n",
              "      <td>0.000000</td>\n",
              "    </tr>\n",
              "    <tr>\n",
              "      <th>75%</th>\n",
              "      <td>6.000000</td>\n",
              "      <td>140.250000</td>\n",
              "      <td>80.000000</td>\n",
              "      <td>32.000000</td>\n",
              "      <td>127.250000</td>\n",
              "      <td>36.600000</td>\n",
              "      <td>0.626250</td>\n",
              "      <td>41.000000</td>\n",
              "      <td>1.000000</td>\n",
              "    </tr>\n",
              "    <tr>\n",
              "      <th>max</th>\n",
              "      <td>17.000000</td>\n",
              "      <td>199.000000</td>\n",
              "      <td>122.000000</td>\n",
              "      <td>99.000000</td>\n",
              "      <td>846.000000</td>\n",
              "      <td>67.100000</td>\n",
              "      <td>2.420000</td>\n",
              "      <td>81.000000</td>\n",
              "      <td>1.000000</td>\n",
              "    </tr>\n",
              "  </tbody>\n",
              "</table>\n",
              "</div>"
            ],
            "text/plain": [
              "       Pregnancies     Glucose  ...         Age     Outcome\n",
              "count   768.000000  768.000000  ...  768.000000  768.000000\n",
              "mean      3.845052  120.894531  ...   33.240885    0.348958\n",
              "std       3.369578   31.972618  ...   11.760232    0.476951\n",
              "min       0.000000    0.000000  ...   21.000000    0.000000\n",
              "25%       1.000000   99.000000  ...   24.000000    0.000000\n",
              "50%       3.000000  117.000000  ...   29.000000    0.000000\n",
              "75%       6.000000  140.250000  ...   41.000000    1.000000\n",
              "max      17.000000  199.000000  ...   81.000000    1.000000\n",
              "\n",
              "[8 rows x 9 columns]"
            ]
          },
          "execution_count": 98,
          "metadata": {
            "tags": []
          },
          "output_type": "execute_result"
        }
      ],
      "source": [
        "df.describe()"
      ]
    },
    {
      "cell_type": "code",
      "execution_count": null,
      "metadata": {
        "colab": {
          "base_uri": "https://localhost:8080/"
        },
        "id": "sC5kLiJT_Z6O",
        "outputId": "b392fd69-1ca5-4679-9f99-b5b721261b83"
      },
      "outputs": [
        {
          "data": {
            "text/plain": [
              "Index(['Pregnancies', 'Glucose', 'BloodPressure', 'SkinThickness', 'Insulin',\n",
              "       'BMI', 'DiabetesPedigreeFunction', 'Age', 'Outcome'],\n",
              "      dtype='object')"
            ]
          },
          "execution_count": 99,
          "metadata": {
            "tags": []
          },
          "output_type": "execute_result"
        }
      ],
      "source": [
        "df.columns"
      ]
    },
    {
      "cell_type": "markdown",
      "metadata": {
        "id": "LI1S5CY6I5Rn"
      },
      "source": [
        "# 3.  Cleaning data in a dataframe: \n",
        "1. Dealing with missing values\n",
        "2. Data in wrong format\n",
        "3. Wrong data\n",
        "4. Duplicates\n"
      ]
    },
    {
      "cell_type": "markdown",
      "metadata": {
        "id": "rsnaBoKB5y0u"
      },
      "source": [
        "## 3.1. Dealing with missing values : \n",
        "\n",
        "Handling missing values is an essential part of data cleaning and preparation process since almost all data in real life comes with some missing values.\n"
      ]
    },
    {
      "cell_type": "markdown",
      "metadata": {
        "id": "z67Cq_fc0EAb"
      },
      "source": [
        "### Check for missing values"
      ]
    },
    {
      "cell_type": "code",
      "execution_count": 72,
      "metadata": {
        "colab": {
          "base_uri": "https://localhost:8080/"
        },
        "id": "JVh-FwSrN6C-",
        "outputId": "7263ec76-6678-485e-e12a-15d7ee230993",
        "scrolled": true
      },
      "outputs": [
        {
          "name": "stdout",
          "output_type": "stream",
          "text": [
            "<class 'pandas.core.frame.DataFrame'>\n",
            "RangeIndex: 768 entries, 0 to 767\n",
            "Data columns (total 9 columns):\n",
            " #   Column                    Non-Null Count  Dtype  \n",
            "---  ------                    --------------  -----  \n",
            " 0   Pregnancies               768 non-null    int64  \n",
            " 1   Glucose                   768 non-null    int64  \n",
            " 2   BloodPressure             768 non-null    int64  \n",
            " 3   SkinThickness             768 non-null    int64  \n",
            " 4   Insulin                   768 non-null    int64  \n",
            " 5   BMI                       768 non-null    float64\n",
            " 6   DiabetesPedigreeFunction  768 non-null    float64\n",
            " 7   Age                       768 non-null    int64  \n",
            " 8   Outcome                   768 non-null    int64  \n",
            "dtypes: float64(2), int64(7)\n",
            "memory usage: 54.1 KB\n"
          ]
        },
        {
          "data": {
            "text/plain": [
              "Pregnancies                 0\n",
              "Glucose                     0\n",
              "BloodPressure               0\n",
              "SkinThickness               0\n",
              "Insulin                     0\n",
              "BMI                         0\n",
              "DiabetesPedigreeFunction    0\n",
              "Age                         0\n",
              "Outcome                     0\n",
              "dtype: int64"
            ]
          },
          "execution_count": 72,
          "metadata": {},
          "output_type": "execute_result"
        }
      ],
      "source": [
        "df.info()\n",
        "df.isnull().sum()"
      ]
    },
    {
      "cell_type": "markdown",
      "metadata": {
        "id": "vAUCA55j1fwO"
      },
      "source": [
        " Let's create a daframe with missing values. "
      ]
    },
    {
      "cell_type": "code",
      "execution_count": 74,
      "metadata": {
        "colab": {
          "base_uri": "https://localhost:8080/"
        },
        "id": "aKrOZYrCuGkz",
        "outputId": "88ee2e29-7947-41fa-d8a7-e8034f8517c0"
      },
      "outputs": [
        {
          "name": "stdout",
          "output_type": "stream",
          "text": [
            "\n",
            "Number of Missing values:   Pregnancies                  0\n",
            "Glucose                     17\n",
            "BloodPressure               52\n",
            "SkinThickness                0\n",
            "Insulin                      0\n",
            "BMI                          0\n",
            "DiabetesPedigreeFunction     0\n",
            "Age                          0\n",
            "Outcome                      0\n",
            "dtype: int64\n",
            "\n",
            "Total number of missing values :   69\n"
          ]
        }
      ],
      "source": [
        "df2 = df\n",
        "df2.Glucose.replace(99, np.nan, inplace=True)\n",
        "df2.BloodPressure.replace(74, np.nan, inplace=True)\n",
        "\n",
        "print ('\\nNumber of Missing values:  ', df2.isnull().sum())\n",
        "print ('\\nTotal number of missing values :  ', df2.isnull().sum().values.sum())\n",
        "\n",
        "\n"
      ]
    },
    {
      "cell_type": "markdown",
      "metadata": {
        "id": "LFpgB19e2HfQ"
      },
      "source": [
        "### First strategy : Removing the whole row that contains a missing value"
      ]
    },
    {
      "cell_type": "code",
      "execution_count": null,
      "metadata": {
        "colab": {
          "base_uri": "https://localhost:8080/"
        },
        "id": "60QCHENmw9KO",
        "outputId": "bd91aa8d-e4c0-4596-9b13-aaae07f150ca"
      },
      "outputs": [
        {
          "name": "stdout",
          "output_type": "stream",
          "text": [
            "\n",
            "Valeurs manquantes:   Pregnancies                 0\n",
            "Glucose                     0\n",
            "BloodPressure               0\n",
            "SkinThickness               0\n",
            "Insulin                     0\n",
            "BMI                         0\n",
            "DiabetesPedigreeFunction    0\n",
            "Age                         0\n",
            "Outcome                     0\n",
            "dtype: int64\n",
            "\n",
            "Valeurs manquantes total:   0\n"
          ]
        }
      ],
      "source": [
        "# Removing the whole row\n",
        "df3 = df2.dropna()\n",
        "\n",
        "print ('\\nValeurs manquantes:  ', df3.isnull().sum())\n",
        "print ('\\nValeurs manquantes total:  ', df3.isnull().sum().values.sum())"
      ]
    },
    {
      "cell_type": "code",
      "execution_count": 75,
      "metadata": {
        "id": "tNOruGXB5wP_"
      },
      "outputs": [],
      "source": [
        "\n",
        "\n",
        "##Replace the missing values\n",
        "\n",
        "df2.Glucose.replace(np.nan, df['Glucose'].median(), inplace=True)\n",
        "df2.BloodPressure.replace(np.nan, df['BloodPressure'].median(), inplace=True)\n"
      ]
    },
    {
      "cell_type": "markdown",
      "metadata": {
        "id": "RY-pDsB8JLqH"
      },
      "source": [
        "## 3.2 Sorting the data\n",
        "\n",
        "https://pandas.pydata.org/docs/reference/api/pandas.DataFrame.sort_values.html"
      ]
    },
    {
      "cell_type": "code",
      "execution_count": 85,
      "metadata": {
        "colab": {
          "base_uri": "https://localhost:8080/",
          "height": 206
        },
        "id": "9YFroYMl_oBa",
        "outputId": "03ee62af-f130-498d-d112-14db3aa5b60b"
      },
      "outputs": [],
      "source": [
        "#Trier les données\n",
        "df.sort_values('Insulin', ascending=False, inplace=True)"
      ]
    },
    {
      "cell_type": "markdown",
      "metadata": {
        "id": "PugRUm-BmBg3"
      },
      "source": [
        "**Exercise :** Sort the data in descending order according to the insulin level and store the data in a new Data frame. How to store the data in the same dataframe?"
      ]
    },
    {
      "cell_type": "code",
      "execution_count": 81,
      "metadata": {},
      "outputs": [
        {
          "name": "stdout",
          "output_type": "stream",
          "text": [
            "\u001b[1;31mSignature:\u001b[0m\n",
            "\u001b[0mdf\u001b[0m\u001b[1;33m.\u001b[0m\u001b[0msort_values\u001b[0m\u001b[1;33m(\u001b[0m\u001b[1;33m\n",
            "\u001b[0m    \u001b[0mby\u001b[0m\u001b[1;33m:\u001b[0m \u001b[1;34m'IndexLabel'\u001b[0m\u001b[1;33m,\u001b[0m\u001b[1;33m\n",
            "\u001b[0m    \u001b[1;33m*\u001b[0m\u001b[1;33m,\u001b[0m\u001b[1;33m\n",
            "\u001b[0m    \u001b[0maxis\u001b[0m\u001b[1;33m:\u001b[0m \u001b[1;34m'Axis'\u001b[0m \u001b[1;33m=\u001b[0m \u001b[1;36m0\u001b[0m\u001b[1;33m,\u001b[0m\u001b[1;33m\n",
            "\u001b[0m    \u001b[0mascending\u001b[0m\u001b[1;33m:\u001b[0m \u001b[1;34m'bool | list[bool] | tuple[bool, ...]'\u001b[0m \u001b[1;33m=\u001b[0m \u001b[1;32mTrue\u001b[0m\u001b[1;33m,\u001b[0m\u001b[1;33m\n",
            "\u001b[0m    \u001b[0minplace\u001b[0m\u001b[1;33m:\u001b[0m \u001b[1;34m'bool'\u001b[0m \u001b[1;33m=\u001b[0m \u001b[1;32mFalse\u001b[0m\u001b[1;33m,\u001b[0m\u001b[1;33m\n",
            "\u001b[0m    \u001b[0mkind\u001b[0m\u001b[1;33m:\u001b[0m \u001b[1;34m'SortKind'\u001b[0m \u001b[1;33m=\u001b[0m \u001b[1;34m'quicksort'\u001b[0m\u001b[1;33m,\u001b[0m\u001b[1;33m\n",
            "\u001b[0m    \u001b[0mna_position\u001b[0m\u001b[1;33m:\u001b[0m \u001b[1;34m'str'\u001b[0m \u001b[1;33m=\u001b[0m \u001b[1;34m'last'\u001b[0m\u001b[1;33m,\u001b[0m\u001b[1;33m\n",
            "\u001b[0m    \u001b[0mignore_index\u001b[0m\u001b[1;33m:\u001b[0m \u001b[1;34m'bool'\u001b[0m \u001b[1;33m=\u001b[0m \u001b[1;32mFalse\u001b[0m\u001b[1;33m,\u001b[0m\u001b[1;33m\n",
            "\u001b[0m    \u001b[0mkey\u001b[0m\u001b[1;33m:\u001b[0m \u001b[1;34m'ValueKeyFunc | None'\u001b[0m \u001b[1;33m=\u001b[0m \u001b[1;32mNone\u001b[0m\u001b[1;33m,\u001b[0m\u001b[1;33m\n",
            "\u001b[0m\u001b[1;33m)\u001b[0m \u001b[1;33m->\u001b[0m \u001b[1;34m'DataFrame | None'\u001b[0m\u001b[1;33m\u001b[0m\u001b[1;33m\u001b[0m\u001b[0m\n",
            "\u001b[1;31mDocstring:\u001b[0m\n",
            "Sort by the values along either axis.\n",
            "\n",
            "Parameters\n",
            "----------\n",
            "by : str or list of str\n",
            "    Name or list of names to sort by.\n",
            "\n",
            "    - if `axis` is 0 or `'index'` then `by` may contain index\n",
            "      levels and/or column labels.\n",
            "    - if `axis` is 1 or `'columns'` then `by` may contain column\n",
            "      levels and/or index labels.\n",
            "axis : \"{0 or 'index', 1 or 'columns'}\", default 0\n",
            "     Axis to be sorted.\n",
            "ascending : bool or list of bool, default True\n",
            "     Sort ascending vs. descending. Specify list for multiple sort\n",
            "     orders.  If this is a list of bools, must match the length of\n",
            "     the by.\n",
            "inplace : bool, default False\n",
            "     If True, perform operation in-place.\n",
            "kind : {'quicksort', 'mergesort', 'heapsort', 'stable'}, default 'quicksort'\n",
            "     Choice of sorting algorithm. See also :func:`numpy.sort` for more\n",
            "     information. `mergesort` and `stable` are the only stable algorithms. For\n",
            "     DataFrames, this option is only applied when sorting on a single\n",
            "     column or label.\n",
            "na_position : {'first', 'last'}, default 'last'\n",
            "     Puts NaNs at the beginning if `first`; `last` puts NaNs at the\n",
            "     end.\n",
            "ignore_index : bool, default False\n",
            "     If True, the resulting axis will be labeled 0, 1, …, n - 1.\n",
            "key : callable, optional\n",
            "    Apply the key function to the values\n",
            "    before sorting. This is similar to the `key` argument in the\n",
            "    builtin :meth:`sorted` function, with the notable difference that\n",
            "    this `key` function should be *vectorized*. It should expect a\n",
            "    ``Series`` and return a Series with the same shape as the input.\n",
            "    It will be applied to each column in `by` independently.\n",
            "\n",
            "Returns\n",
            "-------\n",
            "DataFrame or None\n",
            "    DataFrame with sorted values or None if ``inplace=True``.\n",
            "\n",
            "See Also\n",
            "--------\n",
            "DataFrame.sort_index : Sort a DataFrame by the index.\n",
            "Series.sort_values : Similar method for a Series.\n",
            "\n",
            "Examples\n",
            "--------\n",
            ">>> df = pd.DataFrame({\n",
            "...     'col1': ['A', 'A', 'B', np.nan, 'D', 'C'],\n",
            "...     'col2': [2, 1, 9, 8, 7, 4],\n",
            "...     'col3': [0, 1, 9, 4, 2, 3],\n",
            "...     'col4': ['a', 'B', 'c', 'D', 'e', 'F']\n",
            "... })\n",
            ">>> df\n",
            "  col1  col2  col3 col4\n",
            "0    A     2     0    a\n",
            "1    A     1     1    B\n",
            "2    B     9     9    c\n",
            "3  NaN     8     4    D\n",
            "4    D     7     2    e\n",
            "5    C     4     3    F\n",
            "\n",
            "Sort by col1\n",
            "\n",
            ">>> df.sort_values(by=['col1'])\n",
            "  col1  col2  col3 col4\n",
            "0    A     2     0    a\n",
            "1    A     1     1    B\n",
            "2    B     9     9    c\n",
            "5    C     4     3    F\n",
            "4    D     7     2    e\n",
            "3  NaN     8     4    D\n",
            "\n",
            "Sort by multiple columns\n",
            "\n",
            ">>> df.sort_values(by=['col1', 'col2'])\n",
            "  col1  col2  col3 col4\n",
            "1    A     1     1    B\n",
            "0    A     2     0    a\n",
            "2    B     9     9    c\n",
            "5    C     4     3    F\n",
            "4    D     7     2    e\n",
            "3  NaN     8     4    D\n",
            "\n",
            "Sort Descending\n",
            "\n",
            ">>> df.sort_values(by='col1', ascending=False)\n",
            "  col1  col2  col3 col4\n",
            "4    D     7     2    e\n",
            "5    C     4     3    F\n",
            "2    B     9     9    c\n",
            "0    A     2     0    a\n",
            "1    A     1     1    B\n",
            "3  NaN     8     4    D\n",
            "\n",
            "Putting NAs first\n",
            "\n",
            ">>> df.sort_values(by='col1', ascending=False, na_position='first')\n",
            "  col1  col2  col3 col4\n",
            "3  NaN     8     4    D\n",
            "4    D     7     2    e\n",
            "5    C     4     3    F\n",
            "2    B     9     9    c\n",
            "0    A     2     0    a\n",
            "1    A     1     1    B\n",
            "\n",
            "Sorting with a key function\n",
            "\n",
            ">>> df.sort_values(by='col4', key=lambda col: col.str.lower())\n",
            "   col1  col2  col3 col4\n",
            "0    A     2     0    a\n",
            "1    A     1     1    B\n",
            "2    B     9     9    c\n",
            "3  NaN     8     4    D\n",
            "4    D     7     2    e\n",
            "5    C     4     3    F\n",
            "\n",
            "Natural sort with the key argument,\n",
            "using the `natsort <https://github.com/SethMMorton/natsort>` package.\n",
            "\n",
            ">>> df = pd.DataFrame({\n",
            "...    \"time\": ['0hr', '128hr', '72hr', '48hr', '96hr'],\n",
            "...    \"value\": [10, 20, 30, 40, 50]\n",
            "... })\n",
            ">>> df\n",
            "    time  value\n",
            "0    0hr     10\n",
            "1  128hr     20\n",
            "2   72hr     30\n",
            "3   48hr     40\n",
            "4   96hr     50\n",
            ">>> from natsort import index_natsorted\n",
            ">>> df.sort_values(\n",
            "...     by=\"time\",\n",
            "...     key=lambda x: np.argsort(index_natsorted(df[\"time\"]))\n",
            "... )\n",
            "    time  value\n",
            "0    0hr     10\n",
            "3   48hr     40\n",
            "2   72hr     30\n",
            "4   96hr     50\n",
            "1  128hr     20\n",
            "\u001b[1;31mFile:\u001b[0m      c:\\users\\lrnv\\appdata\\local\\programs\\python\\python310\\lib\\site-packages\\pandas\\core\\frame.py\n",
            "\u001b[1;31mType:\u001b[0m      method"
          ]
        }
      ],
      "source": [
        "?df.sort_values"
      ]
    },
    {
      "cell_type": "markdown",
      "metadata": {
        "id": "Vp36mnviyRxP"
      },
      "source": [
        "## 3.3. Subseting the data"
      ]
    },
    {
      "cell_type": "code",
      "execution_count": 88,
      "metadata": {
        "colab": {
          "base_uri": "https://localhost:8080/"
        },
        "id": "ZMJQuSGH-fQn",
        "outputId": "5909c13a-4d3c-4863-8647-73ad9bd73c8a"
      },
      "outputs": [
        {
          "data": {
            "text/plain": [
              "Pregnancies                 341\n",
              "Glucose                     341\n",
              "BloodPressure               341\n",
              "SkinThickness               341\n",
              "Insulin                     341\n",
              "BMI                         341\n",
              "DiabetesPedigreeFunction    341\n",
              "Age                         341\n",
              "Outcome                     341\n",
              "dtype: int64"
            ]
          },
          "execution_count": 88,
          "metadata": {},
          "output_type": "execute_result"
        }
      ],
      "source": [
        "# df[df['BloodPressure'] >70].count() # Filter by values\n",
        "df[df['BloodPressure'] > 70].count()"
      ]
    },
    {
      "cell_type": "code",
      "execution_count": 94,
      "metadata": {
        "colab": {
          "base_uri": "https://localhost:8080/",
          "height": 298
        },
        "id": "BKYfo4dznv7v",
        "outputId": "00c1e622-8255-491a-b4c8-a3b3e6f8dc61"
      },
      "outputs": [
        {
          "data": {
            "text/html": [
              "<div>\n",
              "<style scoped>\n",
              "    .dataframe tbody tr th:only-of-type {\n",
              "        vertical-align: middle;\n",
              "    }\n",
              "\n",
              "    .dataframe tbody tr th {\n",
              "        vertical-align: top;\n",
              "    }\n",
              "\n",
              "    .dataframe thead th {\n",
              "        text-align: right;\n",
              "    }\n",
              "</style>\n",
              "<table border=\"1\" class=\"dataframe\">\n",
              "  <thead>\n",
              "    <tr style=\"text-align: right;\">\n",
              "      <th></th>\n",
              "      <th>Insulin</th>\n",
              "      <th>BloodPressure</th>\n",
              "    </tr>\n",
              "  </thead>\n",
              "  <tbody>\n",
              "    <tr>\n",
              "      <th>13</th>\n",
              "      <td>846</td>\n",
              "      <td>60.0</td>\n",
              "    </tr>\n",
              "    <tr>\n",
              "      <th>228</th>\n",
              "      <td>744</td>\n",
              "      <td>70.0</td>\n",
              "    </tr>\n",
              "    <tr>\n",
              "      <th>247</th>\n",
              "      <td>680</td>\n",
              "      <td>90.0</td>\n",
              "    </tr>\n",
              "    <tr>\n",
              "      <th>584</th>\n",
              "      <td>600</td>\n",
              "      <td>76.0</td>\n",
              "    </tr>\n",
              "    <tr>\n",
              "      <th>409</th>\n",
              "      <td>579</td>\n",
              "      <td>68.0</td>\n",
              "    </tr>\n",
              "  </tbody>\n",
              "</table>\n",
              "</div>"
            ],
            "text/plain": [
              "     Insulin  BloodPressure\n",
              "13       846           60.0\n",
              "228      744           70.0\n",
              "247      680           90.0\n",
              "584      600           76.0\n",
              "409      579           68.0"
            ]
          },
          "execution_count": 94,
          "metadata": {},
          "output_type": "execute_result"
        }
      ],
      "source": [
        "df_court = df[['Insulin', 'BloodPressure']]\n",
        "\n",
        "df_court.drop('Insulin', inplace= True, axis = 1)\n",
        "\n",
        "df_court.head()"
      ]
    },
    {
      "cell_type": "markdown",
      "metadata": {
        "id": "iDdcikRezQoQ"
      },
      "source": [
        "# 4. Statistics applied to dataframes\n",
        "\n",
        "`DataFrame.aggregate(func=None, axis=0, *args, **kwargs)`\n",
        "\n",
        "Aggregate using one or more operations over the specified axis.\n",
        "\n",
        "https://pandas.pydata.org/docs/reference/api/pandas.DataFrame.aggregate.html"
      ]
    }
  ],
  "metadata": {
    "colab": {
      "authorship_tag": "ABX9TyPgUGTADyreMlFpfy1TFXHB",
      "collapsed_sections": [],
      "include_colab_link": true,
      "name": "Introduction to Pandas.ipynb",
      "provenance": []
    },
    "kernelspec": {
      "display_name": "Python 3 (ipykernel)",
      "language": "python",
      "name": "python3"
    }
  },
  "nbformat": 4,
  "nbformat_minor": 0
}
