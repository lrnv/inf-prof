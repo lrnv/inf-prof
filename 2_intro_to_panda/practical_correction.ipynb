{
  "cells": [
    {
      "cell_type": "markdown",
      "metadata": {
        "id": "f1iYXtbljdRv"
      },
      "source": [
        "# __Teaching Unit: Programming fundamentals for health data__\n",
        "Oskar LAVERNY\n",
        "## __Practical Work 2 - Introduction to pandas__\n",
        "\n",
        "### Learning objectives:\n",
        "\n",
        "\n",
        "1.   Creation of dataFrame\n",
        "2.   Manipulation of a dataFrame\n",
        "3.   Transformation of the values\n",
        "\n"
      ]
    },
    {
      "cell_type": "markdown",
      "metadata": {
        "id": "Gg_7YFUgkLEp"
      },
      "source": [
        "### __DataFrame__\n"
      ]
    },
    {
      "cell_type": "markdown",
      "metadata": {
        "id": "n3W0sozSk3Zm"
      },
      "source": [
        "To create a DataFrame, you have to first import the `pandas` library. Then use the constructor `DataFrame()`. In Python, if you want to use some function from an imported library, you have to use the appropriate prefix. By default, the prefix will be the name of the library."
      ]
    },
    {
      "cell_type": "code",
      "execution_count": null,
      "metadata": {
        "colab": {
          "base_uri": "https://localhost:8080/"
        },
        "id": "F3_gSm2PjX9F",
        "outputId": "8a497953-787b-46b5-d417-0fb391653260"
      },
      "outputs": [
        {
          "name": "stdout",
          "output_type": "stream",
          "text": [
            "      col1  col2\n",
            "row1     2     3\n",
            "row2     5     8\n",
            "row3     9    10\n"
          ]
        }
      ],
      "source": [
        "import pandas\n",
        "\n",
        "df = pandas.DataFrame(data = [[2, 3], [5, 8], [9, 10]], index = [\"row1\", \"row2\", \"row3\"], columns = ['col1', 'col2'])\n",
        "print(df)"
      ]
    },
    {
      "cell_type": "markdown",
      "metadata": {
        "id": "hG4woXERloue"
      },
      "source": [
        "But you can also use alias, when importing the library you specify an alias that will be use instead of the library's name."
      ]
    },
    {
      "cell_type": "code",
      "execution_count": null,
      "metadata": {
        "colab": {
          "base_uri": "https://localhost:8080/"
        },
        "id": "odqG07nMlvMu",
        "outputId": "e0ec290d-4a8e-4029-98f4-939b8409dd98"
      },
      "outputs": [
        {
          "name": "stdout",
          "output_type": "stream",
          "text": [
            "      col1  col2\n",
            "row1     2     3\n",
            "row2     5     8\n",
            "row3     9    10\n"
          ]
        }
      ],
      "source": [
        "import pandas as pd\n",
        "\n",
        "df = pd.DataFrame(data = [[2, 3], [5, 8], [9, 10]], index = ['row1', 'row2', 'row3'], columns = ['col1', 'col2'])\n",
        "print(df)"
      ]
    },
    {
      "cell_type": "markdown",
      "metadata": {
        "id": "W-qbqAiimG-o"
      },
      "source": [
        "If you don't want to use any prefix, you can also import library with the `*` character. This way you won't have to use any prefix, __BUT__ if you import two libraries with two functions which has the same name you could have some surprises so be carefull."
      ]
    },
    {
      "cell_type": "code",
      "execution_count": null,
      "metadata": {
        "colab": {
          "base_uri": "https://localhost:8080/"
        },
        "id": "sjVgkLgvmn7I",
        "outputId": "eb0d2064-b332-476d-d28d-c3b96efcf930"
      },
      "outputs": [
        {
          "name": "stdout",
          "output_type": "stream",
          "text": [
            "      col1  col2\n",
            "row1     2     3\n",
            "row2     5     8\n",
            "row3     9    10\n"
          ]
        }
      ],
      "source": [
        "from pandas import *\n",
        "\n",
        "df = DataFrame(data = [[2, 3], [5, 8], [9, 10]], index = ['row1', 'row2', 'row3'], columns = ['col1', 'col2'])\n",
        "print(df)"
      ]
    },
    {
      "cell_type": "markdown",
      "metadata": {
        "id": "CeZtCbWAnMKK"
      },
      "source": [
        "You can find the Python documentation for DataFrame [here](https://pandas.pydata.org/docs/reference/api/pandas.DataFrame.html)."
      ]
    },
    {
      "cell_type": "markdown",
      "metadata": {
        "id": "V2rZxF0ynRcS"
      },
      "source": [
        "### __Exercise 1 - Creation of a DataFrame from a dictionary__"
      ]
    },
    {
      "cell_type": "markdown",
      "metadata": {
        "id": "jh_731ijxbGR"
      },
      "source": [
        "#### __Build a DataFrame from the following dictionary__"
      ]
    },
    {
      "cell_type": "markdown",
      "metadata": {
        "id": "EY7bhItLxySK"
      },
      "source": [
        "\n",
        "\n",
        "1.   Build a DataFrame with the dictionary.\n",
        "2.   Display the 5 first rows of the DataFrame with 2 different ways.\n",
        "3.   Use the column `Names` as indexes of the DataFrame.\n",
        "4.    Display the row associated with Pierre.\n",
        "5.    Add the following observation to the DataFrame: `{Names: 'Nicolas', Measures: 12.3, Center: '1'}`\n",
        "6.    Give the overall mean measurement.\n",
        "7.    Give the mean measurement of each center.\n",
        "8.    Add the following observations from a third center to the DataFrame: `{'Names': ['Marius', 'Robert', 'Karim'], 'Measures': [15.3, 3.1, 1.5]}`.\n",
        "\n",
        "```\n",
        "dict1 = {\n",
        "  'Names': ['Jean', 'Marie', 'Joseph', 'Marthe', 'Jacob', 'Marc', 'Paul', 'Pierre', 'Ismael', 'David', 'Mathieu'],\n",
        "  'Measures': [12.5, 18.0, 10.0, 13.2, 3.2, 5.7, 12.0, 6.0, 7.0, 14.5, 17.6],\n",
        "  'Center': ['1', '2', '2', '1', '2', '2', '1', '2', '1', '2', '2']\n",
        "}\n",
        "```\n",
        "\n"
      ]
    },
    {
      "cell_type": "markdown",
      "metadata": {
        "id": "hi0Mcw6u_bQF"
      },
      "source": [
        "#### __Correction of exercise 1__"
      ]
    },
    {
      "cell_type": "markdown",
      "metadata": {
        "id": "R5VSv3O-E_9N"
      },
      "source": [
        "1. Build a DataFrame with the dictionary"
      ]
    },
    {
      "cell_type": "code",
      "execution_count": null,
      "metadata": {
        "colab": {
          "base_uri": "https://localhost:8080/"
        },
        "id": "L9f884dy_rox",
        "outputId": "61de19e6-9197-48cb-b951-3a57365f6467"
      },
      "outputs": [
        {
          "name": "stdout",
          "output_type": "stream",
          "text": [
            "      Names  Measures Center\n",
            "0      Jean      12.5      1\n",
            "1     Marie      18.0      2\n",
            "2    Joseph      10.0      2\n",
            "3    Marthe      13.2      1\n",
            "4     Jacob       3.2      2\n",
            "5      Marc       5.7      2\n",
            "6      Paul      12.0      1\n",
            "7    Pierre       6.0      2\n",
            "8    Ismael       7.0      1\n",
            "9     David      14.5      2\n",
            "10  Mathieu      17.6      2\n"
          ]
        }
      ],
      "source": [
        "import pandas as pd\n",
        "\n",
        "dict1 = {\n",
        "    'Names': ['Jean', 'Marie', 'Joseph', 'Marthe', 'Jacob', 'Marc', 'Paul', 'Pierre', 'Ismael', 'David', 'Mathieu'],\n",
        "    'Measures': [12.5, 18.0, 10.0, 13.2, 3.2, 5.7, 12.0, 6.0, 7.0, 14.5, 17.6],\n",
        "    'Center': ['1', '2', '2', '1', '2', '2', '1', '2', '1', '2', '2']\n",
        "}\n",
        "\n",
        "df = pd.DataFrame(dict1)\n",
        "print(df)"
      ]
    },
    {
      "cell_type": "markdown",
      "metadata": {
        "id": "3tRaC2kXFEZy"
      },
      "source": [
        "2. Display the first 5 rows of the DataFrame"
      ]
    },
    {
      "cell_type": "code",
      "execution_count": null,
      "metadata": {
        "colab": {
          "base_uri": "https://localhost:8080/",
          "height": 206
        },
        "id": "SZGjafB6AcXk",
        "outputId": "daa4a92e-1baa-4cb9-cc4c-8b8b8eb017cd"
      },
      "outputs": [
        {
          "data": {
            "text/html": [
              "\n",
              "  <div id=\"df-461e107e-58f1-473a-9a1d-78b99f155978\" class=\"colab-df-container\">\n",
              "    <div>\n",
              "<style scoped>\n",
              "    .dataframe tbody tr th:only-of-type {\n",
              "        vertical-align: middle;\n",
              "    }\n",
              "\n",
              "    .dataframe tbody tr th {\n",
              "        vertical-align: top;\n",
              "    }\n",
              "\n",
              "    .dataframe thead th {\n",
              "        text-align: right;\n",
              "    }\n",
              "</style>\n",
              "<table border=\"1\" class=\"dataframe\">\n",
              "  <thead>\n",
              "    <tr style=\"text-align: right;\">\n",
              "      <th></th>\n",
              "      <th>Names</th>\n",
              "      <th>Measures</th>\n",
              "      <th>Center</th>\n",
              "    </tr>\n",
              "  </thead>\n",
              "  <tbody>\n",
              "    <tr>\n",
              "      <th>0</th>\n",
              "      <td>Jean</td>\n",
              "      <td>12.5</td>\n",
              "      <td>1</td>\n",
              "    </tr>\n",
              "    <tr>\n",
              "      <th>1</th>\n",
              "      <td>Marie</td>\n",
              "      <td>18.0</td>\n",
              "      <td>2</td>\n",
              "    </tr>\n",
              "    <tr>\n",
              "      <th>2</th>\n",
              "      <td>Joseph</td>\n",
              "      <td>10.0</td>\n",
              "      <td>2</td>\n",
              "    </tr>\n",
              "    <tr>\n",
              "      <th>3</th>\n",
              "      <td>Marthe</td>\n",
              "      <td>13.2</td>\n",
              "      <td>1</td>\n",
              "    </tr>\n",
              "    <tr>\n",
              "      <th>4</th>\n",
              "      <td>Jacob</td>\n",
              "      <td>3.2</td>\n",
              "      <td>2</td>\n",
              "    </tr>\n",
              "  </tbody>\n",
              "</table>\n",
              "</div>\n",
              "    <div class=\"colab-df-buttons\">\n",
              "\n",
              "  <div class=\"colab-df-container\">\n",
              "    <button class=\"colab-df-convert\" onclick=\"convertToInteractive('df-461e107e-58f1-473a-9a1d-78b99f155978')\"\n",
              "            title=\"Convert this dataframe to an interactive table.\"\n",
              "            style=\"display:none;\">\n",
              "\n",
              "  <svg xmlns=\"http://www.w3.org/2000/svg\" height=\"24px\" viewBox=\"0 -960 960 960\">\n",
              "    <path d=\"M120-120v-720h720v720H120Zm60-500h600v-160H180v160Zm220 220h160v-160H400v160Zm0 220h160v-160H400v160ZM180-400h160v-160H180v160Zm440 0h160v-160H620v160ZM180-180h160v-160H180v160Zm440 0h160v-160H620v160Z\"/>\n",
              "  </svg>\n",
              "    </button>\n",
              "\n",
              "  <style>\n",
              "    .colab-df-container {\n",
              "      display:flex;\n",
              "      gap: 12px;\n",
              "    }\n",
              "\n",
              "    .colab-df-convert {\n",
              "      background-color: #E8F0FE;\n",
              "      border: none;\n",
              "      border-radius: 50%;\n",
              "      cursor: pointer;\n",
              "      display: none;\n",
              "      fill: #1967D2;\n",
              "      height: 32px;\n",
              "      padding: 0 0 0 0;\n",
              "      width: 32px;\n",
              "    }\n",
              "\n",
              "    .colab-df-convert:hover {\n",
              "      background-color: #E2EBFA;\n",
              "      box-shadow: 0px 1px 2px rgba(60, 64, 67, 0.3), 0px 1px 3px 1px rgba(60, 64, 67, 0.15);\n",
              "      fill: #174EA6;\n",
              "    }\n",
              "\n",
              "    .colab-df-buttons div {\n",
              "      margin-bottom: 4px;\n",
              "    }\n",
              "\n",
              "    [theme=dark] .colab-df-convert {\n",
              "      background-color: #3B4455;\n",
              "      fill: #D2E3FC;\n",
              "    }\n",
              "\n",
              "    [theme=dark] .colab-df-convert:hover {\n",
              "      background-color: #434B5C;\n",
              "      box-shadow: 0px 1px 3px 1px rgba(0, 0, 0, 0.15);\n",
              "      filter: drop-shadow(0px 1px 2px rgba(0, 0, 0, 0.3));\n",
              "      fill: #FFFFFF;\n",
              "    }\n",
              "  </style>\n",
              "\n",
              "    <script>\n",
              "      const buttonEl =\n",
              "        document.querySelector('#df-461e107e-58f1-473a-9a1d-78b99f155978 button.colab-df-convert');\n",
              "      buttonEl.style.display =\n",
              "        google.colab.kernel.accessAllowed ? 'block' : 'none';\n",
              "\n",
              "      async function convertToInteractive(key) {\n",
              "        const element = document.querySelector('#df-461e107e-58f1-473a-9a1d-78b99f155978');\n",
              "        const dataTable =\n",
              "          await google.colab.kernel.invokeFunction('convertToInteractive',\n",
              "                                                    [key], {});\n",
              "        if (!dataTable) return;\n",
              "\n",
              "        const docLinkHtml = 'Like what you see? Visit the ' +\n",
              "          '<a target=\"_blank\" href=https://colab.research.google.com/notebooks/data_table.ipynb>data table notebook</a>'\n",
              "          + ' to learn more about interactive tables.';\n",
              "        element.innerHTML = '';\n",
              "        dataTable['output_type'] = 'display_data';\n",
              "        await google.colab.output.renderOutput(dataTable, element);\n",
              "        const docLink = document.createElement('div');\n",
              "        docLink.innerHTML = docLinkHtml;\n",
              "        element.appendChild(docLink);\n",
              "      }\n",
              "    </script>\n",
              "  </div>\n",
              "\n",
              "\n",
              "<div id=\"df-68dcce7b-ffa8-47c6-adea-e990f8d80c44\">\n",
              "  <button class=\"colab-df-quickchart\" onclick=\"quickchart('df-68dcce7b-ffa8-47c6-adea-e990f8d80c44')\"\n",
              "            title=\"Suggest charts.\"\n",
              "            style=\"display:none;\">\n",
              "\n",
              "<svg xmlns=\"http://www.w3.org/2000/svg\" height=\"24px\"viewBox=\"0 0 24 24\"\n",
              "     width=\"24px\">\n",
              "    <g>\n",
              "        <path d=\"M19 3H5c-1.1 0-2 .9-2 2v14c0 1.1.9 2 2 2h14c1.1 0 2-.9 2-2V5c0-1.1-.9-2-2-2zM9 17H7v-7h2v7zm4 0h-2V7h2v10zm4 0h-2v-4h2v4z\"/>\n",
              "    </g>\n",
              "</svg>\n",
              "  </button>\n",
              "\n",
              "<style>\n",
              "  .colab-df-quickchart {\n",
              "      --bg-color: #E8F0FE;\n",
              "      --fill-color: #1967D2;\n",
              "      --hover-bg-color: #E2EBFA;\n",
              "      --hover-fill-color: #174EA6;\n",
              "      --disabled-fill-color: #AAA;\n",
              "      --disabled-bg-color: #DDD;\n",
              "  }\n",
              "\n",
              "  [theme=dark] .colab-df-quickchart {\n",
              "      --bg-color: #3B4455;\n",
              "      --fill-color: #D2E3FC;\n",
              "      --hover-bg-color: #434B5C;\n",
              "      --hover-fill-color: #FFFFFF;\n",
              "      --disabled-bg-color: #3B4455;\n",
              "      --disabled-fill-color: #666;\n",
              "  }\n",
              "\n",
              "  .colab-df-quickchart {\n",
              "    background-color: var(--bg-color);\n",
              "    border: none;\n",
              "    border-radius: 50%;\n",
              "    cursor: pointer;\n",
              "    display: none;\n",
              "    fill: var(--fill-color);\n",
              "    height: 32px;\n",
              "    padding: 0;\n",
              "    width: 32px;\n",
              "  }\n",
              "\n",
              "  .colab-df-quickchart:hover {\n",
              "    background-color: var(--hover-bg-color);\n",
              "    box-shadow: 0 1px 2px rgba(60, 64, 67, 0.3), 0 1px 3px 1px rgba(60, 64, 67, 0.15);\n",
              "    fill: var(--button-hover-fill-color);\n",
              "  }\n",
              "\n",
              "  .colab-df-quickchart-complete:disabled,\n",
              "  .colab-df-quickchart-complete:disabled:hover {\n",
              "    background-color: var(--disabled-bg-color);\n",
              "    fill: var(--disabled-fill-color);\n",
              "    box-shadow: none;\n",
              "  }\n",
              "\n",
              "  .colab-df-spinner {\n",
              "    border: 2px solid var(--fill-color);\n",
              "    border-color: transparent;\n",
              "    border-bottom-color: var(--fill-color);\n",
              "    animation:\n",
              "      spin 1s steps(1) infinite;\n",
              "  }\n",
              "\n",
              "  @keyframes spin {\n",
              "    0% {\n",
              "      border-color: transparent;\n",
              "      border-bottom-color: var(--fill-color);\n",
              "      border-left-color: var(--fill-color);\n",
              "    }\n",
              "    20% {\n",
              "      border-color: transparent;\n",
              "      border-left-color: var(--fill-color);\n",
              "      border-top-color: var(--fill-color);\n",
              "    }\n",
              "    30% {\n",
              "      border-color: transparent;\n",
              "      border-left-color: var(--fill-color);\n",
              "      border-top-color: var(--fill-color);\n",
              "      border-right-color: var(--fill-color);\n",
              "    }\n",
              "    40% {\n",
              "      border-color: transparent;\n",
              "      border-right-color: var(--fill-color);\n",
              "      border-top-color: var(--fill-color);\n",
              "    }\n",
              "    60% {\n",
              "      border-color: transparent;\n",
              "      border-right-color: var(--fill-color);\n",
              "    }\n",
              "    80% {\n",
              "      border-color: transparent;\n",
              "      border-right-color: var(--fill-color);\n",
              "      border-bottom-color: var(--fill-color);\n",
              "    }\n",
              "    90% {\n",
              "      border-color: transparent;\n",
              "      border-bottom-color: var(--fill-color);\n",
              "    }\n",
              "  }\n",
              "</style>\n",
              "\n",
              "  <script>\n",
              "    async function quickchart(key) {\n",
              "      const quickchartButtonEl =\n",
              "        document.querySelector('#' + key + ' button');\n",
              "      quickchartButtonEl.disabled = true;  // To prevent multiple clicks.\n",
              "      quickchartButtonEl.classList.add('colab-df-spinner');\n",
              "      try {\n",
              "        const charts = await google.colab.kernel.invokeFunction(\n",
              "            'suggestCharts', [key], {});\n",
              "      } catch (error) {\n",
              "        console.error('Error during call to suggestCharts:', error);\n",
              "      }\n",
              "      quickchartButtonEl.classList.remove('colab-df-spinner');\n",
              "      quickchartButtonEl.classList.add('colab-df-quickchart-complete');\n",
              "    }\n",
              "    (() => {\n",
              "      let quickchartButtonEl =\n",
              "        document.querySelector('#df-68dcce7b-ffa8-47c6-adea-e990f8d80c44 button');\n",
              "      quickchartButtonEl.style.display =\n",
              "        google.colab.kernel.accessAllowed ? 'block' : 'none';\n",
              "    })();\n",
              "  </script>\n",
              "</div>\n",
              "    </div>\n",
              "  </div>\n"
            ],
            "text/plain": [
              "    Names  Measures Center\n",
              "0    Jean      12.5      1\n",
              "1   Marie      18.0      2\n",
              "2  Joseph      10.0      2\n",
              "3  Marthe      13.2      1\n",
              "4   Jacob       3.2      2"
            ]
          },
          "execution_count": 3,
          "metadata": {},
          "output_type": "execute_result"
        }
      ],
      "source": [
        "# First way\n",
        "df.iloc[0:5]\n",
        "\n",
        "# Second way\n",
        "df.head(5)"
      ]
    },
    {
      "cell_type": "markdown",
      "metadata": {
        "id": "UiW8Nhg_FMde"
      },
      "source": [
        "3.   Use the column `Names` as indexes of the DataFrames.\n"
      ]
    },
    {
      "cell_type": "code",
      "execution_count": null,
      "metadata": {
        "colab": {
          "base_uri": "https://localhost:8080/"
        },
        "id": "RD9FTilDDMMi",
        "outputId": "84e2180e-8de0-4b29-94bd-28605cce60aa"
      },
      "outputs": [
        {
          "data": {
            "text/plain": [
              "RangeIndex(start=0, stop=11, step=1)"
            ]
          },
          "execution_count": 5,
          "metadata": {},
          "output_type": "execute_result"
        }
      ],
      "source": [
        "# 3. We will use the names as an index\n",
        "df.set_index(\"Names\")\n",
        "df.index"
      ]
    },
    {
      "cell_type": "code",
      "execution_count": null,
      "metadata": {
        "colab": {
          "base_uri": "https://localhost:8080/"
        },
        "id": "b3tVq2niDYQw",
        "outputId": "481c59e6-1575-44fa-cf35-2617a9b0a689"
      },
      "outputs": [
        {
          "name": "stdout",
          "output_type": "stream",
          "text": [
            "      Names  Measures Center\n",
            "0      Jean      12.5      1\n",
            "1     Marie      18.0      2\n",
            "2    Joseph      10.0      2\n",
            "3    Marthe      13.2      1\n",
            "4     Jacob       3.2      2\n",
            "5      Marc       5.7      2\n",
            "6      Paul      12.0      1\n",
            "7    Pierre       6.0      2\n",
            "8    Ismael       7.0      1\n",
            "9     David      14.5      2\n",
            "10  Mathieu      17.6      2\n"
          ]
        }
      ],
      "source": [
        "print(df)"
      ]
    },
    {
      "cell_type": "markdown",
      "metadata": {
        "id": "Dzk3-NNODoM5"
      },
      "source": [
        "We can see that the index has not been saved. We will have to use another statement."
      ]
    },
    {
      "cell_type": "code",
      "execution_count": null,
      "metadata": {
        "colab": {
          "base_uri": "https://localhost:8080/"
        },
        "id": "fQ1Gprs6Dnj6",
        "outputId": "32b41483-ea3d-4215-a068-18b177b89c2a"
      },
      "outputs": [
        {
          "name": "stdout",
          "output_type": "stream",
          "text": [
            "         Measures Center\n",
            "Names                   \n",
            "Jean         12.5      1\n",
            "Marie        18.0      2\n",
            "Joseph       10.0      2\n",
            "Marthe       13.2      1\n",
            "Jacob         3.2      2\n",
            "Marc          5.7      2\n",
            "Paul         12.0      1\n",
            "Pierre        6.0      2\n",
            "Ismael        7.0      1\n",
            "David        14.5      2\n",
            "Mathieu      17.6      2\n"
          ]
        }
      ],
      "source": [
        "# df = df.set_index('Names')\n",
        "df.set_index('Names', inplace = True)\n",
        "print(df)"
      ]
    },
    {
      "cell_type": "markdown",
      "metadata": {
        "id": "-fngGj93FSiS"
      },
      "source": [
        "4.   Display the row associated with Pierre.\n"
      ]
    },
    {
      "cell_type": "code",
      "execution_count": null,
      "metadata": {
        "colab": {
          "base_uri": "https://localhost:8080/",
          "height": 112
        },
        "id": "9vwmUYvQFT3D",
        "outputId": "0d2168c2-c0c1-4c09-ef1c-d9889898be98"
      },
      "outputs": [
        {
          "data": {
            "text/html": [
              "\n",
              "  <div id=\"df-fe954ea2-473d-40e5-b026-df564182684a\" class=\"colab-df-container\">\n",
              "    <div>\n",
              "<style scoped>\n",
              "    .dataframe tbody tr th:only-of-type {\n",
              "        vertical-align: middle;\n",
              "    }\n",
              "\n",
              "    .dataframe tbody tr th {\n",
              "        vertical-align: top;\n",
              "    }\n",
              "\n",
              "    .dataframe thead th {\n",
              "        text-align: right;\n",
              "    }\n",
              "</style>\n",
              "<table border=\"1\" class=\"dataframe\">\n",
              "  <thead>\n",
              "    <tr style=\"text-align: right;\">\n",
              "      <th></th>\n",
              "      <th>Measures</th>\n",
              "      <th>Center</th>\n",
              "    </tr>\n",
              "    <tr>\n",
              "      <th>Names</th>\n",
              "      <th></th>\n",
              "      <th></th>\n",
              "    </tr>\n",
              "  </thead>\n",
              "  <tbody>\n",
              "    <tr>\n",
              "      <th>Pierre</th>\n",
              "      <td>6.0</td>\n",
              "      <td>2</td>\n",
              "    </tr>\n",
              "  </tbody>\n",
              "</table>\n",
              "</div>\n",
              "    <div class=\"colab-df-buttons\">\n",
              "\n",
              "  <div class=\"colab-df-container\">\n",
              "    <button class=\"colab-df-convert\" onclick=\"convertToInteractive('df-fe954ea2-473d-40e5-b026-df564182684a')\"\n",
              "            title=\"Convert this dataframe to an interactive table.\"\n",
              "            style=\"display:none;\">\n",
              "\n",
              "  <svg xmlns=\"http://www.w3.org/2000/svg\" height=\"24px\" viewBox=\"0 -960 960 960\">\n",
              "    <path d=\"M120-120v-720h720v720H120Zm60-500h600v-160H180v160Zm220 220h160v-160H400v160Zm0 220h160v-160H400v160ZM180-400h160v-160H180v160Zm440 0h160v-160H620v160ZM180-180h160v-160H180v160Zm440 0h160v-160H620v160Z\"/>\n",
              "  </svg>\n",
              "    </button>\n",
              "\n",
              "  <style>\n",
              "    .colab-df-container {\n",
              "      display:flex;\n",
              "      gap: 12px;\n",
              "    }\n",
              "\n",
              "    .colab-df-convert {\n",
              "      background-color: #E8F0FE;\n",
              "      border: none;\n",
              "      border-radius: 50%;\n",
              "      cursor: pointer;\n",
              "      display: none;\n",
              "      fill: #1967D2;\n",
              "      height: 32px;\n",
              "      padding: 0 0 0 0;\n",
              "      width: 32px;\n",
              "    }\n",
              "\n",
              "    .colab-df-convert:hover {\n",
              "      background-color: #E2EBFA;\n",
              "      box-shadow: 0px 1px 2px rgba(60, 64, 67, 0.3), 0px 1px 3px 1px rgba(60, 64, 67, 0.15);\n",
              "      fill: #174EA6;\n",
              "    }\n",
              "\n",
              "    .colab-df-buttons div {\n",
              "      margin-bottom: 4px;\n",
              "    }\n",
              "\n",
              "    [theme=dark] .colab-df-convert {\n",
              "      background-color: #3B4455;\n",
              "      fill: #D2E3FC;\n",
              "    }\n",
              "\n",
              "    [theme=dark] .colab-df-convert:hover {\n",
              "      background-color: #434B5C;\n",
              "      box-shadow: 0px 1px 3px 1px rgba(0, 0, 0, 0.15);\n",
              "      filter: drop-shadow(0px 1px 2px rgba(0, 0, 0, 0.3));\n",
              "      fill: #FFFFFF;\n",
              "    }\n",
              "  </style>\n",
              "\n",
              "    <script>\n",
              "      const buttonEl =\n",
              "        document.querySelector('#df-fe954ea2-473d-40e5-b026-df564182684a button.colab-df-convert');\n",
              "      buttonEl.style.display =\n",
              "        google.colab.kernel.accessAllowed ? 'block' : 'none';\n",
              "\n",
              "      async function convertToInteractive(key) {\n",
              "        const element = document.querySelector('#df-fe954ea2-473d-40e5-b026-df564182684a');\n",
              "        const dataTable =\n",
              "          await google.colab.kernel.invokeFunction('convertToInteractive',\n",
              "                                                    [key], {});\n",
              "        if (!dataTable) return;\n",
              "\n",
              "        const docLinkHtml = 'Like what you see? Visit the ' +\n",
              "          '<a target=\"_blank\" href=https://colab.research.google.com/notebooks/data_table.ipynb>data table notebook</a>'\n",
              "          + ' to learn more about interactive tables.';\n",
              "        element.innerHTML = '';\n",
              "        dataTable['output_type'] = 'display_data';\n",
              "        await google.colab.output.renderOutput(dataTable, element);\n",
              "        const docLink = document.createElement('div');\n",
              "        docLink.innerHTML = docLinkHtml;\n",
              "        element.appendChild(docLink);\n",
              "      }\n",
              "    </script>\n",
              "  </div>\n",
              "\n",
              "    </div>\n",
              "  </div>\n"
            ],
            "text/plain": [
              "        Measures Center\n",
              "Names                  \n",
              "Pierre       6.0      2"
            ]
          },
          "execution_count": 12,
          "metadata": {},
          "output_type": "execute_result"
        }
      ],
      "source": [
        "# First way to do it (equivalent to what we would do with R)\n",
        "df[df.index == 'Pierre']"
      ]
    },
    {
      "cell_type": "code",
      "execution_count": null,
      "metadata": {
        "colab": {
          "base_uri": "https://localhost:8080/"
        },
        "id": "QpiVqIhsFwoe",
        "outputId": "04a6c4ef-8a82-4f7b-cc8b-4b48a4f36009"
      },
      "outputs": [
        {
          "data": {
            "text/plain": [
              "Measures    6.0\n",
              "Center        2\n",
              "Name: Pierre, dtype: object"
            ]
          },
          "execution_count": 13,
          "metadata": {},
          "output_type": "execute_result"
        }
      ],
      "source": [
        "# A second way, use the mechanisms of the index\n",
        "df.loc['Pierre']"
      ]
    },
    {
      "cell_type": "code",
      "execution_count": null,
      "metadata": {
        "colab": {
          "base_uri": "https://localhost:8080/",
          "height": 333
        },
        "id": "SMunp3_2GBaz",
        "outputId": "a086c38d-59d8-4465-a704-d779f8977f6b"
      },
      "outputs": [
        {
          "ename": "TypeError",
          "evalue": "ignored",
          "output_type": "error",
          "traceback": [
            "\u001b[0;31m---------------------------------------------------------------------------\u001b[0m",
            "\u001b[0;31mTypeError\u001b[0m                                 Traceback (most recent call last)",
            "\u001b[0;32m<ipython-input-15-f7d487f1307c>\u001b[0m in \u001b[0;36m<cell line: 1>\u001b[0;34m()\u001b[0m\n\u001b[0;32m----> 1\u001b[0;31m \u001b[0mdf\u001b[0m\u001b[0;34m.\u001b[0m\u001b[0miloc\u001b[0m\u001b[0;34m[\u001b[0m\u001b[0;34m'Pierre'\u001b[0m\u001b[0;34m]\u001b[0m\u001b[0;34m\u001b[0m\u001b[0;34m\u001b[0m\u001b[0m\n\u001b[0m",
            "\u001b[0;32m/usr/local/lib/python3.10/dist-packages/pandas/core/indexing.py\u001b[0m in \u001b[0;36m__getitem__\u001b[0;34m(self, key)\u001b[0m\n\u001b[1;32m   1071\u001b[0m \u001b[0;34m\u001b[0m\u001b[0m\n\u001b[1;32m   1072\u001b[0m             \u001b[0mmaybe_callable\u001b[0m \u001b[0;34m=\u001b[0m \u001b[0mcom\u001b[0m\u001b[0;34m.\u001b[0m\u001b[0mapply_if_callable\u001b[0m\u001b[0;34m(\u001b[0m\u001b[0mkey\u001b[0m\u001b[0;34m,\u001b[0m \u001b[0mself\u001b[0m\u001b[0;34m.\u001b[0m\u001b[0mobj\u001b[0m\u001b[0;34m)\u001b[0m\u001b[0;34m\u001b[0m\u001b[0;34m\u001b[0m\u001b[0m\n\u001b[0;32m-> 1073\u001b[0;31m             \u001b[0;32mreturn\u001b[0m \u001b[0mself\u001b[0m\u001b[0;34m.\u001b[0m\u001b[0m_getitem_axis\u001b[0m\u001b[0;34m(\u001b[0m\u001b[0mmaybe_callable\u001b[0m\u001b[0;34m,\u001b[0m \u001b[0maxis\u001b[0m\u001b[0;34m=\u001b[0m\u001b[0maxis\u001b[0m\u001b[0;34m)\u001b[0m\u001b[0;34m\u001b[0m\u001b[0;34m\u001b[0m\u001b[0m\n\u001b[0m\u001b[1;32m   1074\u001b[0m \u001b[0;34m\u001b[0m\u001b[0m\n\u001b[1;32m   1075\u001b[0m     \u001b[0;32mdef\u001b[0m \u001b[0m_is_scalar_access\u001b[0m\u001b[0;34m(\u001b[0m\u001b[0mself\u001b[0m\u001b[0;34m,\u001b[0m \u001b[0mkey\u001b[0m\u001b[0;34m:\u001b[0m \u001b[0mtuple\u001b[0m\u001b[0;34m)\u001b[0m\u001b[0;34m:\u001b[0m\u001b[0;34m\u001b[0m\u001b[0;34m\u001b[0m\u001b[0m\n",
            "\u001b[0;32m/usr/local/lib/python3.10/dist-packages/pandas/core/indexing.py\u001b[0m in \u001b[0;36m_getitem_axis\u001b[0;34m(self, key, axis)\u001b[0m\n\u001b[1;32m   1620\u001b[0m             \u001b[0mkey\u001b[0m \u001b[0;34m=\u001b[0m \u001b[0mitem_from_zerodim\u001b[0m\u001b[0;34m(\u001b[0m\u001b[0mkey\u001b[0m\u001b[0;34m)\u001b[0m\u001b[0;34m\u001b[0m\u001b[0;34m\u001b[0m\u001b[0m\n\u001b[1;32m   1621\u001b[0m             \u001b[0;32mif\u001b[0m \u001b[0;32mnot\u001b[0m \u001b[0mis_integer\u001b[0m\u001b[0;34m(\u001b[0m\u001b[0mkey\u001b[0m\u001b[0;34m)\u001b[0m\u001b[0;34m:\u001b[0m\u001b[0;34m\u001b[0m\u001b[0;34m\u001b[0m\u001b[0m\n\u001b[0;32m-> 1622\u001b[0;31m                 \u001b[0;32mraise\u001b[0m \u001b[0mTypeError\u001b[0m\u001b[0;34m(\u001b[0m\u001b[0;34m\"Cannot index by location index with a non-integer key\"\u001b[0m\u001b[0;34m)\u001b[0m\u001b[0;34m\u001b[0m\u001b[0;34m\u001b[0m\u001b[0m\n\u001b[0m\u001b[1;32m   1623\u001b[0m \u001b[0;34m\u001b[0m\u001b[0m\n\u001b[1;32m   1624\u001b[0m             \u001b[0;31m# validate the location\u001b[0m\u001b[0;34m\u001b[0m\u001b[0;34m\u001b[0m\u001b[0m\n",
            "\u001b[0;31mTypeError\u001b[0m: Cannot index by location index with a non-integer key"
          ]
        }
      ],
      "source": [
        "# It doesn't work with .iloc since it's not an integer\n",
        "df.iloc['Pierre']"
      ]
    },
    {
      "cell_type": "markdown",
      "metadata": {
        "id": "1eoqKsTBGOEv"
      },
      "source": [
        "5.   Add the following observation to the DataFrame:  \n",
        "`{Names: Nicolas, Measures: 12.3, Center: '1'}`."
      ]
    },
    {
      "cell_type": "code",
      "execution_count": null,
      "metadata": {
        "colab": {
          "base_uri": "https://localhost:8080/",
          "height": 81
        },
        "id": "cMStFWjuGEAL",
        "outputId": "e17fac30-38c2-44af-9bf6-5b1dcd73016e"
      },
      "outputs": [
        {
          "data": {
            "text/html": [
              "\n",
              "  <div id=\"df-bf0064ee-b710-419d-a5f0-b4ab5ce4d1b4\" class=\"colab-df-container\">\n",
              "    <div>\n",
              "<style scoped>\n",
              "    .dataframe tbody tr th:only-of-type {\n",
              "        vertical-align: middle;\n",
              "    }\n",
              "\n",
              "    .dataframe tbody tr th {\n",
              "        vertical-align: top;\n",
              "    }\n",
              "\n",
              "    .dataframe thead th {\n",
              "        text-align: right;\n",
              "    }\n",
              "</style>\n",
              "<table border=\"1\" class=\"dataframe\">\n",
              "  <thead>\n",
              "    <tr style=\"text-align: right;\">\n",
              "      <th></th>\n",
              "      <th>Measures</th>\n",
              "      <th>Center</th>\n",
              "    </tr>\n",
              "  </thead>\n",
              "  <tbody>\n",
              "    <tr>\n",
              "      <th>Nicolas</th>\n",
              "      <td>12.3</td>\n",
              "      <td>1</td>\n",
              "    </tr>\n",
              "  </tbody>\n",
              "</table>\n",
              "</div>\n",
              "    <div class=\"colab-df-buttons\">\n",
              "\n",
              "  <div class=\"colab-df-container\">\n",
              "    <button class=\"colab-df-convert\" onclick=\"convertToInteractive('df-bf0064ee-b710-419d-a5f0-b4ab5ce4d1b4')\"\n",
              "            title=\"Convert this dataframe to an interactive table.\"\n",
              "            style=\"display:none;\">\n",
              "\n",
              "  <svg xmlns=\"http://www.w3.org/2000/svg\" height=\"24px\" viewBox=\"0 -960 960 960\">\n",
              "    <path d=\"M120-120v-720h720v720H120Zm60-500h600v-160H180v160Zm220 220h160v-160H400v160Zm0 220h160v-160H400v160ZM180-400h160v-160H180v160Zm440 0h160v-160H620v160ZM180-180h160v-160H180v160Zm440 0h160v-160H620v160Z\"/>\n",
              "  </svg>\n",
              "    </button>\n",
              "\n",
              "  <style>\n",
              "    .colab-df-container {\n",
              "      display:flex;\n",
              "      gap: 12px;\n",
              "    }\n",
              "\n",
              "    .colab-df-convert {\n",
              "      background-color: #E8F0FE;\n",
              "      border: none;\n",
              "      border-radius: 50%;\n",
              "      cursor: pointer;\n",
              "      display: none;\n",
              "      fill: #1967D2;\n",
              "      height: 32px;\n",
              "      padding: 0 0 0 0;\n",
              "      width: 32px;\n",
              "    }\n",
              "\n",
              "    .colab-df-convert:hover {\n",
              "      background-color: #E2EBFA;\n",
              "      box-shadow: 0px 1px 2px rgba(60, 64, 67, 0.3), 0px 1px 3px 1px rgba(60, 64, 67, 0.15);\n",
              "      fill: #174EA6;\n",
              "    }\n",
              "\n",
              "    .colab-df-buttons div {\n",
              "      margin-bottom: 4px;\n",
              "    }\n",
              "\n",
              "    [theme=dark] .colab-df-convert {\n",
              "      background-color: #3B4455;\n",
              "      fill: #D2E3FC;\n",
              "    }\n",
              "\n",
              "    [theme=dark] .colab-df-convert:hover {\n",
              "      background-color: #434B5C;\n",
              "      box-shadow: 0px 1px 3px 1px rgba(0, 0, 0, 0.15);\n",
              "      filter: drop-shadow(0px 1px 2px rgba(0, 0, 0, 0.3));\n",
              "      fill: #FFFFFF;\n",
              "    }\n",
              "  </style>\n",
              "\n",
              "    <script>\n",
              "      const buttonEl =\n",
              "        document.querySelector('#df-bf0064ee-b710-419d-a5f0-b4ab5ce4d1b4 button.colab-df-convert');\n",
              "      buttonEl.style.display =\n",
              "        google.colab.kernel.accessAllowed ? 'block' : 'none';\n",
              "\n",
              "      async function convertToInteractive(key) {\n",
              "        const element = document.querySelector('#df-bf0064ee-b710-419d-a5f0-b4ab5ce4d1b4');\n",
              "        const dataTable =\n",
              "          await google.colab.kernel.invokeFunction('convertToInteractive',\n",
              "                                                    [key], {});\n",
              "        if (!dataTable) return;\n",
              "\n",
              "        const docLinkHtml = 'Like what you see? Visit the ' +\n",
              "          '<a target=\"_blank\" href=https://colab.research.google.com/notebooks/data_table.ipynb>data table notebook</a>'\n",
              "          + ' to learn more about interactive tables.';\n",
              "        element.innerHTML = '';\n",
              "        dataTable['output_type'] = 'display_data';\n",
              "        await google.colab.output.renderOutput(dataTable, element);\n",
              "        const docLink = document.createElement('div');\n",
              "        docLink.innerHTML = docLinkHtml;\n",
              "        element.appendChild(docLink);\n",
              "      }\n",
              "    </script>\n",
              "  </div>\n",
              "\n",
              "    </div>\n",
              "  </div>\n"
            ],
            "text/plain": [
              "         Measures Center\n",
              "Nicolas      12.3      1"
            ]
          },
          "execution_count": 17,
          "metadata": {},
          "output_type": "execute_result"
        }
      ],
      "source": [
        "new_df = pd.DataFrame({'Measures':12.3, 'Center':'1'}, index = ['Nicolas'])\n",
        "new_df"
      ]
    },
    {
      "cell_type": "code",
      "execution_count": null,
      "metadata": {
        "colab": {
          "base_uri": "https://localhost:8080/"
        },
        "id": "hNqw_Tp1Go5r",
        "outputId": "13cc4a45-a927-49fe-8042-a2dfa2e042ca"
      },
      "outputs": [
        {
          "name": "stdout",
          "output_type": "stream",
          "text": [
            "         Measures Center\n",
            "Jean         12.5      1\n",
            "Marie        18.0      2\n",
            "Joseph       10.0      2\n",
            "Marthe       13.2      1\n",
            "Jacob         3.2      2\n",
            "Marc          5.7      2\n",
            "Paul         12.0      1\n",
            "Pierre        6.0      2\n",
            "Ismael        7.0      1\n",
            "David        14.5      2\n",
            "Mathieu      17.6      2\n",
            "Nicolas      12.3      1\n"
          ]
        },
        {
          "name": "stderr",
          "output_type": "stream",
          "text": [
            "<ipython-input-18-aacfe8e25b50>:1: FutureWarning: The frame.append method is deprecated and will be removed from pandas in a future version. Use pandas.concat instead.\n",
            "  df = df.append(new_df)\n"
          ]
        }
      ],
      "source": [
        "df = df.append(new_df)\n",
        "print(df)"
      ]
    },
    {
      "cell_type": "markdown",
      "metadata": {
        "id": "lzEpEwkfG6Dz"
      },
      "source": [
        "6.   Give the overall mean measurement.\n"
      ]
    },
    {
      "cell_type": "code",
      "execution_count": null,
      "metadata": {
        "colab": {
          "base_uri": "https://localhost:8080/"
        },
        "id": "YGS_btrFG4jV",
        "outputId": "7284c823-0b1f-494c-a566-f45762b34b6e"
      },
      "outputs": [
        {
          "name": "stdout",
          "output_type": "stream",
          "text": [
            "The overall mean is 11\n"
          ]
        }
      ],
      "source": [
        "# Print the overall mean\n",
        "print('The overall mean is %2.f' % (sum(df['Measures'])/df.shape[0]))"
      ]
    },
    {
      "cell_type": "code",
      "execution_count": null,
      "metadata": {
        "colab": {
          "base_uri": "https://localhost:8080/"
        },
        "id": "mteMn2hYHZ7C",
        "outputId": "3f98da65-50be-4d1a-8dab-ccc4f2efeef2"
      },
      "outputs": [
        {
          "name": "stdout",
          "output_type": "stream",
          "text": [
            "The overall mean is 11\n"
          ]
        }
      ],
      "source": [
        "# There is a mean method with pandas\n",
        "print('The overall mean is %2.f' % df['Measures'].mean())"
      ]
    },
    {
      "cell_type": "code",
      "execution_count": null,
      "metadata": {
        "colab": {
          "base_uri": "https://localhost:8080/"
        },
        "id": "h2fDzofOHm9L",
        "outputId": "8a30e482-a26b-4c43-892c-72794efebf01"
      },
      "outputs": [
        {
          "data": {
            "text/plain": [
              "Jean       12.5\n",
              "Marie      18.0\n",
              "Joseph     10.0\n",
              "Marthe     13.2\n",
              "Jacob       3.2\n",
              "Marc        5.7\n",
              "Paul       12.0\n",
              "Pierre      6.0\n",
              "Ismael      7.0\n",
              "David      14.5\n",
              "Mathieu    17.6\n",
              "Nicolas    12.3\n",
              "Name: Measures, dtype: float64"
            ]
          },
          "execution_count": 31,
          "metadata": {},
          "output_type": "execute_result"
        }
      ],
      "source": [
        "# You can also use the name of the column as if it was an attribute\n",
        "df.Measures"
      ]
    },
    {
      "cell_type": "code",
      "execution_count": null,
      "metadata": {
        "colab": {
          "base_uri": "https://localhost:8080/"
        },
        "id": "R74b7eUoH6L8",
        "outputId": "c558ca98-8048-4552-f146-7cab4be79079"
      },
      "outputs": [
        {
          "name": "stdout",
          "output_type": "stream",
          "text": [
            "The overall mean is 11\n"
          ]
        }
      ],
      "source": [
        "# Then with a single ligne\n",
        "print('The overall mean is %2.f' % df.Measures.mean())"
      ]
    },
    {
      "cell_type": "markdown",
      "metadata": {
        "id": "MOr3e_EpIEDC"
      },
      "source": [
        "7.   Give the mean measurement of each center.\n"
      ]
    },
    {
      "cell_type": "code",
      "execution_count": null,
      "metadata": {
        "colab": {
          "base_uri": "https://localhost:8080/"
        },
        "id": "ltlu7GzxLQPR",
        "outputId": "05347ed4-0d91-4e4e-a161-f52159b7df43"
      },
      "outputs": [
        {
          "data": {
            "text/plain": [
              "[11.4, 10.714285714285714]"
            ]
          },
          "execution_count": 46,
          "metadata": {},
          "output_type": "execute_result"
        }
      ],
      "source": [
        "# First way\n",
        "[df.Measures[df['Center'] == i].mean() for i in df.Center.unique()]"
      ]
    },
    {
      "cell_type": "code",
      "execution_count": null,
      "metadata": {
        "colab": {
          "base_uri": "https://localhost:8080/"
        },
        "id": "aW53_L3XMFYn",
        "outputId": "d94d29da-fbb2-4eb6-bc31-e73de29ca215"
      },
      "outputs": [
        {
          "name": "stdout",
          "output_type": "stream",
          "text": [
            "The mean value of center 1 is 11.4\n",
            "The mean value of center 2 is 10.714285714285714\n"
          ]
        }
      ],
      "source": [
        "# Second way with a for loop\n",
        "for i in df.Center.unique():\n",
        "  mean_value = df.Measures[df['Center']==i].mean()\n",
        "  print(f'The mean value of center {i} is {mean_value}')"
      ]
    },
    {
      "cell_type": "code",
      "execution_count": null,
      "metadata": {
        "id": "P4fB9sVeMhlA"
      },
      "outputs": [],
      "source": [
        "# A third way with the groupby method\n",
        "?pd.DataFrame.groupby"
      ]
    },
    {
      "cell_type": "code",
      "execution_count": null,
      "metadata": {
        "colab": {
          "base_uri": "https://localhost:8080/",
          "height": 143
        },
        "id": "YTd-FEaWMsIg",
        "outputId": "8e63c255-f653-4549-9538-deaf2d8c0cc7"
      },
      "outputs": [
        {
          "data": {
            "text/html": [
              "\n",
              "  <div id=\"df-a9f070d9-3098-4d4a-a398-e3a36caa806e\" class=\"colab-df-container\">\n",
              "    <div>\n",
              "<style scoped>\n",
              "    .dataframe tbody tr th:only-of-type {\n",
              "        vertical-align: middle;\n",
              "    }\n",
              "\n",
              "    .dataframe tbody tr th {\n",
              "        vertical-align: top;\n",
              "    }\n",
              "\n",
              "    .dataframe thead th {\n",
              "        text-align: right;\n",
              "    }\n",
              "</style>\n",
              "<table border=\"1\" class=\"dataframe\">\n",
              "  <thead>\n",
              "    <tr style=\"text-align: right;\">\n",
              "      <th></th>\n",
              "      <th>Measures</th>\n",
              "    </tr>\n",
              "    <tr>\n",
              "      <th>Center</th>\n",
              "      <th></th>\n",
              "    </tr>\n",
              "  </thead>\n",
              "  <tbody>\n",
              "    <tr>\n",
              "      <th>1</th>\n",
              "      <td>11.400000</td>\n",
              "    </tr>\n",
              "    <tr>\n",
              "      <th>2</th>\n",
              "      <td>10.714286</td>\n",
              "    </tr>\n",
              "  </tbody>\n",
              "</table>\n",
              "</div>\n",
              "    <div class=\"colab-df-buttons\">\n",
              "\n",
              "  <div class=\"colab-df-container\">\n",
              "    <button class=\"colab-df-convert\" onclick=\"convertToInteractive('df-a9f070d9-3098-4d4a-a398-e3a36caa806e')\"\n",
              "            title=\"Convert this dataframe to an interactive table.\"\n",
              "            style=\"display:none;\">\n",
              "\n",
              "  <svg xmlns=\"http://www.w3.org/2000/svg\" height=\"24px\" viewBox=\"0 -960 960 960\">\n",
              "    <path d=\"M120-120v-720h720v720H120Zm60-500h600v-160H180v160Zm220 220h160v-160H400v160Zm0 220h160v-160H400v160ZM180-400h160v-160H180v160Zm440 0h160v-160H620v160ZM180-180h160v-160H180v160Zm440 0h160v-160H620v160Z\"/>\n",
              "  </svg>\n",
              "    </button>\n",
              "\n",
              "  <style>\n",
              "    .colab-df-container {\n",
              "      display:flex;\n",
              "      gap: 12px;\n",
              "    }\n",
              "\n",
              "    .colab-df-convert {\n",
              "      background-color: #E8F0FE;\n",
              "      border: none;\n",
              "      border-radius: 50%;\n",
              "      cursor: pointer;\n",
              "      display: none;\n",
              "      fill: #1967D2;\n",
              "      height: 32px;\n",
              "      padding: 0 0 0 0;\n",
              "      width: 32px;\n",
              "    }\n",
              "\n",
              "    .colab-df-convert:hover {\n",
              "      background-color: #E2EBFA;\n",
              "      box-shadow: 0px 1px 2px rgba(60, 64, 67, 0.3), 0px 1px 3px 1px rgba(60, 64, 67, 0.15);\n",
              "      fill: #174EA6;\n",
              "    }\n",
              "\n",
              "    .colab-df-buttons div {\n",
              "      margin-bottom: 4px;\n",
              "    }\n",
              "\n",
              "    [theme=dark] .colab-df-convert {\n",
              "      background-color: #3B4455;\n",
              "      fill: #D2E3FC;\n",
              "    }\n",
              "\n",
              "    [theme=dark] .colab-df-convert:hover {\n",
              "      background-color: #434B5C;\n",
              "      box-shadow: 0px 1px 3px 1px rgba(0, 0, 0, 0.15);\n",
              "      filter: drop-shadow(0px 1px 2px rgba(0, 0, 0, 0.3));\n",
              "      fill: #FFFFFF;\n",
              "    }\n",
              "  </style>\n",
              "\n",
              "    <script>\n",
              "      const buttonEl =\n",
              "        document.querySelector('#df-a9f070d9-3098-4d4a-a398-e3a36caa806e button.colab-df-convert');\n",
              "      buttonEl.style.display =\n",
              "        google.colab.kernel.accessAllowed ? 'block' : 'none';\n",
              "\n",
              "      async function convertToInteractive(key) {\n",
              "        const element = document.querySelector('#df-a9f070d9-3098-4d4a-a398-e3a36caa806e');\n",
              "        const dataTable =\n",
              "          await google.colab.kernel.invokeFunction('convertToInteractive',\n",
              "                                                    [key], {});\n",
              "        if (!dataTable) return;\n",
              "\n",
              "        const docLinkHtml = 'Like what you see? Visit the ' +\n",
              "          '<a target=\"_blank\" href=https://colab.research.google.com/notebooks/data_table.ipynb>data table notebook</a>'\n",
              "          + ' to learn more about interactive tables.';\n",
              "        element.innerHTML = '';\n",
              "        dataTable['output_type'] = 'display_data';\n",
              "        await google.colab.output.renderOutput(dataTable, element);\n",
              "        const docLink = document.createElement('div');\n",
              "        docLink.innerHTML = docLinkHtml;\n",
              "        element.appendChild(docLink);\n",
              "      }\n",
              "    </script>\n",
              "  </div>\n",
              "\n",
              "\n",
              "<div id=\"df-12f06cb3-9867-4b04-9b37-fcae3794a78b\">\n",
              "  <button class=\"colab-df-quickchart\" onclick=\"quickchart('df-12f06cb3-9867-4b04-9b37-fcae3794a78b')\"\n",
              "            title=\"Suggest charts.\"\n",
              "            style=\"display:none;\">\n",
              "\n",
              "<svg xmlns=\"http://www.w3.org/2000/svg\" height=\"24px\"viewBox=\"0 0 24 24\"\n",
              "     width=\"24px\">\n",
              "    <g>\n",
              "        <path d=\"M19 3H5c-1.1 0-2 .9-2 2v14c0 1.1.9 2 2 2h14c1.1 0 2-.9 2-2V5c0-1.1-.9-2-2-2zM9 17H7v-7h2v7zm4 0h-2V7h2v10zm4 0h-2v-4h2v4z\"/>\n",
              "    </g>\n",
              "</svg>\n",
              "  </button>\n",
              "\n",
              "<style>\n",
              "  .colab-df-quickchart {\n",
              "      --bg-color: #E8F0FE;\n",
              "      --fill-color: #1967D2;\n",
              "      --hover-bg-color: #E2EBFA;\n",
              "      --hover-fill-color: #174EA6;\n",
              "      --disabled-fill-color: #AAA;\n",
              "      --disabled-bg-color: #DDD;\n",
              "  }\n",
              "\n",
              "  [theme=dark] .colab-df-quickchart {\n",
              "      --bg-color: #3B4455;\n",
              "      --fill-color: #D2E3FC;\n",
              "      --hover-bg-color: #434B5C;\n",
              "      --hover-fill-color: #FFFFFF;\n",
              "      --disabled-bg-color: #3B4455;\n",
              "      --disabled-fill-color: #666;\n",
              "  }\n",
              "\n",
              "  .colab-df-quickchart {\n",
              "    background-color: var(--bg-color);\n",
              "    border: none;\n",
              "    border-radius: 50%;\n",
              "    cursor: pointer;\n",
              "    display: none;\n",
              "    fill: var(--fill-color);\n",
              "    height: 32px;\n",
              "    padding: 0;\n",
              "    width: 32px;\n",
              "  }\n",
              "\n",
              "  .colab-df-quickchart:hover {\n",
              "    background-color: var(--hover-bg-color);\n",
              "    box-shadow: 0 1px 2px rgba(60, 64, 67, 0.3), 0 1px 3px 1px rgba(60, 64, 67, 0.15);\n",
              "    fill: var(--button-hover-fill-color);\n",
              "  }\n",
              "\n",
              "  .colab-df-quickchart-complete:disabled,\n",
              "  .colab-df-quickchart-complete:disabled:hover {\n",
              "    background-color: var(--disabled-bg-color);\n",
              "    fill: var(--disabled-fill-color);\n",
              "    box-shadow: none;\n",
              "  }\n",
              "\n",
              "  .colab-df-spinner {\n",
              "    border: 2px solid var(--fill-color);\n",
              "    border-color: transparent;\n",
              "    border-bottom-color: var(--fill-color);\n",
              "    animation:\n",
              "      spin 1s steps(1) infinite;\n",
              "  }\n",
              "\n",
              "  @keyframes spin {\n",
              "    0% {\n",
              "      border-color: transparent;\n",
              "      border-bottom-color: var(--fill-color);\n",
              "      border-left-color: var(--fill-color);\n",
              "    }\n",
              "    20% {\n",
              "      border-color: transparent;\n",
              "      border-left-color: var(--fill-color);\n",
              "      border-top-color: var(--fill-color);\n",
              "    }\n",
              "    30% {\n",
              "      border-color: transparent;\n",
              "      border-left-color: var(--fill-color);\n",
              "      border-top-color: var(--fill-color);\n",
              "      border-right-color: var(--fill-color);\n",
              "    }\n",
              "    40% {\n",
              "      border-color: transparent;\n",
              "      border-right-color: var(--fill-color);\n",
              "      border-top-color: var(--fill-color);\n",
              "    }\n",
              "    60% {\n",
              "      border-color: transparent;\n",
              "      border-right-color: var(--fill-color);\n",
              "    }\n",
              "    80% {\n",
              "      border-color: transparent;\n",
              "      border-right-color: var(--fill-color);\n",
              "      border-bottom-color: var(--fill-color);\n",
              "    }\n",
              "    90% {\n",
              "      border-color: transparent;\n",
              "      border-bottom-color: var(--fill-color);\n",
              "    }\n",
              "  }\n",
              "</style>\n",
              "\n",
              "  <script>\n",
              "    async function quickchart(key) {\n",
              "      const quickchartButtonEl =\n",
              "        document.querySelector('#' + key + ' button');\n",
              "      quickchartButtonEl.disabled = true;  // To prevent multiple clicks.\n",
              "      quickchartButtonEl.classList.add('colab-df-spinner');\n",
              "      try {\n",
              "        const charts = await google.colab.kernel.invokeFunction(\n",
              "            'suggestCharts', [key], {});\n",
              "      } catch (error) {\n",
              "        console.error('Error during call to suggestCharts:', error);\n",
              "      }\n",
              "      quickchartButtonEl.classList.remove('colab-df-spinner');\n",
              "      quickchartButtonEl.classList.add('colab-df-quickchart-complete');\n",
              "    }\n",
              "    (() => {\n",
              "      let quickchartButtonEl =\n",
              "        document.querySelector('#df-12f06cb3-9867-4b04-9b37-fcae3794a78b button');\n",
              "      quickchartButtonEl.style.display =\n",
              "        google.colab.kernel.accessAllowed ? 'block' : 'none';\n",
              "    })();\n",
              "  </script>\n",
              "</div>\n",
              "    </div>\n",
              "  </div>\n"
            ],
            "text/plain": [
              "         Measures\n",
              "Center           \n",
              "1       11.400000\n",
              "2       10.714286"
            ]
          },
          "execution_count": 52,
          "metadata": {},
          "output_type": "execute_result"
        }
      ],
      "source": [
        "df.groupby('Center').mean()"
      ]
    },
    {
      "cell_type": "markdown",
      "metadata": {
        "id": "4A_1_qHnM6_g"
      },
      "source": [
        "8.   Add the following observations from a third center to the DataFrame.\n",
        "`'Names': ['Marius', 'Robert', 'Karim'], 'Measures': [15.3, 3.1, 1.5]`"
      ]
    },
    {
      "cell_type": "code",
      "execution_count": null,
      "metadata": {
        "colab": {
          "base_uri": "https://localhost:8080/"
        },
        "id": "sGX28kZlM84m",
        "outputId": "a5364183-c8cd-4d73-c6de-f40729106625"
      },
      "outputs": [
        {
          "name": "stdout",
          "output_type": "stream",
          "text": [
            "         Measures Center\n",
            "Jean         12.5      1\n",
            "Marie        18.0      2\n",
            "Joseph       10.0      2\n",
            "Marthe       13.2      1\n",
            "Jacob         3.2      2\n",
            "Marc          5.7      2\n",
            "Paul         12.0      1\n",
            "Pierre        6.0      2\n",
            "Ismael        7.0      1\n",
            "David        14.5      2\n",
            "Mathieu      17.6      2\n",
            "Nicolas      12.3      1\n",
            "Marius       15.3      3\n",
            "Robert        3.1      3\n",
            "Karim         1.5      3\n"
          ]
        },
        {
          "name": "stderr",
          "output_type": "stream",
          "text": [
            "<ipython-input-53-62bf6761c738>:6: FutureWarning: The frame.append method is deprecated and will be removed from pandas in a future version. Use pandas.concat instead.\n",
            "  df = df.append(new_df)\n"
          ]
        }
      ],
      "source": [
        "new_df = pd.DataFrame({'Measures': [15.3, 3.1, 1.5],\n",
        "                       'Center': ['3', '3', '3'],\n",
        "                      },\n",
        "                      index = ['Marius', 'Robert', 'Karim'])\n",
        "\n",
        "df = df.append(new_df)\n",
        "print(df)"
      ]
    },
    {
      "cell_type": "markdown",
      "metadata": {
        "id": "4496QkZP1ABE"
      },
      "source": [
        "### __Exercise 2 - DataFrame Manipulation__"
      ]
    },
    {
      "cell_type": "markdown",
      "metadata": {
        "id": "ZJYBF0_X1Hec"
      },
      "source": [
        "##### __DataFrame.loc | Select column & Row by name__\n",
        "Access specific row/column with the name (label) of the row/column.\n",
        "\n",
        "##### __DataFrame.iloc | Select column indexes & row indexes positions__\n",
        "Access specific row/column with an index"
      ]
    },
    {
      "cell_type": "markdown",
      "metadata": {
        "id": "hJ0v2rbL7ntu"
      },
      "source": [
        "From the following DataFrame\n",
        "\n",
        "\n",
        "1.   Display the first and last 3 rows\n",
        "2.   Display the column age\n",
        "3.   Display the number of rows\n",
        "4.   Display the proportion of male and female patients\n",
        "5.   Display the `id` of the youngest and oldest patient along with the corresponding ages.\n",
        "6.   Display all the patients that are over 40 years old.\n",
        "7.   Compute the BMI of each patients and add a new column with this value in your DataFrame.\n",
        "8.   Create a new column with the categorized version of BMI\n",
        "9.   Display the number of patients in each BMI category.\n",
        "10.  Give the mean age of each category.\n",
        "\n"
      ]
    },
    {
      "cell_type": "code",
      "execution_count": 1,
      "metadata": {
        "id": "waTyBO1VNe-5"
      },
      "outputs": [],
      "source": [
        "import pandas as pd\n",
        "\n",
        "df = pd.DataFrame({\n",
        "    'id': ['085', '086', '087', '088', '089', '090', '091', '092', '093', '094', '95'],\n",
        "    'age': [19, 42, 25, 58, 36, 74, 65, 20, 47, 32, 23],\n",
        "    'weight': ['50', '46', '60', '103', '75', '68', '82', '96', '74', '113', '180'],\n",
        "    'height': [158, 174, 195, 169, 158, 201, 189, 163, 184, 173, 171],\n",
        "    'sex': ['F', 'F', 'F', 'M', 'M', 'F', 'M', 'F', 'F', 'M', 'F']\n",
        "})"
      ]
    },
    {
      "cell_type": "markdown",
      "metadata": {
        "id": "3dvZs_BvOWHA"
      },
      "source": [
        "__Note 1:__ The Body Mass Index (BMI) can be calculated with the formula:\n",
        "\n",
        "$$\n",
        "BMI = \\frac{Weight}{Height^2}\n",
        "$$\n",
        "with the height in meters and the weight in kg.\n",
        "\n",
        "__Note 2:__ We usually categroized the BMI with the following categories:\n",
        "\n",
        "| Category || BMI (kg/m^2)|\n",
        "|---------||:------------|\n",
        "| Underweight | Less than 16.0 |\n",
        "| Thinness | Between 16.0 and 18.4 |\n",
        "| Normal range | Between 18.5 and 24.9 |\n",
        "| Overweight | Between 25.0 and 29.9 |\n",
        "| Obese (Class I) | Between 30.0 and 34.9 |\n",
        "| Obese (Class II) | Between 35.0 and 39.9 |\n",
        "| Obese (Class III) | More than 40.0 |"
      ]
    },
    {
      "cell_type": "markdown",
      "metadata": {
        "id": "F2du0sSbP2EB"
      },
      "source": [
        "#### 1. Display the first and last 3 rows."
      ]
    },
    {
      "cell_type": "code",
      "execution_count": 2,
      "metadata": {
        "colab": {
          "base_uri": "https://localhost:8080/",
          "height": 143
        },
        "id": "3sILAZwiQFox",
        "outputId": "7224bcf0-8b00-40ba-bc22-65b695f48e6a"
      },
      "outputs": [
        {
          "data": {
            "text/html": [
              "<div>\n",
              "<style scoped>\n",
              "    .dataframe tbody tr th:only-of-type {\n",
              "        vertical-align: middle;\n",
              "    }\n",
              "\n",
              "    .dataframe tbody tr th {\n",
              "        vertical-align: top;\n",
              "    }\n",
              "\n",
              "    .dataframe thead th {\n",
              "        text-align: right;\n",
              "    }\n",
              "</style>\n",
              "<table border=\"1\" class=\"dataframe\">\n",
              "  <thead>\n",
              "    <tr style=\"text-align: right;\">\n",
              "      <th></th>\n",
              "      <th>id</th>\n",
              "      <th>age</th>\n",
              "      <th>weight</th>\n",
              "      <th>height</th>\n",
              "      <th>sex</th>\n",
              "    </tr>\n",
              "  </thead>\n",
              "  <tbody>\n",
              "    <tr>\n",
              "      <th>0</th>\n",
              "      <td>085</td>\n",
              "      <td>19</td>\n",
              "      <td>50</td>\n",
              "      <td>158</td>\n",
              "      <td>F</td>\n",
              "    </tr>\n",
              "    <tr>\n",
              "      <th>1</th>\n",
              "      <td>086</td>\n",
              "      <td>42</td>\n",
              "      <td>46</td>\n",
              "      <td>174</td>\n",
              "      <td>F</td>\n",
              "    </tr>\n",
              "    <tr>\n",
              "      <th>2</th>\n",
              "      <td>087</td>\n",
              "      <td>25</td>\n",
              "      <td>60</td>\n",
              "      <td>195</td>\n",
              "      <td>F</td>\n",
              "    </tr>\n",
              "  </tbody>\n",
              "</table>\n",
              "</div>"
            ],
            "text/plain": [
              "    id  age weight  height sex\n",
              "0  085   19     50     158   F\n",
              "1  086   42     46     174   F\n",
              "2  087   25     60     195   F"
            ]
          },
          "execution_count": 2,
          "metadata": {},
          "output_type": "execute_result"
        }
      ],
      "source": [
        "# We can use the head method or iloc\n",
        "df.head(3)\n"
      ]
    },
    {
      "cell_type": "code",
      "execution_count": 7,
      "metadata": {
        "colab": {
          "base_uri": "https://localhost:8080/",
          "height": 143
        },
        "id": "rPue3ZMtQRfp",
        "outputId": "a80f6d47-0022-4498-f661-86c353f8772f"
      },
      "outputs": [
        {
          "data": {
            "text/html": [
              "<div>\n",
              "<style scoped>\n",
              "    .dataframe tbody tr th:only-of-type {\n",
              "        vertical-align: middle;\n",
              "    }\n",
              "\n",
              "    .dataframe tbody tr th {\n",
              "        vertical-align: top;\n",
              "    }\n",
              "\n",
              "    .dataframe thead th {\n",
              "        text-align: right;\n",
              "    }\n",
              "</style>\n",
              "<table border=\"1\" class=\"dataframe\">\n",
              "  <thead>\n",
              "    <tr style=\"text-align: right;\">\n",
              "      <th></th>\n",
              "      <th>id</th>\n",
              "      <th>age</th>\n",
              "      <th>weight</th>\n",
              "      <th>height</th>\n",
              "      <th>sex</th>\n",
              "    </tr>\n",
              "  </thead>\n",
              "  <tbody>\n",
              "    <tr>\n",
              "      <th>0</th>\n",
              "      <td>085</td>\n",
              "      <td>19</td>\n",
              "      <td>50</td>\n",
              "      <td>158</td>\n",
              "      <td>F</td>\n",
              "    </tr>\n",
              "    <tr>\n",
              "      <th>1</th>\n",
              "      <td>086</td>\n",
              "      <td>42</td>\n",
              "      <td>46</td>\n",
              "      <td>174</td>\n",
              "      <td>F</td>\n",
              "    </tr>\n",
              "    <tr>\n",
              "      <th>2</th>\n",
              "      <td>087</td>\n",
              "      <td>25</td>\n",
              "      <td>60</td>\n",
              "      <td>195</td>\n",
              "      <td>F</td>\n",
              "    </tr>\n",
              "  </tbody>\n",
              "</table>\n",
              "</div>"
            ],
            "text/plain": [
              "    id  age weight  height sex\n",
              "0  085   19     50     158   F\n",
              "1  086   42     46     174   F\n",
              "2  087   25     60     195   F"
            ]
          },
          "execution_count": 7,
          "metadata": {},
          "output_type": "execute_result"
        }
      ],
      "source": [
        "df.iloc[0:3]"
      ]
    },
    {
      "cell_type": "code",
      "execution_count": 10,
      "metadata": {
        "colab": {
          "base_uri": "https://localhost:8080/",
          "height": 143
        },
        "id": "17IZcg3YQUa2",
        "outputId": "f523dca7-b3b2-44ae-9d1d-7061edb84a5d"
      },
      "outputs": [
        {
          "data": {
            "text/html": [
              "<div>\n",
              "<style scoped>\n",
              "    .dataframe tbody tr th:only-of-type {\n",
              "        vertical-align: middle;\n",
              "    }\n",
              "\n",
              "    .dataframe tbody tr th {\n",
              "        vertical-align: top;\n",
              "    }\n",
              "\n",
              "    .dataframe thead th {\n",
              "        text-align: right;\n",
              "    }\n",
              "</style>\n",
              "<table border=\"1\" class=\"dataframe\">\n",
              "  <thead>\n",
              "    <tr style=\"text-align: right;\">\n",
              "      <th></th>\n",
              "      <th>id</th>\n",
              "      <th>age</th>\n",
              "      <th>weight</th>\n",
              "      <th>height</th>\n",
              "      <th>sex</th>\n",
              "    </tr>\n",
              "  </thead>\n",
              "  <tbody>\n",
              "    <tr>\n",
              "      <th>8</th>\n",
              "      <td>093</td>\n",
              "      <td>47</td>\n",
              "      <td>74</td>\n",
              "      <td>184</td>\n",
              "      <td>F</td>\n",
              "    </tr>\n",
              "    <tr>\n",
              "      <th>9</th>\n",
              "      <td>094</td>\n",
              "      <td>32</td>\n",
              "      <td>113</td>\n",
              "      <td>173</td>\n",
              "      <td>M</td>\n",
              "    </tr>\n",
              "    <tr>\n",
              "      <th>10</th>\n",
              "      <td>95</td>\n",
              "      <td>23</td>\n",
              "      <td>180</td>\n",
              "      <td>171</td>\n",
              "      <td>F</td>\n",
              "    </tr>\n",
              "  </tbody>\n",
              "</table>\n",
              "</div>"
            ],
            "text/plain": [
              "     id  age weight  height sex\n",
              "8   093   47     74     184   F\n",
              "9   094   32    113     173   M\n",
              "10   95   23    180     171   F"
            ]
          },
          "execution_count": 10,
          "metadata": {},
          "output_type": "execute_result"
        }
      ],
      "source": [
        "df.iloc[8:11]"
      ]
    },
    {
      "cell_type": "markdown",
      "metadata": {
        "id": "fn87ff4DQfd0"
      },
      "source": [
        "#### 2. Display the column age"
      ]
    },
    {
      "cell_type": "code",
      "execution_count": 11,
      "metadata": {
        "colab": {
          "base_uri": "https://localhost:8080/"
        },
        "id": "7_TEsn6jQioh",
        "outputId": "b3f82207-99e3-40e2-cb32-b2ae268d5a52"
      },
      "outputs": [
        {
          "data": {
            "text/plain": [
              "0     19\n",
              "1     42\n",
              "2     25\n",
              "3     58\n",
              "4     36\n",
              "5     74\n",
              "6     65\n",
              "7     20\n",
              "8     47\n",
              "9     32\n",
              "10    23\n",
              "Name: age, dtype: int64"
            ]
          },
          "execution_count": 11,
          "metadata": {},
          "output_type": "execute_result"
        }
      ],
      "source": [
        "# First way\n",
        "df.age"
      ]
    },
    {
      "cell_type": "code",
      "execution_count": 12,
      "metadata": {
        "colab": {
          "base_uri": "https://localhost:8080/"
        },
        "id": "rOCRa__4Qm1y",
        "outputId": "03e7cfeb-8c0a-467f-a5f7-865f17722c3f"
      },
      "outputs": [
        {
          "data": {
            "text/plain": [
              "0     19\n",
              "1     42\n",
              "2     25\n",
              "3     58\n",
              "4     36\n",
              "5     74\n",
              "6     65\n",
              "7     20\n",
              "8     47\n",
              "9     32\n",
              "10    23\n",
              "Name: age, dtype: int64"
            ]
          },
          "execution_count": 12,
          "metadata": {},
          "output_type": "execute_result"
        }
      ],
      "source": [
        "# Second way\n",
        "df['age']"
      ]
    },
    {
      "cell_type": "code",
      "execution_count": 13,
      "metadata": {
        "colab": {
          "base_uri": "https://localhost:8080/"
        },
        "id": "sLQP9ayUQpWK",
        "outputId": "cb60c26b-42e6-4310-d2e7-bedd4ced39c1"
      },
      "outputs": [
        {
          "data": {
            "text/plain": [
              "0     19\n",
              "1     42\n",
              "2     25\n",
              "3     58\n",
              "4     36\n",
              "5     74\n",
              "6     65\n",
              "7     20\n",
              "8     47\n",
              "9     32\n",
              "10    23\n",
              "Name: age, dtype: int64"
            ]
          },
          "execution_count": 13,
          "metadata": {},
          "output_type": "execute_result"
        }
      ],
      "source": [
        "# Third way\n",
        "df.loc[:,'age']"
      ]
    },
    {
      "cell_type": "code",
      "execution_count": 14,
      "metadata": {
        "colab": {
          "base_uri": "https://localhost:8080/"
        },
        "id": "GSM6u6-IQpQA",
        "outputId": "a3cd1e7e-1f94-4e8a-911c-57764d1d2d21"
      },
      "outputs": [
        {
          "data": {
            "text/plain": [
              "0     19\n",
              "1     42\n",
              "2     25\n",
              "3     58\n",
              "4     36\n",
              "5     74\n",
              "6     65\n",
              "7     20\n",
              "8     47\n",
              "9     32\n",
              "10    23\n",
              "Name: age, dtype: int64"
            ]
          },
          "execution_count": 14,
          "metadata": {},
          "output_type": "execute_result"
        }
      ],
      "source": [
        "# Fourth way\n",
        "df.iloc[:,1]"
      ]
    },
    {
      "cell_type": "markdown",
      "metadata": {
        "id": "sVyKkW6YQ3y_"
      },
      "source": [
        "#### 3. Display the number of rows"
      ]
    },
    {
      "cell_type": "code",
      "execution_count": 15,
      "metadata": {
        "colab": {
          "base_uri": "https://localhost:8080/"
        },
        "id": "WoEAll4wQ6eh",
        "outputId": "0dc97cd6-c17c-46cd-a6fb-ca7bf5545685"
      },
      "outputs": [
        {
          "data": {
            "text/plain": [
              "11"
            ]
          },
          "execution_count": 15,
          "metadata": {},
          "output_type": "execute_result"
        }
      ],
      "source": [
        "# First way\n",
        "len(df)"
      ]
    },
    {
      "cell_type": "code",
      "execution_count": 18,
      "metadata": {
        "colab": {
          "base_uri": "https://localhost:8080/"
        },
        "id": "qJw99ROvRQ24",
        "outputId": "a3499d8b-4c84-48d0-8e93-294c5a6f4f97"
      },
      "outputs": [
        {
          "data": {
            "text/plain": [
              "11"
            ]
          },
          "execution_count": 18,
          "metadata": {},
          "output_type": "execute_result"
        }
      ],
      "source": [
        "# Second way\n",
        "df.shape[0]"
      ]
    },
    {
      "cell_type": "markdown",
      "metadata": {
        "id": "zIZAnn3HSBMv"
      },
      "source": [
        "#### 4. Display the proportion of male and female patients.\n"
      ]
    },
    {
      "cell_type": "code",
      "execution_count": 22,
      "metadata": {
        "colab": {
          "base_uri": "https://localhost:8080/"
        },
        "id": "LfBx3tkWSLuS",
        "outputId": "dcee1f86-115c-4fdf-88af-08a968173197"
      },
      "outputs": [
        {
          "data": {
            "text/plain": [
              "sex\n",
              "F    0.636364\n",
              "M    0.363636\n",
              "dtype: float64"
            ]
          },
          "execution_count": 22,
          "metadata": {},
          "output_type": "execute_result"
        }
      ],
      "source": [
        "df.groupby('sex').size()/df.shape[0]"
      ]
    },
    {
      "cell_type": "markdown",
      "metadata": {
        "id": "B-7uhfcgtiS6"
      },
      "source": [
        "#### 5. Display the 'id' of the youngest and oldest patient along with the corresponding ages."
      ]
    },
    {
      "cell_type": "code",
      "execution_count": 24,
      "metadata": {
        "colab": {
          "base_uri": "https://localhost:8080/"
        },
        "id": "vIXc54ugthmv",
        "outputId": "3977a742-3c54-4364-a03f-0a2360960179"
      },
      "outputs": [
        {
          "name": "stdout",
          "output_type": "stream",
          "text": [
            "\u001b[1;31mSignature:\u001b[0m\n",
            "\u001b[0mpd\u001b[0m\u001b[1;33m.\u001b[0m\u001b[0mDataFrame\u001b[0m\u001b[1;33m.\u001b[0m\u001b[0midxmin\u001b[0m\u001b[1;33m(\u001b[0m\u001b[1;33m\n",
            "\u001b[0m    \u001b[0mself\u001b[0m\u001b[1;33m,\u001b[0m\u001b[1;33m\n",
            "\u001b[0m    \u001b[0maxis\u001b[0m\u001b[1;33m:\u001b[0m \u001b[1;34m'Axis'\u001b[0m \u001b[1;33m=\u001b[0m \u001b[1;36m0\u001b[0m\u001b[1;33m,\u001b[0m\u001b[1;33m\n",
            "\u001b[0m    \u001b[0mskipna\u001b[0m\u001b[1;33m:\u001b[0m \u001b[1;34m'bool'\u001b[0m \u001b[1;33m=\u001b[0m \u001b[1;32mTrue\u001b[0m\u001b[1;33m,\u001b[0m\u001b[1;33m\n",
            "\u001b[0m    \u001b[0mnumeric_only\u001b[0m\u001b[1;33m:\u001b[0m \u001b[1;34m'bool'\u001b[0m \u001b[1;33m=\u001b[0m \u001b[1;32mFalse\u001b[0m\u001b[1;33m,\u001b[0m\u001b[1;33m\n",
            "\u001b[0m\u001b[1;33m)\u001b[0m \u001b[1;33m->\u001b[0m \u001b[1;34m'Series'\u001b[0m\u001b[1;33m\u001b[0m\u001b[1;33m\u001b[0m\u001b[0m\n",
            "\u001b[1;31mDocstring:\u001b[0m\n",
            "Return index of first occurrence of minimum over requested axis.\n",
            "\n",
            "NA/null values are excluded.\n",
            "\n",
            "Parameters\n",
            "----------\n",
            "axis : {0 or 'index', 1 or 'columns'}, default 0\n",
            "    The axis to use. 0 or 'index' for row-wise, 1 or 'columns' for column-wise.\n",
            "skipna : bool, default True\n",
            "    Exclude NA/null values. If an entire row/column is NA, the result\n",
            "    will be NA.\n",
            "numeric_only : bool, default False\n",
            "    Include only `float`, `int` or `boolean` data.\n",
            "\n",
            "    .. versionadded:: 1.5.0\n",
            "\n",
            "Returns\n",
            "-------\n",
            "Series\n",
            "    Indexes of minima along the specified axis.\n",
            "\n",
            "Raises\n",
            "------\n",
            "ValueError\n",
            "    * If the row/column is empty\n",
            "\n",
            "See Also\n",
            "--------\n",
            "Series.idxmin : Return index of the minimum element.\n",
            "\n",
            "Notes\n",
            "-----\n",
            "This method is the DataFrame version of ``ndarray.argmin``.\n",
            "\n",
            "Examples\n",
            "--------\n",
            "Consider a dataset containing food consumption in Argentina.\n",
            "\n",
            ">>> df = pd.DataFrame({'consumption': [10.51, 103.11, 55.48],\n",
            "...                     'co2_emissions': [37.2, 19.66, 1712]},\n",
            "...                   index=['Pork', 'Wheat Products', 'Beef'])\n",
            "\n",
            ">>> df\n",
            "                consumption  co2_emissions\n",
            "Pork                  10.51         37.20\n",
            "Wheat Products       103.11         19.66\n",
            "Beef                  55.48       1712.00\n",
            "\n",
            "By default, it returns the index for the minimum value in each column.\n",
            "\n",
            ">>> df.idxmin()\n",
            "consumption                Pork\n",
            "co2_emissions    Wheat Products\n",
            "dtype: object\n",
            "\n",
            "To return the index for the minimum value in each row, use ``axis=\"columns\"``.\n",
            "\n",
            ">>> df.idxmin(axis=\"columns\")\n",
            "Pork                consumption\n",
            "Wheat Products    co2_emissions\n",
            "Beef                consumption\n",
            "dtype: object\n",
            "\u001b[1;31mFile:\u001b[0m      c:\\users\\lrnv\\appdata\\local\\programs\\python\\python310\\lib\\site-packages\\pandas\\core\\frame.py\n",
            "\u001b[1;31mType:\u001b[0m      function"
          ]
        }
      ],
      "source": [
        "# Take a look at the idxmin method\n",
        "?pd.DataFrame.idxmin"
      ]
    },
    {
      "cell_type": "code",
      "execution_count": 27,
      "metadata": {
        "colab": {
          "base_uri": "https://localhost:8080/"
        },
        "id": "hE38WCuuuuTW",
        "outputId": "d00207f0-9b33-444e-a239-4136de82e2ee"
      },
      "outputs": [
        {
          "data": {
            "text/plain": [
              "0"
            ]
          },
          "execution_count": 27,
          "metadata": {},
          "output_type": "execute_result"
        }
      ],
      "source": [
        "# idxmin method will return the index of the minimum value of the dataframe\n",
        "df['age'].idxmin()"
      ]
    },
    {
      "cell_type": "code",
      "execution_count": 32,
      "metadata": {
        "colab": {
          "base_uri": "https://localhost:8080/"
        },
        "id": "gOtTR1iOu3lH",
        "outputId": "3423a4b0-5e9b-4273-e083-d5d6606edb5f"
      },
      "outputs": [
        {
          "data": {
            "text/plain": [
              "id        085\n",
              "age        19\n",
              "weight     50\n",
              "height    158\n",
              "sex         F\n",
              "Name: 0, dtype: object"
            ]
          },
          "execution_count": 32,
          "metadata": {},
          "output_type": "execute_result"
        }
      ],
      "source": [
        "# To automatically print it, we will simultaneously use the iloc method\n",
        "df.iloc[df['age'].idxmin(),]"
      ]
    },
    {
      "cell_type": "code",
      "execution_count": 30,
      "metadata": {
        "colab": {
          "base_uri": "https://localhost:8080/"
        },
        "id": "WyzvJrUnvDZl",
        "outputId": "636cd5d0-5428-4af2-f52e-285d25488071"
      },
      "outputs": [
        {
          "name": "stdout",
          "output_type": "stream",
          "text": [
            "id:085 is the youngest patient with 19 years old\n",
            "id:090 is the oldest patient with 74 years old\n"
          ]
        }
      ],
      "source": [
        "# To return the id\n",
        "print(f'id:{df.iloc[df[\"age\"].idxmin(), 0]} is the youngest patient with {min(df[\"age\"])} years old')\n",
        "print(f\"id:{df.iloc[df['age'].idxmax(), 0]} is the oldest patient with {max(df['age'])} years old\")"
      ]
    },
    {
      "cell_type": "markdown",
      "metadata": {
        "id": "Fa2OMS2sWgci"
      },
      "source": [
        "#### 6. Display all the patients that are over 40 years old."
      ]
    },
    {
      "cell_type": "code",
      "execution_count": 34,
      "metadata": {
        "colab": {
          "base_uri": "https://localhost:8080/"
        },
        "id": "HubQfKrivxZX",
        "outputId": "c568c7d9-1c58-4335-9888-4679962e86ad"
      },
      "outputs": [
        {
          "data": {
            "text/html": [
              "<div>\n",
              "<style scoped>\n",
              "    .dataframe tbody tr th:only-of-type {\n",
              "        vertical-align: middle;\n",
              "    }\n",
              "\n",
              "    .dataframe tbody tr th {\n",
              "        vertical-align: top;\n",
              "    }\n",
              "\n",
              "    .dataframe thead th {\n",
              "        text-align: right;\n",
              "    }\n",
              "</style>\n",
              "<table border=\"1\" class=\"dataframe\">\n",
              "  <thead>\n",
              "    <tr style=\"text-align: right;\">\n",
              "      <th></th>\n",
              "      <th>id</th>\n",
              "      <th>age</th>\n",
              "      <th>weight</th>\n",
              "      <th>height</th>\n",
              "      <th>sex</th>\n",
              "    </tr>\n",
              "  </thead>\n",
              "  <tbody>\n",
              "    <tr>\n",
              "      <th>1</th>\n",
              "      <td>086</td>\n",
              "      <td>42</td>\n",
              "      <td>46</td>\n",
              "      <td>174</td>\n",
              "      <td>F</td>\n",
              "    </tr>\n",
              "    <tr>\n",
              "      <th>3</th>\n",
              "      <td>088</td>\n",
              "      <td>58</td>\n",
              "      <td>103</td>\n",
              "      <td>169</td>\n",
              "      <td>M</td>\n",
              "    </tr>\n",
              "    <tr>\n",
              "      <th>5</th>\n",
              "      <td>090</td>\n",
              "      <td>74</td>\n",
              "      <td>68</td>\n",
              "      <td>201</td>\n",
              "      <td>F</td>\n",
              "    </tr>\n",
              "    <tr>\n",
              "      <th>6</th>\n",
              "      <td>091</td>\n",
              "      <td>65</td>\n",
              "      <td>82</td>\n",
              "      <td>189</td>\n",
              "      <td>M</td>\n",
              "    </tr>\n",
              "    <tr>\n",
              "      <th>8</th>\n",
              "      <td>093</td>\n",
              "      <td>47</td>\n",
              "      <td>74</td>\n",
              "      <td>184</td>\n",
              "      <td>F</td>\n",
              "    </tr>\n",
              "  </tbody>\n",
              "</table>\n",
              "</div>"
            ],
            "text/plain": [
              "    id  age weight  height sex\n",
              "1  086   42     46     174   F\n",
              "3  088   58    103     169   M\n",
              "5  090   74     68     201   F\n",
              "6  091   65     82     189   M\n",
              "8  093   47     74     184   F"
            ]
          },
          "execution_count": 34,
          "metadata": {},
          "output_type": "execute_result"
        }
      ],
      "source": [
        "# # We can do it with a for loop\n",
        "# patients_over_40 = list()\n",
        "# n = df.shape[0]\n",
        "\n",
        "# for i in range(0, n):\n",
        "#   if df.age[i] > 40:\n",
        "#     patients_over_40.append(i)\n",
        "#   else:\n",
        "#     next\n",
        "\n",
        "# print(patients_over_40)\n",
        "# print(df.loc[patients_over_40])\n",
        "\n",
        "\n",
        "df[df.age > 40]"
      ]
    },
    {
      "cell_type": "code",
      "execution_count": 24,
      "metadata": {
        "colab": {
          "base_uri": "https://localhost:8080/"
        },
        "id": "fhsM2EWpwGMw",
        "outputId": "05871bd8-add3-4258-fd7e-899c1581e442"
      },
      "outputs": [
        {
          "data": {
            "text/plain": [
              "pandas.core.series.Series"
            ]
          },
          "execution_count": 24,
          "metadata": {},
          "output_type": "execute_result"
        }
      ],
      "source": [
        "# Another way to do it\n",
        "df['age']>40\n",
        "type(df['age']> 40)"
      ]
    },
    {
      "cell_type": "code",
      "execution_count": 35,
      "metadata": {
        "colab": {
          "base_uri": "https://localhost:8080/",
          "height": 206
        },
        "id": "a9s6LHH0wXzx",
        "outputId": "66e96522-7dd3-47d8-a8e9-bed3f72d7812"
      },
      "outputs": [
        {
          "data": {
            "text/html": [
              "<div>\n",
              "<style scoped>\n",
              "    .dataframe tbody tr th:only-of-type {\n",
              "        vertical-align: middle;\n",
              "    }\n",
              "\n",
              "    .dataframe tbody tr th {\n",
              "        vertical-align: top;\n",
              "    }\n",
              "\n",
              "    .dataframe thead th {\n",
              "        text-align: right;\n",
              "    }\n",
              "</style>\n",
              "<table border=\"1\" class=\"dataframe\">\n",
              "  <thead>\n",
              "    <tr style=\"text-align: right;\">\n",
              "      <th></th>\n",
              "      <th>id</th>\n",
              "      <th>age</th>\n",
              "      <th>weight</th>\n",
              "      <th>height</th>\n",
              "      <th>sex</th>\n",
              "    </tr>\n",
              "  </thead>\n",
              "  <tbody>\n",
              "    <tr>\n",
              "      <th>1</th>\n",
              "      <td>086</td>\n",
              "      <td>42</td>\n",
              "      <td>46</td>\n",
              "      <td>174</td>\n",
              "      <td>F</td>\n",
              "    </tr>\n",
              "    <tr>\n",
              "      <th>3</th>\n",
              "      <td>088</td>\n",
              "      <td>58</td>\n",
              "      <td>103</td>\n",
              "      <td>169</td>\n",
              "      <td>M</td>\n",
              "    </tr>\n",
              "    <tr>\n",
              "      <th>5</th>\n",
              "      <td>090</td>\n",
              "      <td>74</td>\n",
              "      <td>68</td>\n",
              "      <td>201</td>\n",
              "      <td>F</td>\n",
              "    </tr>\n",
              "    <tr>\n",
              "      <th>6</th>\n",
              "      <td>091</td>\n",
              "      <td>65</td>\n",
              "      <td>82</td>\n",
              "      <td>189</td>\n",
              "      <td>M</td>\n",
              "    </tr>\n",
              "    <tr>\n",
              "      <th>8</th>\n",
              "      <td>093</td>\n",
              "      <td>47</td>\n",
              "      <td>74</td>\n",
              "      <td>184</td>\n",
              "      <td>F</td>\n",
              "    </tr>\n",
              "  </tbody>\n",
              "</table>\n",
              "</div>"
            ],
            "text/plain": [
              "    id  age weight  height sex\n",
              "1  086   42     46     174   F\n",
              "3  088   58    103     169   M\n",
              "5  090   74     68     201   F\n",
              "6  091   65     82     189   M\n",
              "8  093   47     74     184   F"
            ]
          },
          "execution_count": 35,
          "metadata": {},
          "output_type": "execute_result"
        }
      ],
      "source": [
        "# You can use it in a DataFrame\n",
        "patients_over_40 = df['age']>40\n",
        "df[patients_over_40]"
      ]
    },
    {
      "cell_type": "code",
      "execution_count": 26,
      "metadata": {
        "colab": {
          "base_uri": "https://localhost:8080/",
          "height": 206
        },
        "id": "bG0_85oawfl8",
        "outputId": "76f45adf-1a4f-4971-c58a-d65e8c8c2a9e"
      },
      "outputs": [
        {
          "data": {
            "text/html": [
              "\n",
              "  <div id=\"df-0d24ba89-63c6-464a-9dc4-dcd10d43728e\" class=\"colab-df-container\">\n",
              "    <div>\n",
              "<style scoped>\n",
              "    .dataframe tbody tr th:only-of-type {\n",
              "        vertical-align: middle;\n",
              "    }\n",
              "\n",
              "    .dataframe tbody tr th {\n",
              "        vertical-align: top;\n",
              "    }\n",
              "\n",
              "    .dataframe thead th {\n",
              "        text-align: right;\n",
              "    }\n",
              "</style>\n",
              "<table border=\"1\" class=\"dataframe\">\n",
              "  <thead>\n",
              "    <tr style=\"text-align: right;\">\n",
              "      <th></th>\n",
              "      <th>id</th>\n",
              "      <th>age</th>\n",
              "      <th>weight</th>\n",
              "      <th>height</th>\n",
              "      <th>sex</th>\n",
              "    </tr>\n",
              "  </thead>\n",
              "  <tbody>\n",
              "    <tr>\n",
              "      <th>1</th>\n",
              "      <td>086</td>\n",
              "      <td>42</td>\n",
              "      <td>46</td>\n",
              "      <td>174</td>\n",
              "      <td>F</td>\n",
              "    </tr>\n",
              "    <tr>\n",
              "      <th>3</th>\n",
              "      <td>088</td>\n",
              "      <td>58</td>\n",
              "      <td>103</td>\n",
              "      <td>169</td>\n",
              "      <td>M</td>\n",
              "    </tr>\n",
              "    <tr>\n",
              "      <th>5</th>\n",
              "      <td>090</td>\n",
              "      <td>74</td>\n",
              "      <td>68</td>\n",
              "      <td>201</td>\n",
              "      <td>F</td>\n",
              "    </tr>\n",
              "    <tr>\n",
              "      <th>6</th>\n",
              "      <td>091</td>\n",
              "      <td>65</td>\n",
              "      <td>82</td>\n",
              "      <td>189</td>\n",
              "      <td>M</td>\n",
              "    </tr>\n",
              "    <tr>\n",
              "      <th>8</th>\n",
              "      <td>093</td>\n",
              "      <td>47</td>\n",
              "      <td>74</td>\n",
              "      <td>184</td>\n",
              "      <td>F</td>\n",
              "    </tr>\n",
              "  </tbody>\n",
              "</table>\n",
              "</div>\n",
              "    <div class=\"colab-df-buttons\">\n",
              "\n",
              "  <div class=\"colab-df-container\">\n",
              "    <button class=\"colab-df-convert\" onclick=\"convertToInteractive('df-0d24ba89-63c6-464a-9dc4-dcd10d43728e')\"\n",
              "            title=\"Convert this dataframe to an interactive table.\"\n",
              "            style=\"display:none;\">\n",
              "\n",
              "  <svg xmlns=\"http://www.w3.org/2000/svg\" height=\"24px\" viewBox=\"0 -960 960 960\">\n",
              "    <path d=\"M120-120v-720h720v720H120Zm60-500h600v-160H180v160Zm220 220h160v-160H400v160Zm0 220h160v-160H400v160ZM180-400h160v-160H180v160Zm440 0h160v-160H620v160ZM180-180h160v-160H180v160Zm440 0h160v-160H620v160Z\"/>\n",
              "  </svg>\n",
              "    </button>\n",
              "\n",
              "  <style>\n",
              "    .colab-df-container {\n",
              "      display:flex;\n",
              "      gap: 12px;\n",
              "    }\n",
              "\n",
              "    .colab-df-convert {\n",
              "      background-color: #E8F0FE;\n",
              "      border: none;\n",
              "      border-radius: 50%;\n",
              "      cursor: pointer;\n",
              "      display: none;\n",
              "      fill: #1967D2;\n",
              "      height: 32px;\n",
              "      padding: 0 0 0 0;\n",
              "      width: 32px;\n",
              "    }\n",
              "\n",
              "    .colab-df-convert:hover {\n",
              "      background-color: #E2EBFA;\n",
              "      box-shadow: 0px 1px 2px rgba(60, 64, 67, 0.3), 0px 1px 3px 1px rgba(60, 64, 67, 0.15);\n",
              "      fill: #174EA6;\n",
              "    }\n",
              "\n",
              "    .colab-df-buttons div {\n",
              "      margin-bottom: 4px;\n",
              "    }\n",
              "\n",
              "    [theme=dark] .colab-df-convert {\n",
              "      background-color: #3B4455;\n",
              "      fill: #D2E3FC;\n",
              "    }\n",
              "\n",
              "    [theme=dark] .colab-df-convert:hover {\n",
              "      background-color: #434B5C;\n",
              "      box-shadow: 0px 1px 3px 1px rgba(0, 0, 0, 0.15);\n",
              "      filter: drop-shadow(0px 1px 2px rgba(0, 0, 0, 0.3));\n",
              "      fill: #FFFFFF;\n",
              "    }\n",
              "  </style>\n",
              "\n",
              "    <script>\n",
              "      const buttonEl =\n",
              "        document.querySelector('#df-0d24ba89-63c6-464a-9dc4-dcd10d43728e button.colab-df-convert');\n",
              "      buttonEl.style.display =\n",
              "        google.colab.kernel.accessAllowed ? 'block' : 'none';\n",
              "\n",
              "      async function convertToInteractive(key) {\n",
              "        const element = document.querySelector('#df-0d24ba89-63c6-464a-9dc4-dcd10d43728e');\n",
              "        const dataTable =\n",
              "          await google.colab.kernel.invokeFunction('convertToInteractive',\n",
              "                                                    [key], {});\n",
              "        if (!dataTable) return;\n",
              "\n",
              "        const docLinkHtml = 'Like what you see? Visit the ' +\n",
              "          '<a target=\"_blank\" href=https://colab.research.google.com/notebooks/data_table.ipynb>data table notebook</a>'\n",
              "          + ' to learn more about interactive tables.';\n",
              "        element.innerHTML = '';\n",
              "        dataTable['output_type'] = 'display_data';\n",
              "        await google.colab.output.renderOutput(dataTable, element);\n",
              "        const docLink = document.createElement('div');\n",
              "        docLink.innerHTML = docLinkHtml;\n",
              "        element.appendChild(docLink);\n",
              "      }\n",
              "    </script>\n",
              "  </div>\n",
              "\n",
              "\n",
              "<div id=\"df-dd7ad6bf-9b8b-42f5-b031-ba707bd1988d\">\n",
              "  <button class=\"colab-df-quickchart\" onclick=\"quickchart('df-dd7ad6bf-9b8b-42f5-b031-ba707bd1988d')\"\n",
              "            title=\"Suggest charts.\"\n",
              "            style=\"display:none;\">\n",
              "\n",
              "<svg xmlns=\"http://www.w3.org/2000/svg\" height=\"24px\"viewBox=\"0 0 24 24\"\n",
              "     width=\"24px\">\n",
              "    <g>\n",
              "        <path d=\"M19 3H5c-1.1 0-2 .9-2 2v14c0 1.1.9 2 2 2h14c1.1 0 2-.9 2-2V5c0-1.1-.9-2-2-2zM9 17H7v-7h2v7zm4 0h-2V7h2v10zm4 0h-2v-4h2v4z\"/>\n",
              "    </g>\n",
              "</svg>\n",
              "  </button>\n",
              "\n",
              "<style>\n",
              "  .colab-df-quickchart {\n",
              "      --bg-color: #E8F0FE;\n",
              "      --fill-color: #1967D2;\n",
              "      --hover-bg-color: #E2EBFA;\n",
              "      --hover-fill-color: #174EA6;\n",
              "      --disabled-fill-color: #AAA;\n",
              "      --disabled-bg-color: #DDD;\n",
              "  }\n",
              "\n",
              "  [theme=dark] .colab-df-quickchart {\n",
              "      --bg-color: #3B4455;\n",
              "      --fill-color: #D2E3FC;\n",
              "      --hover-bg-color: #434B5C;\n",
              "      --hover-fill-color: #FFFFFF;\n",
              "      --disabled-bg-color: #3B4455;\n",
              "      --disabled-fill-color: #666;\n",
              "  }\n",
              "\n",
              "  .colab-df-quickchart {\n",
              "    background-color: var(--bg-color);\n",
              "    border: none;\n",
              "    border-radius: 50%;\n",
              "    cursor: pointer;\n",
              "    display: none;\n",
              "    fill: var(--fill-color);\n",
              "    height: 32px;\n",
              "    padding: 0;\n",
              "    width: 32px;\n",
              "  }\n",
              "\n",
              "  .colab-df-quickchart:hover {\n",
              "    background-color: var(--hover-bg-color);\n",
              "    box-shadow: 0 1px 2px rgba(60, 64, 67, 0.3), 0 1px 3px 1px rgba(60, 64, 67, 0.15);\n",
              "    fill: var(--button-hover-fill-color);\n",
              "  }\n",
              "\n",
              "  .colab-df-quickchart-complete:disabled,\n",
              "  .colab-df-quickchart-complete:disabled:hover {\n",
              "    background-color: var(--disabled-bg-color);\n",
              "    fill: var(--disabled-fill-color);\n",
              "    box-shadow: none;\n",
              "  }\n",
              "\n",
              "  .colab-df-spinner {\n",
              "    border: 2px solid var(--fill-color);\n",
              "    border-color: transparent;\n",
              "    border-bottom-color: var(--fill-color);\n",
              "    animation:\n",
              "      spin 1s steps(1) infinite;\n",
              "  }\n",
              "\n",
              "  @keyframes spin {\n",
              "    0% {\n",
              "      border-color: transparent;\n",
              "      border-bottom-color: var(--fill-color);\n",
              "      border-left-color: var(--fill-color);\n",
              "    }\n",
              "    20% {\n",
              "      border-color: transparent;\n",
              "      border-left-color: var(--fill-color);\n",
              "      border-top-color: var(--fill-color);\n",
              "    }\n",
              "    30% {\n",
              "      border-color: transparent;\n",
              "      border-left-color: var(--fill-color);\n",
              "      border-top-color: var(--fill-color);\n",
              "      border-right-color: var(--fill-color);\n",
              "    }\n",
              "    40% {\n",
              "      border-color: transparent;\n",
              "      border-right-color: var(--fill-color);\n",
              "      border-top-color: var(--fill-color);\n",
              "    }\n",
              "    60% {\n",
              "      border-color: transparent;\n",
              "      border-right-color: var(--fill-color);\n",
              "    }\n",
              "    80% {\n",
              "      border-color: transparent;\n",
              "      border-right-color: var(--fill-color);\n",
              "      border-bottom-color: var(--fill-color);\n",
              "    }\n",
              "    90% {\n",
              "      border-color: transparent;\n",
              "      border-bottom-color: var(--fill-color);\n",
              "    }\n",
              "  }\n",
              "</style>\n",
              "\n",
              "  <script>\n",
              "    async function quickchart(key) {\n",
              "      const quickchartButtonEl =\n",
              "        document.querySelector('#' + key + ' button');\n",
              "      quickchartButtonEl.disabled = true;  // To prevent multiple clicks.\n",
              "      quickchartButtonEl.classList.add('colab-df-spinner');\n",
              "      try {\n",
              "        const charts = await google.colab.kernel.invokeFunction(\n",
              "            'suggestCharts', [key], {});\n",
              "      } catch (error) {\n",
              "        console.error('Error during call to suggestCharts:', error);\n",
              "      }\n",
              "      quickchartButtonEl.classList.remove('colab-df-spinner');\n",
              "      quickchartButtonEl.classList.add('colab-df-quickchart-complete');\n",
              "    }\n",
              "    (() => {\n",
              "      let quickchartButtonEl =\n",
              "        document.querySelector('#df-dd7ad6bf-9b8b-42f5-b031-ba707bd1988d button');\n",
              "      quickchartButtonEl.style.display =\n",
              "        google.colab.kernel.accessAllowed ? 'block' : 'none';\n",
              "    })();\n",
              "  </script>\n",
              "</div>\n",
              "    </div>\n",
              "  </div>\n"
            ],
            "text/plain": [
              "    id  age weight  height sex\n",
              "1  086   42     46     174   F\n",
              "3  088   58    103     169   M\n",
              "5  090   74     68     201   F\n",
              "6  091   65     82     189   M\n",
              "8  093   47     74     184   F"
            ]
          },
          "execution_count": 26,
          "metadata": {},
          "output_type": "execute_result"
        }
      ],
      "source": [
        "# In a single line\n",
        "df[df['age']>40]"
      ]
    },
    {
      "cell_type": "code",
      "execution_count": 36,
      "metadata": {
        "colab": {
          "base_uri": "https://localhost:8080/",
          "height": 206
        },
        "id": "0rqaWz6nwj8X",
        "outputId": "7c871f97-25e1-458a-a8bf-d80aa0fbddeb"
      },
      "outputs": [
        {
          "data": {
            "text/html": [
              "<div>\n",
              "<style scoped>\n",
              "    .dataframe tbody tr th:only-of-type {\n",
              "        vertical-align: middle;\n",
              "    }\n",
              "\n",
              "    .dataframe tbody tr th {\n",
              "        vertical-align: top;\n",
              "    }\n",
              "\n",
              "    .dataframe thead th {\n",
              "        text-align: right;\n",
              "    }\n",
              "</style>\n",
              "<table border=\"1\" class=\"dataframe\">\n",
              "  <thead>\n",
              "    <tr style=\"text-align: right;\">\n",
              "      <th></th>\n",
              "      <th>id</th>\n",
              "      <th>age</th>\n",
              "      <th>weight</th>\n",
              "      <th>height</th>\n",
              "      <th>sex</th>\n",
              "    </tr>\n",
              "  </thead>\n",
              "  <tbody>\n",
              "    <tr>\n",
              "      <th>1</th>\n",
              "      <td>086</td>\n",
              "      <td>42</td>\n",
              "      <td>46</td>\n",
              "      <td>174</td>\n",
              "      <td>F</td>\n",
              "    </tr>\n",
              "    <tr>\n",
              "      <th>3</th>\n",
              "      <td>088</td>\n",
              "      <td>58</td>\n",
              "      <td>103</td>\n",
              "      <td>169</td>\n",
              "      <td>M</td>\n",
              "    </tr>\n",
              "    <tr>\n",
              "      <th>5</th>\n",
              "      <td>090</td>\n",
              "      <td>74</td>\n",
              "      <td>68</td>\n",
              "      <td>201</td>\n",
              "      <td>F</td>\n",
              "    </tr>\n",
              "    <tr>\n",
              "      <th>6</th>\n",
              "      <td>091</td>\n",
              "      <td>65</td>\n",
              "      <td>82</td>\n",
              "      <td>189</td>\n",
              "      <td>M</td>\n",
              "    </tr>\n",
              "    <tr>\n",
              "      <th>8</th>\n",
              "      <td>093</td>\n",
              "      <td>47</td>\n",
              "      <td>74</td>\n",
              "      <td>184</td>\n",
              "      <td>F</td>\n",
              "    </tr>\n",
              "  </tbody>\n",
              "</table>\n",
              "</div>"
            ],
            "text/plain": [
              "    id  age weight  height sex\n",
              "1  086   42     46     174   F\n",
              "3  088   58    103     169   M\n",
              "5  090   74     68     201   F\n",
              "6  091   65     82     189   M\n",
              "8  093   47     74     184   F"
            ]
          },
          "execution_count": 36,
          "metadata": {},
          "output_type": "execute_result"
        }
      ],
      "source": [
        "# Or with a query method\n",
        "df.query('age > 40')"
      ]
    },
    {
      "cell_type": "markdown",
      "metadata": {
        "id": "oFHwc6D4wrar"
      },
      "source": [
        "#### 7. Compute the BMI of each patient and add a column with this value in your DataFrame"
      ]
    },
    {
      "cell_type": "code",
      "execution_count": 37,
      "metadata": {
        "colab": {
          "base_uri": "https://localhost:8080/"
        },
        "id": "dBauTIWXwqI9",
        "outputId": "5ae59bd3-a25b-4a18-fa49-88e8fb3551d4"
      },
      "outputs": [
        {
          "data": {
            "text/plain": [
              "[20, 15, 15, 36, 30, 16, 22, 36, 21, 37, 61]"
            ]
          },
          "execution_count": 37,
          "metadata": {},
          "output_type": "execute_result"
        }
      ],
      "source": [
        "# We can compute the BMI with a for loop\n",
        "BMI = list()\n",
        "\n",
        "for i in range(0, df.shape[0]):\n",
        "  height_in_meters = df.height[i]/100\n",
        "  weight_as_int = df.weight.astype('int')[i]\n",
        "  BMI.append((weight_as_int/(height_in_meters**2)).astype('int'))\n",
        "\n",
        "BMI\n",
        "# df['BMI'] = BMI"
      ]
    },
    {
      "cell_type": "code",
      "execution_count": 48,
      "metadata": {},
      "outputs": [],
      "source": [
        "df = df.assign(BMI = df.weight.astype(int) / (df.height/100) **2)"
      ]
    },
    {
      "cell_type": "code",
      "execution_count": 31,
      "metadata": {
        "id": "Ldqdqwnox7TV"
      },
      "outputs": [],
      "source": [
        "# Another way to do it\n",
        "# Create a pd.Series with the values\n",
        "BMI = pd.Series((df.weight.astype(int)/(df.height/100)**2)).astype(float)\n",
        "new_df = df.assign(BMI = BMI)"
      ]
    },
    {
      "cell_type": "code",
      "execution_count": 32,
      "metadata": {
        "colab": {
          "base_uri": "https://localhost:8080/",
          "height": 394
        },
        "id": "tvRssVbV0MnC",
        "outputId": "e8057b98-52e6-4ddb-cdf1-237bc095d3d6"
      },
      "outputs": [
        {
          "data": {
            "text/html": [
              "\n",
              "  <div id=\"df-8bcc7c68-1998-44ba-9fc2-01d840b18b1b\" class=\"colab-df-container\">\n",
              "    <div>\n",
              "<style scoped>\n",
              "    .dataframe tbody tr th:only-of-type {\n",
              "        vertical-align: middle;\n",
              "    }\n",
              "\n",
              "    .dataframe tbody tr th {\n",
              "        vertical-align: top;\n",
              "    }\n",
              "\n",
              "    .dataframe thead th {\n",
              "        text-align: right;\n",
              "    }\n",
              "</style>\n",
              "<table border=\"1\" class=\"dataframe\">\n",
              "  <thead>\n",
              "    <tr style=\"text-align: right;\">\n",
              "      <th></th>\n",
              "      <th>id</th>\n",
              "      <th>age</th>\n",
              "      <th>weight</th>\n",
              "      <th>height</th>\n",
              "      <th>sex</th>\n",
              "      <th>BMI</th>\n",
              "    </tr>\n",
              "  </thead>\n",
              "  <tbody>\n",
              "    <tr>\n",
              "      <th>0</th>\n",
              "      <td>085</td>\n",
              "      <td>19</td>\n",
              "      <td>50</td>\n",
              "      <td>158</td>\n",
              "      <td>F</td>\n",
              "      <td>20.028842</td>\n",
              "    </tr>\n",
              "    <tr>\n",
              "      <th>1</th>\n",
              "      <td>086</td>\n",
              "      <td>42</td>\n",
              "      <td>46</td>\n",
              "      <td>174</td>\n",
              "      <td>F</td>\n",
              "      <td>15.193553</td>\n",
              "    </tr>\n",
              "    <tr>\n",
              "      <th>2</th>\n",
              "      <td>087</td>\n",
              "      <td>25</td>\n",
              "      <td>60</td>\n",
              "      <td>195</td>\n",
              "      <td>F</td>\n",
              "      <td>15.779093</td>\n",
              "    </tr>\n",
              "    <tr>\n",
              "      <th>3</th>\n",
              "      <td>088</td>\n",
              "      <td>58</td>\n",
              "      <td>103</td>\n",
              "      <td>169</td>\n",
              "      <td>M</td>\n",
              "      <td>36.063163</td>\n",
              "    </tr>\n",
              "    <tr>\n",
              "      <th>4</th>\n",
              "      <td>089</td>\n",
              "      <td>36</td>\n",
              "      <td>75</td>\n",
              "      <td>158</td>\n",
              "      <td>M</td>\n",
              "      <td>30.043262</td>\n",
              "    </tr>\n",
              "    <tr>\n",
              "      <th>5</th>\n",
              "      <td>090</td>\n",
              "      <td>74</td>\n",
              "      <td>68</td>\n",
              "      <td>201</td>\n",
              "      <td>F</td>\n",
              "      <td>16.831267</td>\n",
              "    </tr>\n",
              "    <tr>\n",
              "      <th>6</th>\n",
              "      <td>091</td>\n",
              "      <td>65</td>\n",
              "      <td>82</td>\n",
              "      <td>189</td>\n",
              "      <td>M</td>\n",
              "      <td>22.955684</td>\n",
              "    </tr>\n",
              "    <tr>\n",
              "      <th>7</th>\n",
              "      <td>092</td>\n",
              "      <td>20</td>\n",
              "      <td>96</td>\n",
              "      <td>163</td>\n",
              "      <td>F</td>\n",
              "      <td>36.132335</td>\n",
              "    </tr>\n",
              "    <tr>\n",
              "      <th>8</th>\n",
              "      <td>093</td>\n",
              "      <td>47</td>\n",
              "      <td>74</td>\n",
              "      <td>184</td>\n",
              "      <td>F</td>\n",
              "      <td>21.857278</td>\n",
              "    </tr>\n",
              "    <tr>\n",
              "      <th>9</th>\n",
              "      <td>094</td>\n",
              "      <td>32</td>\n",
              "      <td>113</td>\n",
              "      <td>173</td>\n",
              "      <td>M</td>\n",
              "      <td>37.756023</td>\n",
              "    </tr>\n",
              "    <tr>\n",
              "      <th>10</th>\n",
              "      <td>95</td>\n",
              "      <td>23</td>\n",
              "      <td>180</td>\n",
              "      <td>171</td>\n",
              "      <td>F</td>\n",
              "      <td>61.557402</td>\n",
              "    </tr>\n",
              "  </tbody>\n",
              "</table>\n",
              "</div>\n",
              "    <div class=\"colab-df-buttons\">\n",
              "\n",
              "  <div class=\"colab-df-container\">\n",
              "    <button class=\"colab-df-convert\" onclick=\"convertToInteractive('df-8bcc7c68-1998-44ba-9fc2-01d840b18b1b')\"\n",
              "            title=\"Convert this dataframe to an interactive table.\"\n",
              "            style=\"display:none;\">\n",
              "\n",
              "  <svg xmlns=\"http://www.w3.org/2000/svg\" height=\"24px\" viewBox=\"0 -960 960 960\">\n",
              "    <path d=\"M120-120v-720h720v720H120Zm60-500h600v-160H180v160Zm220 220h160v-160H400v160Zm0 220h160v-160H400v160ZM180-400h160v-160H180v160Zm440 0h160v-160H620v160ZM180-180h160v-160H180v160Zm440 0h160v-160H620v160Z\"/>\n",
              "  </svg>\n",
              "    </button>\n",
              "\n",
              "  <style>\n",
              "    .colab-df-container {\n",
              "      display:flex;\n",
              "      gap: 12px;\n",
              "    }\n",
              "\n",
              "    .colab-df-convert {\n",
              "      background-color: #E8F0FE;\n",
              "      border: none;\n",
              "      border-radius: 50%;\n",
              "      cursor: pointer;\n",
              "      display: none;\n",
              "      fill: #1967D2;\n",
              "      height: 32px;\n",
              "      padding: 0 0 0 0;\n",
              "      width: 32px;\n",
              "    }\n",
              "\n",
              "    .colab-df-convert:hover {\n",
              "      background-color: #E2EBFA;\n",
              "      box-shadow: 0px 1px 2px rgba(60, 64, 67, 0.3), 0px 1px 3px 1px rgba(60, 64, 67, 0.15);\n",
              "      fill: #174EA6;\n",
              "    }\n",
              "\n",
              "    .colab-df-buttons div {\n",
              "      margin-bottom: 4px;\n",
              "    }\n",
              "\n",
              "    [theme=dark] .colab-df-convert {\n",
              "      background-color: #3B4455;\n",
              "      fill: #D2E3FC;\n",
              "    }\n",
              "\n",
              "    [theme=dark] .colab-df-convert:hover {\n",
              "      background-color: #434B5C;\n",
              "      box-shadow: 0px 1px 3px 1px rgba(0, 0, 0, 0.15);\n",
              "      filter: drop-shadow(0px 1px 2px rgba(0, 0, 0, 0.3));\n",
              "      fill: #FFFFFF;\n",
              "    }\n",
              "  </style>\n",
              "\n",
              "    <script>\n",
              "      const buttonEl =\n",
              "        document.querySelector('#df-8bcc7c68-1998-44ba-9fc2-01d840b18b1b button.colab-df-convert');\n",
              "      buttonEl.style.display =\n",
              "        google.colab.kernel.accessAllowed ? 'block' : 'none';\n",
              "\n",
              "      async function convertToInteractive(key) {\n",
              "        const element = document.querySelector('#df-8bcc7c68-1998-44ba-9fc2-01d840b18b1b');\n",
              "        const dataTable =\n",
              "          await google.colab.kernel.invokeFunction('convertToInteractive',\n",
              "                                                    [key], {});\n",
              "        if (!dataTable) return;\n",
              "\n",
              "        const docLinkHtml = 'Like what you see? Visit the ' +\n",
              "          '<a target=\"_blank\" href=https://colab.research.google.com/notebooks/data_table.ipynb>data table notebook</a>'\n",
              "          + ' to learn more about interactive tables.';\n",
              "        element.innerHTML = '';\n",
              "        dataTable['output_type'] = 'display_data';\n",
              "        await google.colab.output.renderOutput(dataTable, element);\n",
              "        const docLink = document.createElement('div');\n",
              "        docLink.innerHTML = docLinkHtml;\n",
              "        element.appendChild(docLink);\n",
              "      }\n",
              "    </script>\n",
              "  </div>\n",
              "\n",
              "\n",
              "<div id=\"df-6e50f261-d4a5-40d3-9bf4-98ed119fe135\">\n",
              "  <button class=\"colab-df-quickchart\" onclick=\"quickchart('df-6e50f261-d4a5-40d3-9bf4-98ed119fe135')\"\n",
              "            title=\"Suggest charts.\"\n",
              "            style=\"display:none;\">\n",
              "\n",
              "<svg xmlns=\"http://www.w3.org/2000/svg\" height=\"24px\"viewBox=\"0 0 24 24\"\n",
              "     width=\"24px\">\n",
              "    <g>\n",
              "        <path d=\"M19 3H5c-1.1 0-2 .9-2 2v14c0 1.1.9 2 2 2h14c1.1 0 2-.9 2-2V5c0-1.1-.9-2-2-2zM9 17H7v-7h2v7zm4 0h-2V7h2v10zm4 0h-2v-4h2v4z\"/>\n",
              "    </g>\n",
              "</svg>\n",
              "  </button>\n",
              "\n",
              "<style>\n",
              "  .colab-df-quickchart {\n",
              "      --bg-color: #E8F0FE;\n",
              "      --fill-color: #1967D2;\n",
              "      --hover-bg-color: #E2EBFA;\n",
              "      --hover-fill-color: #174EA6;\n",
              "      --disabled-fill-color: #AAA;\n",
              "      --disabled-bg-color: #DDD;\n",
              "  }\n",
              "\n",
              "  [theme=dark] .colab-df-quickchart {\n",
              "      --bg-color: #3B4455;\n",
              "      --fill-color: #D2E3FC;\n",
              "      --hover-bg-color: #434B5C;\n",
              "      --hover-fill-color: #FFFFFF;\n",
              "      --disabled-bg-color: #3B4455;\n",
              "      --disabled-fill-color: #666;\n",
              "  }\n",
              "\n",
              "  .colab-df-quickchart {\n",
              "    background-color: var(--bg-color);\n",
              "    border: none;\n",
              "    border-radius: 50%;\n",
              "    cursor: pointer;\n",
              "    display: none;\n",
              "    fill: var(--fill-color);\n",
              "    height: 32px;\n",
              "    padding: 0;\n",
              "    width: 32px;\n",
              "  }\n",
              "\n",
              "  .colab-df-quickchart:hover {\n",
              "    background-color: var(--hover-bg-color);\n",
              "    box-shadow: 0 1px 2px rgba(60, 64, 67, 0.3), 0 1px 3px 1px rgba(60, 64, 67, 0.15);\n",
              "    fill: var(--button-hover-fill-color);\n",
              "  }\n",
              "\n",
              "  .colab-df-quickchart-complete:disabled,\n",
              "  .colab-df-quickchart-complete:disabled:hover {\n",
              "    background-color: var(--disabled-bg-color);\n",
              "    fill: var(--disabled-fill-color);\n",
              "    box-shadow: none;\n",
              "  }\n",
              "\n",
              "  .colab-df-spinner {\n",
              "    border: 2px solid var(--fill-color);\n",
              "    border-color: transparent;\n",
              "    border-bottom-color: var(--fill-color);\n",
              "    animation:\n",
              "      spin 1s steps(1) infinite;\n",
              "  }\n",
              "\n",
              "  @keyframes spin {\n",
              "    0% {\n",
              "      border-color: transparent;\n",
              "      border-bottom-color: var(--fill-color);\n",
              "      border-left-color: var(--fill-color);\n",
              "    }\n",
              "    20% {\n",
              "      border-color: transparent;\n",
              "      border-left-color: var(--fill-color);\n",
              "      border-top-color: var(--fill-color);\n",
              "    }\n",
              "    30% {\n",
              "      border-color: transparent;\n",
              "      border-left-color: var(--fill-color);\n",
              "      border-top-color: var(--fill-color);\n",
              "      border-right-color: var(--fill-color);\n",
              "    }\n",
              "    40% {\n",
              "      border-color: transparent;\n",
              "      border-right-color: var(--fill-color);\n",
              "      border-top-color: var(--fill-color);\n",
              "    }\n",
              "    60% {\n",
              "      border-color: transparent;\n",
              "      border-right-color: var(--fill-color);\n",
              "    }\n",
              "    80% {\n",
              "      border-color: transparent;\n",
              "      border-right-color: var(--fill-color);\n",
              "      border-bottom-color: var(--fill-color);\n",
              "    }\n",
              "    90% {\n",
              "      border-color: transparent;\n",
              "      border-bottom-color: var(--fill-color);\n",
              "    }\n",
              "  }\n",
              "</style>\n",
              "\n",
              "  <script>\n",
              "    async function quickchart(key) {\n",
              "      const quickchartButtonEl =\n",
              "        document.querySelector('#' + key + ' button');\n",
              "      quickchartButtonEl.disabled = true;  // To prevent multiple clicks.\n",
              "      quickchartButtonEl.classList.add('colab-df-spinner');\n",
              "      try {\n",
              "        const charts = await google.colab.kernel.invokeFunction(\n",
              "            'suggestCharts', [key], {});\n",
              "      } catch (error) {\n",
              "        console.error('Error during call to suggestCharts:', error);\n",
              "      }\n",
              "      quickchartButtonEl.classList.remove('colab-df-spinner');\n",
              "      quickchartButtonEl.classList.add('colab-df-quickchart-complete');\n",
              "    }\n",
              "    (() => {\n",
              "      let quickchartButtonEl =\n",
              "        document.querySelector('#df-6e50f261-d4a5-40d3-9bf4-98ed119fe135 button');\n",
              "      quickchartButtonEl.style.display =\n",
              "        google.colab.kernel.accessAllowed ? 'block' : 'none';\n",
              "    })();\n",
              "  </script>\n",
              "</div>\n",
              "    </div>\n",
              "  </div>\n"
            ],
            "text/plain": [
              "     id  age weight  height sex        BMI\n",
              "0   085   19     50     158   F  20.028842\n",
              "1   086   42     46     174   F  15.193553\n",
              "2   087   25     60     195   F  15.779093\n",
              "3   088   58    103     169   M  36.063163\n",
              "4   089   36     75     158   M  30.043262\n",
              "5   090   74     68     201   F  16.831267\n",
              "6   091   65     82     189   M  22.955684\n",
              "7   092   20     96     163   F  36.132335\n",
              "8   093   47     74     184   F  21.857278\n",
              "9   094   32    113     173   M  37.756023\n",
              "10   95   23    180     171   F  61.557402"
            ]
          },
          "execution_count": 32,
          "metadata": {},
          "output_type": "execute_result"
        }
      ],
      "source": [
        "new_df"
      ]
    },
    {
      "cell_type": "code",
      "execution_count": 36,
      "metadata": {
        "id": "PDq2Wp-J2KxN"
      },
      "outputs": [],
      "source": [
        "# Another way\n",
        "df['BMI'] = pd.Series((df.weight.astype(int)/(df.height/100)**2)).astype(float)"
      ]
    },
    {
      "cell_type": "markdown",
      "metadata": {
        "id": "dC0cP8nu0SFB"
      },
      "source": [
        "#### 8. Create a new column with the categorized version of BMI"
      ]
    },
    {
      "cell_type": "code",
      "execution_count": 49,
      "metadata": {
        "colab": {
          "base_uri": "https://localhost:8080/"
        },
        "id": "1ILwihR40Rsg",
        "outputId": "98688001-3c86-436b-fc20-3b6ba848547e"
      },
      "outputs": [
        {
          "name": "stdout",
          "output_type": "stream",
          "text": [
            "\u001b[1;31mSignature:\u001b[0m\n",
            "\u001b[0mpd\u001b[0m\u001b[1;33m.\u001b[0m\u001b[0mcut\u001b[0m\u001b[1;33m(\u001b[0m\u001b[1;33m\n",
            "\u001b[0m    \u001b[0mx\u001b[0m\u001b[1;33m,\u001b[0m\u001b[1;33m\n",
            "\u001b[0m    \u001b[0mbins\u001b[0m\u001b[1;33m,\u001b[0m\u001b[1;33m\n",
            "\u001b[0m    \u001b[0mright\u001b[0m\u001b[1;33m:\u001b[0m \u001b[1;34m'bool'\u001b[0m \u001b[1;33m=\u001b[0m \u001b[1;32mTrue\u001b[0m\u001b[1;33m,\u001b[0m\u001b[1;33m\n",
            "\u001b[0m    \u001b[0mlabels\u001b[0m\u001b[1;33m=\u001b[0m\u001b[1;32mNone\u001b[0m\u001b[1;33m,\u001b[0m\u001b[1;33m\n",
            "\u001b[0m    \u001b[0mretbins\u001b[0m\u001b[1;33m:\u001b[0m \u001b[1;34m'bool'\u001b[0m \u001b[1;33m=\u001b[0m \u001b[1;32mFalse\u001b[0m\u001b[1;33m,\u001b[0m\u001b[1;33m\n",
            "\u001b[0m    \u001b[0mprecision\u001b[0m\u001b[1;33m:\u001b[0m \u001b[1;34m'int'\u001b[0m \u001b[1;33m=\u001b[0m \u001b[1;36m3\u001b[0m\u001b[1;33m,\u001b[0m\u001b[1;33m\n",
            "\u001b[0m    \u001b[0minclude_lowest\u001b[0m\u001b[1;33m:\u001b[0m \u001b[1;34m'bool'\u001b[0m \u001b[1;33m=\u001b[0m \u001b[1;32mFalse\u001b[0m\u001b[1;33m,\u001b[0m\u001b[1;33m\n",
            "\u001b[0m    \u001b[0mduplicates\u001b[0m\u001b[1;33m:\u001b[0m \u001b[1;34m'str'\u001b[0m \u001b[1;33m=\u001b[0m \u001b[1;34m'raise'\u001b[0m\u001b[1;33m,\u001b[0m\u001b[1;33m\n",
            "\u001b[0m    \u001b[0mordered\u001b[0m\u001b[1;33m:\u001b[0m \u001b[1;34m'bool'\u001b[0m \u001b[1;33m=\u001b[0m \u001b[1;32mTrue\u001b[0m\u001b[1;33m,\u001b[0m\u001b[1;33m\n",
            "\u001b[0m\u001b[1;33m)\u001b[0m\u001b[1;33m\u001b[0m\u001b[1;33m\u001b[0m\u001b[0m\n",
            "\u001b[1;31mDocstring:\u001b[0m\n",
            "Bin values into discrete intervals.\n",
            "\n",
            "Use `cut` when you need to segment and sort data values into bins. This\n",
            "function is also useful for going from a continuous variable to a\n",
            "categorical variable. For example, `cut` could convert ages to groups of\n",
            "age ranges. Supports binning into an equal number of bins, or a\n",
            "pre-specified array of bins.\n",
            "\n",
            "Parameters\n",
            "----------\n",
            "x : array-like\n",
            "    The input array to be binned. Must be 1-dimensional.\n",
            "bins : int, sequence of scalars, or IntervalIndex\n",
            "    The criteria to bin by.\n",
            "\n",
            "    * int : Defines the number of equal-width bins in the range of `x`. The\n",
            "      range of `x` is extended by .1% on each side to include the minimum\n",
            "      and maximum values of `x`.\n",
            "    * sequence of scalars : Defines the bin edges allowing for non-uniform\n",
            "      width. No extension of the range of `x` is done.\n",
            "    * IntervalIndex : Defines the exact bins to be used. Note that\n",
            "      IntervalIndex for `bins` must be non-overlapping.\n",
            "\n",
            "right : bool, default True\n",
            "    Indicates whether `bins` includes the rightmost edge or not. If\n",
            "    ``right == True`` (the default), then the `bins` ``[1, 2, 3, 4]``\n",
            "    indicate (1,2], (2,3], (3,4]. This argument is ignored when\n",
            "    `bins` is an IntervalIndex.\n",
            "labels : array or False, default None\n",
            "    Specifies the labels for the returned bins. Must be the same length as\n",
            "    the resulting bins. If False, returns only integer indicators of the\n",
            "    bins. This affects the type of the output container (see below).\n",
            "    This argument is ignored when `bins` is an IntervalIndex. If True,\n",
            "    raises an error. When `ordered=False`, labels must be provided.\n",
            "retbins : bool, default False\n",
            "    Whether to return the bins or not. Useful when bins is provided\n",
            "    as a scalar.\n",
            "precision : int, default 3\n",
            "    The precision at which to store and display the bins labels.\n",
            "include_lowest : bool, default False\n",
            "    Whether the first interval should be left-inclusive or not.\n",
            "duplicates : {default 'raise', 'drop'}, optional\n",
            "    If bin edges are not unique, raise ValueError or drop non-uniques.\n",
            "ordered : bool, default True\n",
            "    Whether the labels are ordered or not. Applies to returned types\n",
            "    Categorical and Series (with Categorical dtype). If True,\n",
            "    the resulting categorical will be ordered. If False, the resulting\n",
            "    categorical will be unordered (labels must be provided).\n",
            "\n",
            "Returns\n",
            "-------\n",
            "out : Categorical, Series, or ndarray\n",
            "    An array-like object representing the respective bin for each value\n",
            "    of `x`. The type depends on the value of `labels`.\n",
            "\n",
            "    * None (default) : returns a Series for Series `x` or a\n",
            "      Categorical for all other inputs. The values stored within\n",
            "      are Interval dtype.\n",
            "\n",
            "    * sequence of scalars : returns a Series for Series `x` or a\n",
            "      Categorical for all other inputs. The values stored within\n",
            "      are whatever the type in the sequence is.\n",
            "\n",
            "    * False : returns an ndarray of integers.\n",
            "\n",
            "bins : numpy.ndarray or IntervalIndex.\n",
            "    The computed or specified bins. Only returned when `retbins=True`.\n",
            "    For scalar or sequence `bins`, this is an ndarray with the computed\n",
            "    bins. If set `duplicates=drop`, `bins` will drop non-unique bin. For\n",
            "    an IntervalIndex `bins`, this is equal to `bins`.\n",
            "\n",
            "See Also\n",
            "--------\n",
            "qcut : Discretize variable into equal-sized buckets based on rank\n",
            "    or based on sample quantiles.\n",
            "Categorical : Array type for storing data that come from a\n",
            "    fixed set of values.\n",
            "Series : One-dimensional array with axis labels (including time series).\n",
            "IntervalIndex : Immutable Index implementing an ordered, sliceable set.\n",
            "\n",
            "Notes\n",
            "-----\n",
            "Any NA values will be NA in the result. Out of bounds values will be NA in\n",
            "the resulting Series or Categorical object.\n",
            "\n",
            "Reference :ref:`the user guide <reshaping.tile.cut>` for more examples.\n",
            "\n",
            "Examples\n",
            "--------\n",
            "Discretize into three equal-sized bins.\n",
            "\n",
            ">>> pd.cut(np.array([1, 7, 5, 4, 6, 3]), 3)\n",
            "... # doctest: +ELLIPSIS\n",
            "[(0.994, 3.0], (5.0, 7.0], (3.0, 5.0], (3.0, 5.0], (5.0, 7.0], ...\n",
            "Categories (3, interval[float64, right]): [(0.994, 3.0] < (3.0, 5.0] ...\n",
            "\n",
            ">>> pd.cut(np.array([1, 7, 5, 4, 6, 3]), 3, retbins=True)\n",
            "... # doctest: +ELLIPSIS\n",
            "([(0.994, 3.0], (5.0, 7.0], (3.0, 5.0], (3.0, 5.0], (5.0, 7.0], ...\n",
            "Categories (3, interval[float64, right]): [(0.994, 3.0] < (3.0, 5.0] ...\n",
            "array([0.994, 3.   , 5.   , 7.   ]))\n",
            "\n",
            "Discovers the same bins, but assign them specific labels. Notice that\n",
            "the returned Categorical's categories are `labels` and is ordered.\n",
            "\n",
            ">>> pd.cut(np.array([1, 7, 5, 4, 6, 3]),\n",
            "...        3, labels=[\"bad\", \"medium\", \"good\"])\n",
            "['bad', 'good', 'medium', 'medium', 'good', 'bad']\n",
            "Categories (3, object): ['bad' < 'medium' < 'good']\n",
            "\n",
            "``ordered=False`` will result in unordered categories when labels are passed.\n",
            "This parameter can be used to allow non-unique labels:\n",
            "\n",
            ">>> pd.cut(np.array([1, 7, 5, 4, 6, 3]), 3,\n",
            "...        labels=[\"B\", \"A\", \"B\"], ordered=False)\n",
            "['B', 'B', 'A', 'A', 'B', 'B']\n",
            "Categories (2, object): ['A', 'B']\n",
            "\n",
            "``labels=False`` implies you just want the bins back.\n",
            "\n",
            ">>> pd.cut([0, 1, 1, 2], bins=4, labels=False)\n",
            "array([0, 1, 1, 3])\n",
            "\n",
            "Passing a Series as an input returns a Series with categorical dtype:\n",
            "\n",
            ">>> s = pd.Series(np.array([2, 4, 6, 8, 10]),\n",
            "...               index=['a', 'b', 'c', 'd', 'e'])\n",
            ">>> pd.cut(s, 3)\n",
            "... # doctest: +ELLIPSIS\n",
            "a    (1.992, 4.667]\n",
            "b    (1.992, 4.667]\n",
            "c    (4.667, 7.333]\n",
            "d     (7.333, 10.0]\n",
            "e     (7.333, 10.0]\n",
            "dtype: category\n",
            "Categories (3, interval[float64, right]): [(1.992, 4.667] < (4.667, ...\n",
            "\n",
            "Passing a Series as an input returns a Series with mapping value.\n",
            "It is used to map numerically to intervals based on bins.\n",
            "\n",
            ">>> s = pd.Series(np.array([2, 4, 6, 8, 10]),\n",
            "...               index=['a', 'b', 'c', 'd', 'e'])\n",
            ">>> pd.cut(s, [0, 2, 4, 6, 8, 10], labels=False, retbins=True, right=False)\n",
            "... # doctest: +ELLIPSIS\n",
            "(a    1.0\n",
            " b    2.0\n",
            " c    3.0\n",
            " d    4.0\n",
            " e    NaN\n",
            " dtype: float64,\n",
            " array([ 0,  2,  4,  6,  8, 10]))\n",
            "\n",
            "Use `drop` optional when bins is not unique\n",
            "\n",
            ">>> pd.cut(s, [0, 2, 4, 6, 10, 10], labels=False, retbins=True,\n",
            "...        right=False, duplicates='drop')\n",
            "... # doctest: +ELLIPSIS\n",
            "(a    1.0\n",
            " b    2.0\n",
            " c    3.0\n",
            " d    3.0\n",
            " e    NaN\n",
            " dtype: float64,\n",
            " array([ 0,  2,  4,  6, 10]))\n",
            "\n",
            "Passing an IntervalIndex for `bins` results in those categories exactly.\n",
            "Notice that values not covered by the IntervalIndex are set to NaN. 0\n",
            "is to the left of the first bin (which is closed on the right), and 1.5\n",
            "falls between two bins.\n",
            "\n",
            ">>> bins = pd.IntervalIndex.from_tuples([(0, 1), (2, 3), (4, 5)])\n",
            ">>> pd.cut([0, 0.5, 1.5, 2.5, 4.5], bins)\n",
            "[NaN, (0.0, 1.0], NaN, (2.0, 3.0], (4.0, 5.0]]\n",
            "Categories (3, interval[int64, right]): [(0, 1] < (2, 3] < (4, 5]]\n",
            "\u001b[1;31mFile:\u001b[0m      c:\\users\\lrnv\\appdata\\local\\programs\\python\\python310\\lib\\site-packages\\pandas\\core\\reshape\\tile.py\n",
            "\u001b[1;31mType:\u001b[0m      function"
          ]
        }
      ],
      "source": [
        "# For this question we will use the pandas fonction called 'cut()'\n",
        "?pd.cut"
      ]
    },
    {
      "cell_type": "code",
      "execution_count": 50,
      "metadata": {
        "colab": {
          "base_uri": "https://localhost:8080/"
        },
        "id": "bPt5qUNI11OA",
        "outputId": "0907f990-e0c3-4ef4-ba47-8300cf86866d"
      },
      "outputs": [
        {
          "data": {
            "text/plain": [
              "0     [18.5, 25.0)\n",
              "1      [0.0, 16.5)\n",
              "2      [0.0, 16.5)\n",
              "3     [35.0, 40.0)\n",
              "4     [30.0, 35.0)\n",
              "5     [16.5, 18.5)\n",
              "6     [18.5, 25.0)\n",
              "7     [35.0, 40.0)\n",
              "8     [18.5, 25.0)\n",
              "9     [35.0, 40.0)\n",
              "10             NaN\n",
              "Name: BMI, dtype: category\n",
              "Categories (6, interval[float64, left]): [[0.0, 16.5) < [16.5, 18.5) < [18.5, 25.0) < [25.0, 30.0) < [30.0, 35.0) < [35.0, 40.0)]"
            ]
          },
          "execution_count": 50,
          "metadata": {},
          "output_type": "execute_result"
        }
      ],
      "source": [
        "# Problem is, with values over 40 we have a NaN so we need to add the infinite value as a limit\n",
        "pd.cut(df.BMI, bins = [0, 16.5, 18.5, 25.0, 30.0, 35.0, 40.0], right = False)"
      ]
    },
    {
      "cell_type": "code",
      "execution_count": 51,
      "metadata": {
        "colab": {
          "base_uri": "https://localhost:8080/"
        },
        "id": "iOtc0m6h28pz",
        "outputId": "02ec31e8-d4f9-4ef0-b4de-c1aba9bbfc79"
      },
      "outputs": [
        {
          "data": {
            "text/plain": [
              "0     (18.5, 25.0]\n",
              "1      (0.0, 16.5]\n",
              "2      (0.0, 16.5]\n",
              "3     (35.0, 40.0]\n",
              "4     (30.0, 35.0]\n",
              "5     (16.5, 18.5]\n",
              "6     (18.5, 25.0]\n",
              "7     (35.0, 40.0]\n",
              "8     (18.5, 25.0]\n",
              "9     (35.0, 40.0]\n",
              "10     (40.0, inf]\n",
              "Name: BMI, dtype: category\n",
              "Categories (7, interval[float64, right]): [(0.0, 16.5] < (16.5, 18.5] < (18.5, 25.0] < (25.0, 30.0] < (30.0, 35.0] < (35.0, 40.0] < (40.0, inf]]"
            ]
          },
          "execution_count": 51,
          "metadata": {},
          "output_type": "execute_result"
        }
      ],
      "source": [
        "import numpy as np\n",
        "pd.cut(df.BMI, bins = [0, 16.5, 18.5, 25.0, 30.0, 35.0, 40.0, np.inf])\n",
        "# You can also use a label for the category"
      ]
    },
    {
      "cell_type": "code",
      "execution_count": 52,
      "metadata": {
        "colab": {
          "base_uri": "https://localhost:8080/"
        },
        "id": "Zp9ovZys3a-3",
        "outputId": "069495ca-804d-4f7e-ca13-0a443be58c75"
      },
      "outputs": [
        {
          "data": {
            "text/plain": [
              "0          Normal range\n",
              "1           Underweight\n",
              "2           Underweight\n",
              "3      Obese (Class II)\n",
              "4       Obese (Class I)\n",
              "5              Thinness\n",
              "6          Normal range\n",
              "7      Obese (Class II)\n",
              "8          Normal range\n",
              "9      Obese (Class II)\n",
              "10    Obese (Class III)\n",
              "Name: BMI, dtype: category\n",
              "Categories (7, object): ['Underweight' < 'Thinness' < 'Normal range' < 'Overweight' < 'Obese (Class I)' < 'Obese (Class II)' < 'Obese (Class III)']"
            ]
          },
          "execution_count": 52,
          "metadata": {},
          "output_type": "execute_result"
        }
      ],
      "source": [
        "pd.cut(df.BMI, bins = [0, 16.5, 18.5, 25.0, 30.0, 35.0, 40.0, np.inf],\n",
        "       labels = ['Underweight', 'Thinness', 'Normal range', 'Overweight', 'Obese (Class I)', 'Obese (Class II)', 'Obese (Class III)'])"
      ]
    },
    {
      "cell_type": "code",
      "execution_count": 53,
      "metadata": {
        "id": "uaukZtoJ32fT"
      },
      "outputs": [],
      "source": [
        "df['BMI_cat'] = pd.cut(df.BMI, bins = [0, 16.5, 18.5, 25.0, 30.0, 35.0, 40.0, np.inf],\n",
        "       labels = ['Underweight', 'Thinness', 'Normal range', 'Overweight', 'Obese (Class I)', 'Obese (Class II)', 'Obese (Class III)'])"
      ]
    },
    {
      "cell_type": "code",
      "execution_count": 54,
      "metadata": {
        "colab": {
          "base_uri": "https://localhost:8080/",
          "height": 394
        },
        "id": "44QfjS414Ajr",
        "outputId": "08739726-ef40-46c8-a9aa-9629552a4493"
      },
      "outputs": [
        {
          "data": {
            "text/html": [
              "<div>\n",
              "<style scoped>\n",
              "    .dataframe tbody tr th:only-of-type {\n",
              "        vertical-align: middle;\n",
              "    }\n",
              "\n",
              "    .dataframe tbody tr th {\n",
              "        vertical-align: top;\n",
              "    }\n",
              "\n",
              "    .dataframe thead th {\n",
              "        text-align: right;\n",
              "    }\n",
              "</style>\n",
              "<table border=\"1\" class=\"dataframe\">\n",
              "  <thead>\n",
              "    <tr style=\"text-align: right;\">\n",
              "      <th></th>\n",
              "      <th>id</th>\n",
              "      <th>age</th>\n",
              "      <th>weight</th>\n",
              "      <th>height</th>\n",
              "      <th>sex</th>\n",
              "      <th>BMI</th>\n",
              "      <th>BMI_cat</th>\n",
              "    </tr>\n",
              "  </thead>\n",
              "  <tbody>\n",
              "    <tr>\n",
              "      <th>0</th>\n",
              "      <td>085</td>\n",
              "      <td>19</td>\n",
              "      <td>50</td>\n",
              "      <td>158</td>\n",
              "      <td>F</td>\n",
              "      <td>20.028842</td>\n",
              "      <td>Normal range</td>\n",
              "    </tr>\n",
              "    <tr>\n",
              "      <th>1</th>\n",
              "      <td>086</td>\n",
              "      <td>42</td>\n",
              "      <td>46</td>\n",
              "      <td>174</td>\n",
              "      <td>F</td>\n",
              "      <td>15.193553</td>\n",
              "      <td>Underweight</td>\n",
              "    </tr>\n",
              "    <tr>\n",
              "      <th>2</th>\n",
              "      <td>087</td>\n",
              "      <td>25</td>\n",
              "      <td>60</td>\n",
              "      <td>195</td>\n",
              "      <td>F</td>\n",
              "      <td>15.779093</td>\n",
              "      <td>Underweight</td>\n",
              "    </tr>\n",
              "    <tr>\n",
              "      <th>3</th>\n",
              "      <td>088</td>\n",
              "      <td>58</td>\n",
              "      <td>103</td>\n",
              "      <td>169</td>\n",
              "      <td>M</td>\n",
              "      <td>36.063163</td>\n",
              "      <td>Obese (Class II)</td>\n",
              "    </tr>\n",
              "    <tr>\n",
              "      <th>4</th>\n",
              "      <td>089</td>\n",
              "      <td>36</td>\n",
              "      <td>75</td>\n",
              "      <td>158</td>\n",
              "      <td>M</td>\n",
              "      <td>30.043262</td>\n",
              "      <td>Obese (Class I)</td>\n",
              "    </tr>\n",
              "    <tr>\n",
              "      <th>5</th>\n",
              "      <td>090</td>\n",
              "      <td>74</td>\n",
              "      <td>68</td>\n",
              "      <td>201</td>\n",
              "      <td>F</td>\n",
              "      <td>16.831267</td>\n",
              "      <td>Thinness</td>\n",
              "    </tr>\n",
              "    <tr>\n",
              "      <th>6</th>\n",
              "      <td>091</td>\n",
              "      <td>65</td>\n",
              "      <td>82</td>\n",
              "      <td>189</td>\n",
              "      <td>M</td>\n",
              "      <td>22.955684</td>\n",
              "      <td>Normal range</td>\n",
              "    </tr>\n",
              "    <tr>\n",
              "      <th>7</th>\n",
              "      <td>092</td>\n",
              "      <td>20</td>\n",
              "      <td>96</td>\n",
              "      <td>163</td>\n",
              "      <td>F</td>\n",
              "      <td>36.132335</td>\n",
              "      <td>Obese (Class II)</td>\n",
              "    </tr>\n",
              "    <tr>\n",
              "      <th>8</th>\n",
              "      <td>093</td>\n",
              "      <td>47</td>\n",
              "      <td>74</td>\n",
              "      <td>184</td>\n",
              "      <td>F</td>\n",
              "      <td>21.857278</td>\n",
              "      <td>Normal range</td>\n",
              "    </tr>\n",
              "    <tr>\n",
              "      <th>9</th>\n",
              "      <td>094</td>\n",
              "      <td>32</td>\n",
              "      <td>113</td>\n",
              "      <td>173</td>\n",
              "      <td>M</td>\n",
              "      <td>37.756023</td>\n",
              "      <td>Obese (Class II)</td>\n",
              "    </tr>\n",
              "    <tr>\n",
              "      <th>10</th>\n",
              "      <td>95</td>\n",
              "      <td>23</td>\n",
              "      <td>180</td>\n",
              "      <td>171</td>\n",
              "      <td>F</td>\n",
              "      <td>61.557402</td>\n",
              "      <td>Obese (Class III)</td>\n",
              "    </tr>\n",
              "  </tbody>\n",
              "</table>\n",
              "</div>"
            ],
            "text/plain": [
              "     id  age weight  height sex        BMI            BMI_cat\n",
              "0   085   19     50     158   F  20.028842       Normal range\n",
              "1   086   42     46     174   F  15.193553        Underweight\n",
              "2   087   25     60     195   F  15.779093        Underweight\n",
              "3   088   58    103     169   M  36.063163   Obese (Class II)\n",
              "4   089   36     75     158   M  30.043262    Obese (Class I)\n",
              "5   090   74     68     201   F  16.831267           Thinness\n",
              "6   091   65     82     189   M  22.955684       Normal range\n",
              "7   092   20     96     163   F  36.132335   Obese (Class II)\n",
              "8   093   47     74     184   F  21.857278       Normal range\n",
              "9   094   32    113     173   M  37.756023   Obese (Class II)\n",
              "10   95   23    180     171   F  61.557402  Obese (Class III)"
            ]
          },
          "execution_count": 54,
          "metadata": {},
          "output_type": "execute_result"
        }
      ],
      "source": [
        "df"
      ]
    },
    {
      "cell_type": "markdown",
      "metadata": {
        "id": "aawzFzmu-R8e"
      },
      "source": [
        "### __Exerrcise 3 - Date format__"
      ]
    },
    {
      "cell_type": "markdown",
      "metadata": {
        "id": "58YBBT6Q-XbW"
      },
      "source": [
        "For this exercise, we will be using the [HortonGeneralHospital.csv](https://archive.ics.uci.edu/ml/machine-learning-databases/00549/HortonGeneralHospital.csv), a dataset provided on the *UCI Machine Learning Repository*.\n",
        "\n",
        "In this dataset, we have monthly numbers of transfers from Emergency Room into Critical Care classified in three exclusive categories at Horton General Hospital (Banbury, UK) from November 1999 to May 2011. The three categories are Cardio-respiratory arrest, Respiratory arrest and Hypoglycaemic arrest. You'll also find in this dataset the monthly total number of patients entering Emergency Room.\n",
        "\n",
        "**Description of variables:**\n",
        "* __Cardio:__ Number of transfers from Emergency Room to Cardio-respiratory arrest.\n",
        "* __Resp:__ Number of transfers from Emergency Room to Respiratory arrest.\n",
        "* __Hypo:__ Number of transfer from Emergency room to Hypoglycaemic arrest.\n",
        "* __Adm:__ Total number of patients entering Emergency Room.\n",
        "* __year:__ Year of measurement.\n",
        "* __month:__ Month of measurement.\n",
        "\n",
        "**From this dataset we will do some date format manipulations.**\n",
        "\n",
        "You can have the dataset with the following link https://archive.ics.uci.edu/ml/machine-learning-databases/00549/HortonGeneralHospital.csv\n",
        "\n",
        "1.   Import the dataset using the url. (*Hint:* check the `read_csv` pandas function).\n",
        "2.   Use the dates as an index.\n",
        "3.   Give the date with the most admission to Emergency Room.\n",
        "4.   How many Hypoglycamemic arrest were recorded for 2004.\n",
        "5.   Use a `time` function to compute the number of days between December 2003 and February 2004.\n",
        "6.   Do a yearly summary of each column. Use the `groupby` function on the index and the `agg` method to apply a list of function on each column.\n",
        "7.   Create a new column with a rolling mean (with a 3 month windows) of the admission to Emergency Room and plot the results.\n",
        "\n",
        "\n"
      ]
    },
    {
      "cell_type": "markdown",
      "metadata": {
        "id": "X-gojudN_AtG"
      },
      "source": [
        "#### 1. Import the dataset using the url"
      ]
    },
    {
      "cell_type": "markdown",
      "metadata": {
        "id": "czdCnc_Z_Lgg"
      },
      "source": [
        "To import a file from a url, we use the pandas `read_csv` function with the url as an argument. You can use the `help()` function to display all the available arguments of this function."
      ]
    },
    {
      "cell_type": "code",
      "execution_count": 55,
      "metadata": {
        "id": "lqW1zBU1_AmQ"
      },
      "outputs": [
        {
          "name": "stdout",
          "output_type": "stream",
          "text": [
            "\u001b[1;31mSignature:\u001b[0m\n",
            "\u001b[0mpd\u001b[0m\u001b[1;33m.\u001b[0m\u001b[0mread_csv\u001b[0m\u001b[1;33m(\u001b[0m\u001b[1;33m\n",
            "\u001b[0m    \u001b[0mfilepath_or_buffer\u001b[0m\u001b[1;33m:\u001b[0m \u001b[1;34m'FilePath | ReadCsvBuffer[bytes] | ReadCsvBuffer[str]'\u001b[0m\u001b[1;33m,\u001b[0m\u001b[1;33m\n",
            "\u001b[0m    \u001b[1;33m*\u001b[0m\u001b[1;33m,\u001b[0m\u001b[1;33m\n",
            "\u001b[0m    \u001b[0msep\u001b[0m\u001b[1;33m:\u001b[0m \u001b[1;34m'str | None | lib.NoDefault'\u001b[0m \u001b[1;33m=\u001b[0m \u001b[1;33m<\u001b[0m\u001b[0mno_default\u001b[0m\u001b[1;33m>\u001b[0m\u001b[1;33m,\u001b[0m\u001b[1;33m\n",
            "\u001b[0m    \u001b[0mdelimiter\u001b[0m\u001b[1;33m:\u001b[0m \u001b[1;34m'str | None | lib.NoDefault'\u001b[0m \u001b[1;33m=\u001b[0m \u001b[1;32mNone\u001b[0m\u001b[1;33m,\u001b[0m\u001b[1;33m\n",
            "\u001b[0m    \u001b[0mheader\u001b[0m\u001b[1;33m:\u001b[0m \u001b[1;34m\"int | Sequence[int] | None | Literal['infer']\"\u001b[0m \u001b[1;33m=\u001b[0m \u001b[1;34m'infer'\u001b[0m\u001b[1;33m,\u001b[0m\u001b[1;33m\n",
            "\u001b[0m    \u001b[0mnames\u001b[0m\u001b[1;33m:\u001b[0m \u001b[1;34m'Sequence[Hashable] | None | lib.NoDefault'\u001b[0m \u001b[1;33m=\u001b[0m \u001b[1;33m<\u001b[0m\u001b[0mno_default\u001b[0m\u001b[1;33m>\u001b[0m\u001b[1;33m,\u001b[0m\u001b[1;33m\n",
            "\u001b[0m    \u001b[0mindex_col\u001b[0m\u001b[1;33m:\u001b[0m \u001b[1;34m'IndexLabel | Literal[False] | None'\u001b[0m \u001b[1;33m=\u001b[0m \u001b[1;32mNone\u001b[0m\u001b[1;33m,\u001b[0m\u001b[1;33m\n",
            "\u001b[0m    \u001b[0musecols\u001b[0m\u001b[1;33m:\u001b[0m \u001b[1;34m'UsecolsArgType'\u001b[0m \u001b[1;33m=\u001b[0m \u001b[1;32mNone\u001b[0m\u001b[1;33m,\u001b[0m\u001b[1;33m\n",
            "\u001b[0m    \u001b[0mdtype\u001b[0m\u001b[1;33m:\u001b[0m \u001b[1;34m'DtypeArg | None'\u001b[0m \u001b[1;33m=\u001b[0m \u001b[1;32mNone\u001b[0m\u001b[1;33m,\u001b[0m\u001b[1;33m\n",
            "\u001b[0m    \u001b[0mengine\u001b[0m\u001b[1;33m:\u001b[0m \u001b[1;34m'CSVEngine | None'\u001b[0m \u001b[1;33m=\u001b[0m \u001b[1;32mNone\u001b[0m\u001b[1;33m,\u001b[0m\u001b[1;33m\n",
            "\u001b[0m    \u001b[0mconverters\u001b[0m\u001b[1;33m:\u001b[0m \u001b[1;34m'Mapping[Hashable, Callable] | None'\u001b[0m \u001b[1;33m=\u001b[0m \u001b[1;32mNone\u001b[0m\u001b[1;33m,\u001b[0m\u001b[1;33m\n",
            "\u001b[0m    \u001b[0mtrue_values\u001b[0m\u001b[1;33m:\u001b[0m \u001b[1;34m'list | None'\u001b[0m \u001b[1;33m=\u001b[0m \u001b[1;32mNone\u001b[0m\u001b[1;33m,\u001b[0m\u001b[1;33m\n",
            "\u001b[0m    \u001b[0mfalse_values\u001b[0m\u001b[1;33m:\u001b[0m \u001b[1;34m'list | None'\u001b[0m \u001b[1;33m=\u001b[0m \u001b[1;32mNone\u001b[0m\u001b[1;33m,\u001b[0m\u001b[1;33m\n",
            "\u001b[0m    \u001b[0mskipinitialspace\u001b[0m\u001b[1;33m:\u001b[0m \u001b[1;34m'bool'\u001b[0m \u001b[1;33m=\u001b[0m \u001b[1;32mFalse\u001b[0m\u001b[1;33m,\u001b[0m\u001b[1;33m\n",
            "\u001b[0m    \u001b[0mskiprows\u001b[0m\u001b[1;33m:\u001b[0m \u001b[1;34m'list[int] | int | Callable[[Hashable], bool] | None'\u001b[0m \u001b[1;33m=\u001b[0m \u001b[1;32mNone\u001b[0m\u001b[1;33m,\u001b[0m\u001b[1;33m\n",
            "\u001b[0m    \u001b[0mskipfooter\u001b[0m\u001b[1;33m:\u001b[0m \u001b[1;34m'int'\u001b[0m \u001b[1;33m=\u001b[0m \u001b[1;36m0\u001b[0m\u001b[1;33m,\u001b[0m\u001b[1;33m\n",
            "\u001b[0m    \u001b[0mnrows\u001b[0m\u001b[1;33m:\u001b[0m \u001b[1;34m'int | None'\u001b[0m \u001b[1;33m=\u001b[0m \u001b[1;32mNone\u001b[0m\u001b[1;33m,\u001b[0m\u001b[1;33m\n",
            "\u001b[0m    \u001b[0mna_values\u001b[0m\u001b[1;33m:\u001b[0m \u001b[1;34m'Hashable | Iterable[Hashable] | Mapping[Hashable, Iterable[Hashable]] | None'\u001b[0m \u001b[1;33m=\u001b[0m \u001b[1;32mNone\u001b[0m\u001b[1;33m,\u001b[0m\u001b[1;33m\n",
            "\u001b[0m    \u001b[0mkeep_default_na\u001b[0m\u001b[1;33m:\u001b[0m \u001b[1;34m'bool'\u001b[0m \u001b[1;33m=\u001b[0m \u001b[1;32mTrue\u001b[0m\u001b[1;33m,\u001b[0m\u001b[1;33m\n",
            "\u001b[0m    \u001b[0mna_filter\u001b[0m\u001b[1;33m:\u001b[0m \u001b[1;34m'bool'\u001b[0m \u001b[1;33m=\u001b[0m \u001b[1;32mTrue\u001b[0m\u001b[1;33m,\u001b[0m\u001b[1;33m\n",
            "\u001b[0m    \u001b[0mverbose\u001b[0m\u001b[1;33m:\u001b[0m \u001b[1;34m'bool | lib.NoDefault'\u001b[0m \u001b[1;33m=\u001b[0m \u001b[1;33m<\u001b[0m\u001b[0mno_default\u001b[0m\u001b[1;33m>\u001b[0m\u001b[1;33m,\u001b[0m\u001b[1;33m\n",
            "\u001b[0m    \u001b[0mskip_blank_lines\u001b[0m\u001b[1;33m:\u001b[0m \u001b[1;34m'bool'\u001b[0m \u001b[1;33m=\u001b[0m \u001b[1;32mTrue\u001b[0m\u001b[1;33m,\u001b[0m\u001b[1;33m\n",
            "\u001b[0m    \u001b[0mparse_dates\u001b[0m\u001b[1;33m:\u001b[0m \u001b[1;34m'bool | Sequence[Hashable] | None'\u001b[0m \u001b[1;33m=\u001b[0m \u001b[1;32mNone\u001b[0m\u001b[1;33m,\u001b[0m\u001b[1;33m\n",
            "\u001b[0m    \u001b[0minfer_datetime_format\u001b[0m\u001b[1;33m:\u001b[0m \u001b[1;34m'bool | lib.NoDefault'\u001b[0m \u001b[1;33m=\u001b[0m \u001b[1;33m<\u001b[0m\u001b[0mno_default\u001b[0m\u001b[1;33m>\u001b[0m\u001b[1;33m,\u001b[0m\u001b[1;33m\n",
            "\u001b[0m    \u001b[0mkeep_date_col\u001b[0m\u001b[1;33m:\u001b[0m \u001b[1;34m'bool | lib.NoDefault'\u001b[0m \u001b[1;33m=\u001b[0m \u001b[1;33m<\u001b[0m\u001b[0mno_default\u001b[0m\u001b[1;33m>\u001b[0m\u001b[1;33m,\u001b[0m\u001b[1;33m\n",
            "\u001b[0m    \u001b[0mdate_parser\u001b[0m\u001b[1;33m:\u001b[0m \u001b[1;34m'Callable | lib.NoDefault'\u001b[0m \u001b[1;33m=\u001b[0m \u001b[1;33m<\u001b[0m\u001b[0mno_default\u001b[0m\u001b[1;33m>\u001b[0m\u001b[1;33m,\u001b[0m\u001b[1;33m\n",
            "\u001b[0m    \u001b[0mdate_format\u001b[0m\u001b[1;33m:\u001b[0m \u001b[1;34m'str | dict[Hashable, str] | None'\u001b[0m \u001b[1;33m=\u001b[0m \u001b[1;32mNone\u001b[0m\u001b[1;33m,\u001b[0m\u001b[1;33m\n",
            "\u001b[0m    \u001b[0mdayfirst\u001b[0m\u001b[1;33m:\u001b[0m \u001b[1;34m'bool'\u001b[0m \u001b[1;33m=\u001b[0m \u001b[1;32mFalse\u001b[0m\u001b[1;33m,\u001b[0m\u001b[1;33m\n",
            "\u001b[0m    \u001b[0mcache_dates\u001b[0m\u001b[1;33m:\u001b[0m \u001b[1;34m'bool'\u001b[0m \u001b[1;33m=\u001b[0m \u001b[1;32mTrue\u001b[0m\u001b[1;33m,\u001b[0m\u001b[1;33m\n",
            "\u001b[0m    \u001b[0miterator\u001b[0m\u001b[1;33m:\u001b[0m \u001b[1;34m'bool'\u001b[0m \u001b[1;33m=\u001b[0m \u001b[1;32mFalse\u001b[0m\u001b[1;33m,\u001b[0m\u001b[1;33m\n",
            "\u001b[0m    \u001b[0mchunksize\u001b[0m\u001b[1;33m:\u001b[0m \u001b[1;34m'int | None'\u001b[0m \u001b[1;33m=\u001b[0m \u001b[1;32mNone\u001b[0m\u001b[1;33m,\u001b[0m\u001b[1;33m\n",
            "\u001b[0m    \u001b[0mcompression\u001b[0m\u001b[1;33m:\u001b[0m \u001b[1;34m'CompressionOptions'\u001b[0m \u001b[1;33m=\u001b[0m \u001b[1;34m'infer'\u001b[0m\u001b[1;33m,\u001b[0m\u001b[1;33m\n",
            "\u001b[0m    \u001b[0mthousands\u001b[0m\u001b[1;33m:\u001b[0m \u001b[1;34m'str | None'\u001b[0m \u001b[1;33m=\u001b[0m \u001b[1;32mNone\u001b[0m\u001b[1;33m,\u001b[0m\u001b[1;33m\n",
            "\u001b[0m    \u001b[0mdecimal\u001b[0m\u001b[1;33m:\u001b[0m \u001b[1;34m'str'\u001b[0m \u001b[1;33m=\u001b[0m \u001b[1;34m'.'\u001b[0m\u001b[1;33m,\u001b[0m\u001b[1;33m\n",
            "\u001b[0m    \u001b[0mlineterminator\u001b[0m\u001b[1;33m:\u001b[0m \u001b[1;34m'str | None'\u001b[0m \u001b[1;33m=\u001b[0m \u001b[1;32mNone\u001b[0m\u001b[1;33m,\u001b[0m\u001b[1;33m\n",
            "\u001b[0m    \u001b[0mquotechar\u001b[0m\u001b[1;33m:\u001b[0m \u001b[1;34m'str'\u001b[0m \u001b[1;33m=\u001b[0m \u001b[1;34m'\"'\u001b[0m\u001b[1;33m,\u001b[0m\u001b[1;33m\n",
            "\u001b[0m    \u001b[0mquoting\u001b[0m\u001b[1;33m:\u001b[0m \u001b[1;34m'int'\u001b[0m \u001b[1;33m=\u001b[0m \u001b[1;36m0\u001b[0m\u001b[1;33m,\u001b[0m\u001b[1;33m\n",
            "\u001b[0m    \u001b[0mdoublequote\u001b[0m\u001b[1;33m:\u001b[0m \u001b[1;34m'bool'\u001b[0m \u001b[1;33m=\u001b[0m \u001b[1;32mTrue\u001b[0m\u001b[1;33m,\u001b[0m\u001b[1;33m\n",
            "\u001b[0m    \u001b[0mescapechar\u001b[0m\u001b[1;33m:\u001b[0m \u001b[1;34m'str | None'\u001b[0m \u001b[1;33m=\u001b[0m \u001b[1;32mNone\u001b[0m\u001b[1;33m,\u001b[0m\u001b[1;33m\n",
            "\u001b[0m    \u001b[0mcomment\u001b[0m\u001b[1;33m:\u001b[0m \u001b[1;34m'str | None'\u001b[0m \u001b[1;33m=\u001b[0m \u001b[1;32mNone\u001b[0m\u001b[1;33m,\u001b[0m\u001b[1;33m\n",
            "\u001b[0m    \u001b[0mencoding\u001b[0m\u001b[1;33m:\u001b[0m \u001b[1;34m'str | None'\u001b[0m \u001b[1;33m=\u001b[0m \u001b[1;32mNone\u001b[0m\u001b[1;33m,\u001b[0m\u001b[1;33m\n",
            "\u001b[0m    \u001b[0mencoding_errors\u001b[0m\u001b[1;33m:\u001b[0m \u001b[1;34m'str | None'\u001b[0m \u001b[1;33m=\u001b[0m \u001b[1;34m'strict'\u001b[0m\u001b[1;33m,\u001b[0m\u001b[1;33m\n",
            "\u001b[0m    \u001b[0mdialect\u001b[0m\u001b[1;33m:\u001b[0m \u001b[1;34m'str | csv.Dialect | None'\u001b[0m \u001b[1;33m=\u001b[0m \u001b[1;32mNone\u001b[0m\u001b[1;33m,\u001b[0m\u001b[1;33m\n",
            "\u001b[0m    \u001b[0mon_bad_lines\u001b[0m\u001b[1;33m:\u001b[0m \u001b[1;34m'str'\u001b[0m \u001b[1;33m=\u001b[0m \u001b[1;34m'error'\u001b[0m\u001b[1;33m,\u001b[0m\u001b[1;33m\n",
            "\u001b[0m    \u001b[0mdelim_whitespace\u001b[0m\u001b[1;33m:\u001b[0m \u001b[1;34m'bool | lib.NoDefault'\u001b[0m \u001b[1;33m=\u001b[0m \u001b[1;33m<\u001b[0m\u001b[0mno_default\u001b[0m\u001b[1;33m>\u001b[0m\u001b[1;33m,\u001b[0m\u001b[1;33m\n",
            "\u001b[0m    \u001b[0mlow_memory\u001b[0m\u001b[1;33m:\u001b[0m \u001b[1;34m'bool'\u001b[0m \u001b[1;33m=\u001b[0m \u001b[1;32mTrue\u001b[0m\u001b[1;33m,\u001b[0m\u001b[1;33m\n",
            "\u001b[0m    \u001b[0mmemory_map\u001b[0m\u001b[1;33m:\u001b[0m \u001b[1;34m'bool'\u001b[0m \u001b[1;33m=\u001b[0m \u001b[1;32mFalse\u001b[0m\u001b[1;33m,\u001b[0m\u001b[1;33m\n",
            "\u001b[0m    \u001b[0mfloat_precision\u001b[0m\u001b[1;33m:\u001b[0m \u001b[1;34m\"Literal['high', 'legacy'] | None\"\u001b[0m \u001b[1;33m=\u001b[0m \u001b[1;32mNone\u001b[0m\u001b[1;33m,\u001b[0m\u001b[1;33m\n",
            "\u001b[0m    \u001b[0mstorage_options\u001b[0m\u001b[1;33m:\u001b[0m \u001b[1;34m'StorageOptions | None'\u001b[0m \u001b[1;33m=\u001b[0m \u001b[1;32mNone\u001b[0m\u001b[1;33m,\u001b[0m\u001b[1;33m\n",
            "\u001b[0m    \u001b[0mdtype_backend\u001b[0m\u001b[1;33m:\u001b[0m \u001b[1;34m'DtypeBackend | lib.NoDefault'\u001b[0m \u001b[1;33m=\u001b[0m \u001b[1;33m<\u001b[0m\u001b[0mno_default\u001b[0m\u001b[1;33m>\u001b[0m\u001b[1;33m,\u001b[0m\u001b[1;33m\n",
            "\u001b[0m\u001b[1;33m)\u001b[0m \u001b[1;33m->\u001b[0m \u001b[1;34m'DataFrame | TextFileReader'\u001b[0m\u001b[1;33m\u001b[0m\u001b[1;33m\u001b[0m\u001b[0m\n",
            "\u001b[1;31mDocstring:\u001b[0m\n",
            "Read a comma-separated values (csv) file into DataFrame.\n",
            "\n",
            "Also supports optionally iterating or breaking of the file\n",
            "into chunks.\n",
            "\n",
            "Additional help can be found in the online docs for\n",
            "`IO Tools <https://pandas.pydata.org/pandas-docs/stable/user_guide/io.html>`_.\n",
            "\n",
            "Parameters\n",
            "----------\n",
            "filepath_or_buffer : str, path object or file-like object\n",
            "    Any valid string path is acceptable. The string could be a URL. Valid\n",
            "    URL schemes include http, ftp, s3, gs, and file. For file URLs, a host is\n",
            "    expected. A local file could be: file://localhost/path/to/table.csv.\n",
            "\n",
            "    If you want to pass in a path object, pandas accepts any ``os.PathLike``.\n",
            "\n",
            "    By file-like object, we refer to objects with a ``read()`` method, such as\n",
            "    a file handle (e.g. via builtin ``open`` function) or ``StringIO``.\n",
            "sep : str, default ','\n",
            "    Character or regex pattern to treat as the delimiter. If ``sep=None``, the\n",
            "    C engine cannot automatically detect\n",
            "    the separator, but the Python parsing engine can, meaning the latter will\n",
            "    be used and automatically detect the separator from only the first valid\n",
            "    row of the file by Python's builtin sniffer tool, ``csv.Sniffer``.\n",
            "    In addition, separators longer than 1 character and different from\n",
            "    ``'\\s+'`` will be interpreted as regular expressions and will also force\n",
            "    the use of the Python parsing engine. Note that regex delimiters are prone\n",
            "    to ignoring quoted data. Regex example: ``'\\r\\t'``.\n",
            "delimiter : str, optional\n",
            "    Alias for ``sep``.\n",
            "header : int, Sequence of int, 'infer' or None, default 'infer'\n",
            "    Row number(s) containing column labels and marking the start of the\n",
            "    data (zero-indexed). Default behavior is to infer the column names: if no ``names``\n",
            "    are passed the behavior is identical to ``header=0`` and column\n",
            "    names are inferred from the first line of the file, if column\n",
            "    names are passed explicitly to ``names`` then the behavior is identical to\n",
            "    ``header=None``. Explicitly pass ``header=0`` to be able to\n",
            "    replace existing names. The header can be a list of integers that\n",
            "    specify row locations for a :class:`~pandas.MultiIndex` on the columns\n",
            "    e.g. ``[0, 1, 3]``. Intervening rows that are not specified will be\n",
            "    skipped (e.g. 2 in this example is skipped). Note that this\n",
            "    parameter ignores commented lines and empty lines if\n",
            "    ``skip_blank_lines=True``, so ``header=0`` denotes the first line of\n",
            "    data rather than the first line of the file.\n",
            "names : Sequence of Hashable, optional\n",
            "    Sequence of column labels to apply. If the file contains a header row,\n",
            "    then you should explicitly pass ``header=0`` to override the column names.\n",
            "    Duplicates in this list are not allowed.\n",
            "index_col : Hashable, Sequence of Hashable or False, optional\n",
            "  Column(s) to use as row label(s), denoted either by column labels or column\n",
            "  indices.  If a sequence of labels or indices is given, :class:`~pandas.MultiIndex`\n",
            "  will be formed for the row labels.\n",
            "\n",
            "  Note: ``index_col=False`` can be used to force pandas to *not* use the first\n",
            "  column as the index, e.g., when you have a malformed file with delimiters at\n",
            "  the end of each line.\n",
            "usecols : Sequence of Hashable or Callable, optional\n",
            "    Subset of columns to select, denoted either by column labels or column indices.\n",
            "    If list-like, all elements must either\n",
            "    be positional (i.e. integer indices into the document columns) or strings\n",
            "    that correspond to column names provided either by the user in ``names`` or\n",
            "    inferred from the document header row(s). If ``names`` are given, the document\n",
            "    header row(s) are not taken into account. For example, a valid list-like\n",
            "    ``usecols`` parameter would be ``[0, 1, 2]`` or ``['foo', 'bar', 'baz']``.\n",
            "    Element order is ignored, so ``usecols=[0, 1]`` is the same as ``[1, 0]``.\n",
            "    To instantiate a :class:`~pandas.DataFrame` from ``data`` with element order\n",
            "    preserved use ``pd.read_csv(data, usecols=['foo', 'bar'])[['foo', 'bar']]``\n",
            "    for columns in ``['foo', 'bar']`` order or\n",
            "    ``pd.read_csv(data, usecols=['foo', 'bar'])[['bar', 'foo']]``\n",
            "    for ``['bar', 'foo']`` order.\n",
            "\n",
            "    If callable, the callable function will be evaluated against the column\n",
            "    names, returning names where the callable function evaluates to ``True``. An\n",
            "    example of a valid callable argument would be ``lambda x: x.upper() in\n",
            "    ['AAA', 'BBB', 'DDD']``. Using this parameter results in much faster\n",
            "    parsing time and lower memory usage.\n",
            "dtype : dtype or dict of {Hashable : dtype}, optional\n",
            "    Data type(s) to apply to either the whole dataset or individual columns.\n",
            "    E.g., ``{'a': np.float64, 'b': np.int32, 'c': 'Int64'}``\n",
            "    Use ``str`` or ``object`` together with suitable ``na_values`` settings\n",
            "    to preserve and not interpret ``dtype``.\n",
            "    If ``converters`` are specified, they will be applied INSTEAD\n",
            "    of ``dtype`` conversion.\n",
            "\n",
            "    .. versionadded:: 1.5.0\n",
            "\n",
            "        Support for ``defaultdict`` was added. Specify a ``defaultdict`` as input where\n",
            "        the default determines the ``dtype`` of the columns which are not explicitly\n",
            "        listed.\n",
            "engine : {'c', 'python', 'pyarrow'}, optional\n",
            "    Parser engine to use. The C and pyarrow engines are faster, while the python engine\n",
            "    is currently more feature-complete. Multithreading is currently only supported by\n",
            "    the pyarrow engine.\n",
            "\n",
            "    .. versionadded:: 1.4.0\n",
            "\n",
            "        The 'pyarrow' engine was added as an *experimental* engine, and some features\n",
            "        are unsupported, or may not work correctly, with this engine.\n",
            "converters : dict of {Hashable : Callable}, optional\n",
            "    Functions for converting values in specified columns. Keys can either\n",
            "    be column labels or column indices.\n",
            "true_values : list, optional\n",
            "    Values to consider as ``True`` in addition to case-insensitive variants of 'True'.\n",
            "false_values : list, optional\n",
            "    Values to consider as ``False`` in addition to case-insensitive variants of 'False'.\n",
            "skipinitialspace : bool, default False\n",
            "    Skip spaces after delimiter.\n",
            "skiprows : int, list of int or Callable, optional\n",
            "    Line numbers to skip (0-indexed) or number of lines to skip (``int``)\n",
            "    at the start of the file.\n",
            "\n",
            "    If callable, the callable function will be evaluated against the row\n",
            "    indices, returning ``True`` if the row should be skipped and ``False`` otherwise.\n",
            "    An example of a valid callable argument would be ``lambda x: x in [0, 2]``.\n",
            "skipfooter : int, default 0\n",
            "    Number of lines at bottom of file to skip (Unsupported with ``engine='c'``).\n",
            "nrows : int, optional\n",
            "    Number of rows of file to read. Useful for reading pieces of large files.\n",
            "na_values : Hashable, Iterable of Hashable or dict of {Hashable : Iterable}, optional\n",
            "    Additional strings to recognize as ``NA``/``NaN``. If ``dict`` passed, specific\n",
            "    per-column ``NA`` values.  By default the following values are interpreted as\n",
            "    ``NaN``: \" \", \"#N/A\", \"#N/A N/A\", \"#NA\", \"-1.#IND\", \"-1.#QNAN\", \"-NaN\", \"-nan\",\n",
            "    \"1.#IND\", \"1.#QNAN\", \"<NA>\", \"N/A\", \"NA\", \"NULL\", \"NaN\", \"None\",\n",
            "    \"n/a\", \"nan\", \"null \".\n",
            "\n",
            "keep_default_na : bool, default True\n",
            "    Whether or not to include the default ``NaN`` values when parsing the data.\n",
            "    Depending on whether ``na_values`` is passed in, the behavior is as follows:\n",
            "\n",
            "    * If ``keep_default_na`` is ``True``, and ``na_values`` are specified, ``na_values``\n",
            "      is appended to the default ``NaN`` values used for parsing.\n",
            "    * If ``keep_default_na`` is ``True``, and ``na_values`` are not specified, only\n",
            "      the default ``NaN`` values are used for parsing.\n",
            "    * If ``keep_default_na`` is ``False``, and ``na_values`` are specified, only\n",
            "      the ``NaN`` values specified ``na_values`` are used for parsing.\n",
            "    * If ``keep_default_na`` is ``False``, and ``na_values`` are not specified, no\n",
            "      strings will be parsed as ``NaN``.\n",
            "\n",
            "    Note that if ``na_filter`` is passed in as ``False``, the ``keep_default_na`` and\n",
            "    ``na_values`` parameters will be ignored.\n",
            "na_filter : bool, default True\n",
            "    Detect missing value markers (empty strings and the value of ``na_values``). In\n",
            "    data without any ``NA`` values, passing ``na_filter=False`` can improve the\n",
            "    performance of reading a large file.\n",
            "verbose : bool, default False\n",
            "    Indicate number of ``NA`` values placed in non-numeric columns.\n",
            "\n",
            "    .. deprecated:: 2.2.0\n",
            "skip_blank_lines : bool, default True\n",
            "    If ``True``, skip over blank lines rather than interpreting as ``NaN`` values.\n",
            "parse_dates : bool, list of Hashable, list of lists or dict of {Hashable : list}, default False\n",
            "    The behavior is as follows:\n",
            "\n",
            "    * ``bool``. If ``True`` -> try parsing the index. Note: Automatically set to\n",
            "      ``True`` if ``date_format`` or ``date_parser`` arguments have been passed.\n",
            "    * ``list`` of ``int`` or names. e.g. If ``[1, 2, 3]`` -> try parsing columns 1, 2, 3\n",
            "      each as a separate date column.\n",
            "    * ``list`` of ``list``. e.g.  If ``[[1, 3]]`` -> combine columns 1 and 3 and parse\n",
            "      as a single date column. Values are joined with a space before parsing.\n",
            "    * ``dict``, e.g. ``{'foo' : [1, 3]}`` -> parse columns 1, 3 as date and call\n",
            "      result 'foo'. Values are joined with a space before parsing.\n",
            "\n",
            "    If a column or index cannot be represented as an array of ``datetime``,\n",
            "    say because of an unparsable value or a mixture of timezones, the column\n",
            "    or index will be returned unaltered as an ``object`` data type. For\n",
            "    non-standard ``datetime`` parsing, use :func:`~pandas.to_datetime` after\n",
            "    :func:`~pandas.read_csv`.\n",
            "\n",
            "    Note: A fast-path exists for iso8601-formatted dates.\n",
            "infer_datetime_format : bool, default False\n",
            "    If ``True`` and ``parse_dates`` is enabled, pandas will attempt to infer the\n",
            "    format of the ``datetime`` strings in the columns, and if it can be inferred,\n",
            "    switch to a faster method of parsing them. In some cases this can increase\n",
            "    the parsing speed by 5-10x.\n",
            "\n",
            "    .. deprecated:: 2.0.0\n",
            "        A strict version of this argument is now the default, passing it has no effect.\n",
            "\n",
            "keep_date_col : bool, default False\n",
            "    If ``True`` and ``parse_dates`` specifies combining multiple columns then\n",
            "    keep the original columns.\n",
            "date_parser : Callable, optional\n",
            "    Function to use for converting a sequence of string columns to an array of\n",
            "    ``datetime`` instances. The default uses ``dateutil.parser.parser`` to do the\n",
            "    conversion. pandas will try to call ``date_parser`` in three different ways,\n",
            "    advancing to the next if an exception occurs: 1) Pass one or more arrays\n",
            "    (as defined by ``parse_dates``) as arguments; 2) concatenate (row-wise) the\n",
            "    string values from the columns defined by ``parse_dates`` into a single array\n",
            "    and pass that; and 3) call ``date_parser`` once for each row using one or\n",
            "    more strings (corresponding to the columns defined by ``parse_dates``) as\n",
            "    arguments.\n",
            "\n",
            "    .. deprecated:: 2.0.0\n",
            "       Use ``date_format`` instead, or read in as ``object`` and then apply\n",
            "       :func:`~pandas.to_datetime` as-needed.\n",
            "date_format : str or dict of column -> format, optional\n",
            "    Format to use for parsing dates when used in conjunction with ``parse_dates``.\n",
            "    The strftime to parse time, e.g. :const:`\"%d/%m/%Y\"`. See\n",
            "    `strftime documentation\n",
            "    <https://docs.python.org/3/library/datetime.html\n",
            "    #strftime-and-strptime-behavior>`_ for more information on choices, though\n",
            "    note that :const:`\"%f\"` will parse all the way up to nanoseconds.\n",
            "    You can also pass:\n",
            "\n",
            "    - \"ISO8601\", to parse any `ISO8601 <https://en.wikipedia.org/wiki/ISO_8601>`_\n",
            "        time string (not necessarily in exactly the same format);\n",
            "    - \"mixed\", to infer the format for each element individually. This is risky,\n",
            "        and you should probably use it along with `dayfirst`.\n",
            "\n",
            "    .. versionadded:: 2.0.0\n",
            "dayfirst : bool, default False\n",
            "    DD/MM format dates, international and European format.\n",
            "cache_dates : bool, default True\n",
            "    If ``True``, use a cache of unique, converted dates to apply the ``datetime``\n",
            "    conversion. May produce significant speed-up when parsing duplicate\n",
            "    date strings, especially ones with timezone offsets.\n",
            "\n",
            "iterator : bool, default False\n",
            "    Return ``TextFileReader`` object for iteration or getting chunks with\n",
            "    ``get_chunk()``.\n",
            "chunksize : int, optional\n",
            "    Number of lines to read from the file per chunk. Passing a value will cause the\n",
            "    function to return a ``TextFileReader`` object for iteration.\n",
            "    See the `IO Tools docs\n",
            "    <https://pandas.pydata.org/pandas-docs/stable/io.html#io-chunking>`_\n",
            "    for more information on ``iterator`` and ``chunksize``.\n",
            "\n",
            "compression : str or dict, default 'infer'\n",
            "    For on-the-fly decompression of on-disk data. If 'infer' and 'filepath_or_buffer' is\n",
            "    path-like, then detect compression from the following extensions: '.gz',\n",
            "    '.bz2', '.zip', '.xz', '.zst', '.tar', '.tar.gz', '.tar.xz' or '.tar.bz2'\n",
            "    (otherwise no compression).\n",
            "    If using 'zip' or 'tar', the ZIP file must contain only one data file to be read in.\n",
            "    Set to ``None`` for no decompression.\n",
            "    Can also be a dict with key ``'method'`` set\n",
            "    to one of {``'zip'``, ``'gzip'``, ``'bz2'``, ``'zstd'``, ``'xz'``, ``'tar'``} and\n",
            "    other key-value pairs are forwarded to\n",
            "    ``zipfile.ZipFile``, ``gzip.GzipFile``,\n",
            "    ``bz2.BZ2File``, ``zstandard.ZstdDecompressor``, ``lzma.LZMAFile`` or\n",
            "    ``tarfile.TarFile``, respectively.\n",
            "    As an example, the following could be passed for Zstandard decompression using a\n",
            "    custom compression dictionary:\n",
            "    ``compression={'method': 'zstd', 'dict_data': my_compression_dict}``.\n",
            "\n",
            "    .. versionadded:: 1.5.0\n",
            "        Added support for `.tar` files.\n",
            "\n",
            "    .. versionchanged:: 1.4.0 Zstandard support.\n",
            "\n",
            "thousands : str (length 1), optional\n",
            "    Character acting as the thousands separator in numerical values.\n",
            "decimal : str (length 1), default '.'\n",
            "    Character to recognize as decimal point (e.g., use ',' for European data).\n",
            "lineterminator : str (length 1), optional\n",
            "    Character used to denote a line break. Only valid with C parser.\n",
            "quotechar : str (length 1), optional\n",
            "    Character used to denote the start and end of a quoted item. Quoted\n",
            "    items can include the ``delimiter`` and it will be ignored.\n",
            "quoting : {0 or csv.QUOTE_MINIMAL, 1 or csv.QUOTE_ALL, 2 or csv.QUOTE_NONNUMERIC, 3 or csv.QUOTE_NONE}, default csv.QUOTE_MINIMAL\n",
            "    Control field quoting behavior per ``csv.QUOTE_*`` constants. Default is\n",
            "    ``csv.QUOTE_MINIMAL`` (i.e., 0) which implies that only fields containing special\n",
            "    characters are quoted (e.g., characters defined in ``quotechar``, ``delimiter``,\n",
            "    or ``lineterminator``.\n",
            "doublequote : bool, default True\n",
            "   When ``quotechar`` is specified and ``quoting`` is not ``QUOTE_NONE``, indicate\n",
            "   whether or not to interpret two consecutive ``quotechar`` elements INSIDE a\n",
            "   field as a single ``quotechar`` element.\n",
            "escapechar : str (length 1), optional\n",
            "    Character used to escape other characters.\n",
            "comment : str (length 1), optional\n",
            "    Character indicating that the remainder of line should not be parsed.\n",
            "    If found at the beginning\n",
            "    of a line, the line will be ignored altogether. This parameter must be a\n",
            "    single character. Like empty lines (as long as ``skip_blank_lines=True``),\n",
            "    fully commented lines are ignored by the parameter ``header`` but not by\n",
            "    ``skiprows``. For example, if ``comment='#'``, parsing\n",
            "    ``#empty\\na,b,c\\n1,2,3`` with ``header=0`` will result in ``'a,b,c'`` being\n",
            "    treated as the header.\n",
            "encoding : str, optional, default 'utf-8'\n",
            "    Encoding to use for UTF when reading/writing (ex. ``'utf-8'``). `List of Python\n",
            "    standard encodings\n",
            "    <https://docs.python.org/3/library/codecs.html#standard-encodings>`_ .\n",
            "\n",
            "encoding_errors : str, optional, default 'strict'\n",
            "    How encoding errors are treated. `List of possible values\n",
            "    <https://docs.python.org/3/library/codecs.html#error-handlers>`_ .\n",
            "\n",
            "    .. versionadded:: 1.3.0\n",
            "\n",
            "dialect : str or csv.Dialect, optional\n",
            "    If provided, this parameter will override values (default or not) for the\n",
            "    following parameters: ``delimiter``, ``doublequote``, ``escapechar``,\n",
            "    ``skipinitialspace``, ``quotechar``, and ``quoting``. If it is necessary to\n",
            "    override values, a ``ParserWarning`` will be issued. See ``csv.Dialect``\n",
            "    documentation for more details.\n",
            "on_bad_lines : {'error', 'warn', 'skip'} or Callable, default 'error'\n",
            "    Specifies what to do upon encountering a bad line (a line with too many fields).\n",
            "    Allowed values are :\n",
            "\n",
            "    - ``'error'``, raise an Exception when a bad line is encountered.\n",
            "    - ``'warn'``, raise a warning when a bad line is encountered and skip that line.\n",
            "    - ``'skip'``, skip bad lines without raising or warning when they are encountered.\n",
            "\n",
            "    .. versionadded:: 1.3.0\n",
            "\n",
            "    .. versionadded:: 1.4.0\n",
            "\n",
            "        - Callable, function with signature\n",
            "          ``(bad_line: list[str]) -> list[str] | None`` that will process a single\n",
            "          bad line. ``bad_line`` is a list of strings split by the ``sep``.\n",
            "          If the function returns ``None``, the bad line will be ignored.\n",
            "          If the function returns a new ``list`` of strings with more elements than\n",
            "          expected, a ``ParserWarning`` will be emitted while dropping extra elements.\n",
            "          Only supported when ``engine='python'``\n",
            "\n",
            "    .. versionchanged:: 2.2.0\n",
            "\n",
            "        - Callable, function with signature\n",
            "          as described in `pyarrow documentation\n",
            "          <https://arrow.apache.org/docs/python/generated/pyarrow.csv.ParseOptions.html\n",
            "          #pyarrow.csv.ParseOptions.invalid_row_handler>`_ when ``engine='pyarrow'``\n",
            "\n",
            "delim_whitespace : bool, default False\n",
            "    Specifies whether or not whitespace (e.g. ``' '`` or ``'\\t'``) will be\n",
            "    used as the ``sep`` delimiter. Equivalent to setting ``sep='\\s+'``. If this option\n",
            "    is set to ``True``, nothing should be passed in for the ``delimiter``\n",
            "    parameter.\n",
            "\n",
            "    .. deprecated:: 2.2.0\n",
            "        Use ``sep=\"\\s+\"`` instead.\n",
            "low_memory : bool, default True\n",
            "    Internally process the file in chunks, resulting in lower memory use\n",
            "    while parsing, but possibly mixed type inference.  To ensure no mixed\n",
            "    types either set ``False``, or specify the type with the ``dtype`` parameter.\n",
            "    Note that the entire file is read into a single :class:`~pandas.DataFrame`\n",
            "    regardless, use the ``chunksize`` or ``iterator`` parameter to return the data in\n",
            "    chunks. (Only valid with C parser).\n",
            "memory_map : bool, default False\n",
            "    If a filepath is provided for ``filepath_or_buffer``, map the file object\n",
            "    directly onto memory and access the data directly from there. Using this\n",
            "    option can improve performance because there is no longer any I/O overhead.\n",
            "float_precision : {'high', 'legacy', 'round_trip'}, optional\n",
            "    Specifies which converter the C engine should use for floating-point\n",
            "    values. The options are ``None`` or ``'high'`` for the ordinary converter,\n",
            "    ``'legacy'`` for the original lower precision pandas converter, and\n",
            "    ``'round_trip'`` for the round-trip converter.\n",
            "\n",
            "storage_options : dict, optional\n",
            "    Extra options that make sense for a particular storage connection, e.g.\n",
            "    host, port, username, password, etc. For HTTP(S) URLs the key-value pairs\n",
            "    are forwarded to ``urllib.request.Request`` as header options. For other\n",
            "    URLs (e.g. starting with \"s3://\", and \"gcs://\") the key-value pairs are\n",
            "    forwarded to ``fsspec.open``. Please see ``fsspec`` and ``urllib`` for more\n",
            "    details, and for more examples on storage options refer `here\n",
            "    <https://pandas.pydata.org/docs/user_guide/io.html?\n",
            "    highlight=storage_options#reading-writing-remote-files>`_.\n",
            "\n",
            "dtype_backend : {'numpy_nullable', 'pyarrow'}, default 'numpy_nullable'\n",
            "    Back-end data type applied to the resultant :class:`DataFrame`\n",
            "    (still experimental). Behaviour is as follows:\n",
            "\n",
            "    * ``\"numpy_nullable\"``: returns nullable-dtype-backed :class:`DataFrame`\n",
            "      (default).\n",
            "    * ``\"pyarrow\"``: returns pyarrow-backed nullable :class:`ArrowDtype`\n",
            "      DataFrame.\n",
            "\n",
            "    .. versionadded:: 2.0\n",
            "\n",
            "Returns\n",
            "-------\n",
            "DataFrame or TextFileReader\n",
            "    A comma-separated values (csv) file is returned as two-dimensional\n",
            "    data structure with labeled axes.\n",
            "\n",
            "See Also\n",
            "--------\n",
            "DataFrame.to_csv : Write DataFrame to a comma-separated values (csv) file.\n",
            "read_table : Read general delimited file into DataFrame.\n",
            "read_fwf : Read a table of fixed-width formatted lines into DataFrame.\n",
            "\n",
            "Examples\n",
            "--------\n",
            ">>> pd.read_csv('data.csv')  # doctest: +SKIP\n",
            "\u001b[1;31mFile:\u001b[0m      c:\\users\\lrnv\\appdata\\local\\programs\\python\\python310\\lib\\site-packages\\pandas\\io\\parsers\\readers.py\n",
            "\u001b[1;31mType:\u001b[0m      function"
          ]
        }
      ],
      "source": [
        "import pandas as pd\n",
        "?pd.read_csv"
      ]
    },
    {
      "cell_type": "markdown",
      "metadata": {
        "id": "IFsNcCMY_as2"
      },
      "source": [
        "The `sep` and `decimal` arguments are very importants. The `sep` defines what will be the separator between columns of the csv file. `decimal` gives the character that will separate digits from decimals. For instance in french we use the coma as a decimal and in english it is the point. A file can be badly imported and generate bad analysis if you are not careful enough. Usually the function automatically detect the `sep` and `decimal` used in a csv file. But mistakes can be done with a .txt file for instance. Whatever the file, it is always a good practice to check the importation by displaying a few lines and the type of variables in your dataset.\n",
        "\n",
        "Another important argument is how the NaN values are handled. The `na_values` argument allows you to specify a scalar or a string which should be assumed to be a NaN (in addition to NA/NaN). For instance a `-` or a `x` could have been used as a NA value but the importation will consider them as a valid value.\n",
        "\n",
        "`dtypes` allows you to specifcy the column types with a dictionary.\n",
        "\n",
        "The `encoding` argument can be useful if some columns contain string with special characters. With the right encoding value, the character will appear correctly in the dataset.\n",
        "\n",
        "Finally, the `parse_date` argument allows you to specify how do you want to handle the date column. With a `True` argument, all the index will be parse to a date. You can specify which column you want to sparce with a list and you can also specify if you want to merge two columns (of dates) into a new column of date format."
      ]
    },
    {
      "cell_type": "code",
      "execution_count": 60,
      "metadata": {
        "colab": {
          "base_uri": "https://localhost:8080/",
          "height": 206
        },
        "id": "dJDd4szS7o0N",
        "outputId": "bade25a4-dcff-4c30-db8e-8e1875c15969"
      },
      "outputs": [
        {
          "data": {
            "text/html": [
              "<div>\n",
              "<style scoped>\n",
              "    .dataframe tbody tr th:only-of-type {\n",
              "        vertical-align: middle;\n",
              "    }\n",
              "\n",
              "    .dataframe tbody tr th {\n",
              "        vertical-align: top;\n",
              "    }\n",
              "\n",
              "    .dataframe thead th {\n",
              "        text-align: right;\n",
              "    }\n",
              "</style>\n",
              "<table border=\"1\" class=\"dataframe\">\n",
              "  <thead>\n",
              "    <tr style=\"text-align: right;\">\n",
              "      <th></th>\n",
              "      <th>Unnamed: 0</th>\n",
              "      <th>Cardio</th>\n",
              "      <th>Resp</th>\n",
              "      <th>Hypo</th>\n",
              "      <th>Adm</th>\n",
              "      <th>year</th>\n",
              "      <th>month</th>\n",
              "    </tr>\n",
              "  </thead>\n",
              "  <tbody>\n",
              "    <tr>\n",
              "      <th>0</th>\n",
              "      <td>1</td>\n",
              "      <td>1</td>\n",
              "      <td>0</td>\n",
              "      <td>0</td>\n",
              "      <td>413</td>\n",
              "      <td>1999</td>\n",
              "      <td>11</td>\n",
              "    </tr>\n",
              "    <tr>\n",
              "      <th>1</th>\n",
              "      <td>2</td>\n",
              "      <td>1</td>\n",
              "      <td>0</td>\n",
              "      <td>0</td>\n",
              "      <td>443</td>\n",
              "      <td>1999</td>\n",
              "      <td>12</td>\n",
              "    </tr>\n",
              "    <tr>\n",
              "      <th>2</th>\n",
              "      <td>3</td>\n",
              "      <td>1</td>\n",
              "      <td>0</td>\n",
              "      <td>0</td>\n",
              "      <td>378</td>\n",
              "      <td>2000</td>\n",
              "      <td>1</td>\n",
              "    </tr>\n",
              "    <tr>\n",
              "      <th>3</th>\n",
              "      <td>4</td>\n",
              "      <td>0</td>\n",
              "      <td>0</td>\n",
              "      <td>0</td>\n",
              "      <td>385</td>\n",
              "      <td>2000</td>\n",
              "      <td>2</td>\n",
              "    </tr>\n",
              "    <tr>\n",
              "      <th>4</th>\n",
              "      <td>5</td>\n",
              "      <td>1</td>\n",
              "      <td>0</td>\n",
              "      <td>0</td>\n",
              "      <td>388</td>\n",
              "      <td>2000</td>\n",
              "      <td>3</td>\n",
              "    </tr>\n",
              "  </tbody>\n",
              "</table>\n",
              "</div>"
            ],
            "text/plain": [
              "   Unnamed: 0  Cardio  Resp  Hypo  Adm  year  month\n",
              "0           1       1     0     0  413  1999     11\n",
              "1           2       1     0     0  443  1999     12\n",
              "2           3       1     0     0  378  2000      1\n",
              "3           4       0     0     0  385  2000      2\n",
              "4           5       1     0     0  388  2000      3"
            ]
          },
          "execution_count": 60,
          "metadata": {},
          "output_type": "execute_result"
        }
      ],
      "source": [
        "import pandas as pd\n",
        "\n",
        "# We can directly use the url of the dataset\n",
        "url = \"https://archive.ics.uci.edu/ml/machine-learning-databases/00549/HortonGeneralHospital.csv\"\n",
        "\n",
        "# We import the data with the pd.read_csv() function\n",
        "df = pd.read_csv(filepath_or_buffer = url, sep = ',', decimal = '.')\n",
        "df.head()"
      ]
    },
    {
      "cell_type": "code",
      "execution_count": 61,
      "metadata": {
        "colab": {
          "base_uri": "https://localhost:8080/",
          "height": 206
        },
        "id": "T4p4NaJpYooR",
        "outputId": "0052ab48-aab3-454b-a28b-c91b515a9d66"
      },
      "outputs": [
        {
          "data": {
            "text/html": [
              "<div>\n",
              "<style scoped>\n",
              "    .dataframe tbody tr th:only-of-type {\n",
              "        vertical-align: middle;\n",
              "    }\n",
              "\n",
              "    .dataframe tbody tr th {\n",
              "        vertical-align: top;\n",
              "    }\n",
              "\n",
              "    .dataframe thead th {\n",
              "        text-align: right;\n",
              "    }\n",
              "</style>\n",
              "<table border=\"1\" class=\"dataframe\">\n",
              "  <thead>\n",
              "    <tr style=\"text-align: right;\">\n",
              "      <th></th>\n",
              "      <th>Cardio</th>\n",
              "      <th>Resp</th>\n",
              "      <th>Hypo</th>\n",
              "      <th>Adm</th>\n",
              "      <th>year</th>\n",
              "      <th>month</th>\n",
              "    </tr>\n",
              "  </thead>\n",
              "  <tbody>\n",
              "    <tr>\n",
              "      <th>1</th>\n",
              "      <td>1</td>\n",
              "      <td>0</td>\n",
              "      <td>0</td>\n",
              "      <td>413</td>\n",
              "      <td>1999</td>\n",
              "      <td>11</td>\n",
              "    </tr>\n",
              "    <tr>\n",
              "      <th>2</th>\n",
              "      <td>1</td>\n",
              "      <td>0</td>\n",
              "      <td>0</td>\n",
              "      <td>443</td>\n",
              "      <td>1999</td>\n",
              "      <td>12</td>\n",
              "    </tr>\n",
              "    <tr>\n",
              "      <th>3</th>\n",
              "      <td>1</td>\n",
              "      <td>0</td>\n",
              "      <td>0</td>\n",
              "      <td>378</td>\n",
              "      <td>2000</td>\n",
              "      <td>1</td>\n",
              "    </tr>\n",
              "    <tr>\n",
              "      <th>4</th>\n",
              "      <td>0</td>\n",
              "      <td>0</td>\n",
              "      <td>0</td>\n",
              "      <td>385</td>\n",
              "      <td>2000</td>\n",
              "      <td>2</td>\n",
              "    </tr>\n",
              "    <tr>\n",
              "      <th>5</th>\n",
              "      <td>1</td>\n",
              "      <td>0</td>\n",
              "      <td>0</td>\n",
              "      <td>388</td>\n",
              "      <td>2000</td>\n",
              "      <td>3</td>\n",
              "    </tr>\n",
              "  </tbody>\n",
              "</table>\n",
              "</div>"
            ],
            "text/plain": [
              "   Cardio  Resp  Hypo  Adm  year  month\n",
              "1       1     0     0  413  1999     11\n",
              "2       1     0     0  443  1999     12\n",
              "3       1     0     0  378  2000      1\n",
              "4       0     0     0  385  2000      2\n",
              "5       1     0     0  388  2000      3"
            ]
          },
          "execution_count": 61,
          "metadata": {},
          "output_type": "execute_result"
        }
      ],
      "source": [
        "# Getting rid of the first column at the importation\n",
        "df = pd.read_csv(filepath_or_buffer = url, sep = ',', decimal = '.', index_col = 0)\n",
        "df.head()"
      ]
    },
    {
      "cell_type": "code",
      "execution_count": 64,
      "metadata": {
        "colab": {
          "base_uri": "https://localhost:8080/",
          "height": 206
        },
        "id": "598M4fzvZSII",
        "outputId": "d49e2c3c-44ce-4651-a4d7-e1774f4ffa0c"
      },
      "outputs": [
        {
          "name": "stderr",
          "output_type": "stream",
          "text": [
            "C:\\Users\\lrnv\\AppData\\Local\\Temp\\ipykernel_25124\\760484623.py:2: FutureWarning: Support for nested sequences for 'parse_dates' in pd.read_csv is deprecated. Combine the desired columns with pd.to_datetime after parsing instead.\n",
            "  df = pd.read_csv(filepath_or_buffer = url, sep = ',', decimal = '.', index_col = 1, parse_dates = [[5, 6]])\n",
            "C:\\Users\\lrnv\\AppData\\Local\\Temp\\ipykernel_25124\\760484623.py:2: UserWarning: Could not infer format, so each element will be parsed individually, falling back to `dateutil`. To ensure parsing is consistent and as-expected, please specify a format.\n",
            "  df = pd.read_csv(filepath_or_buffer = url, sep = ',', decimal = '.', index_col = 1, parse_dates = [[5, 6]])\n"
          ]
        },
        {
          "data": {
            "text/html": [
              "<div>\n",
              "<style scoped>\n",
              "    .dataframe tbody tr th:only-of-type {\n",
              "        vertical-align: middle;\n",
              "    }\n",
              "\n",
              "    .dataframe tbody tr th {\n",
              "        vertical-align: top;\n",
              "    }\n",
              "\n",
              "    .dataframe thead th {\n",
              "        text-align: right;\n",
              "    }\n",
              "</style>\n",
              "<table border=\"1\" class=\"dataframe\">\n",
              "  <thead>\n",
              "    <tr style=\"text-align: right;\">\n",
              "      <th></th>\n",
              "      <th>year_month</th>\n",
              "      <th>Cardio</th>\n",
              "      <th>Resp</th>\n",
              "      <th>Hypo</th>\n",
              "      <th>Adm</th>\n",
              "    </tr>\n",
              "  </thead>\n",
              "  <tbody>\n",
              "    <tr>\n",
              "      <th>1</th>\n",
              "      <td>1999-11-01</td>\n",
              "      <td>1</td>\n",
              "      <td>0</td>\n",
              "      <td>0</td>\n",
              "      <td>413</td>\n",
              "    </tr>\n",
              "    <tr>\n",
              "      <th>2</th>\n",
              "      <td>1999-12-01</td>\n",
              "      <td>1</td>\n",
              "      <td>0</td>\n",
              "      <td>0</td>\n",
              "      <td>443</td>\n",
              "    </tr>\n",
              "    <tr>\n",
              "      <th>3</th>\n",
              "      <td>2000-01-01</td>\n",
              "      <td>1</td>\n",
              "      <td>0</td>\n",
              "      <td>0</td>\n",
              "      <td>378</td>\n",
              "    </tr>\n",
              "    <tr>\n",
              "      <th>4</th>\n",
              "      <td>2000-02-01</td>\n",
              "      <td>0</td>\n",
              "      <td>0</td>\n",
              "      <td>0</td>\n",
              "      <td>385</td>\n",
              "    </tr>\n",
              "    <tr>\n",
              "      <th>5</th>\n",
              "      <td>2000-03-01</td>\n",
              "      <td>1</td>\n",
              "      <td>0</td>\n",
              "      <td>0</td>\n",
              "      <td>388</td>\n",
              "    </tr>\n",
              "  </tbody>\n",
              "</table>\n",
              "</div>"
            ],
            "text/plain": [
              "  year_month  Cardio  Resp  Hypo  Adm\n",
              "1 1999-11-01       1     0     0  413\n",
              "2 1999-12-01       1     0     0  443\n",
              "3 2000-01-01       1     0     0  378\n",
              "4 2000-02-01       0     0     0  385\n",
              "5 2000-03-01       1     0     0  388"
            ]
          },
          "execution_count": 64,
          "metadata": {},
          "output_type": "execute_result"
        }
      ],
      "source": [
        "# Parsing both year and month as a single date column\n",
        "df = pd.read_csv(filepath_or_buffer = url, sep = ',', decimal = '.', index_col = 1, parse_dates = [[5, 6]])\n",
        "df.head()"
      ]
    },
    {
      "cell_type": "markdown",
      "metadata": {
        "id": "OXnyxyZLZ-zO"
      },
      "source": [
        "#### 2. Use the dates as an index"
      ]
    },
    {
      "cell_type": "code",
      "execution_count": 65,
      "metadata": {
        "colab": {
          "base_uri": "https://localhost:8080/",
          "height": 237
        },
        "id": "Jq33qEqnYjH4",
        "outputId": "9671ae22-77be-4c0e-e19a-0a7311490c1f"
      },
      "outputs": [
        {
          "data": {
            "text/html": [
              "<div>\n",
              "<style scoped>\n",
              "    .dataframe tbody tr th:only-of-type {\n",
              "        vertical-align: middle;\n",
              "    }\n",
              "\n",
              "    .dataframe tbody tr th {\n",
              "        vertical-align: top;\n",
              "    }\n",
              "\n",
              "    .dataframe thead th {\n",
              "        text-align: right;\n",
              "    }\n",
              "</style>\n",
              "<table border=\"1\" class=\"dataframe\">\n",
              "  <thead>\n",
              "    <tr style=\"text-align: right;\">\n",
              "      <th></th>\n",
              "      <th>Cardio</th>\n",
              "      <th>Resp</th>\n",
              "      <th>Hypo</th>\n",
              "      <th>Adm</th>\n",
              "    </tr>\n",
              "    <tr>\n",
              "      <th>year_month</th>\n",
              "      <th></th>\n",
              "      <th></th>\n",
              "      <th></th>\n",
              "      <th></th>\n",
              "    </tr>\n",
              "  </thead>\n",
              "  <tbody>\n",
              "    <tr>\n",
              "      <th>1999-11-01</th>\n",
              "      <td>1</td>\n",
              "      <td>0</td>\n",
              "      <td>0</td>\n",
              "      <td>413</td>\n",
              "    </tr>\n",
              "    <tr>\n",
              "      <th>1999-12-01</th>\n",
              "      <td>1</td>\n",
              "      <td>0</td>\n",
              "      <td>0</td>\n",
              "      <td>443</td>\n",
              "    </tr>\n",
              "    <tr>\n",
              "      <th>2000-01-01</th>\n",
              "      <td>1</td>\n",
              "      <td>0</td>\n",
              "      <td>0</td>\n",
              "      <td>378</td>\n",
              "    </tr>\n",
              "    <tr>\n",
              "      <th>2000-02-01</th>\n",
              "      <td>0</td>\n",
              "      <td>0</td>\n",
              "      <td>0</td>\n",
              "      <td>385</td>\n",
              "    </tr>\n",
              "    <tr>\n",
              "      <th>2000-03-01</th>\n",
              "      <td>1</td>\n",
              "      <td>0</td>\n",
              "      <td>0</td>\n",
              "      <td>388</td>\n",
              "    </tr>\n",
              "  </tbody>\n",
              "</table>\n",
              "</div>"
            ],
            "text/plain": [
              "            Cardio  Resp  Hypo  Adm\n",
              "year_month                         \n",
              "1999-11-01       1     0     0  413\n",
              "1999-12-01       1     0     0  443\n",
              "2000-01-01       1     0     0  378\n",
              "2000-02-01       0     0     0  385\n",
              "2000-03-01       1     0     0  388"
            ]
          },
          "execution_count": 65,
          "metadata": {},
          "output_type": "execute_result"
        }
      ],
      "source": [
        "# We can use the set_index method to set the dates (first column) as the indexes of the DataFrame\n",
        "df = df.set_index(\"year_month\")\n",
        "df.head()"
      ]
    },
    {
      "cell_type": "markdown",
      "metadata": {
        "id": "cJMgGHy5aWWT"
      },
      "source": [
        "#### 3. Give the date with the most admission to Emergency Center."
      ]
    },
    {
      "cell_type": "code",
      "execution_count": 66,
      "metadata": {
        "colab": {
          "base_uri": "https://localhost:8080/"
        },
        "id": "Ke9qxnnHYnjN",
        "outputId": "54c9e3f4-7564-4082-a3fb-4f2d6df64633"
      },
      "outputs": [
        {
          "name": "stdout",
          "output_type": "stream",
          "text": [
            "2004-07-01 00:00:00\n"
          ]
        }
      ],
      "source": [
        "# We use the idxmax() method of pandas to get the index of most admissions\n",
        "date_max_adm = df['Adm'].idxmax()\n",
        "print(date_max_adm)"
      ]
    },
    {
      "cell_type": "code",
      "execution_count": 67,
      "metadata": {
        "colab": {
          "base_uri": "https://localhost:8080/"
        },
        "id": "_Cr_uWxNbFkm",
        "outputId": "205c029a-e05f-4990-e2f2-288eda3ca9c2"
      },
      "outputs": [
        {
          "data": {
            "text/plain": [
              "pandas._libs.tslibs.timestamps.Timestamp"
            ]
          },
          "execution_count": 67,
          "metadata": {},
          "output_type": "execute_result"
        }
      ],
      "source": [
        "type(date_max_adm)"
      ]
    },
    {
      "cell_type": "code",
      "execution_count": 68,
      "metadata": {
        "colab": {
          "base_uri": "https://localhost:8080/"
        },
        "id": "k3dP0oUea0nP",
        "outputId": "6fcd29a0-9476-4f8c-94bc-26a9c17e89e8"
      },
      "outputs": [
        {
          "name": "stdout",
          "output_type": "stream",
          "text": [
            "The maximum number of admissions was reached on July of 2004 with 724 admissions.\n"
          ]
        }
      ],
      "source": [
        "print(f\"The maximum number of admissions was reached on {date_max_adm.month_name()} of {date_max_adm.year} with {df.loc[date_max_adm].Adm} admissions.\")"
      ]
    },
    {
      "cell_type": "markdown",
      "metadata": {
        "id": "AKTnqL5NbtfO"
      },
      "source": [
        "#### 4. How many hypoglycaemic arrests were recorded for 2004"
      ]
    },
    {
      "cell_type": "code",
      "execution_count": 69,
      "metadata": {
        "colab": {
          "base_uri": "https://localhost:8080/",
          "height": 457
        },
        "id": "k_blrdtmcFby",
        "outputId": "fbbb147e-f687-417d-91b3-7e87018e0e8c"
      },
      "outputs": [
        {
          "data": {
            "text/html": [
              "<div>\n",
              "<style scoped>\n",
              "    .dataframe tbody tr th:only-of-type {\n",
              "        vertical-align: middle;\n",
              "    }\n",
              "\n",
              "    .dataframe tbody tr th {\n",
              "        vertical-align: top;\n",
              "    }\n",
              "\n",
              "    .dataframe thead th {\n",
              "        text-align: right;\n",
              "    }\n",
              "</style>\n",
              "<table border=\"1\" class=\"dataframe\">\n",
              "  <thead>\n",
              "    <tr style=\"text-align: right;\">\n",
              "      <th></th>\n",
              "      <th>Cardio</th>\n",
              "      <th>Resp</th>\n",
              "      <th>Hypo</th>\n",
              "      <th>Adm</th>\n",
              "    </tr>\n",
              "    <tr>\n",
              "      <th>year_month</th>\n",
              "      <th></th>\n",
              "      <th></th>\n",
              "      <th></th>\n",
              "      <th></th>\n",
              "    </tr>\n",
              "  </thead>\n",
              "  <tbody>\n",
              "    <tr>\n",
              "      <th>2004-01-01</th>\n",
              "      <td>1</td>\n",
              "      <td>2</td>\n",
              "      <td>0</td>\n",
              "      <td>624</td>\n",
              "    </tr>\n",
              "    <tr>\n",
              "      <th>2004-02-01</th>\n",
              "      <td>3</td>\n",
              "      <td>2</td>\n",
              "      <td>1</td>\n",
              "      <td>553</td>\n",
              "    </tr>\n",
              "    <tr>\n",
              "      <th>2004-03-01</th>\n",
              "      <td>1</td>\n",
              "      <td>0</td>\n",
              "      <td>0</td>\n",
              "      <td>628</td>\n",
              "    </tr>\n",
              "    <tr>\n",
              "      <th>2004-04-01</th>\n",
              "      <td>1</td>\n",
              "      <td>0</td>\n",
              "      <td>0</td>\n",
              "      <td>671</td>\n",
              "    </tr>\n",
              "    <tr>\n",
              "      <th>2004-05-01</th>\n",
              "      <td>1</td>\n",
              "      <td>0</td>\n",
              "      <td>0</td>\n",
              "      <td>713</td>\n",
              "    </tr>\n",
              "    <tr>\n",
              "      <th>2004-06-01</th>\n",
              "      <td>0</td>\n",
              "      <td>0</td>\n",
              "      <td>0</td>\n",
              "      <td>684</td>\n",
              "    </tr>\n",
              "    <tr>\n",
              "      <th>2004-07-01</th>\n",
              "      <td>1</td>\n",
              "      <td>1</td>\n",
              "      <td>0</td>\n",
              "      <td>724</td>\n",
              "    </tr>\n",
              "    <tr>\n",
              "      <th>2004-08-01</th>\n",
              "      <td>1</td>\n",
              "      <td>0</td>\n",
              "      <td>0</td>\n",
              "      <td>655</td>\n",
              "    </tr>\n",
              "    <tr>\n",
              "      <th>2004-09-01</th>\n",
              "      <td>1</td>\n",
              "      <td>0</td>\n",
              "      <td>1</td>\n",
              "      <td>714</td>\n",
              "    </tr>\n",
              "    <tr>\n",
              "      <th>2004-10-01</th>\n",
              "      <td>0</td>\n",
              "      <td>0</td>\n",
              "      <td>0</td>\n",
              "      <td>664</td>\n",
              "    </tr>\n",
              "    <tr>\n",
              "      <th>2004-11-01</th>\n",
              "      <td>1</td>\n",
              "      <td>0</td>\n",
              "      <td>0</td>\n",
              "      <td>589</td>\n",
              "    </tr>\n",
              "    <tr>\n",
              "      <th>2004-12-01</th>\n",
              "      <td>1</td>\n",
              "      <td>0</td>\n",
              "      <td>0</td>\n",
              "      <td>567</td>\n",
              "    </tr>\n",
              "  </tbody>\n",
              "</table>\n",
              "</div>"
            ],
            "text/plain": [
              "            Cardio  Resp  Hypo  Adm\n",
              "year_month                         \n",
              "2004-01-01       1     2     0  624\n",
              "2004-02-01       3     2     1  553\n",
              "2004-03-01       1     0     0  628\n",
              "2004-04-01       1     0     0  671\n",
              "2004-05-01       1     0     0  713\n",
              "2004-06-01       0     0     0  684\n",
              "2004-07-01       1     1     0  724\n",
              "2004-08-01       1     0     0  655\n",
              "2004-09-01       1     0     1  714\n",
              "2004-10-01       0     0     0  664\n",
              "2004-11-01       1     0     0  589\n",
              "2004-12-01       1     0     0  567"
            ]
          },
          "execution_count": 69,
          "metadata": {},
          "output_type": "execute_result"
        }
      ],
      "source": [
        "# First we need to select all the records of 2004\n",
        "df.loc['2004']"
      ]
    },
    {
      "cell_type": "code",
      "execution_count": 70,
      "metadata": {
        "colab": {
          "base_uri": "https://localhost:8080/"
        },
        "id": "aTrENYhGcNgg",
        "outputId": "52221cb0-0871-4d17-ef70-5d32f6b4af77"
      },
      "outputs": [
        {
          "data": {
            "text/plain": [
              "year_month\n",
              "2004-01-01    0\n",
              "2004-02-01    1\n",
              "2004-03-01    0\n",
              "2004-04-01    0\n",
              "2004-05-01    0\n",
              "2004-06-01    0\n",
              "2004-07-01    0\n",
              "2004-08-01    0\n",
              "2004-09-01    1\n",
              "2004-10-01    0\n",
              "2004-11-01    0\n",
              "2004-12-01    0\n",
              "Name: Hypo, dtype: int64"
            ]
          },
          "execution_count": 70,
          "metadata": {},
          "output_type": "execute_result"
        }
      ],
      "source": [
        "# Then we need to select records of 2004 from the Hypo column\n",
        "df.loc['2004', 'Hypo']"
      ]
    },
    {
      "cell_type": "code",
      "execution_count": 23,
      "metadata": {
        "colab": {
          "base_uri": "https://localhost:8080/"
        },
        "id": "UWbAvNNacVlx",
        "outputId": "253dd068-56fa-457a-8692-8736394a6f20"
      },
      "outputs": [
        {
          "data": {
            "text/plain": [
              "2"
            ]
          },
          "execution_count": 23,
          "metadata": {},
          "output_type": "execute_result"
        }
      ],
      "source": [
        "# Lastly, we sum over this column\n",
        "df.loc['2004', 'Hypo'].sum()"
      ]
    },
    {
      "cell_type": "code",
      "execution_count": 24,
      "metadata": {
        "colab": {
          "base_uri": "https://localhost:8080/"
        },
        "id": "bnovyO42cdn6",
        "outputId": "9c29b1d9-2853-4a4b-eb6d-9f10e20f1bb9"
      },
      "outputs": [
        {
          "name": "stdout",
          "output_type": "stream",
          "text": [
            "On 2004 there was 2 hypoglicaemia arrests in total\n"
          ]
        }
      ],
      "source": [
        "print('On 2004 there was %i hypoglicaemia arrests in total' % df.loc['2004', 'Hypo'].sum())"
      ]
    },
    {
      "cell_type": "markdown",
      "metadata": {
        "id": "FPYOiHlKcoAu"
      },
      "source": [
        "#### 5. From December 2003 to February 2004, use a time function to give you how many days passed"
      ]
    },
    {
      "cell_type": "code",
      "execution_count": 80,
      "metadata": {
        "colab": {
          "base_uri": "https://localhost:8080/"
        },
        "id": "chCrqUZ7c9xW",
        "outputId": "de305cc0-8438-4954-f284-b6332b409062"
      },
      "outputs": [
        {
          "data": {
            "text/plain": [
              "Index(['62 days'], dtype='object')"
            ]
          },
          "execution_count": 80,
          "metadata": {},
          "output_type": "execute_result"
        }
      ],
      "source": [
        "# We can use operators on dates to calculate the number of days between dates.\n",
        "# df.loc['2004-02'].index - df.loc['2003-12'].index # Returns a time delta index\n",
        "x = pd.DatetimeIndex(['2004-02-01']) - pd.DatetimeIndex(['2003-12-01'])\n",
        "x.astype(str)"
      ]
    },
    {
      "cell_type": "code",
      "execution_count": 26,
      "metadata": {
        "colab": {
          "base_uri": "https://localhost:8080/"
        },
        "id": "BvAL2yS4dTPa",
        "outputId": "1cd02d36-6a60-4964-b8f1-64515494a89a"
      },
      "outputs": [
        {
          "data": {
            "text/plain": [
              "Index(['62 days'], dtype='object', name='year_month')"
            ]
          },
          "execution_count": 26,
          "metadata": {},
          "output_type": "execute_result"
        }
      ],
      "source": [
        "x = (df.loc['2004-02'].index - df.loc['2003-12'].index)\n",
        "x.astype(str)"
      ]
    },
    {
      "cell_type": "code",
      "execution_count": 27,
      "metadata": {
        "colab": {
          "base_uri": "https://localhost:8080/"
        },
        "id": "8ndJvVaedh-D",
        "outputId": "0acaaf5c-9d90-46d2-b501-6e0474c94093"
      },
      "outputs": [
        {
          "name": "stdout",
          "output_type": "stream",
          "text": [
            "Between December 2003 and February 2004, there is 62 days.\n"
          ]
        }
      ],
      "source": [
        "print('Between December 2003 and February 2004, there is %s.' % x.astype(str)[0])"
      ]
    },
    {
      "cell_type": "markdown",
      "metadata": {
        "id": "WkfQBEd8dsw_"
      },
      "source": [
        "#### 6. Do a yearly summary of each column"
      ]
    },
    {
      "cell_type": "code",
      "execution_count": 82,
      "metadata": {
        "colab": {
          "base_uri": "https://localhost:8080/"
        },
        "id": "dnAWGH0idxBx",
        "outputId": "e3c7cfa0-3e36-481d-be80-dae6aecfffcc"
      },
      "outputs": [
        {
          "data": {
            "text/plain": [
              "Index([1999, 1999, 2000, 2000, 2000, 2000, 2000, 2000, 2000, 2000,\n",
              "       ...\n",
              "       2010, 2010, 2010, 2010, 2010, 2011, 2011, 2011, 2011, 2011],\n",
              "      dtype='int32', name='year_month', length=139)"
            ]
          },
          "execution_count": 82,
          "metadata": {},
          "output_type": "execute_result"
        }
      ],
      "source": [
        "# We need to use the groupby method along with index and another method called agg\n",
        "df.index.year"
      ]
    },
    {
      "cell_type": "code",
      "execution_count": 84,
      "metadata": {
        "colab": {
          "base_uri": "https://localhost:8080/",
          "height": 488
        },
        "id": "4zW-l_Sid6rO",
        "outputId": "f1eb5150-dc18-4764-e5f1-733b7cf4bb34"
      },
      "outputs": [
        {
          "data": {
            "text/html": [
              "<div>\n",
              "<style scoped>\n",
              "    .dataframe tbody tr th:only-of-type {\n",
              "        vertical-align: middle;\n",
              "    }\n",
              "\n",
              "    .dataframe tbody tr th {\n",
              "        vertical-align: top;\n",
              "    }\n",
              "\n",
              "    .dataframe thead tr th {\n",
              "        text-align: left;\n",
              "    }\n",
              "\n",
              "    .dataframe thead tr:last-of-type th {\n",
              "        text-align: right;\n",
              "    }\n",
              "</style>\n",
              "<table border=\"1\" class=\"dataframe\">\n",
              "  <thead>\n",
              "    <tr>\n",
              "      <th></th>\n",
              "      <th colspan=\"8\" halign=\"left\">Cardio</th>\n",
              "      <th colspan=\"2\" halign=\"left\">Resp</th>\n",
              "      <th>...</th>\n",
              "      <th colspan=\"2\" halign=\"left\">Hypo</th>\n",
              "      <th colspan=\"8\" halign=\"left\">Adm</th>\n",
              "    </tr>\n",
              "    <tr>\n",
              "      <th></th>\n",
              "      <th>count</th>\n",
              "      <th>mean</th>\n",
              "      <th>std</th>\n",
              "      <th>min</th>\n",
              "      <th>25%</th>\n",
              "      <th>50%</th>\n",
              "      <th>75%</th>\n",
              "      <th>max</th>\n",
              "      <th>count</th>\n",
              "      <th>mean</th>\n",
              "      <th>...</th>\n",
              "      <th>75%</th>\n",
              "      <th>max</th>\n",
              "      <th>count</th>\n",
              "      <th>mean</th>\n",
              "      <th>std</th>\n",
              "      <th>min</th>\n",
              "      <th>25%</th>\n",
              "      <th>50%</th>\n",
              "      <th>75%</th>\n",
              "      <th>max</th>\n",
              "    </tr>\n",
              "    <tr>\n",
              "      <th>year_month</th>\n",
              "      <th></th>\n",
              "      <th></th>\n",
              "      <th></th>\n",
              "      <th></th>\n",
              "      <th></th>\n",
              "      <th></th>\n",
              "      <th></th>\n",
              "      <th></th>\n",
              "      <th></th>\n",
              "      <th></th>\n",
              "      <th></th>\n",
              "      <th></th>\n",
              "      <th></th>\n",
              "      <th></th>\n",
              "      <th></th>\n",
              "      <th></th>\n",
              "      <th></th>\n",
              "      <th></th>\n",
              "      <th></th>\n",
              "      <th></th>\n",
              "      <th></th>\n",
              "    </tr>\n",
              "  </thead>\n",
              "  <tbody>\n",
              "    <tr>\n",
              "      <th>1999</th>\n",
              "      <td>2.0</td>\n",
              "      <td>1.000000</td>\n",
              "      <td>0.000000</td>\n",
              "      <td>1.0</td>\n",
              "      <td>1.0</td>\n",
              "      <td>1.0</td>\n",
              "      <td>1.00</td>\n",
              "      <td>1.0</td>\n",
              "      <td>2.0</td>\n",
              "      <td>0.000000</td>\n",
              "      <td>...</td>\n",
              "      <td>0.00</td>\n",
              "      <td>0.0</td>\n",
              "      <td>2.0</td>\n",
              "      <td>428.000000</td>\n",
              "      <td>21.213203</td>\n",
              "      <td>413.0</td>\n",
              "      <td>420.50</td>\n",
              "      <td>428.0</td>\n",
              "      <td>435.50</td>\n",
              "      <td>443.0</td>\n",
              "    </tr>\n",
              "    <tr>\n",
              "      <th>2000</th>\n",
              "      <td>12.0</td>\n",
              "      <td>0.750000</td>\n",
              "      <td>0.866025</td>\n",
              "      <td>0.0</td>\n",
              "      <td>0.0</td>\n",
              "      <td>1.0</td>\n",
              "      <td>1.00</td>\n",
              "      <td>3.0</td>\n",
              "      <td>12.0</td>\n",
              "      <td>0.166667</td>\n",
              "      <td>...</td>\n",
              "      <td>0.00</td>\n",
              "      <td>1.0</td>\n",
              "      <td>12.0</td>\n",
              "      <td>410.583333</td>\n",
              "      <td>20.624162</td>\n",
              "      <td>378.0</td>\n",
              "      <td>401.50</td>\n",
              "      <td>410.0</td>\n",
              "      <td>422.75</td>\n",
              "      <td>453.0</td>\n",
              "    </tr>\n",
              "    <tr>\n",
              "      <th>2001</th>\n",
              "      <td>12.0</td>\n",
              "      <td>0.500000</td>\n",
              "      <td>0.674200</td>\n",
              "      <td>0.0</td>\n",
              "      <td>0.0</td>\n",
              "      <td>0.0</td>\n",
              "      <td>1.00</td>\n",
              "      <td>2.0</td>\n",
              "      <td>12.0</td>\n",
              "      <td>0.166667</td>\n",
              "      <td>...</td>\n",
              "      <td>0.25</td>\n",
              "      <td>1.0</td>\n",
              "      <td>12.0</td>\n",
              "      <td>451.833333</td>\n",
              "      <td>23.412636</td>\n",
              "      <td>410.0</td>\n",
              "      <td>437.75</td>\n",
              "      <td>449.5</td>\n",
              "      <td>464.75</td>\n",
              "      <td>499.0</td>\n",
              "    </tr>\n",
              "    <tr>\n",
              "      <th>2002</th>\n",
              "      <td>12.0</td>\n",
              "      <td>1.250000</td>\n",
              "      <td>1.055290</td>\n",
              "      <td>0.0</td>\n",
              "      <td>0.0</td>\n",
              "      <td>1.5</td>\n",
              "      <td>2.00</td>\n",
              "      <td>3.0</td>\n",
              "      <td>12.0</td>\n",
              "      <td>0.250000</td>\n",
              "      <td>...</td>\n",
              "      <td>0.00</td>\n",
              "      <td>1.0</td>\n",
              "      <td>12.0</td>\n",
              "      <td>503.916667</td>\n",
              "      <td>33.789343</td>\n",
              "      <td>457.0</td>\n",
              "      <td>479.75</td>\n",
              "      <td>512.0</td>\n",
              "      <td>522.25</td>\n",
              "      <td>558.0</td>\n",
              "    </tr>\n",
              "    <tr>\n",
              "      <th>2003</th>\n",
              "      <td>12.0</td>\n",
              "      <td>0.916667</td>\n",
              "      <td>0.996205</td>\n",
              "      <td>0.0</td>\n",
              "      <td>0.0</td>\n",
              "      <td>1.0</td>\n",
              "      <td>1.25</td>\n",
              "      <td>3.0</td>\n",
              "      <td>12.0</td>\n",
              "      <td>0.583333</td>\n",
              "      <td>...</td>\n",
              "      <td>0.00</td>\n",
              "      <td>1.0</td>\n",
              "      <td>12.0</td>\n",
              "      <td>566.250000</td>\n",
              "      <td>48.917602</td>\n",
              "      <td>495.0</td>\n",
              "      <td>532.00</td>\n",
              "      <td>554.0</td>\n",
              "      <td>604.00</td>\n",
              "      <td>644.0</td>\n",
              "    </tr>\n",
              "    <tr>\n",
              "      <th>2004</th>\n",
              "      <td>12.0</td>\n",
              "      <td>1.000000</td>\n",
              "      <td>0.738549</td>\n",
              "      <td>0.0</td>\n",
              "      <td>1.0</td>\n",
              "      <td>1.0</td>\n",
              "      <td>1.00</td>\n",
              "      <td>3.0</td>\n",
              "      <td>12.0</td>\n",
              "      <td>0.416667</td>\n",
              "      <td>...</td>\n",
              "      <td>0.00</td>\n",
              "      <td>1.0</td>\n",
              "      <td>12.0</td>\n",
              "      <td>648.833333</td>\n",
              "      <td>57.620756</td>\n",
              "      <td>553.0</td>\n",
              "      <td>615.25</td>\n",
              "      <td>659.5</td>\n",
              "      <td>691.25</td>\n",
              "      <td>724.0</td>\n",
              "    </tr>\n",
              "    <tr>\n",
              "      <th>2005</th>\n",
              "      <td>12.0</td>\n",
              "      <td>0.833333</td>\n",
              "      <td>0.717741</td>\n",
              "      <td>0.0</td>\n",
              "      <td>0.0</td>\n",
              "      <td>1.0</td>\n",
              "      <td>1.00</td>\n",
              "      <td>2.0</td>\n",
              "      <td>12.0</td>\n",
              "      <td>0.166667</td>\n",
              "      <td>...</td>\n",
              "      <td>0.00</td>\n",
              "      <td>0.0</td>\n",
              "      <td>12.0</td>\n",
              "      <td>569.166667</td>\n",
              "      <td>42.626994</td>\n",
              "      <td>499.0</td>\n",
              "      <td>540.75</td>\n",
              "      <td>566.0</td>\n",
              "      <td>601.75</td>\n",
              "      <td>635.0</td>\n",
              "    </tr>\n",
              "    <tr>\n",
              "      <th>2006</th>\n",
              "      <td>12.0</td>\n",
              "      <td>1.083333</td>\n",
              "      <td>0.996205</td>\n",
              "      <td>0.0</td>\n",
              "      <td>0.0</td>\n",
              "      <td>1.0</td>\n",
              "      <td>2.00</td>\n",
              "      <td>3.0</td>\n",
              "      <td>12.0</td>\n",
              "      <td>0.250000</td>\n",
              "      <td>...</td>\n",
              "      <td>0.00</td>\n",
              "      <td>1.0</td>\n",
              "      <td>12.0</td>\n",
              "      <td>539.333333</td>\n",
              "      <td>25.952170</td>\n",
              "      <td>490.0</td>\n",
              "      <td>527.25</td>\n",
              "      <td>537.5</td>\n",
              "      <td>560.25</td>\n",
              "      <td>579.0</td>\n",
              "    </tr>\n",
              "    <tr>\n",
              "      <th>2007</th>\n",
              "      <td>12.0</td>\n",
              "      <td>0.583333</td>\n",
              "      <td>0.668558</td>\n",
              "      <td>0.0</td>\n",
              "      <td>0.0</td>\n",
              "      <td>0.5</td>\n",
              "      <td>1.00</td>\n",
              "      <td>2.0</td>\n",
              "      <td>12.0</td>\n",
              "      <td>0.000000</td>\n",
              "      <td>...</td>\n",
              "      <td>0.00</td>\n",
              "      <td>0.0</td>\n",
              "      <td>12.0</td>\n",
              "      <td>543.583333</td>\n",
              "      <td>27.291218</td>\n",
              "      <td>493.0</td>\n",
              "      <td>528.75</td>\n",
              "      <td>545.0</td>\n",
              "      <td>559.25</td>\n",
              "      <td>593.0</td>\n",
              "    </tr>\n",
              "    <tr>\n",
              "      <th>2008</th>\n",
              "      <td>12.0</td>\n",
              "      <td>0.833333</td>\n",
              "      <td>1.029857</td>\n",
              "      <td>0.0</td>\n",
              "      <td>0.0</td>\n",
              "      <td>0.5</td>\n",
              "      <td>1.25</td>\n",
              "      <td>3.0</td>\n",
              "      <td>12.0</td>\n",
              "      <td>0.333333</td>\n",
              "      <td>...</td>\n",
              "      <td>0.00</td>\n",
              "      <td>0.0</td>\n",
              "      <td>12.0</td>\n",
              "      <td>529.000000</td>\n",
              "      <td>43.734738</td>\n",
              "      <td>474.0</td>\n",
              "      <td>501.75</td>\n",
              "      <td>526.5</td>\n",
              "      <td>550.00</td>\n",
              "      <td>637.0</td>\n",
              "    </tr>\n",
              "    <tr>\n",
              "      <th>2009</th>\n",
              "      <td>12.0</td>\n",
              "      <td>1.000000</td>\n",
              "      <td>0.852803</td>\n",
              "      <td>0.0</td>\n",
              "      <td>0.0</td>\n",
              "      <td>1.0</td>\n",
              "      <td>2.00</td>\n",
              "      <td>2.0</td>\n",
              "      <td>12.0</td>\n",
              "      <td>0.333333</td>\n",
              "      <td>...</td>\n",
              "      <td>0.00</td>\n",
              "      <td>1.0</td>\n",
              "      <td>12.0</td>\n",
              "      <td>583.750000</td>\n",
              "      <td>40.582408</td>\n",
              "      <td>520.0</td>\n",
              "      <td>553.75</td>\n",
              "      <td>587.5</td>\n",
              "      <td>610.75</td>\n",
              "      <td>656.0</td>\n",
              "    </tr>\n",
              "    <tr>\n",
              "      <th>2010</th>\n",
              "      <td>12.0</td>\n",
              "      <td>0.666667</td>\n",
              "      <td>0.651339</td>\n",
              "      <td>0.0</td>\n",
              "      <td>0.0</td>\n",
              "      <td>1.0</td>\n",
              "      <td>1.00</td>\n",
              "      <td>2.0</td>\n",
              "      <td>12.0</td>\n",
              "      <td>0.250000</td>\n",
              "      <td>...</td>\n",
              "      <td>0.00</td>\n",
              "      <td>1.0</td>\n",
              "      <td>12.0</td>\n",
              "      <td>575.583333</td>\n",
              "      <td>28.576718</td>\n",
              "      <td>515.0</td>\n",
              "      <td>566.50</td>\n",
              "      <td>577.0</td>\n",
              "      <td>601.75</td>\n",
              "      <td>609.0</td>\n",
              "    </tr>\n",
              "    <tr>\n",
              "      <th>2011</th>\n",
              "      <td>5.0</td>\n",
              "      <td>1.000000</td>\n",
              "      <td>1.224745</td>\n",
              "      <td>0.0</td>\n",
              "      <td>0.0</td>\n",
              "      <td>1.0</td>\n",
              "      <td>1.00</td>\n",
              "      <td>3.0</td>\n",
              "      <td>5.0</td>\n",
              "      <td>0.000000</td>\n",
              "      <td>...</td>\n",
              "      <td>0.00</td>\n",
              "      <td>0.0</td>\n",
              "      <td>5.0</td>\n",
              "      <td>489.000000</td>\n",
              "      <td>75.581082</td>\n",
              "      <td>373.0</td>\n",
              "      <td>457.00</td>\n",
              "      <td>514.0</td>\n",
              "      <td>541.00</td>\n",
              "      <td>560.0</td>\n",
              "    </tr>\n",
              "  </tbody>\n",
              "</table>\n",
              "<p>13 rows × 32 columns</p>\n",
              "</div>"
            ],
            "text/plain": [
              "           Cardio                                                Resp  \\\n",
              "            count      mean       std  min  25%  50%   75%  max count   \n",
              "year_month                                                              \n",
              "1999          2.0  1.000000  0.000000  1.0  1.0  1.0  1.00  1.0   2.0   \n",
              "2000         12.0  0.750000  0.866025  0.0  0.0  1.0  1.00  3.0  12.0   \n",
              "2001         12.0  0.500000  0.674200  0.0  0.0  0.0  1.00  2.0  12.0   \n",
              "2002         12.0  1.250000  1.055290  0.0  0.0  1.5  2.00  3.0  12.0   \n",
              "2003         12.0  0.916667  0.996205  0.0  0.0  1.0  1.25  3.0  12.0   \n",
              "2004         12.0  1.000000  0.738549  0.0  1.0  1.0  1.00  3.0  12.0   \n",
              "2005         12.0  0.833333  0.717741  0.0  0.0  1.0  1.00  2.0  12.0   \n",
              "2006         12.0  1.083333  0.996205  0.0  0.0  1.0  2.00  3.0  12.0   \n",
              "2007         12.0  0.583333  0.668558  0.0  0.0  0.5  1.00  2.0  12.0   \n",
              "2008         12.0  0.833333  1.029857  0.0  0.0  0.5  1.25  3.0  12.0   \n",
              "2009         12.0  1.000000  0.852803  0.0  0.0  1.0  2.00  2.0  12.0   \n",
              "2010         12.0  0.666667  0.651339  0.0  0.0  1.0  1.00  2.0  12.0   \n",
              "2011          5.0  1.000000  1.224745  0.0  0.0  1.0  1.00  3.0   5.0   \n",
              "\n",
              "                      ...  Hypo        Adm                                \\\n",
              "                mean  ...   75%  max count        mean        std    min   \n",
              "year_month            ...                                                  \n",
              "1999        0.000000  ...  0.00  0.0   2.0  428.000000  21.213203  413.0   \n",
              "2000        0.166667  ...  0.00  1.0  12.0  410.583333  20.624162  378.0   \n",
              "2001        0.166667  ...  0.25  1.0  12.0  451.833333  23.412636  410.0   \n",
              "2002        0.250000  ...  0.00  1.0  12.0  503.916667  33.789343  457.0   \n",
              "2003        0.583333  ...  0.00  1.0  12.0  566.250000  48.917602  495.0   \n",
              "2004        0.416667  ...  0.00  1.0  12.0  648.833333  57.620756  553.0   \n",
              "2005        0.166667  ...  0.00  0.0  12.0  569.166667  42.626994  499.0   \n",
              "2006        0.250000  ...  0.00  1.0  12.0  539.333333  25.952170  490.0   \n",
              "2007        0.000000  ...  0.00  0.0  12.0  543.583333  27.291218  493.0   \n",
              "2008        0.333333  ...  0.00  0.0  12.0  529.000000  43.734738  474.0   \n",
              "2009        0.333333  ...  0.00  1.0  12.0  583.750000  40.582408  520.0   \n",
              "2010        0.250000  ...  0.00  1.0  12.0  575.583333  28.576718  515.0   \n",
              "2011        0.000000  ...  0.00  0.0   5.0  489.000000  75.581082  373.0   \n",
              "\n",
              "                                          \n",
              "               25%    50%     75%    max  \n",
              "year_month                                \n",
              "1999        420.50  428.0  435.50  443.0  \n",
              "2000        401.50  410.0  422.75  453.0  \n",
              "2001        437.75  449.5  464.75  499.0  \n",
              "2002        479.75  512.0  522.25  558.0  \n",
              "2003        532.00  554.0  604.00  644.0  \n",
              "2004        615.25  659.5  691.25  724.0  \n",
              "2005        540.75  566.0  601.75  635.0  \n",
              "2006        527.25  537.5  560.25  579.0  \n",
              "2007        528.75  545.0  559.25  593.0  \n",
              "2008        501.75  526.5  550.00  637.0  \n",
              "2009        553.75  587.5  610.75  656.0  \n",
              "2010        566.50  577.0  601.75  609.0  \n",
              "2011        457.00  514.0  541.00  560.0  \n",
              "\n",
              "[13 rows x 32 columns]"
            ]
          },
          "execution_count": 84,
          "metadata": {},
          "output_type": "execute_result"
        }
      ],
      "source": [
        "# Apply the mean on this\n",
        "df.groupby(df.index.year).describe()"
      ]
    },
    {
      "cell_type": "code",
      "execution_count": 85,
      "metadata": {
        "colab": {
          "base_uri": "https://localhost:8080/",
          "height": 488
        },
        "id": "UsFdns3jeDPE",
        "outputId": "74e23891-862b-4ced-e3f5-e549961d090b"
      },
      "outputs": [
        {
          "data": {
            "text/html": [
              "<div>\n",
              "<style scoped>\n",
              "    .dataframe tbody tr th:only-of-type {\n",
              "        vertical-align: middle;\n",
              "    }\n",
              "\n",
              "    .dataframe tbody tr th {\n",
              "        vertical-align: top;\n",
              "    }\n",
              "\n",
              "    .dataframe thead th {\n",
              "        text-align: right;\n",
              "    }\n",
              "</style>\n",
              "<table border=\"1\" class=\"dataframe\">\n",
              "  <thead>\n",
              "    <tr style=\"text-align: right;\">\n",
              "      <th></th>\n",
              "      <th>Cardio</th>\n",
              "      <th>Resp</th>\n",
              "      <th>Hypo</th>\n",
              "      <th>Adm</th>\n",
              "    </tr>\n",
              "    <tr>\n",
              "      <th>year_month</th>\n",
              "      <th></th>\n",
              "      <th></th>\n",
              "      <th></th>\n",
              "      <th></th>\n",
              "    </tr>\n",
              "  </thead>\n",
              "  <tbody>\n",
              "    <tr>\n",
              "      <th>1999</th>\n",
              "      <td>1.000000</td>\n",
              "      <td>0.000000</td>\n",
              "      <td>0.000000</td>\n",
              "      <td>428.000000</td>\n",
              "    </tr>\n",
              "    <tr>\n",
              "      <th>2000</th>\n",
              "      <td>0.750000</td>\n",
              "      <td>0.166667</td>\n",
              "      <td>0.083333</td>\n",
              "      <td>410.583333</td>\n",
              "    </tr>\n",
              "    <tr>\n",
              "      <th>2001</th>\n",
              "      <td>0.500000</td>\n",
              "      <td>0.166667</td>\n",
              "      <td>0.250000</td>\n",
              "      <td>451.833333</td>\n",
              "    </tr>\n",
              "    <tr>\n",
              "      <th>2002</th>\n",
              "      <td>1.250000</td>\n",
              "      <td>0.250000</td>\n",
              "      <td>0.083333</td>\n",
              "      <td>503.916667</td>\n",
              "    </tr>\n",
              "    <tr>\n",
              "      <th>2003</th>\n",
              "      <td>0.916667</td>\n",
              "      <td>0.583333</td>\n",
              "      <td>0.083333</td>\n",
              "      <td>566.250000</td>\n",
              "    </tr>\n",
              "    <tr>\n",
              "      <th>2004</th>\n",
              "      <td>1.000000</td>\n",
              "      <td>0.416667</td>\n",
              "      <td>0.166667</td>\n",
              "      <td>648.833333</td>\n",
              "    </tr>\n",
              "    <tr>\n",
              "      <th>2005</th>\n",
              "      <td>0.833333</td>\n",
              "      <td>0.166667</td>\n",
              "      <td>0.000000</td>\n",
              "      <td>569.166667</td>\n",
              "    </tr>\n",
              "    <tr>\n",
              "      <th>2006</th>\n",
              "      <td>1.083333</td>\n",
              "      <td>0.250000</td>\n",
              "      <td>0.083333</td>\n",
              "      <td>539.333333</td>\n",
              "    </tr>\n",
              "    <tr>\n",
              "      <th>2007</th>\n",
              "      <td>0.583333</td>\n",
              "      <td>0.000000</td>\n",
              "      <td>0.000000</td>\n",
              "      <td>543.583333</td>\n",
              "    </tr>\n",
              "    <tr>\n",
              "      <th>2008</th>\n",
              "      <td>0.833333</td>\n",
              "      <td>0.333333</td>\n",
              "      <td>0.000000</td>\n",
              "      <td>529.000000</td>\n",
              "    </tr>\n",
              "    <tr>\n",
              "      <th>2009</th>\n",
              "      <td>1.000000</td>\n",
              "      <td>0.333333</td>\n",
              "      <td>0.166667</td>\n",
              "      <td>583.750000</td>\n",
              "    </tr>\n",
              "    <tr>\n",
              "      <th>2010</th>\n",
              "      <td>0.666667</td>\n",
              "      <td>0.250000</td>\n",
              "      <td>0.083333</td>\n",
              "      <td>575.583333</td>\n",
              "    </tr>\n",
              "    <tr>\n",
              "      <th>2011</th>\n",
              "      <td>1.000000</td>\n",
              "      <td>0.000000</td>\n",
              "      <td>0.000000</td>\n",
              "      <td>489.000000</td>\n",
              "    </tr>\n",
              "  </tbody>\n",
              "</table>\n",
              "</div>"
            ],
            "text/plain": [
              "              Cardio      Resp      Hypo         Adm\n",
              "year_month                                          \n",
              "1999        1.000000  0.000000  0.000000  428.000000\n",
              "2000        0.750000  0.166667  0.083333  410.583333\n",
              "2001        0.500000  0.166667  0.250000  451.833333\n",
              "2002        1.250000  0.250000  0.083333  503.916667\n",
              "2003        0.916667  0.583333  0.083333  566.250000\n",
              "2004        1.000000  0.416667  0.166667  648.833333\n",
              "2005        0.833333  0.166667  0.000000  569.166667\n",
              "2006        1.083333  0.250000  0.083333  539.333333\n",
              "2007        0.583333  0.000000  0.000000  543.583333\n",
              "2008        0.833333  0.333333  0.000000  529.000000\n",
              "2009        1.000000  0.333333  0.166667  583.750000\n",
              "2010        0.666667  0.250000  0.083333  575.583333\n",
              "2011        1.000000  0.000000  0.000000  489.000000"
            ]
          },
          "execution_count": 85,
          "metadata": {},
          "output_type": "execute_result"
        }
      ],
      "source": [
        "# Using the agg method, will apply the specific function on each column and each group of rows defined by the groupby method\n",
        "df.groupby(df.index.year).agg('mean')"
      ]
    },
    {
      "cell_type": "code",
      "execution_count": 86,
      "metadata": {
        "colab": {
          "base_uri": "https://localhost:8080/",
          "height": 519
        },
        "id": "KliHjDVDeQXF",
        "outputId": "43008e65-12f9-49d2-a5e8-1e2e5ced0de6"
      },
      "outputs": [
        {
          "data": {
            "text/html": [
              "<div>\n",
              "<style scoped>\n",
              "    .dataframe tbody tr th:only-of-type {\n",
              "        vertical-align: middle;\n",
              "    }\n",
              "\n",
              "    .dataframe tbody tr th {\n",
              "        vertical-align: top;\n",
              "    }\n",
              "\n",
              "    .dataframe thead tr th {\n",
              "        text-align: left;\n",
              "    }\n",
              "\n",
              "    .dataframe thead tr:last-of-type th {\n",
              "        text-align: right;\n",
              "    }\n",
              "</style>\n",
              "<table border=\"1\" class=\"dataframe\">\n",
              "  <thead>\n",
              "    <tr>\n",
              "      <th></th>\n",
              "      <th colspan=\"4\" halign=\"left\">Cardio</th>\n",
              "      <th colspan=\"4\" halign=\"left\">Resp</th>\n",
              "      <th colspan=\"4\" halign=\"left\">Hypo</th>\n",
              "      <th colspan=\"4\" halign=\"left\">Adm</th>\n",
              "    </tr>\n",
              "    <tr>\n",
              "      <th></th>\n",
              "      <th>min</th>\n",
              "      <th>mean</th>\n",
              "      <th>max</th>\n",
              "      <th>std</th>\n",
              "      <th>min</th>\n",
              "      <th>mean</th>\n",
              "      <th>max</th>\n",
              "      <th>std</th>\n",
              "      <th>min</th>\n",
              "      <th>mean</th>\n",
              "      <th>max</th>\n",
              "      <th>std</th>\n",
              "      <th>min</th>\n",
              "      <th>mean</th>\n",
              "      <th>max</th>\n",
              "      <th>std</th>\n",
              "    </tr>\n",
              "    <tr>\n",
              "      <th>year_month</th>\n",
              "      <th></th>\n",
              "      <th></th>\n",
              "      <th></th>\n",
              "      <th></th>\n",
              "      <th></th>\n",
              "      <th></th>\n",
              "      <th></th>\n",
              "      <th></th>\n",
              "      <th></th>\n",
              "      <th></th>\n",
              "      <th></th>\n",
              "      <th></th>\n",
              "      <th></th>\n",
              "      <th></th>\n",
              "      <th></th>\n",
              "      <th></th>\n",
              "    </tr>\n",
              "  </thead>\n",
              "  <tbody>\n",
              "    <tr>\n",
              "      <th>1999</th>\n",
              "      <td>1</td>\n",
              "      <td>1.000000</td>\n",
              "      <td>1</td>\n",
              "      <td>0.000000</td>\n",
              "      <td>0</td>\n",
              "      <td>0.000000</td>\n",
              "      <td>0</td>\n",
              "      <td>0.000000</td>\n",
              "      <td>0</td>\n",
              "      <td>0.000000</td>\n",
              "      <td>0</td>\n",
              "      <td>0.000000</td>\n",
              "      <td>413</td>\n",
              "      <td>428.000000</td>\n",
              "      <td>443</td>\n",
              "      <td>21.213203</td>\n",
              "    </tr>\n",
              "    <tr>\n",
              "      <th>2000</th>\n",
              "      <td>0</td>\n",
              "      <td>0.750000</td>\n",
              "      <td>3</td>\n",
              "      <td>0.866025</td>\n",
              "      <td>0</td>\n",
              "      <td>0.166667</td>\n",
              "      <td>1</td>\n",
              "      <td>0.389249</td>\n",
              "      <td>0</td>\n",
              "      <td>0.083333</td>\n",
              "      <td>1</td>\n",
              "      <td>0.288675</td>\n",
              "      <td>378</td>\n",
              "      <td>410.583333</td>\n",
              "      <td>453</td>\n",
              "      <td>20.624162</td>\n",
              "    </tr>\n",
              "    <tr>\n",
              "      <th>2001</th>\n",
              "      <td>0</td>\n",
              "      <td>0.500000</td>\n",
              "      <td>2</td>\n",
              "      <td>0.674200</td>\n",
              "      <td>0</td>\n",
              "      <td>0.166667</td>\n",
              "      <td>1</td>\n",
              "      <td>0.389249</td>\n",
              "      <td>0</td>\n",
              "      <td>0.250000</td>\n",
              "      <td>1</td>\n",
              "      <td>0.452267</td>\n",
              "      <td>410</td>\n",
              "      <td>451.833333</td>\n",
              "      <td>499</td>\n",
              "      <td>23.412636</td>\n",
              "    </tr>\n",
              "    <tr>\n",
              "      <th>2002</th>\n",
              "      <td>0</td>\n",
              "      <td>1.250000</td>\n",
              "      <td>3</td>\n",
              "      <td>1.055290</td>\n",
              "      <td>0</td>\n",
              "      <td>0.250000</td>\n",
              "      <td>1</td>\n",
              "      <td>0.452267</td>\n",
              "      <td>0</td>\n",
              "      <td>0.083333</td>\n",
              "      <td>1</td>\n",
              "      <td>0.288675</td>\n",
              "      <td>457</td>\n",
              "      <td>503.916667</td>\n",
              "      <td>558</td>\n",
              "      <td>33.789343</td>\n",
              "    </tr>\n",
              "    <tr>\n",
              "      <th>2003</th>\n",
              "      <td>0</td>\n",
              "      <td>0.916667</td>\n",
              "      <td>3</td>\n",
              "      <td>0.996205</td>\n",
              "      <td>0</td>\n",
              "      <td>0.583333</td>\n",
              "      <td>4</td>\n",
              "      <td>1.164500</td>\n",
              "      <td>0</td>\n",
              "      <td>0.083333</td>\n",
              "      <td>1</td>\n",
              "      <td>0.288675</td>\n",
              "      <td>495</td>\n",
              "      <td>566.250000</td>\n",
              "      <td>644</td>\n",
              "      <td>48.917602</td>\n",
              "    </tr>\n",
              "    <tr>\n",
              "      <th>2004</th>\n",
              "      <td>0</td>\n",
              "      <td>1.000000</td>\n",
              "      <td>3</td>\n",
              "      <td>0.738549</td>\n",
              "      <td>0</td>\n",
              "      <td>0.416667</td>\n",
              "      <td>2</td>\n",
              "      <td>0.792961</td>\n",
              "      <td>0</td>\n",
              "      <td>0.166667</td>\n",
              "      <td>1</td>\n",
              "      <td>0.389249</td>\n",
              "      <td>553</td>\n",
              "      <td>648.833333</td>\n",
              "      <td>724</td>\n",
              "      <td>57.620756</td>\n",
              "    </tr>\n",
              "    <tr>\n",
              "      <th>2005</th>\n",
              "      <td>0</td>\n",
              "      <td>0.833333</td>\n",
              "      <td>2</td>\n",
              "      <td>0.717741</td>\n",
              "      <td>0</td>\n",
              "      <td>0.166667</td>\n",
              "      <td>1</td>\n",
              "      <td>0.389249</td>\n",
              "      <td>0</td>\n",
              "      <td>0.000000</td>\n",
              "      <td>0</td>\n",
              "      <td>0.000000</td>\n",
              "      <td>499</td>\n",
              "      <td>569.166667</td>\n",
              "      <td>635</td>\n",
              "      <td>42.626994</td>\n",
              "    </tr>\n",
              "    <tr>\n",
              "      <th>2006</th>\n",
              "      <td>0</td>\n",
              "      <td>1.083333</td>\n",
              "      <td>3</td>\n",
              "      <td>0.996205</td>\n",
              "      <td>0</td>\n",
              "      <td>0.250000</td>\n",
              "      <td>1</td>\n",
              "      <td>0.452267</td>\n",
              "      <td>0</td>\n",
              "      <td>0.083333</td>\n",
              "      <td>1</td>\n",
              "      <td>0.288675</td>\n",
              "      <td>490</td>\n",
              "      <td>539.333333</td>\n",
              "      <td>579</td>\n",
              "      <td>25.952170</td>\n",
              "    </tr>\n",
              "    <tr>\n",
              "      <th>2007</th>\n",
              "      <td>0</td>\n",
              "      <td>0.583333</td>\n",
              "      <td>2</td>\n",
              "      <td>0.668558</td>\n",
              "      <td>0</td>\n",
              "      <td>0.000000</td>\n",
              "      <td>0</td>\n",
              "      <td>0.000000</td>\n",
              "      <td>0</td>\n",
              "      <td>0.000000</td>\n",
              "      <td>0</td>\n",
              "      <td>0.000000</td>\n",
              "      <td>493</td>\n",
              "      <td>543.583333</td>\n",
              "      <td>593</td>\n",
              "      <td>27.291218</td>\n",
              "    </tr>\n",
              "    <tr>\n",
              "      <th>2008</th>\n",
              "      <td>0</td>\n",
              "      <td>0.833333</td>\n",
              "      <td>3</td>\n",
              "      <td>1.029857</td>\n",
              "      <td>0</td>\n",
              "      <td>0.333333</td>\n",
              "      <td>2</td>\n",
              "      <td>0.651339</td>\n",
              "      <td>0</td>\n",
              "      <td>0.000000</td>\n",
              "      <td>0</td>\n",
              "      <td>0.000000</td>\n",
              "      <td>474</td>\n",
              "      <td>529.000000</td>\n",
              "      <td>637</td>\n",
              "      <td>43.734738</td>\n",
              "    </tr>\n",
              "    <tr>\n",
              "      <th>2009</th>\n",
              "      <td>0</td>\n",
              "      <td>1.000000</td>\n",
              "      <td>2</td>\n",
              "      <td>0.852803</td>\n",
              "      <td>0</td>\n",
              "      <td>0.333333</td>\n",
              "      <td>1</td>\n",
              "      <td>0.492366</td>\n",
              "      <td>0</td>\n",
              "      <td>0.166667</td>\n",
              "      <td>1</td>\n",
              "      <td>0.389249</td>\n",
              "      <td>520</td>\n",
              "      <td>583.750000</td>\n",
              "      <td>656</td>\n",
              "      <td>40.582408</td>\n",
              "    </tr>\n",
              "    <tr>\n",
              "      <th>2010</th>\n",
              "      <td>0</td>\n",
              "      <td>0.666667</td>\n",
              "      <td>2</td>\n",
              "      <td>0.651339</td>\n",
              "      <td>0</td>\n",
              "      <td>0.250000</td>\n",
              "      <td>1</td>\n",
              "      <td>0.452267</td>\n",
              "      <td>0</td>\n",
              "      <td>0.083333</td>\n",
              "      <td>1</td>\n",
              "      <td>0.288675</td>\n",
              "      <td>515</td>\n",
              "      <td>575.583333</td>\n",
              "      <td>609</td>\n",
              "      <td>28.576718</td>\n",
              "    </tr>\n",
              "    <tr>\n",
              "      <th>2011</th>\n",
              "      <td>0</td>\n",
              "      <td>1.000000</td>\n",
              "      <td>3</td>\n",
              "      <td>1.224745</td>\n",
              "      <td>0</td>\n",
              "      <td>0.000000</td>\n",
              "      <td>0</td>\n",
              "      <td>0.000000</td>\n",
              "      <td>0</td>\n",
              "      <td>0.000000</td>\n",
              "      <td>0</td>\n",
              "      <td>0.000000</td>\n",
              "      <td>373</td>\n",
              "      <td>489.000000</td>\n",
              "      <td>560</td>\n",
              "      <td>75.581082</td>\n",
              "    </tr>\n",
              "  </tbody>\n",
              "</table>\n",
              "</div>"
            ],
            "text/plain": [
              "           Cardio                         Resp                         Hypo  \\\n",
              "              min      mean max       std  min      mean max       std  min   \n",
              "year_month                                                                    \n",
              "1999            1  1.000000   1  0.000000    0  0.000000   0  0.000000    0   \n",
              "2000            0  0.750000   3  0.866025    0  0.166667   1  0.389249    0   \n",
              "2001            0  0.500000   2  0.674200    0  0.166667   1  0.389249    0   \n",
              "2002            0  1.250000   3  1.055290    0  0.250000   1  0.452267    0   \n",
              "2003            0  0.916667   3  0.996205    0  0.583333   4  1.164500    0   \n",
              "2004            0  1.000000   3  0.738549    0  0.416667   2  0.792961    0   \n",
              "2005            0  0.833333   2  0.717741    0  0.166667   1  0.389249    0   \n",
              "2006            0  1.083333   3  0.996205    0  0.250000   1  0.452267    0   \n",
              "2007            0  0.583333   2  0.668558    0  0.000000   0  0.000000    0   \n",
              "2008            0  0.833333   3  1.029857    0  0.333333   2  0.651339    0   \n",
              "2009            0  1.000000   2  0.852803    0  0.333333   1  0.492366    0   \n",
              "2010            0  0.666667   2  0.651339    0  0.250000   1  0.452267    0   \n",
              "2011            0  1.000000   3  1.224745    0  0.000000   0  0.000000    0   \n",
              "\n",
              "                                    Adm                              \n",
              "                mean max       std  min        mean  max        std  \n",
              "year_month                                                           \n",
              "1999        0.000000   0  0.000000  413  428.000000  443  21.213203  \n",
              "2000        0.083333   1  0.288675  378  410.583333  453  20.624162  \n",
              "2001        0.250000   1  0.452267  410  451.833333  499  23.412636  \n",
              "2002        0.083333   1  0.288675  457  503.916667  558  33.789343  \n",
              "2003        0.083333   1  0.288675  495  566.250000  644  48.917602  \n",
              "2004        0.166667   1  0.389249  553  648.833333  724  57.620756  \n",
              "2005        0.000000   0  0.000000  499  569.166667  635  42.626994  \n",
              "2006        0.083333   1  0.288675  490  539.333333  579  25.952170  \n",
              "2007        0.000000   0  0.000000  493  543.583333  593  27.291218  \n",
              "2008        0.000000   0  0.000000  474  529.000000  637  43.734738  \n",
              "2009        0.166667   1  0.389249  520  583.750000  656  40.582408  \n",
              "2010        0.083333   1  0.288675  515  575.583333  609  28.576718  \n",
              "2011        0.000000   0  0.000000  373  489.000000  560  75.581082  "
            ]
          },
          "execution_count": 86,
          "metadata": {},
          "output_type": "execute_result"
        }
      ],
      "source": [
        "# You can apply multiples function\n",
        "df.groupby(df.index.year).agg(['min', 'mean', 'max', 'std'])"
      ]
    },
    {
      "cell_type": "markdown",
      "metadata": {
        "id": "afRn7jjJenkU"
      },
      "source": [
        "#### 7. Create a new column with a cummulative sum of the Cardio-respiratory arrest"
      ]
    },
    {
      "cell_type": "code",
      "execution_count": 87,
      "metadata": {
        "id": "KO4EIiTZev7a"
      },
      "outputs": [
        {
          "data": {
            "text/plain": [
              "year_month\n",
              "1999-11-01      1\n",
              "1999-12-01      2\n",
              "2000-01-01      3\n",
              "2000-02-01      3\n",
              "2000-03-01      4\n",
              "             ... \n",
              "2011-01-01    115\n",
              "2011-02-01    116\n",
              "2011-03-01    119\n",
              "2011-04-01    120\n",
              "2011-05-01    120\n",
              "Name: Cardio, Length: 139, dtype: int64"
            ]
          },
          "execution_count": 87,
          "metadata": {},
          "output_type": "execute_result"
        }
      ],
      "source": [
        "# To do that we will use the cumsum() method\n",
        "df.Cardio.cumsum()"
      ]
    },
    {
      "cell_type": "code",
      "execution_count": 88,
      "metadata": {
        "colab": {
          "base_uri": "https://localhost:8080/",
          "height": 237
        },
        "id": "z0AeItoWe20k",
        "outputId": "0a1821ed-bda6-4984-cec4-4c660004dc5f"
      },
      "outputs": [
        {
          "data": {
            "text/html": [
              "<div>\n",
              "<style scoped>\n",
              "    .dataframe tbody tr th:only-of-type {\n",
              "        vertical-align: middle;\n",
              "    }\n",
              "\n",
              "    .dataframe tbody tr th {\n",
              "        vertical-align: top;\n",
              "    }\n",
              "\n",
              "    .dataframe thead th {\n",
              "        text-align: right;\n",
              "    }\n",
              "</style>\n",
              "<table border=\"1\" class=\"dataframe\">\n",
              "  <thead>\n",
              "    <tr style=\"text-align: right;\">\n",
              "      <th></th>\n",
              "      <th>Cardio</th>\n",
              "      <th>Resp</th>\n",
              "      <th>Hypo</th>\n",
              "      <th>Adm</th>\n",
              "      <th>CumSumCardio</th>\n",
              "    </tr>\n",
              "    <tr>\n",
              "      <th>year_month</th>\n",
              "      <th></th>\n",
              "      <th></th>\n",
              "      <th></th>\n",
              "      <th></th>\n",
              "      <th></th>\n",
              "    </tr>\n",
              "  </thead>\n",
              "  <tbody>\n",
              "    <tr>\n",
              "      <th>1999-11-01</th>\n",
              "      <td>1</td>\n",
              "      <td>0</td>\n",
              "      <td>0</td>\n",
              "      <td>413</td>\n",
              "      <td>1</td>\n",
              "    </tr>\n",
              "    <tr>\n",
              "      <th>1999-12-01</th>\n",
              "      <td>1</td>\n",
              "      <td>0</td>\n",
              "      <td>0</td>\n",
              "      <td>443</td>\n",
              "      <td>2</td>\n",
              "    </tr>\n",
              "    <tr>\n",
              "      <th>2000-01-01</th>\n",
              "      <td>1</td>\n",
              "      <td>0</td>\n",
              "      <td>0</td>\n",
              "      <td>378</td>\n",
              "      <td>3</td>\n",
              "    </tr>\n",
              "    <tr>\n",
              "      <th>2000-02-01</th>\n",
              "      <td>0</td>\n",
              "      <td>0</td>\n",
              "      <td>0</td>\n",
              "      <td>385</td>\n",
              "      <td>3</td>\n",
              "    </tr>\n",
              "    <tr>\n",
              "      <th>2000-03-01</th>\n",
              "      <td>1</td>\n",
              "      <td>0</td>\n",
              "      <td>0</td>\n",
              "      <td>388</td>\n",
              "      <td>4</td>\n",
              "    </tr>\n",
              "  </tbody>\n",
              "</table>\n",
              "</div>"
            ],
            "text/plain": [
              "            Cardio  Resp  Hypo  Adm  CumSumCardio\n",
              "year_month                                       \n",
              "1999-11-01       1     0     0  413             1\n",
              "1999-12-01       1     0     0  443             2\n",
              "2000-01-01       1     0     0  378             3\n",
              "2000-02-01       0     0     0  385             3\n",
              "2000-03-01       1     0     0  388             4"
            ]
          },
          "execution_count": 88,
          "metadata": {},
          "output_type": "execute_result"
        }
      ],
      "source": [
        "# Store it into a dataframe column\n",
        "df['CumSumCardio'] = df.Cardio.cumsum()\n",
        "df.head()"
      ]
    },
    {
      "cell_type": "markdown",
      "metadata": {
        "id": "7JOmG58GfBGJ"
      },
      "source": [
        "#### 8. Create a new column with a rolling mean (with a 3 month window) of the admission to Emergency Room and plot the result over time"
      ]
    },
    {
      "cell_type": "code",
      "execution_count": 89,
      "metadata": {
        "id": "APavWcnmfKmA"
      },
      "outputs": [
        {
          "name": "stdout",
          "output_type": "stream",
          "text": [
            "\u001b[1;31mSignature:\u001b[0m\n",
            "\u001b[0mpd\u001b[0m\u001b[1;33m.\u001b[0m\u001b[0mDataFrame\u001b[0m\u001b[1;33m.\u001b[0m\u001b[0mrolling\u001b[0m\u001b[1;33m(\u001b[0m\u001b[1;33m\n",
            "\u001b[0m    \u001b[0mself\u001b[0m\u001b[1;33m,\u001b[0m\u001b[1;33m\n",
            "\u001b[0m    \u001b[0mwindow\u001b[0m\u001b[1;33m:\u001b[0m \u001b[1;34m'int | dt.timedelta | str | BaseOffset | BaseIndexer'\u001b[0m\u001b[1;33m,\u001b[0m\u001b[1;33m\n",
            "\u001b[0m    \u001b[0mmin_periods\u001b[0m\u001b[1;33m:\u001b[0m \u001b[1;34m'int | None'\u001b[0m \u001b[1;33m=\u001b[0m \u001b[1;32mNone\u001b[0m\u001b[1;33m,\u001b[0m\u001b[1;33m\n",
            "\u001b[0m    \u001b[0mcenter\u001b[0m\u001b[1;33m:\u001b[0m \u001b[1;34m'bool_t'\u001b[0m \u001b[1;33m=\u001b[0m \u001b[1;32mFalse\u001b[0m\u001b[1;33m,\u001b[0m\u001b[1;33m\n",
            "\u001b[0m    \u001b[0mwin_type\u001b[0m\u001b[1;33m:\u001b[0m \u001b[1;34m'str | None'\u001b[0m \u001b[1;33m=\u001b[0m \u001b[1;32mNone\u001b[0m\u001b[1;33m,\u001b[0m\u001b[1;33m\n",
            "\u001b[0m    \u001b[0mon\u001b[0m\u001b[1;33m:\u001b[0m \u001b[1;34m'str | None'\u001b[0m \u001b[1;33m=\u001b[0m \u001b[1;32mNone\u001b[0m\u001b[1;33m,\u001b[0m\u001b[1;33m\n",
            "\u001b[0m    \u001b[0maxis\u001b[0m\u001b[1;33m:\u001b[0m \u001b[1;34m'Axis | lib.NoDefault'\u001b[0m \u001b[1;33m=\u001b[0m \u001b[1;33m<\u001b[0m\u001b[0mno_default\u001b[0m\u001b[1;33m>\u001b[0m\u001b[1;33m,\u001b[0m\u001b[1;33m\n",
            "\u001b[0m    \u001b[0mclosed\u001b[0m\u001b[1;33m:\u001b[0m \u001b[1;34m'IntervalClosedType | None'\u001b[0m \u001b[1;33m=\u001b[0m \u001b[1;32mNone\u001b[0m\u001b[1;33m,\u001b[0m\u001b[1;33m\n",
            "\u001b[0m    \u001b[0mstep\u001b[0m\u001b[1;33m:\u001b[0m \u001b[1;34m'int | None'\u001b[0m \u001b[1;33m=\u001b[0m \u001b[1;32mNone\u001b[0m\u001b[1;33m,\u001b[0m\u001b[1;33m\n",
            "\u001b[0m    \u001b[0mmethod\u001b[0m\u001b[1;33m:\u001b[0m \u001b[1;34m'str'\u001b[0m \u001b[1;33m=\u001b[0m \u001b[1;34m'single'\u001b[0m\u001b[1;33m,\u001b[0m\u001b[1;33m\n",
            "\u001b[0m\u001b[1;33m)\u001b[0m \u001b[1;33m->\u001b[0m \u001b[1;34m'Window | Rolling'\u001b[0m\u001b[1;33m\u001b[0m\u001b[1;33m\u001b[0m\u001b[0m\n",
            "\u001b[1;31mDocstring:\u001b[0m\n",
            "Provide rolling window calculations.\n",
            "\n",
            "Parameters\n",
            "----------\n",
            "window : int, timedelta, str, offset, or BaseIndexer subclass\n",
            "    Size of the moving window.\n",
            "\n",
            "    If an integer, the fixed number of observations used for\n",
            "    each window.\n",
            "\n",
            "    If a timedelta, str, or offset, the time period of each window. Each\n",
            "    window will be a variable sized based on the observations included in\n",
            "    the time-period. This is only valid for datetimelike indexes.\n",
            "    To learn more about the offsets & frequency strings, please see `this link\n",
            "    <https://pandas.pydata.org/pandas-docs/stable/user_guide/timeseries.html#offset-aliases>`__.\n",
            "\n",
            "    If a BaseIndexer subclass, the window boundaries\n",
            "    based on the defined ``get_window_bounds`` method. Additional rolling\n",
            "    keyword arguments, namely ``min_periods``, ``center``, ``closed`` and\n",
            "    ``step`` will be passed to ``get_window_bounds``.\n",
            "\n",
            "min_periods : int, default None\n",
            "    Minimum number of observations in window required to have a value;\n",
            "    otherwise, result is ``np.nan``.\n",
            "\n",
            "    For a window that is specified by an offset, ``min_periods`` will default to 1.\n",
            "\n",
            "    For a window that is specified by an integer, ``min_periods`` will default\n",
            "    to the size of the window.\n",
            "\n",
            "center : bool, default False\n",
            "    If False, set the window labels as the right edge of the window index.\n",
            "\n",
            "    If True, set the window labels as the center of the window index.\n",
            "\n",
            "win_type : str, default None\n",
            "    If ``None``, all points are evenly weighted.\n",
            "\n",
            "    If a string, it must be a valid `scipy.signal window function\n",
            "    <https://docs.scipy.org/doc/scipy/reference/signal.windows.html#module-scipy.signal.windows>`__.\n",
            "\n",
            "    Certain Scipy window types require additional parameters to be passed\n",
            "    in the aggregation function. The additional parameters must match\n",
            "    the keywords specified in the Scipy window type method signature.\n",
            "\n",
            "on : str, optional\n",
            "    For a DataFrame, a column label or Index level on which\n",
            "    to calculate the rolling window, rather than the DataFrame's index.\n",
            "\n",
            "    Provided integer column is ignored and excluded from result since\n",
            "    an integer index is not used to calculate the rolling window.\n",
            "\n",
            "axis : int or str, default 0\n",
            "    If ``0`` or ``'index'``, roll across the rows.\n",
            "\n",
            "    If ``1`` or ``'columns'``, roll across the columns.\n",
            "\n",
            "    For `Series` this parameter is unused and defaults to 0.\n",
            "\n",
            "    .. deprecated:: 2.1.0\n",
            "\n",
            "        The axis keyword is deprecated. For ``axis=1``,\n",
            "        transpose the DataFrame first instead.\n",
            "\n",
            "closed : str, default None\n",
            "    If ``'right'``, the first point in the window is excluded from calculations.\n",
            "\n",
            "    If ``'left'``, the last point in the window is excluded from calculations.\n",
            "\n",
            "    If ``'both'``, the no points in the window are excluded from calculations.\n",
            "\n",
            "    If ``'neither'``, the first and last points in the window are excluded\n",
            "    from calculations.\n",
            "\n",
            "    Default ``None`` (``'right'``).\n",
            "\n",
            "step : int, default None\n",
            "\n",
            "    .. versionadded:: 1.5.0\n",
            "\n",
            "    Evaluate the window at every ``step`` result, equivalent to slicing as\n",
            "    ``[::step]``. ``window`` must be an integer. Using a step argument other\n",
            "    than None or 1 will produce a result with a different shape than the input.\n",
            "\n",
            "method : str {'single', 'table'}, default 'single'\n",
            "\n",
            "    .. versionadded:: 1.3.0\n",
            "\n",
            "    Execute the rolling operation per single column or row (``'single'``)\n",
            "    or over the entire object (``'table'``).\n",
            "\n",
            "    This argument is only implemented when specifying ``engine='numba'``\n",
            "    in the method call.\n",
            "\n",
            "Returns\n",
            "-------\n",
            "pandas.api.typing.Window or pandas.api.typing.Rolling\n",
            "    An instance of Window is returned if ``win_type`` is passed. Otherwise,\n",
            "    an instance of Rolling is returned.\n",
            "\n",
            "See Also\n",
            "--------\n",
            "expanding : Provides expanding transformations.\n",
            "ewm : Provides exponential weighted functions.\n",
            "\n",
            "Notes\n",
            "-----\n",
            "See :ref:`Windowing Operations <window.generic>` for further usage details\n",
            "and examples.\n",
            "\n",
            "Examples\n",
            "--------\n",
            ">>> df = pd.DataFrame({'B': [0, 1, 2, np.nan, 4]})\n",
            ">>> df\n",
            "     B\n",
            "0  0.0\n",
            "1  1.0\n",
            "2  2.0\n",
            "3  NaN\n",
            "4  4.0\n",
            "\n",
            "**window**\n",
            "\n",
            "Rolling sum with a window length of 2 observations.\n",
            "\n",
            ">>> df.rolling(2).sum()\n",
            "     B\n",
            "0  NaN\n",
            "1  1.0\n",
            "2  3.0\n",
            "3  NaN\n",
            "4  NaN\n",
            "\n",
            "Rolling sum with a window span of 2 seconds.\n",
            "\n",
            ">>> df_time = pd.DataFrame({'B': [0, 1, 2, np.nan, 4]},\n",
            "...                        index=[pd.Timestamp('20130101 09:00:00'),\n",
            "...                               pd.Timestamp('20130101 09:00:02'),\n",
            "...                               pd.Timestamp('20130101 09:00:03'),\n",
            "...                               pd.Timestamp('20130101 09:00:05'),\n",
            "...                               pd.Timestamp('20130101 09:00:06')])\n",
            "\n",
            ">>> df_time\n",
            "                       B\n",
            "2013-01-01 09:00:00  0.0\n",
            "2013-01-01 09:00:02  1.0\n",
            "2013-01-01 09:00:03  2.0\n",
            "2013-01-01 09:00:05  NaN\n",
            "2013-01-01 09:00:06  4.0\n",
            "\n",
            ">>> df_time.rolling('2s').sum()\n",
            "                       B\n",
            "2013-01-01 09:00:00  0.0\n",
            "2013-01-01 09:00:02  1.0\n",
            "2013-01-01 09:00:03  3.0\n",
            "2013-01-01 09:00:05  NaN\n",
            "2013-01-01 09:00:06  4.0\n",
            "\n",
            "Rolling sum with forward looking windows with 2 observations.\n",
            "\n",
            ">>> indexer = pd.api.indexers.FixedForwardWindowIndexer(window_size=2)\n",
            ">>> df.rolling(window=indexer, min_periods=1).sum()\n",
            "     B\n",
            "0  1.0\n",
            "1  3.0\n",
            "2  2.0\n",
            "3  4.0\n",
            "4  4.0\n",
            "\n",
            "**min_periods**\n",
            "\n",
            "Rolling sum with a window length of 2 observations, but only needs a minimum of 1\n",
            "observation to calculate a value.\n",
            "\n",
            ">>> df.rolling(2, min_periods=1).sum()\n",
            "     B\n",
            "0  0.0\n",
            "1  1.0\n",
            "2  3.0\n",
            "3  2.0\n",
            "4  4.0\n",
            "\n",
            "**center**\n",
            "\n",
            "Rolling sum with the result assigned to the center of the window index.\n",
            "\n",
            ">>> df.rolling(3, min_periods=1, center=True).sum()\n",
            "     B\n",
            "0  1.0\n",
            "1  3.0\n",
            "2  3.0\n",
            "3  6.0\n",
            "4  4.0\n",
            "\n",
            ">>> df.rolling(3, min_periods=1, center=False).sum()\n",
            "     B\n",
            "0  0.0\n",
            "1  1.0\n",
            "2  3.0\n",
            "3  3.0\n",
            "4  6.0\n",
            "\n",
            "**step**\n",
            "\n",
            "Rolling sum with a window length of 2 observations, minimum of 1 observation to\n",
            "calculate a value, and a step of 2.\n",
            "\n",
            ">>> df.rolling(2, min_periods=1, step=2).sum()\n",
            "     B\n",
            "0  0.0\n",
            "2  3.0\n",
            "4  4.0\n",
            "\n",
            "**win_type**\n",
            "\n",
            "Rolling sum with a window length of 2, using the Scipy ``'gaussian'``\n",
            "window type. ``std`` is required in the aggregation function.\n",
            "\n",
            ">>> df.rolling(2, win_type='gaussian').sum(std=3)\n",
            "          B\n",
            "0       NaN\n",
            "1  0.986207\n",
            "2  2.958621\n",
            "3       NaN\n",
            "4       NaN\n",
            "\n",
            "**on**\n",
            "\n",
            "Rolling sum with a window length of 2 days.\n",
            "\n",
            ">>> df = pd.DataFrame({\n",
            "...     'A': [pd.to_datetime('2020-01-01'),\n",
            "...           pd.to_datetime('2020-01-01'),\n",
            "...           pd.to_datetime('2020-01-02'),],\n",
            "...     'B': [1, 2, 3], },\n",
            "...     index=pd.date_range('2020', periods=3))\n",
            "\n",
            ">>> df\n",
            "                    A  B\n",
            "2020-01-01 2020-01-01  1\n",
            "2020-01-02 2020-01-01  2\n",
            "2020-01-03 2020-01-02  3\n",
            "\n",
            ">>> df.rolling('2D', on='A').sum()\n",
            "                    A    B\n",
            "2020-01-01 2020-01-01  1.0\n",
            "2020-01-02 2020-01-01  3.0\n",
            "2020-01-03 2020-01-02  6.0\n",
            "\u001b[1;31mFile:\u001b[0m      c:\\users\\lrnv\\appdata\\local\\programs\\python\\python310\\lib\\site-packages\\pandas\\core\\generic.py\n",
            "\u001b[1;31mType:\u001b[0m      function"
          ]
        }
      ],
      "source": [
        "# There's a method in pandas to do so, called rolling\n",
        "?pd.DataFrame.rolling"
      ]
    },
    {
      "cell_type": "code",
      "execution_count": 93,
      "metadata": {
        "colab": {
          "base_uri": "https://localhost:8080/",
          "height": 455
        },
        "id": "yGM_TNWwfQZs",
        "outputId": "df841ecf-1475-4d1e-a8b7-5efb80b1297e"
      },
      "outputs": [],
      "source": [
        "# df['MeanWindowAdm'] = df['Adm'].rolling(3).mean()\n",
        "df['MeanWindowAdm'] = df['Adm'].rolling(5).mean()"
      ]
    },
    {
      "cell_type": "code",
      "execution_count": 100,
      "metadata": {
        "colab": {
          "base_uri": "https://localhost:8080/",
          "height": 468
        },
        "id": "GA-svNEnfXZ-",
        "outputId": "c0053b5f-eda2-4346-b9c9-6c335aab711a"
      },
      "outputs": [
        {
          "data": {
            "text/plain": [
              "<Axes: xlabel='year_month'>"
            ]
          },
          "execution_count": 100,
          "metadata": {},
          "output_type": "execute_result"
        },
        {
          "data": {
            "image/png": "[encoded data removed]",
            "text/plain": [
              "<Figure size 640x480 with 1 Axes>"
            ]
          },
          "metadata": {},
          "output_type": "display_data"
        }
      ],
      "source": [
        "# We just need to plot now\n",
        "df['MeanWindowAdm'] = df['Adm'].rolling(5, center=True).mean()\n",
        "df[['Adm', 'MeanWindowAdm']].plot(style = ['-r', '--b'])"
      ]
    },
    {
      "cell_type": "code",
      "execution_count": null,
      "metadata": {
        "id": "jqkLNHL5fXS6"
      },
      "outputs": [],
      "source": []
    }
  ],
  "metadata": {
    "colab": {
      "collapsed_sections": [
        "F2du0sSbP2EB",
        "fn87ff4DQfd0",
        "dC0cP8nu0SFB",
        "X-gojudN_AtG"
      ],
      "provenance": []
    },
    "kernelspec": {
      "display_name": "Python 3 (ipykernel)",
      "language": "python",
      "name": "python3"
    },
    "language_info": {
      "codemirror_mode": {
        "name": "ipython",
        "version": 3
      },
      "file_extension": ".py",
      "mimetype": "text/x-python",
      "name": "python",
      "nbconvert_exporter": "python",
      "pygments_lexer": "ipython3",
      "version": "3.10.6"
    }
  },
  "nbformat": 4,
  "nbformat_minor": 0
}
